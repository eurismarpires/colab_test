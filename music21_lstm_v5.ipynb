{
  "nbformat": 4,
  "nbformat_minor": 0,
  "metadata": {
    "colab": {
      "name": "music21_lstm_v5.ipynb",
      "version": "0.3.2",
      "provenance": [],
      "collapsed_sections": [
        "KUHw2PmoBLSO"
      ]
    },
    "kernelspec": {
      "display_name": "Python 3",
      "language": "python",
      "name": "python3"
    },
    "accelerator": "GPU"
  },
  "cells": [
    {
      "cell_type": "markdown",
      "metadata": {
        "id": "view-in-github",
        "colab_type": "text"
      },
      "source": [
        "[View in Colaboratory](https://colab.research.google.com/github/eurismarpires/colab_test/blob/master/music21_lstm_v5.ipynb)"
      ]
    },
    {
      "metadata": {
        "id": "FIcsok4l65r_",
        "colab_type": "code",
        "colab": {
          "base_uri": "https://localhost:8080/",
          "height": 102
        },
        "outputId": "daaf89b0-37a4-4511-fcbb-49a0011248be"
      },
      "cell_type": "code",
      "source": [
        "!git clone https://github.com/llSourcell/Music_Generator_Demo.git"
      ],
      "execution_count": 1,
      "outputs": [
        {
          "output_type": "stream",
          "text": [
            "Cloning into 'Music_Generator_Demo'...\n",
            "remote: Counting objects: 218, done.\u001b[K\n",
            "remote: Total 218 (delta 0), reused 0 (delta 0), pack-reused 218\u001b[K\n",
            "Receiving objects: 100% (218/218), 66.15 KiB | 4.72 MiB/s, done.\n",
            "Resolving deltas: 100% (40/40), done.\n"
          ],
          "name": "stdout"
        }
      ]
    },
    {
      "metadata": {
        "id": "1FGL9CCH7FkJ",
        "colab_type": "code",
        "colab": {
          "base_uri": "https://localhost:8080/",
          "height": 170
        },
        "outputId": "fdb152bb-942d-4979-855e-19d6add1fcc9"
      },
      "cell_type": "code",
      "source": [
        "!pip install music21"
      ],
      "execution_count": 3,
      "outputs": [
        {
          "output_type": "stream",
          "text": [
            "Collecting music21\n",
            "\u001b[?25l  Downloading https://files.pythonhosted.org/packages/79/76/af2d35fa133df7941fccebad7e7c609f8ea50fb63078b9e3d0b1522d0f84/music21-5.1.0.tar.gz (17.9MB)\n",
            "\u001b[K    100% |████████████████████████████████| 17.9MB 2.4MB/s \n",
            "\u001b[?25hBuilding wheels for collected packages: music21\n",
            "  Running setup.py bdist_wheel for music21 ... \u001b[?25l-\b \b\\\b \b|\b \b/\b \b-\b \b\\\b \b|\b \b/\b \b-\b \b\\\b \b|\b \b/\b \b-\b \b\\\b \b|\b \b/\b \b-\b \b\\\b \b|\b \b/\b \b-\b \b\\\b \b|\b \b/\b \b-\b \b\\\b \b|\b \b/\b \b-\b \b\\\b \b|\b \b/\b \b-\b \b\\\b \b|\b \b/\b \b-\b \b\\\b \b|\b \b/\b \b-\b \b\\\b \b|\b \b/\b \b-\b \b\\\b \b|\b \b/\b \b-\b \b\\\b \b|\b \b/\b \b-\b \b\\\b \b|\b \b/\b \b-\b \b\\\b \b|\b \b/\b \b-\b \b\\\b \b|\b \b/\b \b-\b \b\\\b \b|\b \b/\b \b-\b \b\\\b \b|\b \b/\b \b-\b \b\\\b \b|\b \bdone\n",
            "\u001b[?25h  Stored in directory: /content/.cache/pip/wheels/66/0d/71/ed677f5bec1eca6f924423a317eeb7e4df4859353861d58d44\n",
            "Successfully built music21\n",
            "Installing collected packages: music21\n",
            "Successfully installed music21-5.1.0\n"
          ],
          "name": "stdout"
        }
      ]
    },
    {
      "metadata": {
        "id": "pxUj2zHLBLPp",
        "colab_type": "code",
        "colab": {}
      },
      "cell_type": "code",
      "source": [
        "from music21 import *\n",
        "import pandas as pd\n",
        "import glob\n",
        "from sklearn.preprocessing import MultiLabelBinarizer\n",
        "from sklearn.preprocessing import StandardScaler\n",
        "import matplotlib.pyplot as plt\n",
        "import numpy as np\n",
        "from keras.models import Sequential\n",
        "from keras.layers import Dense\n",
        "from keras.layers import Dropout\n",
        "from keras.layers import LSTM\n",
        "from keras.optimizers import Adam\n",
        "from datetime import datetime"
      ],
      "execution_count": 0,
      "outputs": []
    },
    {
      "metadata": {
        "id": "v1BffKvuBLPv",
        "colab_type": "code",
        "colab": {}
      },
      "cell_type": "code",
      "source": [
        "%matplotlib inline"
      ],
      "execution_count": 0,
      "outputs": []
    },
    {
      "metadata": {
        "id": "dQPJdCAs7Tec",
        "colab_type": "code",
        "colab": {
          "base_uri": "https://localhost:8080/",
          "height": 2159
        },
        "outputId": "00513cf2-2e74-4bfa-968c-d8021c552bc3"
      },
      "cell_type": "code",
      "source": [
        "!ls Music_Generator_Demo/Pop_Music_Midi"
      ],
      "execution_count": 8,
      "outputs": [
        {
          "output_type": "stream",
          "text": [
            "All The Small Things - Chorus.midi\r\n",
            "All The Small Things - Verse.midi\r\n",
            "Around The World - Chorus.midi\r\n",
            "Around The World - Verse.midi\r\n",
            "Baby I'm Yours - Chorus.midi\r\n",
            "Baby One More Time - Chorus.midi\r\n",
            "Baby One More Time - Verse.midi\r\n",
            "Barbie Girl - Chorus.midi\r\n",
            "Barbie Girl - Verse.midi\r\n",
            "Beautiful Life - Chorus.midi\r\n",
            "Beautiful Life - Pre Chorus.midi\r\n",
            "Beautiful Life - Verse.midi\r\n",
            "Best Day Of My Life - Chorus.midi\r\n",
            "Blank Space - Chorus.midi\r\n",
            "Blank Space - Pre Chorus.midi\r\n",
            "Blank Space - Verse.midi\r\n",
            "California Gurls - Chorus.midi\r\n",
            "California Gurls - Pre Chorus.midi\r\n",
            "California Gurls - Verse.midi\r\n",
            "Call Me Maybe - Chorus.midi\r\n",
            "Can You Feel the Love Tonight - Chorus.midi\r\n",
            "Can You Feel the Love Tonight - Verse.midi\r\n",
            "Chasing Pavements - Chorus.midi\r\n",
            "Clocks - Intro.midi\r\n",
            "Clocks - Verse.midi\r\n",
            "Dancing Queen - Chorus.midi\r\n",
            "Dancing Queen - Verse.midi\r\n",
            "Dark Horse - Chorus.midi\r\n",
            "Dark Horse - Verse.midi\r\n",
            "Die Young - Chorus.midi\r\n",
            "Die Young - Verse.midi\r\n",
            "Don't Trust Me - Chorus.midi\r\n",
            "Everybody - Chorus.midi\r\n",
            "Every Time We Touch - Chorus.midi\r\n",
            "Every Time We Touch - Verse.midi\r\n",
            "Ex's And Oh's - Chorus.midi\r\n",
            "Feel So Close - Chorus.midi\r\n",
            "Feel So Close - Verse.midi\r\n",
            "Fix You - Chorus.midi\r\n",
            "Fix You - Verse.midi\r\n",
            "Genie In A Bottle - Chorus.midi\r\n",
            "Genie in a Bottle - Verse.midi\r\n",
            "Girl On Fire - Bridge.midi\r\n",
            "Girl On Fire - Chorus.midi\r\n",
            "Girl On Fire - Pre Chorus.midi\r\n",
            "Girl On Fire - Verse.midi\r\n",
            "Hot N Cold - Bridge.midi\r\n",
            "Hot N Cold - Chorus.midi\r\n",
            "Hot N Cold - Verse.midi\r\n",
            "How Deep Is Your Love - Chorus.midi\r\n",
            "I Gotta Feeling - Chorus.midi\r\n",
            "I Kissed A Girl - Bridge.midi\r\n",
            "I Kissed A Girl - Chorus.midi\r\n",
            "I Kissed A Girl - Verse.midi\r\n",
            "I Miss You - Chorus.midi\r\n",
            "I Miss You - Verse.midi\r\n",
            "I Need Your Love - Chorus.midi\r\n",
            "I Need Your Love - Verse.midi\r\n",
            "Irreplaceable - Chorus.midi\r\n",
            "I Want It That Way - Chorus.midi\r\n",
            "Let's Dance - Chorus.midi\r\n",
            "Let's Go - Verse.midi\r\n",
            "Locked Out Of Heaven - Chorus.midi\r\n",
            "Locked Out Of Heaven - Pre Chorus.midi\r\n",
            "Locked Out Of Heaven - Verse.midi\r\n",
            "Love Me Harder ft The Weeknd - Chorus.midi\r\n",
            "Love Me Harder ft The Weeknd - Pre Chorus.midi\r\n",
            "Love Me Harder ft The Weeknd - Verse.midi\r\n",
            "Love Story - Chorus.midi\r\n",
            "Love Story - Verse.midi\r\n",
            "Mr Saxobeat - Verse.midi\r\n",
            "Outside feat Ellie Goulding - Chorus.midi\r\n",
            "Piano man - Bridge.midi\r\n",
            "Piano Man - Chorus.midi\r\n",
            "Piano Man - Verse.midi\r\n",
            "Pompeii - Bridge.midi\r\n",
            "Pompeii - Chorus.midi\r\n",
            "Pompeii - Intro.midi\r\n",
            "Pompeii - Verse.midi\r\n",
            "Put Your Records On - Chorus.midi\r\n",
            "Put Your Records On - Verse.midi\r\n",
            "Roar - Chorus.midi\r\n",
            "Roar - Pre Chorus.midi\r\n",
            "Roar - Verse.midi\r\n",
            "Rock That Body - Chorus.midi\r\n",
            "Rolling In The Deep - Chorus.midi\r\n",
            "Rolling In The Deep - Pre Chorus.midi\r\n",
            "Say My Name - Chorus.midi\r\n",
            "Say My Name - Pre Chorus.midi\r\n",
            "Say My Name - Verse.midi\r\n",
            "Shake It Off - Chorus.midi\r\n",
            "Shake It Off - Pre Chorus.midi\r\n",
            "Shake It Off - Verse.midi\r\n",
            "Sk8er Boi - Verse.midi\r\n",
            "Someone Like You - Chorus.midi\r\n",
            "Someone Like You - Verse.midi\r\n",
            "Summer - Chorus.midi\r\n",
            "Sweet Nothing - Chorus.midi\r\n",
            "Sweet Nothing - Verse.midi\r\n",
            "The Great Escape - Verse.midi\r\n",
            "The Scientist - Intro.midi\r\n",
            "The Scientist - Verse.midi\r\n",
            "Thinking Out Loud - Chorus.midi\r\n",
            "Timber - Chorus.midi\r\n",
            "Timber - Verse.midi\r\n",
            "Tiny Dancer - Chorus.midi\r\n",
            "Tiny Dancer - Pre Chorus.midi\r\n",
            "Tiny Dancer - Verse.midi\r\n",
            "Titanium feat Sia - Chorus.midi\r\n",
            "Titanium feat Sia - Verse.midi\r\n",
            "Toxic - Chorus.midi\r\n",
            "Toxic - Verse.midi\r\n",
            "Treasure - Chorus.midi\r\n",
            "Treasure - Verse.midi\r\n",
            "Viva La Vida - Verse.midi\r\n",
            "What A Girl Wants - Chorus.midi\r\n",
            "When I Was Your Man - Chorus.midi\r\n",
            "When I Was Your Man - Pre Chorus.midi\r\n",
            "When I Was Your Man - Verse.midi\r\n",
            "When Love Takes Over ft Kelly Rowland - Chorus.midi\r\n",
            "White Flag - Chorus.midi\r\n",
            "White Flag - Verse.midi\r\n",
            "You Belong With Me - Chorus.midi\r\n",
            "You Belong With Me - Pre Chorus.midi\r\n",
            "You Belong With Me - Verse.midi\r\n",
            "You Drive Me Crazy - Chorus.midi\r\n"
          ],
          "name": "stdout"
        }
      ]
    },
    {
      "metadata": {
        "id": "RwIeitV6BLPx",
        "colab_type": "code",
        "colab": {}
      },
      "cell_type": "code",
      "source": [
        "path = 'Music_Generator_Demo/Pop_Music_Midi'"
      ],
      "execution_count": 0,
      "outputs": []
    },
    {
      "metadata": {
        "id": "k1VTsT0KBLPz",
        "colab_type": "code",
        "colab": {}
      },
      "cell_type": "code",
      "source": [
        "#path = '/home/eurismar/notebooks/geracao_music_keras-master/data'"
      ],
      "execution_count": 0,
      "outputs": []
    },
    {
      "metadata": {
        "id": "1FhmHuqNBLP1",
        "colab_type": "code",
        "colab": {}
      },
      "cell_type": "code",
      "source": [
        "files = glob.glob('{}/*.mid*'.format(path))"
      ],
      "execution_count": 0,
      "outputs": []
    },
    {
      "metadata": {
        "id": "C2_GBe7PBLP4",
        "colab_type": "code",
        "colab": {
          "base_uri": "https://localhost:8080/",
          "height": 2159
        },
        "outputId": "c8d1096c-692e-4145-efea-9f4f85e1780d"
      },
      "cell_type": "code",
      "source": [
        "files"
      ],
      "execution_count": 12,
      "outputs": [
        {
          "output_type": "execute_result",
          "data": {
            "text/plain": [
              "['Music_Generator_Demo/Pop_Music_Midi/Baby One More Time - Verse.midi',\n",
              " 'Music_Generator_Demo/Pop_Music_Midi/The Scientist - Intro.midi',\n",
              " 'Music_Generator_Demo/Pop_Music_Midi/Blank Space - Verse.midi',\n",
              " 'Music_Generator_Demo/Pop_Music_Midi/Clocks - Verse.midi',\n",
              " \"Music_Generator_Demo/Pop_Music_Midi/Don't Trust Me - Chorus.midi\",\n",
              " 'Music_Generator_Demo/Pop_Music_Midi/Rolling In The Deep - Chorus.midi',\n",
              " 'Music_Generator_Demo/Pop_Music_Midi/Piano Man - Verse.midi',\n",
              " 'Music_Generator_Demo/Pop_Music_Midi/Dancing Queen - Verse.midi',\n",
              " 'Music_Generator_Demo/Pop_Music_Midi/Thinking Out Loud - Chorus.midi',\n",
              " 'Music_Generator_Demo/Pop_Music_Midi/Around The World - Chorus.midi',\n",
              " 'Music_Generator_Demo/Pop_Music_Midi/Every Time We Touch - Verse.midi',\n",
              " 'Music_Generator_Demo/Pop_Music_Midi/Girl On Fire - Bridge.midi',\n",
              " 'Music_Generator_Demo/Pop_Music_Midi/Barbie Girl - Chorus.midi',\n",
              " 'Music_Generator_Demo/Pop_Music_Midi/Piano man - Bridge.midi',\n",
              " 'Music_Generator_Demo/Pop_Music_Midi/The Great Escape - Verse.midi',\n",
              " 'Music_Generator_Demo/Pop_Music_Midi/When I Was Your Man - Verse.midi',\n",
              " 'Music_Generator_Demo/Pop_Music_Midi/Put Your Records On - Verse.midi',\n",
              " 'Music_Generator_Demo/Pop_Music_Midi/Treasure - Chorus.midi',\n",
              " 'Music_Generator_Demo/Pop_Music_Midi/Girl On Fire - Verse.midi',\n",
              " 'Music_Generator_Demo/Pop_Music_Midi/Locked Out Of Heaven - Verse.midi',\n",
              " 'Music_Generator_Demo/Pop_Music_Midi/California Gurls - Verse.midi',\n",
              " 'Music_Generator_Demo/Pop_Music_Midi/Can You Feel the Love Tonight - Verse.midi',\n",
              " 'Music_Generator_Demo/Pop_Music_Midi/You Belong With Me - Chorus.midi',\n",
              " 'Music_Generator_Demo/Pop_Music_Midi/Call Me Maybe - Chorus.midi',\n",
              " 'Music_Generator_Demo/Pop_Music_Midi/Fix You - Chorus.midi',\n",
              " 'Music_Generator_Demo/Pop_Music_Midi/Girl On Fire - Pre Chorus.midi',\n",
              " 'Music_Generator_Demo/Pop_Music_Midi/Say My Name - Pre Chorus.midi',\n",
              " 'Music_Generator_Demo/Pop_Music_Midi/Blank Space - Pre Chorus.midi',\n",
              " 'Music_Generator_Demo/Pop_Music_Midi/You Belong With Me - Pre Chorus.midi',\n",
              " 'Music_Generator_Demo/Pop_Music_Midi/Hot N Cold - Bridge.midi',\n",
              " 'Music_Generator_Demo/Pop_Music_Midi/Love Me Harder ft The Weeknd - Pre Chorus.midi',\n",
              " 'Music_Generator_Demo/Pop_Music_Midi/I Miss You - Verse.midi',\n",
              " 'Music_Generator_Demo/Pop_Music_Midi/Summer - Chorus.midi',\n",
              " 'Music_Generator_Demo/Pop_Music_Midi/Irreplaceable - Chorus.midi',\n",
              " 'Music_Generator_Demo/Pop_Music_Midi/Dark Horse - Chorus.midi',\n",
              " 'Music_Generator_Demo/Pop_Music_Midi/Piano Man - Chorus.midi',\n",
              " 'Music_Generator_Demo/Pop_Music_Midi/All The Small Things - Verse.midi',\n",
              " 'Music_Generator_Demo/Pop_Music_Midi/Beautiful Life - Chorus.midi',\n",
              " 'Music_Generator_Demo/Pop_Music_Midi/Toxic - Verse.midi',\n",
              " 'Music_Generator_Demo/Pop_Music_Midi/Die Young - Chorus.midi',\n",
              " 'Music_Generator_Demo/Pop_Music_Midi/Love Story - Chorus.midi',\n",
              " 'Music_Generator_Demo/Pop_Music_Midi/Pompeii - Chorus.midi',\n",
              " 'Music_Generator_Demo/Pop_Music_Midi/Roar - Verse.midi',\n",
              " 'Music_Generator_Demo/Pop_Music_Midi/Tiny Dancer - Pre Chorus.midi',\n",
              " 'Music_Generator_Demo/Pop_Music_Midi/Everybody - Chorus.midi',\n",
              " \"Music_Generator_Demo/Pop_Music_Midi/Let's Go - Verse.midi\",\n",
              " 'Music_Generator_Demo/Pop_Music_Midi/Fix You - Verse.midi',\n",
              " 'Music_Generator_Demo/Pop_Music_Midi/Die Young - Verse.midi',\n",
              " 'Music_Generator_Demo/Pop_Music_Midi/Barbie Girl - Verse.midi',\n",
              " 'Music_Generator_Demo/Pop_Music_Midi/Say My Name - Chorus.midi',\n",
              " 'Music_Generator_Demo/Pop_Music_Midi/I Miss You - Chorus.midi',\n",
              " 'Music_Generator_Demo/Pop_Music_Midi/I Need Your Love - Verse.midi',\n",
              " 'Music_Generator_Demo/Pop_Music_Midi/Love Me Harder ft The Weeknd - Chorus.midi',\n",
              " \"Music_Generator_Demo/Pop_Music_Midi/Ex's And Oh's - Chorus.midi\",\n",
              " 'Music_Generator_Demo/Pop_Music_Midi/Titanium feat Sia - Chorus.midi',\n",
              " 'Music_Generator_Demo/Pop_Music_Midi/Beautiful Life - Pre Chorus.midi',\n",
              " 'Music_Generator_Demo/Pop_Music_Midi/All The Small Things - Chorus.midi',\n",
              " 'Music_Generator_Demo/Pop_Music_Midi/Tiny Dancer - Verse.midi',\n",
              " 'Music_Generator_Demo/Pop_Music_Midi/Best Day Of My Life - Chorus.midi',\n",
              " 'Music_Generator_Demo/Pop_Music_Midi/White Flag - Verse.midi',\n",
              " 'Music_Generator_Demo/Pop_Music_Midi/Girl On Fire - Chorus.midi',\n",
              " 'Music_Generator_Demo/Pop_Music_Midi/I Need Your Love - Chorus.midi',\n",
              " 'Music_Generator_Demo/Pop_Music_Midi/When I Was Your Man - Pre Chorus.midi',\n",
              " 'Music_Generator_Demo/Pop_Music_Midi/Outside feat Ellie Goulding - Chorus.midi',\n",
              " 'Music_Generator_Demo/Pop_Music_Midi/You Belong With Me - Verse.midi',\n",
              " 'Music_Generator_Demo/Pop_Music_Midi/Baby One More Time - Chorus.midi',\n",
              " 'Music_Generator_Demo/Pop_Music_Midi/Shake It Off - Verse.midi',\n",
              " 'Music_Generator_Demo/Pop_Music_Midi/I Kissed A Girl - Bridge.midi',\n",
              " \"Music_Generator_Demo/Pop_Music_Midi/Baby I'm Yours - Chorus.midi\",\n",
              " 'Music_Generator_Demo/Pop_Music_Midi/Locked Out Of Heaven - Pre Chorus.midi',\n",
              " 'Music_Generator_Demo/Pop_Music_Midi/White Flag - Chorus.midi',\n",
              " 'Music_Generator_Demo/Pop_Music_Midi/Titanium feat Sia - Verse.midi',\n",
              " 'Music_Generator_Demo/Pop_Music_Midi/Can You Feel the Love Tonight - Chorus.midi',\n",
              " 'Music_Generator_Demo/Pop_Music_Midi/How Deep Is Your Love - Chorus.midi',\n",
              " 'Music_Generator_Demo/Pop_Music_Midi/The Scientist - Verse.midi',\n",
              " 'Music_Generator_Demo/Pop_Music_Midi/Put Your Records On - Chorus.midi',\n",
              " 'Music_Generator_Demo/Pop_Music_Midi/Genie In A Bottle - Chorus.midi',\n",
              " 'Music_Generator_Demo/Pop_Music_Midi/Hot N Cold - Chorus.midi',\n",
              " 'Music_Generator_Demo/Pop_Music_Midi/Shake It Off - Chorus.midi',\n",
              " 'Music_Generator_Demo/Pop_Music_Midi/Hot N Cold - Verse.midi',\n",
              " 'Music_Generator_Demo/Pop_Music_Midi/Tiny Dancer - Chorus.midi',\n",
              " 'Music_Generator_Demo/Pop_Music_Midi/Mr Saxobeat - Verse.midi',\n",
              " 'Music_Generator_Demo/Pop_Music_Midi/Timber - Chorus.midi',\n",
              " 'Music_Generator_Demo/Pop_Music_Midi/I Kissed A Girl - Chorus.midi',\n",
              " 'Music_Generator_Demo/Pop_Music_Midi/Sk8er Boi - Verse.midi',\n",
              " 'Music_Generator_Demo/Pop_Music_Midi/Feel So Close - Verse.midi',\n",
              " 'Music_Generator_Demo/Pop_Music_Midi/Sweet Nothing - Verse.midi',\n",
              " 'Music_Generator_Demo/Pop_Music_Midi/When I Was Your Man - Chorus.midi',\n",
              " 'Music_Generator_Demo/Pop_Music_Midi/Treasure - Verse.midi',\n",
              " 'Music_Generator_Demo/Pop_Music_Midi/I Kissed A Girl - Verse.midi',\n",
              " 'Music_Generator_Demo/Pop_Music_Midi/I Gotta Feeling - Chorus.midi',\n",
              " 'Music_Generator_Demo/Pop_Music_Midi/Roar - Chorus.midi',\n",
              " 'Music_Generator_Demo/Pop_Music_Midi/Someone Like You - Verse.midi',\n",
              " 'Music_Generator_Demo/Pop_Music_Midi/Love Story - Verse.midi',\n",
              " 'Music_Generator_Demo/Pop_Music_Midi/Genie in a Bottle - Verse.midi',\n",
              " 'Music_Generator_Demo/Pop_Music_Midi/When Love Takes Over ft Kelly Rowland - Chorus.midi',\n",
              " 'Music_Generator_Demo/Pop_Music_Midi/Chasing Pavements - Chorus.midi',\n",
              " 'Music_Generator_Demo/Pop_Music_Midi/Shake It Off - Pre Chorus.midi',\n",
              " 'Music_Generator_Demo/Pop_Music_Midi/Pompeii - Verse.midi',\n",
              " 'Music_Generator_Demo/Pop_Music_Midi/Blank Space - Chorus.midi',\n",
              " 'Music_Generator_Demo/Pop_Music_Midi/Beautiful Life - Verse.midi',\n",
              " 'Music_Generator_Demo/Pop_Music_Midi/Pompeii - Intro.midi',\n",
              " 'Music_Generator_Demo/Pop_Music_Midi/You Drive Me Crazy - Chorus.midi',\n",
              " 'Music_Generator_Demo/Pop_Music_Midi/Rock That Body - Chorus.midi',\n",
              " 'Music_Generator_Demo/Pop_Music_Midi/California Gurls - Pre Chorus.midi',\n",
              " 'Music_Generator_Demo/Pop_Music_Midi/Pompeii - Bridge.midi',\n",
              " 'Music_Generator_Demo/Pop_Music_Midi/Timber - Verse.midi',\n",
              " 'Music_Generator_Demo/Pop_Music_Midi/I Want It That Way - Chorus.midi',\n",
              " 'Music_Generator_Demo/Pop_Music_Midi/Dark Horse - Verse.midi',\n",
              " 'Music_Generator_Demo/Pop_Music_Midi/Someone Like You - Chorus.midi',\n",
              " 'Music_Generator_Demo/Pop_Music_Midi/Locked Out Of Heaven - Chorus.midi',\n",
              " 'Music_Generator_Demo/Pop_Music_Midi/Sweet Nothing - Chorus.midi',\n",
              " 'Music_Generator_Demo/Pop_Music_Midi/Say My Name - Verse.midi',\n",
              " 'Music_Generator_Demo/Pop_Music_Midi/Roar - Pre Chorus.midi',\n",
              " \"Music_Generator_Demo/Pop_Music_Midi/Let's Dance - Chorus.midi\",\n",
              " 'Music_Generator_Demo/Pop_Music_Midi/What A Girl Wants - Chorus.midi',\n",
              " 'Music_Generator_Demo/Pop_Music_Midi/Love Me Harder ft The Weeknd - Verse.midi',\n",
              " 'Music_Generator_Demo/Pop_Music_Midi/Toxic - Chorus.midi',\n",
              " 'Music_Generator_Demo/Pop_Music_Midi/Rolling In The Deep - Pre Chorus.midi',\n",
              " 'Music_Generator_Demo/Pop_Music_Midi/Feel So Close - Chorus.midi',\n",
              " 'Music_Generator_Demo/Pop_Music_Midi/Clocks - Intro.midi',\n",
              " 'Music_Generator_Demo/Pop_Music_Midi/Around The World - Verse.midi',\n",
              " 'Music_Generator_Demo/Pop_Music_Midi/Viva La Vida - Verse.midi',\n",
              " 'Music_Generator_Demo/Pop_Music_Midi/Dancing Queen - Chorus.midi',\n",
              " 'Music_Generator_Demo/Pop_Music_Midi/California Gurls - Chorus.midi',\n",
              " 'Music_Generator_Demo/Pop_Music_Midi/Every Time We Touch - Chorus.midi']"
            ]
          },
          "metadata": {
            "tags": []
          },
          "execution_count": 12
        }
      ]
    },
    {
      "metadata": {
        "id": "lOKfhZNL8I8q",
        "colab_type": "text"
      },
      "cell_type": "markdown",
      "source": [
        "part0.elements"
      ]
    },
    {
      "metadata": {
        "id": "bDPw3bE3BLP6",
        "colab_type": "code",
        "colab": {}
      },
      "cell_type": "code",
      "source": [
        "coluna1 = []\n",
        "coluna2 = []\n",
        "for file in files:\n",
        "    midi = converter.parse(file)\n",
        "    part0 = midi[0]\n",
        "\n",
        "    melodia = part0.getElementsByClass(note.Note)\n",
        "    notas = melodia.getElementsByClass(note.Note)\n",
        "    for nota in notas:\n",
        "        coluna1.append(nota.pitch.midi)\n",
        "        coluna2.append(nota.duration.quarterLength)"
      ],
      "execution_count": 0,
      "outputs": []
    },
    {
      "metadata": {
        "id": "sqfz54l3BLP-",
        "colab_type": "code",
        "colab": {
          "base_uri": "https://localhost:8080/",
          "height": 34
        },
        "outputId": "fb058de5-0333-4de2-8bec-4c04259b58f3"
      },
      "cell_type": "code",
      "source": [
        "len(coluna1)"
      ],
      "execution_count": 36,
      "outputs": [
        {
          "output_type": "execute_result",
          "data": {
            "text/plain": [
              "5893"
            ]
          },
          "metadata": {
            "tags": []
          },
          "execution_count": 36
        }
      ]
    },
    {
      "metadata": {
        "id": "lEvu_CInBLQB",
        "colab_type": "code",
        "colab": {
          "base_uri": "https://localhost:8080/",
          "height": 34
        },
        "outputId": "a0e838c1-8983-44eb-86c7-33a307ad7123"
      },
      "cell_type": "code",
      "source": [
        "len(coluna2)"
      ],
      "execution_count": 37,
      "outputs": [
        {
          "output_type": "execute_result",
          "data": {
            "text/plain": [
              "5893"
            ]
          },
          "metadata": {
            "tags": []
          },
          "execution_count": 37
        }
      ]
    },
    {
      "metadata": {
        "id": "1ctXe1bgBLQE",
        "colab_type": "code",
        "colab": {}
      },
      "cell_type": "code",
      "source": [
        "df = pd.DataFrame({\"nota\":coluna1,\n",
        "                   \"duracao\":coluna2})"
      ],
      "execution_count": 0,
      "outputs": []
    },
    {
      "metadata": {
        "id": "PDN8M93rBLQH",
        "colab_type": "code",
        "colab": {
          "base_uri": "https://localhost:8080/",
          "height": 204
        },
        "outputId": "ef1d10ad-0fbb-4184-81b5-cf258e57633f"
      },
      "cell_type": "code",
      "source": [
        "df.head()"
      ],
      "execution_count": 39,
      "outputs": [
        {
          "output_type": "execute_result",
          "data": {
            "text/html": [
              "<div>\n",
              "<style scoped>\n",
              "    .dataframe tbody tr th:only-of-type {\n",
              "        vertical-align: middle;\n",
              "    }\n",
              "\n",
              "    .dataframe tbody tr th {\n",
              "        vertical-align: top;\n",
              "    }\n",
              "\n",
              "    .dataframe thead th {\n",
              "        text-align: right;\n",
              "    }\n",
              "</style>\n",
              "<table border=\"1\" class=\"dataframe\">\n",
              "  <thead>\n",
              "    <tr style=\"text-align: right;\">\n",
              "      <th></th>\n",
              "      <th>duracao</th>\n",
              "      <th>nota</th>\n",
              "    </tr>\n",
              "  </thead>\n",
              "  <tbody>\n",
              "    <tr>\n",
              "      <th>0</th>\n",
              "      <td>1.0</td>\n",
              "      <td>81</td>\n",
              "    </tr>\n",
              "    <tr>\n",
              "      <th>1</th>\n",
              "      <td>1.0</td>\n",
              "      <td>81</td>\n",
              "    </tr>\n",
              "    <tr>\n",
              "      <th>2</th>\n",
              "      <td>1.0</td>\n",
              "      <td>81</td>\n",
              "    </tr>\n",
              "    <tr>\n",
              "      <th>3</th>\n",
              "      <td>1.0</td>\n",
              "      <td>81</td>\n",
              "    </tr>\n",
              "    <tr>\n",
              "      <th>4</th>\n",
              "      <td>1.0</td>\n",
              "      <td>81</td>\n",
              "    </tr>\n",
              "  </tbody>\n",
              "</table>\n",
              "</div>"
            ],
            "text/plain": [
              "   duracao  nota\n",
              "0      1.0    81\n",
              "1      1.0    81\n",
              "2      1.0    81\n",
              "3      1.0    81\n",
              "4      1.0    81"
            ]
          },
          "metadata": {
            "tags": []
          },
          "execution_count": 39
        }
      ]
    },
    {
      "metadata": {
        "id": "oj3WbDGgBLQK",
        "colab_type": "code",
        "colab": {
          "base_uri": "https://localhost:8080/",
          "height": 204
        },
        "outputId": "7677b859-1e12-43ca-921b-f6d66fa6ad6e"
      },
      "cell_type": "code",
      "source": [
        "df.tail()"
      ],
      "execution_count": 40,
      "outputs": [
        {
          "output_type": "execute_result",
          "data": {
            "text/html": [
              "<div>\n",
              "<style scoped>\n",
              "    .dataframe tbody tr th:only-of-type {\n",
              "        vertical-align: middle;\n",
              "    }\n",
              "\n",
              "    .dataframe tbody tr th {\n",
              "        vertical-align: top;\n",
              "    }\n",
              "\n",
              "    .dataframe thead th {\n",
              "        text-align: right;\n",
              "    }\n",
              "</style>\n",
              "<table border=\"1\" class=\"dataframe\">\n",
              "  <thead>\n",
              "    <tr style=\"text-align: right;\">\n",
              "      <th></th>\n",
              "      <th>duracao</th>\n",
              "      <th>nota</th>\n",
              "    </tr>\n",
              "  </thead>\n",
              "  <tbody>\n",
              "    <tr>\n",
              "      <th>5888</th>\n",
              "      <td>0.5</td>\n",
              "      <td>71</td>\n",
              "    </tr>\n",
              "    <tr>\n",
              "      <th>5889</th>\n",
              "      <td>0.5</td>\n",
              "      <td>72</td>\n",
              "    </tr>\n",
              "    <tr>\n",
              "      <th>5890</th>\n",
              "      <td>0.5</td>\n",
              "      <td>71</td>\n",
              "    </tr>\n",
              "    <tr>\n",
              "      <th>5891</th>\n",
              "      <td>0.5</td>\n",
              "      <td>71</td>\n",
              "    </tr>\n",
              "    <tr>\n",
              "      <th>5892</th>\n",
              "      <td>0.5</td>\n",
              "      <td>69</td>\n",
              "    </tr>\n",
              "  </tbody>\n",
              "</table>\n",
              "</div>"
            ],
            "text/plain": [
              "      duracao  nota\n",
              "5888      0.5    71\n",
              "5889      0.5    72\n",
              "5890      0.5    71\n",
              "5891      0.5    71\n",
              "5892      0.5    69"
            ]
          },
          "metadata": {
            "tags": []
          },
          "execution_count": 40
        }
      ]
    },
    {
      "metadata": {
        "id": "Y7lHDUD0BLQN",
        "colab_type": "code",
        "colab": {
          "base_uri": "https://localhost:8080/",
          "height": 297
        },
        "outputId": "670fd97d-9183-4346-b93a-ed9d3441ffd5"
      },
      "cell_type": "code",
      "source": [
        "df.describe()"
      ],
      "execution_count": 41,
      "outputs": [
        {
          "output_type": "execute_result",
          "data": {
            "text/html": [
              "<div>\n",
              "<style scoped>\n",
              "    .dataframe tbody tr th:only-of-type {\n",
              "        vertical-align: middle;\n",
              "    }\n",
              "\n",
              "    .dataframe tbody tr th {\n",
              "        vertical-align: top;\n",
              "    }\n",
              "\n",
              "    .dataframe thead th {\n",
              "        text-align: right;\n",
              "    }\n",
              "</style>\n",
              "<table border=\"1\" class=\"dataframe\">\n",
              "  <thead>\n",
              "    <tr style=\"text-align: right;\">\n",
              "      <th></th>\n",
              "      <th>duracao</th>\n",
              "      <th>nota</th>\n",
              "    </tr>\n",
              "  </thead>\n",
              "  <tbody>\n",
              "    <tr>\n",
              "      <th>count</th>\n",
              "      <td>5893.000000</td>\n",
              "      <td>5893.000000</td>\n",
              "    </tr>\n",
              "    <tr>\n",
              "      <th>mean</th>\n",
              "      <td>0.726837</td>\n",
              "      <td>65.886136</td>\n",
              "    </tr>\n",
              "    <tr>\n",
              "      <th>std</th>\n",
              "      <td>0.540370</td>\n",
              "      <td>7.678147</td>\n",
              "    </tr>\n",
              "    <tr>\n",
              "      <th>min</th>\n",
              "      <td>0.250000</td>\n",
              "      <td>43.000000</td>\n",
              "    </tr>\n",
              "    <tr>\n",
              "      <th>25%</th>\n",
              "      <td>0.500000</td>\n",
              "      <td>60.000000</td>\n",
              "    </tr>\n",
              "    <tr>\n",
              "      <th>50%</th>\n",
              "      <td>0.500000</td>\n",
              "      <td>64.000000</td>\n",
              "    </tr>\n",
              "    <tr>\n",
              "      <th>75%</th>\n",
              "      <td>1.000000</td>\n",
              "      <td>72.000000</td>\n",
              "    </tr>\n",
              "    <tr>\n",
              "      <th>max</th>\n",
              "      <td>8.000000</td>\n",
              "      <td>91.000000</td>\n",
              "    </tr>\n",
              "  </tbody>\n",
              "</table>\n",
              "</div>"
            ],
            "text/plain": [
              "           duracao         nota\n",
              "count  5893.000000  5893.000000\n",
              "mean      0.726837    65.886136\n",
              "std       0.540370     7.678147\n",
              "min       0.250000    43.000000\n",
              "25%       0.500000    60.000000\n",
              "50%       0.500000    64.000000\n",
              "75%       1.000000    72.000000\n",
              "max       8.000000    91.000000"
            ]
          },
          "metadata": {
            "tags": []
          },
          "execution_count": 41
        }
      ]
    },
    {
      "metadata": {
        "id": "WAwkaMv9BLQP",
        "colab_type": "code",
        "colab": {
          "base_uri": "https://localhost:8080/",
          "height": 68
        },
        "outputId": "07c59323-0e42-49b2-a944-2247c5a06e5a"
      },
      "cell_type": "code",
      "source": [
        "df['nota'].unique()"
      ],
      "execution_count": 42,
      "outputs": [
        {
          "output_type": "execute_result",
          "data": {
            "text/plain": [
              "array([81, 83, 80, 76, 74, 84, 64, 57, 65, 53, 67, 48, 62, 60, 55, 69, 72,\n",
              "       71, 52, 50, 45, 43, 59, 79, 77, 86, 63, 66, 56, 68, 87, 47, 88, 91,\n",
              "       75, 89])"
            ]
          },
          "metadata": {
            "tags": []
          },
          "execution_count": 42
        }
      ]
    },
    {
      "metadata": {
        "id": "Mh6Gb26IBLQV",
        "colab_type": "code",
        "colab": {
          "base_uri": "https://localhost:8080/",
          "height": 51
        },
        "outputId": "3f896fbd-d7e9-49e4-fe33-a6ea3f7e0461"
      },
      "cell_type": "code",
      "source": [
        "df['duracao'].unique()"
      ],
      "execution_count": 43,
      "outputs": [
        {
          "output_type": "execute_result",
          "data": {
            "text/plain": [
              "array([1.  , 2.  , 0.5 , 0.25, 0.75, 1.5 , 3.  , 2.5 , 3.5 , 1.25, 1.75,\n",
              "       2.25, 5.5 , 4.  , 2.75, 5.  , 6.  , 7.25, 8.  , 3.75, 4.5 ])"
            ]
          },
          "metadata": {
            "tags": []
          },
          "execution_count": 43
        }
      ]
    },
    {
      "metadata": {
        "id": "smgH7P_vBLQZ",
        "colab_type": "code",
        "colab": {}
      },
      "cell_type": "code",
      "source": [
        "mlb = MultiLabelBinarizer()"
      ],
      "execution_count": 0,
      "outputs": []
    },
    {
      "metadata": {
        "id": "JNQifZypBLQc",
        "colab_type": "code",
        "colab": {
          "base_uri": "https://localhost:8080/",
          "height": 34
        },
        "outputId": "204b9507-b11c-40ed-f07b-0996e0082ba8"
      },
      "cell_type": "code",
      "source": [
        "mlb.fit(df.values)"
      ],
      "execution_count": 45,
      "outputs": [
        {
          "output_type": "execute_result",
          "data": {
            "text/plain": [
              "MultiLabelBinarizer(classes=None, sparse_output=False)"
            ]
          },
          "metadata": {
            "tags": []
          },
          "execution_count": 45
        }
      ]
    },
    {
      "metadata": {
        "id": "SGky5MTUBLQg",
        "colab_type": "code",
        "colab": {}
      },
      "cell_type": "code",
      "source": [
        "classes = mlb.classes_"
      ],
      "execution_count": 0,
      "outputs": []
    },
    {
      "metadata": {
        "id": "MgAnC0_nBLQk",
        "colab_type": "code",
        "colab": {
          "base_uri": "https://localhost:8080/",
          "height": 119
        },
        "outputId": "9b3096e8-a712-4807-e9bb-14662037ecc5"
      },
      "cell_type": "code",
      "source": [
        "classes"
      ],
      "execution_count": 47,
      "outputs": [
        {
          "output_type": "execute_result",
          "data": {
            "text/plain": [
              "array([0.25, 0.5, 0.75, 1.0, 1.25, 1.5, 1.75, 2.0, 2.25, 2.5, 2.75, 3.0,\n",
              "       3.5, 3.75, 4.0, 4.5, 5.0, 5.5, 6.0, 7.25, 8.0, 43.0, 45.0, 47.0,\n",
              "       48.0, 50.0, 52.0, 53.0, 55.0, 56.0, 57.0, 59.0, 60.0, 62.0, 63.0,\n",
              "       64.0, 65.0, 66.0, 67.0, 68.0, 69.0, 71.0, 72.0, 74.0, 75.0, 76.0,\n",
              "       77.0, 79.0, 80.0, 81.0, 83.0, 84.0, 86.0, 87.0, 88.0, 89.0, 91.0],\n",
              "      dtype=object)"
            ]
          },
          "metadata": {
            "tags": []
          },
          "execution_count": 47
        }
      ]
    },
    {
      "metadata": {
        "id": "a9ecZnhcBLQm",
        "colab_type": "code",
        "colab": {
          "base_uri": "https://localhost:8080/",
          "height": 34
        },
        "outputId": "2629afbe-c220-42d3-fdde-aa97c5a80bcf"
      },
      "cell_type": "code",
      "source": [
        "classes.shape"
      ],
      "execution_count": 48,
      "outputs": [
        {
          "output_type": "execute_result",
          "data": {
            "text/plain": [
              "(57,)"
            ]
          },
          "metadata": {
            "tags": []
          },
          "execution_count": 48
        }
      ]
    },
    {
      "metadata": {
        "id": "a3A4zwTmBLQq",
        "colab_type": "code",
        "colab": {}
      },
      "cell_type": "code",
      "source": [
        "labels = mlb.transform(df.values)"
      ],
      "execution_count": 0,
      "outputs": []
    },
    {
      "metadata": {
        "id": "AznsArW9BLQu",
        "colab_type": "code",
        "colab": {
          "base_uri": "https://localhost:8080/",
          "height": 136
        },
        "outputId": "9a2529e1-045f-4741-8933-d8120e7beb79"
      },
      "cell_type": "code",
      "source": [
        "labels"
      ],
      "execution_count": 50,
      "outputs": [
        {
          "output_type": "execute_result",
          "data": {
            "text/plain": [
              "array([[0, 0, 0, ..., 0, 0, 0],\n",
              "       [0, 0, 0, ..., 0, 0, 0],\n",
              "       [0, 0, 0, ..., 0, 0, 0],\n",
              "       ...,\n",
              "       [0, 1, 0, ..., 0, 0, 0],\n",
              "       [0, 1, 0, ..., 0, 0, 0],\n",
              "       [0, 1, 0, ..., 0, 0, 0]])"
            ]
          },
          "metadata": {
            "tags": []
          },
          "execution_count": 50
        }
      ]
    },
    {
      "metadata": {
        "id": "ca0iaVnWBLQx",
        "colab_type": "code",
        "colab": {
          "base_uri": "https://localhost:8080/",
          "height": 34
        },
        "outputId": "e8027400-539e-4fcf-fde9-daebd8dc5794"
      },
      "cell_type": "code",
      "source": [
        "labels.shape"
      ],
      "execution_count": 51,
      "outputs": [
        {
          "output_type": "execute_result",
          "data": {
            "text/plain": [
              "(5893, 57)"
            ]
          },
          "metadata": {
            "tags": []
          },
          "execution_count": 51
        }
      ]
    },
    {
      "metadata": {
        "id": "2PlkqbDQBLQz",
        "colab_type": "code",
        "colab": {}
      },
      "cell_type": "code",
      "source": [
        "array_notas = df['nota'].values.astype(int)"
      ],
      "execution_count": 0,
      "outputs": []
    },
    {
      "metadata": {
        "id": "o3XXOTWdBLQ1",
        "colab_type": "code",
        "colab": {
          "base_uri": "https://localhost:8080/",
          "height": 34
        },
        "outputId": "9e12d326-6c00-42aa-caca-cac94dbd2417"
      },
      "cell_type": "code",
      "source": [
        "array_notas.shape"
      ],
      "execution_count": 53,
      "outputs": [
        {
          "output_type": "execute_result",
          "data": {
            "text/plain": [
              "(5893,)"
            ]
          },
          "metadata": {
            "tags": []
          },
          "execution_count": 53
        }
      ]
    },
    {
      "metadata": {
        "id": "yg1RQ7DLBLQ6",
        "colab_type": "code",
        "colab": {}
      },
      "cell_type": "code",
      "source": [
        "array_duracao = df['duracao'].values.astype(float)"
      ],
      "execution_count": 0,
      "outputs": []
    },
    {
      "metadata": {
        "id": "nNtlSGJSBLQ8",
        "colab_type": "code",
        "colab": {}
      },
      "cell_type": "code",
      "source": [
        "scaler = StandardScaler()\n",
        "rawX = scaler.fit_transform(df.values)"
      ],
      "execution_count": 0,
      "outputs": []
    },
    {
      "metadata": {
        "id": "MSbjtER0BLQ-",
        "colab_type": "code",
        "colab": {
          "base_uri": "https://localhost:8080/",
          "height": 136
        },
        "outputId": "1fd3b9d2-b4f5-4695-cb41-e98b28970cd7"
      },
      "cell_type": "code",
      "source": [
        "rawX"
      ],
      "execution_count": 56,
      "outputs": [
        {
          "output_type": "execute_result",
          "data": {
            "text/plain": [
              "array([[ 0.50555396,  1.96859307],\n",
              "       [ 0.50555396,  1.96859307],\n",
              "       [ 0.50555396,  1.96859307],\n",
              "       ...,\n",
              "       [-0.41981628,  0.66608493],\n",
              "       [-0.41981628,  0.66608493],\n",
              "       [-0.41981628,  0.40558331]])"
            ]
          },
          "metadata": {
            "tags": []
          },
          "execution_count": 56
        }
      ]
    },
    {
      "metadata": {
        "id": "VYNLPgHPBLRB",
        "colab_type": "code",
        "colab": {
          "base_uri": "https://localhost:8080/",
          "height": 34
        },
        "outputId": "15319d31-c7ac-4458-f8ad-5cb0e69f7be7"
      },
      "cell_type": "code",
      "source": [
        "scaler.inverse_transform(rawX[0])"
      ],
      "execution_count": 57,
      "outputs": [
        {
          "output_type": "execute_result",
          "data": {
            "text/plain": [
              "array([ 1., 81.])"
            ]
          },
          "metadata": {
            "tags": []
          },
          "execution_count": 57
        }
      ]
    },
    {
      "metadata": {
        "id": "U2EQ7wOGBLRF",
        "colab_type": "code",
        "colab": {
          "base_uri": "https://localhost:8080/",
          "height": 34
        },
        "outputId": "5d2a0f61-45b1-47e6-92e4-391f59c048b5"
      },
      "cell_type": "code",
      "source": [
        "# prepare the dataset of input to output pairs encoded as integers\n",
        "seq_length = 100\n",
        "dataX = []\n",
        "dataY = []\n",
        "for i in range(0, rawX.shape[0] - seq_length, 1):\n",
        "\tseq_in = rawX[i:i + seq_length]\n",
        "\tseq_out = labels[i + seq_length]\n",
        "\tdataX.append(seq_in)\n",
        "\tdataY.append(seq_out)\n",
        "n_patterns = len(dataX)\n",
        "print(\"Total Patterns: \", n_patterns)"
      ],
      "execution_count": 58,
      "outputs": [
        {
          "output_type": "stream",
          "text": [
            "Total Patterns:  5793\n"
          ],
          "name": "stdout"
        }
      ]
    },
    {
      "metadata": {
        "id": "wHuifoDXBLRH",
        "colab_type": "code",
        "colab": {}
      },
      "cell_type": "code",
      "source": [
        "X = np.reshape(dataX, (len(dataX), seq_length, 2))\n",
        "y = np.asarray(dataY)"
      ],
      "execution_count": 0,
      "outputs": []
    },
    {
      "metadata": {
        "id": "zHLrq_y2BLRK",
        "colab_type": "code",
        "colab": {}
      },
      "cell_type": "code",
      "source": [
        ""
      ],
      "execution_count": 0,
      "outputs": []
    },
    {
      "metadata": {
        "id": "ww_eRI6TBLRN",
        "colab_type": "code",
        "colab": {}
      },
      "cell_type": "code",
      "source": [
        "from sklearn.model_selection import train_test_split"
      ],
      "execution_count": 0,
      "outputs": []
    },
    {
      "metadata": {
        "id": "k8AP5JVwBLRP",
        "colab_type": "code",
        "colab": {}
      },
      "cell_type": "code",
      "source": [
        "X_train, X_test, y_train, y_test = train_test_split(X, y, test_size=0.10, random_state=42,shuffle=False)"
      ],
      "execution_count": 0,
      "outputs": []
    },
    {
      "metadata": {
        "id": "s6bM--boBLRS",
        "colab_type": "code",
        "colab": {
          "base_uri": "https://localhost:8080/",
          "height": 34
        },
        "outputId": "7fbd3026-878a-477d-b170-05ea77c3b43a"
      },
      "cell_type": "code",
      "source": [
        "X_train.shape"
      ],
      "execution_count": 62,
      "outputs": [
        {
          "output_type": "execute_result",
          "data": {
            "text/plain": [
              "(5213, 100, 2)"
            ]
          },
          "metadata": {
            "tags": []
          },
          "execution_count": 62
        }
      ]
    },
    {
      "metadata": {
        "id": "xWjb0rmsBLRW",
        "colab_type": "code",
        "colab": {
          "base_uri": "https://localhost:8080/",
          "height": 34
        },
        "outputId": "0d600655-b97b-4152-b9f3-7ccd0659c5f9"
      },
      "cell_type": "code",
      "source": [
        "y_train.shape"
      ],
      "execution_count": 63,
      "outputs": [
        {
          "output_type": "execute_result",
          "data": {
            "text/plain": [
              "(5213, 57)"
            ]
          },
          "metadata": {
            "tags": []
          },
          "execution_count": 63
        }
      ]
    },
    {
      "metadata": {
        "id": "m0TuLOB_BLRa",
        "colab_type": "code",
        "colab": {
          "base_uri": "https://localhost:8080/",
          "height": 34
        },
        "outputId": "820499c8-5de3-4bc3-ad5e-4286bf627a67"
      },
      "cell_type": "code",
      "source": [
        "X_test.shape"
      ],
      "execution_count": 64,
      "outputs": [
        {
          "output_type": "execute_result",
          "data": {
            "text/plain": [
              "(580, 100, 2)"
            ]
          },
          "metadata": {
            "tags": []
          },
          "execution_count": 64
        }
      ]
    },
    {
      "metadata": {
        "id": "qhQTK1L1BLRc",
        "colab_type": "code",
        "colab": {
          "base_uri": "https://localhost:8080/",
          "height": 34
        },
        "outputId": "f83489e3-e8d5-42ae-d38b-73c0ef4daff9"
      },
      "cell_type": "code",
      "source": [
        "y_train.shape"
      ],
      "execution_count": 65,
      "outputs": [
        {
          "output_type": "execute_result",
          "data": {
            "text/plain": [
              "(5213, 57)"
            ]
          },
          "metadata": {
            "tags": []
          },
          "execution_count": 65
        }
      ]
    },
    {
      "metadata": {
        "id": "V6SWf7lVBLRg",
        "colab_type": "code",
        "colab": {
          "base_uri": "https://localhost:8080/",
          "height": 34
        },
        "outputId": "ecc64d0a-283b-42cc-d777-db6aa8befc20"
      },
      "cell_type": "code",
      "source": [
        "X.shape"
      ],
      "execution_count": 66,
      "outputs": [
        {
          "output_type": "execute_result",
          "data": {
            "text/plain": [
              "(5793, 100, 2)"
            ]
          },
          "metadata": {
            "tags": []
          },
          "execution_count": 66
        }
      ]
    },
    {
      "metadata": {
        "id": "n4tsP2LDBLRk",
        "colab_type": "code",
        "colab": {
          "base_uri": "https://localhost:8080/",
          "height": 34
        },
        "outputId": "b412faa2-d9c6-4828-f6c0-7f2e8f55158d"
      },
      "cell_type": "code",
      "source": [
        "y.shape"
      ],
      "execution_count": 67,
      "outputs": [
        {
          "output_type": "execute_result",
          "data": {
            "text/plain": [
              "(5793, 57)"
            ]
          },
          "metadata": {
            "tags": []
          },
          "execution_count": 67
        }
      ]
    },
    {
      "metadata": {
        "id": "wWl0z53gBLRo",
        "colab_type": "code",
        "colab": {
          "base_uri": "https://localhost:8080/",
          "height": 323
        },
        "outputId": "31d72615-8a67-41d8-ee23-6b00d011b990"
      },
      "cell_type": "code",
      "source": [
        "model = Sequential()\n",
        "model.add(LSTM(256, input_shape=(seq_length, 2),return_sequences=True))\n",
        "model.add(Dropout(0.2))\n",
        "model.add(LSTM(256))\n",
        "model.add(Dropout(0.2))\n",
        "model.add(Dense(y.shape[1], activation='sigmoid'))\n",
        "adam = Adam(lr=0.001)\n",
        "model.compile(loss='binary_crossentropy', optimizer=adam,metrics=['accuracy'])\n",
        "print(model.summary())"
      ],
      "execution_count": 68,
      "outputs": [
        {
          "output_type": "stream",
          "text": [
            "_________________________________________________________________\n",
            "Layer (type)                 Output Shape              Param #   \n",
            "=================================================================\n",
            "lstm_1 (LSTM)                (None, 100, 256)          265216    \n",
            "_________________________________________________________________\n",
            "dropout_1 (Dropout)          (None, 100, 256)          0         \n",
            "_________________________________________________________________\n",
            "lstm_2 (LSTM)                (None, 256)               525312    \n",
            "_________________________________________________________________\n",
            "dropout_2 (Dropout)          (None, 256)               0         \n",
            "_________________________________________________________________\n",
            "dense_1 (Dense)              (None, 57)                14649     \n",
            "=================================================================\n",
            "Total params: 805,177\n",
            "Trainable params: 805,177\n",
            "Non-trainable params: 0\n",
            "_________________________________________________________________\n",
            "None\n"
          ],
          "name": "stdout"
        }
      ]
    },
    {
      "metadata": {
        "id": "XquQ4YvSBLRr",
        "colab_type": "code",
        "colab": {
          "base_uri": "https://localhost:8080/",
          "height": 394
        },
        "outputId": "ad2697fc-d546-474a-c915-758e9214b7b0"
      },
      "cell_type": "code",
      "source": [
        "history = model.fit(X_train, y_train, validation_data=(X_test,y_test), epochs=10,batch_size=32, verbose=1, shuffle=False)"
      ],
      "execution_count": 69,
      "outputs": [
        {
          "output_type": "stream",
          "text": [
            "Train on 5213 samples, validate on 580 samples\n",
            "Epoch 1/10\n",
            "5213/5213 [==============================] - 70s 14ms/step - loss: 0.1862 - acc: 0.9308 - val_loss: 0.1021 - val_acc: 0.9687\n",
            "Epoch 2/10\n",
            "5213/5213 [==============================] - 68s 13ms/step - loss: 0.1139 - acc: 0.9644 - val_loss: 0.1015 - val_acc: 0.9687\n",
            "Epoch 3/10\n",
            "2432/5213 [============>.................] - ETA: 35s - loss: 0.1125 - acc: 0.9646"
          ],
          "name": "stdout"
        },
        {
          "output_type": "stream",
          "text": [
            "5213/5213 [==============================] - 68s 13ms/step - loss: 0.1135 - acc: 0.9644 - val_loss: 0.1015 - val_acc: 0.9687\n",
            "Epoch 4/10\n",
            "5213/5213 [==============================] - 68s 13ms/step - loss: 0.1133 - acc: 0.9647 - val_loss: 0.1017 - val_acc: 0.9687\n",
            "Epoch 5/10\n",
            "5120/5213 [============================>.] - ETA: 1s - loss: 0.1132 - acc: 0.9646"
          ],
          "name": "stdout"
        },
        {
          "output_type": "stream",
          "text": [
            "5213/5213 [==============================] - 68s 13ms/step - loss: 0.1133 - acc: 0.9646 - val_loss: 0.1016 - val_acc: 0.9687\n",
            "Epoch 6/10\n",
            "5213/5213 [==============================] - 68s 13ms/step - loss: 0.1129 - acc: 0.9646 - val_loss: 0.1015 - val_acc: 0.9687\n",
            "Epoch 7/10\n",
            "5213/5213 [==============================] - 68s 13ms/step - loss: 0.1132 - acc: 0.9643 - val_loss: 0.1016 - val_acc: 0.9687\n",
            "Epoch 8/10\n",
            " 352/5213 [=>............................] - ETA: 1:01 - loss: 0.1139 - acc: 0.9649"
          ],
          "name": "stdout"
        },
        {
          "output_type": "stream",
          "text": [
            "5213/5213 [==============================] - 67s 13ms/step - loss: 0.1128 - acc: 0.9645 - val_loss: 0.1016 - val_acc: 0.9687\n",
            "Epoch 9/10\n",
            "5213/5213 [==============================] - 68s 13ms/step - loss: 0.1124 - acc: 0.9646 - val_loss: 0.1017 - val_acc: 0.9687\n",
            "Epoch 10/10\n",
            "4608/5213 [=========================>....] - ETA: 7s - loss: 0.1116 - acc: 0.9649"
          ],
          "name": "stdout"
        },
        {
          "output_type": "stream",
          "text": [
            "5213/5213 [==============================] - 67s 13ms/step - loss: 0.1122 - acc: 0.9647 - val_loss: 0.1015 - val_acc: 0.9687\n"
          ],
          "name": "stdout"
        }
      ]
    },
    {
      "metadata": {
        "id": "S0_REfLnBLRu",
        "colab_type": "code",
        "colab": {
          "base_uri": "https://localhost:8080/",
          "height": 605
        },
        "outputId": "1f3373d6-a06f-45fb-ff40-71b6e75dfd13"
      },
      "cell_type": "code",
      "source": [
        "\n",
        "# list all data in history\n",
        "print(history.history.keys())\n",
        "# summarize history for accuracy\n",
        "plt.plot(history.history['acc'])\n",
        "plt.plot(history.history['val_acc'])\n",
        "plt.title('model accuracy')\n",
        "plt.ylabel('accuracy')\n",
        "plt.xlabel('epoch')\n",
        "plt.legend(['train', 'test'], loc='upper left')\n",
        "plt.show()\n",
        "# summarize history for loss\n",
        "plt.plot(history.history['loss'])\n",
        "plt.plot(history.history['val_loss'])\n",
        "plt.title('model loss')\n",
        "plt.ylabel('loss')\n",
        "plt.xlabel('epoch')\n",
        "plt.legend(['train', 'test'], loc='upper left')\n",
        "\n",
        "\n",
        "# summarize history for loss\n",
        "plt.plot(history.history['loss'])\n",
        "plt.plot(history.history['val_loss'])\n",
        "plt.title('model loss')\n",
        "plt.ylabel('loss')\n",
        "plt.xlabel('epoch')\n",
        "plt.legend(['train', 'test'], loc='upper left')"
      ],
      "execution_count": 70,
      "outputs": [
        {
          "output_type": "stream",
          "text": [
            "dict_keys(['val_loss', 'val_acc', 'loss', 'acc'])\n"
          ],
          "name": "stdout"
        },
        {
          "output_type": "display_data",
          "data": {
            "image/png": "[encoded data removed]",
            "text/plain": [
              "<matplotlib.figure.Figure at 0x7f6e715407f0>"
            ]
          },
          "metadata": {
            "tags": [],
            "image/png": {
              "width": 395,
              "height": 277
            }
          }
        },
        {
          "output_type": "execute_result",
          "data": {
            "text/plain": [
              "<matplotlib.legend.Legend at 0x7f6e67869dd8>"
            ]
          },
          "metadata": {
            "tags": []
          },
          "execution_count": 70
        },
        {
          "output_type": "display_data",
          "data": {
            "image/png": "[encoded data removed]",
            "text/plain": [
              "<matplotlib.figure.Figure at 0x7f6e67ad86a0>"
            ]
          },
          "metadata": {
            "tags": [],
            "image/png": {
              "width": 390,
              "height": 277
            }
          }
        }
      ]
    },
    {
      "metadata": {
        "id": "KzlZ2avsBLR0",
        "colab_type": "text"
      },
      "cell_type": "markdown",
      "source": [
        "## **Prevendo uma sequencia**"
      ]
    },
    {
      "metadata": {
        "id": "NH6vlRVQBLR1",
        "colab_type": "code",
        "colab": {
          "base_uri": "https://localhost:8080/",
          "height": 34
        },
        "outputId": "5c6cefbe-dcb0-4854-bb8b-fb80b76da8ec"
      },
      "cell_type": "code",
      "source": [
        "start = np.random.randint(0, len(X_test)-1)\n",
        "print(start)\n",
        "pattern = X_test[start]\n",
        "for i in range(5):\n",
        "    p = np.reshape(pattern, (1, len(pattern), 2))\n",
        "    prediction = model.predict(p, verbose=0)\n",
        "    idxs = np.argsort(prediction[0])[::-1][:2]\n",
        "    new_pattern = [mlb.classes_[idxs[0]],mlb.classes_[idxs[1]]]\n",
        "    new_pattern.sort()\n",
        "    t = np.asarray(new_pattern).reshape(1,2)\n",
        "    pt = scaler.transform(t)\n",
        "    a = np.concatenate((pattern,pt))\n",
        "    b = a[1:len(a)]\n",
        "    pattern = b"
      ],
      "execution_count": 71,
      "outputs": [
        {
          "output_type": "stream",
          "text": [
            "285\n"
          ],
          "name": "stdout"
        }
      ]
    },
    {
      "metadata": {
        "id": "uxNsSyTvBLR3",
        "colab_type": "code",
        "colab": {}
      },
      "cell_type": "code",
      "source": [
        "inverso = scaler.inverse_transform(pattern)"
      ],
      "execution_count": 0,
      "outputs": []
    },
    {
      "metadata": {
        "id": "oQdVLErPBLR7",
        "colab_type": "code",
        "colab": {}
      },
      "cell_type": "code",
      "source": [
        "sc = stream.Score()\n",
        "for i in inverso:\n",
        "    n = note.Note(midi=i[1], quarterLength=i[0])\n",
        "    sc.append(n)"
      ],
      "execution_count": 0,
      "outputs": []
    },
    {
      "metadata": {
        "id": "kyW0mfcfBLR9",
        "colab_type": "code",
        "colab": {
          "base_uri": "https://localhost:8080/",
          "height": 1717
        },
        "outputId": "8520fb26-c944-4c63-89d9-b5957711d48f"
      },
      "cell_type": "code",
      "source": [
        "sc.show('text')"
      ],
      "execution_count": 75,
      "outputs": [
        {
          "output_type": "stream",
          "text": [
            "{0.0} <music21.note.Note G>\n",
            "{1.0} <music21.note.Note E>\n",
            "{2.0} <music21.note.Note D>\n",
            "{2.5} <music21.note.Note C>\n",
            "{3.0} <music21.note.Note G>\n",
            "{5.0} <music21.note.Note A>\n",
            "{6.0} <music21.note.Note E>\n",
            "{7.0} <music21.note.Note A>\n",
            "{8.0} <music21.note.Note E>\n",
            "{9.0} <music21.note.Note A>\n",
            "{9.5} <music21.note.Note A>\n",
            "{10.0} <music21.note.Note E>\n",
            "{11.0} <music21.note.Note A>\n",
            "{11.5} <music21.note.Note G>\n",
            "{12.0} <music21.note.Note B>\n",
            "{13.0} <music21.note.Note A>\n",
            "{13.5} <music21.note.Note G>\n",
            "{14.0} <music21.note.Note G>\n",
            "{15.0} <music21.note.Note E>\n",
            "{16.0} <music21.note.Note D>\n",
            "{16.5} <music21.note.Note C>\n",
            "{17.0} <music21.note.Note G>\n",
            "{19.0} <music21.note.Note A>\n",
            "{19.5} <music21.note.Note C>\n",
            "{20.0} <music21.note.Note E->\n",
            "{21.0} <music21.note.Note D>\n",
            "{21.5} <music21.note.Note C>\n",
            "{22.0} <music21.note.Note C>\n",
            "{23.0} <music21.note.Note A>\n",
            "{23.5} <music21.note.Note C>\n",
            "{24.0} <music21.note.Note E->\n",
            "{25.0} <music21.note.Note D>\n",
            "{25.5} <music21.note.Note C>\n",
            "{26.0} <music21.note.Note D>\n",
            "{26.5} <music21.note.Note C>\n",
            "{26.75} <music21.note.Note E->\n",
            "{27.75} <music21.note.Note A>\n",
            "{28.25} <music21.note.Note E>\n",
            "{29.25} <music21.note.Note E>\n",
            "{30.25} <music21.note.Note D>\n",
            "{30.5} <music21.note.Note C>\n",
            "{30.75} <music21.note.Note A>\n",
            "{31.25} <music21.note.Note C>\n",
            "{31.75} <music21.note.Note C>\n",
            "{32.25} <music21.note.Note E>\n",
            "{33.25} <music21.note.Note E>\n",
            "{34.25} <music21.note.Note D>\n",
            "{34.5} <music21.note.Note C>\n",
            "{34.75} <music21.note.Note A>\n",
            "{35.25} <music21.note.Note C>\n",
            "{35.75} <music21.note.Note C>\n",
            "{36.25} <music21.note.Note E>\n",
            "{37.25} <music21.note.Note E>\n",
            "{38.25} <music21.note.Note D>\n",
            "{38.75} <music21.note.Note C>\n",
            "{39.25} <music21.note.Note C>\n",
            "{39.75} <music21.note.Note C>\n",
            "{40.25} <music21.note.Note D>\n",
            "{40.75} <music21.note.Note C>\n",
            "{41.25} <music21.note.Note E>\n",
            "{41.75} <music21.note.Note C>\n",
            "{42.25} <music21.note.Note C>\n",
            "{43.25} <music21.note.Note C>\n",
            "{43.75} <music21.note.Note E>\n",
            "{44.75} <music21.note.Note E>\n",
            "{45.75} <music21.note.Note D>\n",
            "{46.0} <music21.note.Note C>\n",
            "{46.25} <music21.note.Note A>\n",
            "{46.75} <music21.note.Note C>\n",
            "{47.25} <music21.note.Note C>\n",
            "{47.75} <music21.note.Note E>\n",
            "{48.75} <music21.note.Note E>\n",
            "{49.75} <music21.note.Note D>\n",
            "{50.0} <music21.note.Note C>\n",
            "{50.25} <music21.note.Note A>\n",
            "{50.75} <music21.note.Note C>\n",
            "{51.25} <music21.note.Note C>\n",
            "{51.75} <music21.note.Note E>\n",
            "{52.5} <music21.note.Note E>\n",
            "{53.5} <music21.note.Note D>\n",
            "{54.0} <music21.note.Note C>\n",
            "{55.0} <music21.note.Note E>\n",
            "{55.5} <music21.note.Note G>\n",
            "{56.0} <music21.note.Note E>\n",
            "{56.5} <music21.note.Note G>\n",
            "{57.0} <music21.note.Note E>\n",
            "{57.5} <music21.note.Note C>\n",
            "{58.0} <music21.note.Note F>\n",
            "{58.5} <music21.note.Note C>\n",
            "{59.0} <music21.note.Note F>\n",
            "{59.5} <music21.note.Note C>\n",
            "{60.0} <music21.note.Note F>\n",
            "{60.5} <music21.note.Note C>\n",
            "{61.0} <music21.note.Note F>\n",
            "{61.5} <music21.note.Note C>\n",
            "{62.0} <music21.note.Note C>\n",
            "{62.25} <music21.note.Note C>\n",
            "{62.5} <music21.note.Note C>\n",
            "{62.75} <music21.note.Note C>\n",
            "{63.0} <music21.note.Note C>\n"
          ],
          "name": "stdout"
        }
      ]
    },
    {
      "metadata": {
        "id": "OzR2CTxwBLSA",
        "colab_type": "code",
        "colab": {}
      },
      "cell_type": "code",
      "source": [
        "\n",
        "filename = \"gerada_\" + datetime.now().strftime(\"%Y%m%d-%H%M%S\"+\".mid\")"
      ],
      "execution_count": 0,
      "outputs": []
    },
    {
      "metadata": {
        "id": "2dntMIHGBLSC",
        "colab_type": "code",
        "colab": {}
      },
      "cell_type": "code",
      "source": [
        "mf = midi.translate.streamToMidiFile(sc)\n",
        "mf.open(filename, 'wb')\n",
        "mf.write()\n",
        "mf.close()"
      ],
      "execution_count": 0,
      "outputs": []
    },
    {
      "metadata": {
        "id": "PKFtNljyBLSE",
        "colab_type": "code",
        "colab": {
          "base_uri": "https://localhost:8080/",
          "height": 34
        },
        "outputId": "11de016f-08b2-46c9-f445-5b668b9c1f35"
      },
      "cell_type": "code",
      "source": [
        "filename"
      ],
      "execution_count": 80,
      "outputs": [
        {
          "output_type": "execute_result",
          "data": {
            "text/plain": [
              "'gerada_20180611-133100.mid'"
            ]
          },
          "metadata": {
            "tags": []
          },
          "execution_count": 80
        }
      ]
    },
    {
      "metadata": {
        "id": "HR2T7JdXBLSH",
        "colab_type": "code",
        "colab": {}
      },
      "cell_type": "code",
      "source": [
        "from google.colab import files"
      ],
      "execution_count": 0,
      "outputs": []
    },
    {
      "metadata": {
        "id": "x2f7cYTNBLSJ",
        "colab_type": "code",
        "colab": {}
      },
      "cell_type": "code",
      "source": [
        "files.download(filename) "
      ],
      "execution_count": 0,
      "outputs": []
    },
    {
      "metadata": {
        "id": "HE9lpDwGCYtT",
        "colab_type": "text"
      },
      "cell_type": "markdown",
      "source": [
        "# para ouvir o audio gerado\n",
        "https://onlinesequencer.net/import"
      ]
    },
    {
      "metadata": {
        "id": "KUHw2PmoBLSO",
        "colab_type": "text"
      },
      "cell_type": "markdown",
      "source": [
        "## tentar statefull\n",
        "### http://philipperemy.github.io/keras-stateful-lstm/"
      ]
    },
    {
      "metadata": {
        "id": "nwpq2u2_BLSP",
        "colab_type": "code",
        "colab": {},
        "collapsed": true
      },
      "cell_type": "code",
      "source": [
        ""
      ],
      "execution_count": 0,
      "outputs": []
    }
  ]
}