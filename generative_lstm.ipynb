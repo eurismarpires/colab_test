{
 "cells": [
  {
   "cell_type": "code",
   "execution_count": 57,
   "metadata": {},
   "outputs": [
    {
     "name": "stderr",
     "output_type": "stream",
     "text": [
      "/home/eurismar/anaconda3/lib/python3.6/site-packages/h5py/__init__.py:36: FutureWarning: Conversion of the second argument of issubdtype from `float` to `np.floating` is deprecated. In future, it will be treated as `np.float64 == np.dtype(float).type`.\n",
      "  from ._conv import register_converters as _register_converters\n",
      "Using TensorFlow backend.\n",
      "/home/eurismar/anaconda3/lib/python3.6/importlib/_bootstrap.py:219: RuntimeWarning: compiletime version 3.5 of module 'tensorflow.python.framework.fast_tensor_util' does not match runtime version 3.6\n",
      "  return f(*args, **kwds)\n"
     ]
    },
    {
     "name": "stdout",
     "output_type": "stream",
     "text": [
      "[[0.0, 0.0], [0.8811067812412676, 0.0], [0.8811067812412676, 0.5507260959165113], [0.0, 0.5507260959165113]]\n"
     ]
    }
   ],
   "source": [
    "from random import random\n",
    "from matplotlib import pyplot\n",
    "from matplotlib.patches import PathPatch\n",
    "from matplotlib.path import Path\n",
    "from random import random\n",
    "from numpy import array\n",
    "from keras.models import Sequential\n",
    "from keras.layers import LSTM\n",
    "from keras.layers import Dense\n",
    "\n",
    "# generate a rectangle with random width and height\n",
    "def random_rectangle():\n",
    "\twidth, height = random(), random()\n",
    "\tpoints = list()\n",
    "\t# bottom left\n",
    "\tpoints.append([0.0, 0.0])\n",
    "\t# bottom right\n",
    "\tpoints.append([width, 0.0])\n",
    "\t# top right\n",
    "\tpoints.append([width, height])\n",
    "\t# top left\n",
    "\tpoints.append([0.0, height])\n",
    "\treturn points\n",
    "\n",
    "rect = random_rectangle()\n",
    "print(rect)"
   ]
  },
  {
   "cell_type": "code",
   "execution_count": 13,
   "metadata": {
    "collapsed": true
   },
   "outputs": [],
   "source": [
    "# plot a rectangle\n",
    "def plot_rectangle(rect):\n",
    "\t# close the rectangle path\n",
    "\trect.append(rect[0])\n",
    "\t# define path\n",
    "\tcodes = [Path.MOVETO, Path.LINETO, Path.LINETO, Path.LINETO, Path.CLOSEPOLY]\n",
    "\tpath = Path(rect, codes)\n",
    "\taxis = pyplot.gca()\n",
    "\tpatch = PathPatch(path)\n",
    "\t# add shape to plot\n",
    "\taxis.add_patch(patch)\n",
    "\taxis.set_xlim(-0.1,1.1)\n",
    "\taxis.set_ylim(-0.1,1.1)\n",
    "\tpyplot.show()"
   ]
  },
  {
   "cell_type": "code",
   "execution_count": 40,
   "metadata": {},
   "outputs": [
    {
     "data": {
      "image/png": "[encoded data removed]",
      "text/plain": [
       "<matplotlib.figure.Figure at 0x7ffaa81e8fd0>"
      ]
     },
     "metadata": {},
     "output_type": "display_data"
    }
   ],
   "source": [
    "rect = random_rectangle()\n",
    "plot_rectangle(rect)"
   ]
  },
  {
   "cell_type": "code",
   "execution_count": 43,
   "metadata": {},
   "outputs": [
    {
     "name": "stdout",
     "output_type": "stream",
     "text": [
      "[0. 0.] => [0.46261316 0.        ]\n",
      "[0.46261316 0.        ] => [0.46261316 0.18891264]\n",
      "[0.46261316 0.18891264] => [0.         0.18891264]\n"
     ]
    }
   ],
   "source": [
    "# generate input and output sequences for one random rectangle\n",
    "def get_samples():\n",
    "\t# generate rectangle\n",
    "\trect = random_rectangle()\n",
    "\tX, y = list(), list()\n",
    "\t# create input output pairs for each coordinate\n",
    "\tfor i in range(1, len(rect)):\n",
    "\t\tX.append(rect[i-1])\n",
    "\t\ty.append(rect[i])\n",
    "\t# convert input sequence shape to have 1 time step and 2 features\n",
    "\tX, y = array(X), array(y)\n",
    "\tX = X.reshape((X.shape[0], 1, 2))\n",
    "\treturn X, y\n",
    "\n",
    "X, y = get_samples()\n",
    "for i in range(X.shape[0]):\n",
    "\tprint(X[i][0], '=>', y[i])"
   ]
  },
  {
   "cell_type": "code",
   "execution_count": 47,
   "metadata": {},
   "outputs": [],
   "source": [
    "r  = random_rectangle()"
   ]
  },
  {
   "cell_type": "code",
   "execution_count": 48,
   "metadata": {},
   "outputs": [
    {
     "data": {
      "text/plain": [
       "4"
      ]
     },
     "execution_count": 48,
     "metadata": {},
     "output_type": "execute_result"
    }
   ],
   "source": [
    "len(r)"
   ]
  },
  {
   "cell_type": "code",
   "execution_count": 49,
   "metadata": {},
   "outputs": [
    {
     "data": {
      "text/plain": [
       "[0.0, 0.0]"
      ]
     },
     "execution_count": 49,
     "metadata": {},
     "output_type": "execute_result"
    }
   ],
   "source": [
    "r[0]"
   ]
  },
  {
   "cell_type": "code",
   "execution_count": 50,
   "metadata": {},
   "outputs": [
    {
     "data": {
      "text/plain": [
       "[0.9568831728373396, 0.0]"
      ]
     },
     "execution_count": 50,
     "metadata": {},
     "output_type": "execute_result"
    }
   ],
   "source": [
    "r[1]"
   ]
  },
  {
   "cell_type": "code",
   "execution_count": 51,
   "metadata": {},
   "outputs": [
    {
     "data": {
      "text/plain": [
       "[0.9568831728373396, 0.36850251540577783]"
      ]
     },
     "execution_count": 51,
     "metadata": {},
     "output_type": "execute_result"
    }
   ],
   "source": [
    "r[2]"
   ]
  },
  {
   "cell_type": "code",
   "execution_count": 52,
   "metadata": {},
   "outputs": [
    {
     "data": {
      "text/plain": [
       "[0.0, 0.36850251540577783]"
      ]
     },
     "execution_count": 52,
     "metadata": {},
     "output_type": "execute_result"
    }
   ],
   "source": [
    "r[3]"
   ]
  },
  {
   "cell_type": "code",
   "execution_count": 54,
   "metadata": {},
   "outputs": [
    {
     "name": "stdout",
     "output_type": "stream",
     "text": [
      "[0.0, 0.0]\n",
      "[0.7829623169798949, 0.0]\n",
      "[0.7829623169798949, 0.25228210026084796]\n"
     ]
    }
   ],
   "source": [
    "for i in range(1, len(rect)):\n",
    "    print(rect[i-1])"
   ]
  },
  {
   "cell_type": "code",
   "execution_count": 55,
   "metadata": {},
   "outputs": [
    {
     "name": "stdout",
     "output_type": "stream",
     "text": [
      "[0.7829623169798949, 0.0]\n",
      "[0.7829623169798949, 0.25228210026084796]\n",
      "[0.0, 0.25228210026084796]\n"
     ]
    }
   ],
   "source": [
    "for i in range(1, len(rect)):\n",
    "    print(rect[i])"
   ]
  },
  {
   "cell_type": "code",
   "execution_count": 58,
   "metadata": {},
   "outputs": [
    {
     "name": "stdout",
     "output_type": "stream",
     "text": [
      "_________________________________________________________________\n",
      "Layer (type)                 Output Shape              Param #   \n",
      "=================================================================\n",
      "lstm_1 (LSTM)                (None, 10)                520       \n",
      "_________________________________________________________________\n",
      "dense_1 (Dense)              (None, 2)                 22        \n",
      "=================================================================\n",
      "Total params: 542\n",
      "Trainable params: 542\n",
      "Non-trainable params: 0\n",
      "_________________________________________________________________\n",
      "None\n"
     ]
    }
   ],
   "source": [
    "# define model\n",
    "model = Sequential()\n",
    "model.add(LSTM(10, input_shape=(1, 2)))\n",
    "model.add(Dense(2, activation='linear'))\n",
    "model.compile(loss='mae', optimizer='adam')\n",
    "print(model.summary())"
   ]
  },
  {
   "cell_type": "code",
   "execution_count": 59,
   "metadata": {
    "collapsed": true
   },
   "outputs": [],
   "source": [
    "# use a fit LSTM model to generate a new rectangle from scratch\n",
    "def generate_rectangle(model):\n",
    "\trect = list()\n",
    "\t# use [0,0] to seed the generation process\n",
    "\tlast = array([0.0,0.0]).reshape((1, 1, 2))\n",
    "\trect.append([[y for y in x] for x in last[0]][0])\n",
    "\t# generate the remaining 3 coordinates\n",
    "\tfor i in range(3):\n",
    "\t\t# predict the next coordinate\n",
    "\t\tyhat = model.predict(last, verbose=0)\n",
    "\t\t# use this output as input for the next prediction\n",
    "\t\tlast = yhat.reshape((1, 1, 2))\n",
    "\t\t# store coordinate\n",
    "\t\trect.append([[y for y in x] for x in last[0]][0])\n",
    "\treturn rect"
   ]
  },
  {
   "cell_type": "code",
   "execution_count": 60,
   "metadata": {
    "collapsed": true
   },
   "outputs": [],
   "source": [
    "X, y = get_samples()"
   ]
  },
  {
   "cell_type": "code",
   "execution_count": 61,
   "metadata": {},
   "outputs": [
    {
     "data": {
      "text/plain": [
       "array([[[0.        , 0.        ]],\n",
       "\n",
       "       [[0.03814067, 0.        ]],\n",
       "\n",
       "       [[0.03814067, 0.23108243]]])"
      ]
     },
     "execution_count": 61,
     "metadata": {},
     "output_type": "execute_result"
    }
   ],
   "source": [
    "X"
   ]
  },
  {
   "cell_type": "code",
   "execution_count": 62,
   "metadata": {},
   "outputs": [
    {
     "data": {
      "text/plain": [
       "array([[0.03814067, 0.        ],\n",
       "       [0.03814067, 0.23108243],\n",
       "       [0.        , 0.23108243]])"
      ]
     },
     "execution_count": 62,
     "metadata": {},
     "output_type": "execute_result"
    }
   ],
   "source": [
    "y"
   ]
  },
  {
   "cell_type": "code",
   "execution_count": 89,
   "metadata": {},
   "outputs": [
    {
     "name": "stdout",
     "output_type": "stream",
     "text": [
      "Epoch 1/1\n",
      "0s - loss: 0.1080\n",
      "Epoch 1/1\n",
      "0s - loss: 0.2422\n",
      "Epoch 1/1\n",
      "0s - loss: 0.1646\n",
      "Epoch 1/1\n",
      "0s - loss: 0.1395\n",
      "Epoch 1/1\n",
      "0s - loss: 0.3080\n"
     ]
    }
   ],
   "source": [
    "# fit model\n",
    "for i in range(5):\n",
    "\tX, y = get_samples()\n",
    "\tmodel.fit(X, y, epochs=1, verbose=2, shuffle=False)"
   ]
  },
  {
   "cell_type": "code",
   "execution_count": 90,
   "metadata": {
    "collapsed": true
   },
   "outputs": [],
   "source": [
    "# generate new shapes from scratch\n",
    "rect = generate_rectangle(model)"
   ]
  },
  {
   "cell_type": "code",
   "execution_count": 91,
   "metadata": {},
   "outputs": [
    {
     "data": {
      "text/plain": [
       "[[0.0, 0.0],\n",
       " [0.28005522, -0.0012327023],\n",
       " [0.4071507, 0.14508438],\n",
       " [0.334615, 0.3150713]]"
      ]
     },
     "execution_count": 91,
     "metadata": {},
     "output_type": "execute_result"
    }
   ],
   "source": [
    "rect"
   ]
  },
  {
   "cell_type": "code",
   "execution_count": 92,
   "metadata": {},
   "outputs": [
    {
     "data": {
      "image/png": "[encoded data removed]",
      "text/plain": [
       "<matplotlib.figure.Figure at 0x7ffa580a1e80>"
      ]
     },
     "metadata": {},
     "output_type": "display_data"
    }
   ],
   "source": [
    "plot_rectangle(rect)"
   ]
  },
  {
   "cell_type": "code",
   "execution_count": null,
   "metadata": {
    "collapsed": true
   },
   "outputs": [],
   "source": []
  },
  {
   "cell_type": "code",
   "execution_count": null,
   "metadata": {
    "collapsed": true
   },
   "outputs": [],
   "source": []
  }
 ],
 "metadata": {
  "kernelspec": {
   "display_name": "Python 3",
   "language": "python",
   "name": "python3"
  },
  "language_info": {
   "codemirror_mode": {
    "name": "ipython",
    "version": 3
   },
   "file_extension": ".py",
   "mimetype": "text/x-python",
   "name": "python",
   "nbconvert_exporter": "python",
   "pygments_lexer": "ipython3",
   "version": "3.6.3"
  }
 },
 "nbformat": 4,
 "nbformat_minor": 2
}
