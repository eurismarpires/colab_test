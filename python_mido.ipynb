{
 "cells": [
  {
   "cell_type": "code",
   "execution_count": 28,
   "metadata": {
    "collapsed": true
   },
   "outputs": [],
   "source": [
    "from mido import MidiFile, Message, MetaMessage, MidiTrack\n",
    "import pandas as pd"
   ]
  },
  {
   "cell_type": "code",
   "execution_count": 2,
   "metadata": {
    "collapsed": true
   },
   "outputs": [],
   "source": [
    "midifile = '/home/eurismar/notebooks/Music_Generator_Demo/Pop_Music_Midi//Blank Space - Verse.midi'"
   ]
  },
  {
   "cell_type": "code",
   "execution_count": 3,
   "metadata": {
    "collapsed": true
   },
   "outputs": [],
   "source": [
    "midi_data = MidiFile(midifile)"
   ]
  },
  {
   "cell_type": "code",
   "execution_count": 4,
   "metadata": {},
   "outputs": [
    {
     "data": {
      "text/plain": [
       "'/home/eurismar/notebooks/Music_Generator_Demo/Pop_Music_Midi//Blank Space - Verse.midi'"
      ]
     },
     "execution_count": 4,
     "metadata": {},
     "output_type": "execute_result"
    }
   ],
   "source": [
    "midi_data.filename"
   ]
  },
  {
   "cell_type": "code",
   "execution_count": 5,
   "metadata": {},
   "outputs": [
    {
     "data": {
      "text/plain": [
       "15.9921875"
      ]
     },
     "execution_count": 5,
     "metadata": {},
     "output_type": "execute_result"
    }
   ],
   "source": [
    "midi_data.length"
   ]
  },
  {
   "cell_type": "code",
   "execution_count": 6,
   "metadata": {},
   "outputs": [
    {
     "data": {
      "text/plain": [
       "<bound method MidiFile.print_tracks of <midi file '/home/eurismar/notebooks/Music_Generator_Demo/Pop_Music_Midi//Blank Space - Verse.midi' type 1, 3 tracks, 382 messages>>"
      ]
     },
     "execution_count": 6,
     "metadata": {},
     "output_type": "execute_result"
    }
   ],
   "source": [
    "midi_data.print_tracks"
   ]
  },
  {
   "cell_type": "code",
   "execution_count": 7,
   "metadata": {},
   "outputs": [
    {
     "data": {
      "text/plain": [
       "128"
      ]
     },
     "execution_count": 7,
     "metadata": {},
     "output_type": "execute_result"
    }
   ],
   "source": [
    "midi_data.ticks_per_beat"
   ]
  },
  {
   "cell_type": "code",
   "execution_count": 8,
   "metadata": {},
   "outputs": [
    {
     "data": {
      "text/plain": [
       "1"
      ]
     },
     "execution_count": 8,
     "metadata": {},
     "output_type": "execute_result"
    }
   ],
   "source": [
    "midi_data.type"
   ]
  },
  {
   "cell_type": "code",
   "execution_count": 10,
   "metadata": {},
   "outputs": [
    {
     "data": {
      "text/plain": [
       "[<midi track '\\x00' 114 messages>,\n",
       " <midi track '\\x00' 198 messages>,\n",
       " <midi track '\\x00' 70 messages>]"
      ]
     },
     "execution_count": 10,
     "metadata": {},
     "output_type": "execute_result"
    }
   ],
   "source": [
    "midi_data.tracks"
   ]
  },
  {
   "cell_type": "code",
   "execution_count": 17,
   "metadata": {},
   "outputs": [],
   "source": [
    "track_0 = midi_data.tracks[0]"
   ]
  },
  {
   "cell_type": "code",
   "execution_count": 46,
   "metadata": {},
   "outputs": [
    {
     "name": "stdout",
     "output_type": "stream",
     "text": [
      "note_on channel=1 note=60 velocity=102 time=128\n",
      "note_off channel=1 note=60 velocity=90 time=31\n",
      "note_on channel=1 note=60 velocity=102 time=1\n",
      "note_off channel=1 note=60 velocity=90 time=31\n",
      "note_on channel=1 note=60 velocity=102 time=65\n",
      "note_off channel=1 note=60 velocity=90 time=31\n",
      "note_on channel=1 note=60 velocity=102 time=1\n",
      "note_off channel=1 note=60 velocity=90 time=31\n",
      "note_on channel=1 note=60 velocity=102 time=65\n",
      "note_off channel=1 note=60 velocity=90 time=31\n",
      "note_on channel=1 note=60 velocity=102 time=1\n",
      "note_off channel=1 note=60 velocity=90 time=31\n",
      "note_on channel=1 note=60 velocity=102 time=65\n",
      "note_off channel=1 note=60 velocity=90 time=126\n",
      "note_on channel=1 note=64 velocity=102 time=2\n",
      "note_off channel=1 note=64 velocity=90 time=31\n",
      "note_on channel=1 note=64 velocity=102 time=1\n",
      "note_off channel=1 note=64 velocity=90 time=63\n",
      "note_on channel=1 note=64 velocity=102 time=1\n",
      "note_off channel=1 note=64 velocity=90 time=63\n",
      "note_on channel=1 note=62 velocity=102 time=1\n",
      "note_off channel=1 note=62 velocity=90 time=63\n",
      "note_on channel=1 note=60 velocity=102 time=1\n",
      "note_off channel=1 note=60 velocity=90 time=31\n",
      "note_on channel=1 note=62 velocity=102 time=1\n",
      "note_off channel=1 note=62 velocity=90 time=31\n",
      "note_on channel=1 note=60 velocity=102 time=1\n",
      "note_off channel=1 note=60 velocity=90 time=31\n",
      "note_on channel=1 note=62 velocity=102 time=1\n",
      "note_off channel=1 note=62 velocity=90 time=63\n",
      "note_on channel=1 note=57 velocity=102 time=1\n",
      "note_off channel=1 note=57 velocity=90 time=63\n",
      "note_on channel=1 note=60 velocity=102 time=65\n",
      "note_off channel=1 note=60 velocity=90 time=31\n",
      "note_on channel=1 note=60 velocity=102 time=1\n",
      "note_off channel=1 note=60 velocity=90 time=31\n",
      "note_on channel=1 note=60 velocity=102 time=65\n",
      "note_off channel=1 note=60 velocity=90 time=31\n",
      "note_on channel=1 note=60 velocity=102 time=1\n",
      "note_off channel=1 note=60 velocity=90 time=31\n",
      "note_on channel=1 note=60 velocity=102 time=65\n",
      "note_off channel=1 note=60 velocity=90 time=31\n",
      "note_on channel=1 note=60 velocity=102 time=1\n",
      "note_off channel=1 note=60 velocity=90 time=31\n",
      "note_on channel=1 note=60 velocity=102 time=65\n",
      "note_off channel=1 note=60 velocity=90 time=126\n",
      "note_on channel=1 note=64 velocity=102 time=2\n",
      "note_off channel=1 note=64 velocity=90 time=31\n",
      "note_on channel=1 note=64 velocity=102 time=1\n",
      "note_off channel=1 note=64 velocity=90 time=63\n",
      "note_on channel=1 note=64 velocity=102 time=1\n",
      "note_off channel=1 note=64 velocity=90 time=95\n",
      "note_on channel=1 note=64 velocity=102 time=1\n",
      "note_off channel=1 note=64 velocity=90 time=31\n",
      "note_on channel=1 note=62 velocity=102 time=1\n",
      "note_off channel=1 note=62 velocity=90 time=63\n",
      "note_on channel=1 note=60 velocity=102 time=1\n",
      "note_off channel=1 note=60 velocity=90 time=63\n",
      "note_on channel=1 note=53 velocity=102 time=33\n",
      "note_off channel=1 note=53 velocity=90 time=63\n",
      "note_on channel=1 note=60 velocity=102 time=1\n",
      "note_off channel=1 note=60 velocity=90 time=63\n",
      "note_on channel=1 note=60 velocity=102 time=1\n",
      "note_off channel=1 note=60 velocity=90 time=63\n",
      "note_on channel=1 note=53 velocity=102 time=65\n",
      "note_off channel=1 note=53 velocity=90 time=31\n",
      "note_on channel=1 note=64 velocity=102 time=1\n",
      "note_off channel=1 note=64 velocity=90 time=31\n",
      "note_on channel=1 note=64 velocity=102 time=1\n",
      "note_off channel=1 note=64 velocity=90 time=31\n",
      "note_on channel=1 note=64 velocity=102 time=1\n",
      "note_off channel=1 note=64 velocity=90 time=126\n",
      "note_on channel=1 note=53 velocity=102 time=34\n",
      "note_off channel=1 note=53 velocity=90 time=63\n",
      "note_on channel=1 note=60 velocity=102 time=1\n",
      "note_off channel=1 note=60 velocity=90 time=63\n",
      "note_on channel=1 note=60 velocity=102 time=1\n",
      "note_off channel=1 note=60 velocity=90 time=63\n",
      "note_on channel=1 note=53 velocity=102 time=33\n",
      "note_off channel=1 note=53 velocity=90 time=31\n",
      "note_on channel=1 note=53 velocity=102 time=1\n",
      "note_off channel=1 note=53 velocity=90 time=31\n",
      "note_on channel=1 note=64 velocity=102 time=1\n",
      "note_off channel=1 note=64 velocity=90 time=31\n",
      "note_on channel=1 note=64 velocity=102 time=1\n",
      "note_off channel=1 note=64 velocity=90 time=31\n",
      "note_on channel=1 note=64 velocity=102 time=1\n",
      "note_off channel=1 note=64 velocity=90 time=126\n",
      "note_on channel=1 note=55 velocity=102 time=34\n",
      "note_off channel=1 note=55 velocity=90 time=63\n",
      "note_on channel=1 note=60 velocity=102 time=1\n",
      "note_off channel=1 note=60 velocity=90 time=63\n",
      "note_on channel=1 note=60 velocity=102 time=1\n",
      "note_off channel=1 note=60 velocity=90 time=63\n",
      "note_on channel=1 note=55 velocity=102 time=65\n",
      "note_off channel=1 note=55 velocity=90 time=31\n",
      "note_on channel=1 note=60 velocity=102 time=1\n",
      "note_off channel=1 note=60 velocity=90 time=31\n",
      "note_on channel=1 note=64 velocity=102 time=1\n",
      "note_off channel=1 note=64 velocity=90 time=126\n",
      "note_on channel=1 note=65 velocity=102 time=2\n",
      "note_off channel=1 note=65 velocity=90 time=31\n",
      "note_on channel=1 note=64 velocity=102 time=1\n",
      "note_off channel=1 note=64 velocity=90 time=31\n",
      "note_on channel=1 note=62 velocity=102 time=1\n",
      "note_off channel=1 note=62 velocity=90 time=253\n",
      "note_on channel=1 note=62 velocity=102 time=67\n",
      "note_off channel=1 note=62 velocity=90 time=63\n"
     ]
    }
   ],
   "source": [
    "track = 0\n",
    "channel = []\n",
    "typ = []\n",
    "note = []\n",
    "velocity = []\n",
    "time = []\n",
    "acum = 0\n",
    "for e in track_0:\n",
    "    if str(e.type) == 'note_on' or str(e.type) == 'note_off':\n",
    "        print(e)\n",
    "        channel.append(e.channel)\n",
    "        typ.append(e.type)\n",
    "        note.append(e.note)\n",
    "        velocity.append(e.velocity)\n",
    "        time.append(e.time)"
   ]
  },
  {
   "cell_type": "code",
   "execution_count": 47,
   "metadata": {},
   "outputs": [
    {
     "data": {
      "text/html": [
       "<div>\n",
       "<style>\n",
       "    .dataframe thead tr:only-child th {\n",
       "        text-align: right;\n",
       "    }\n",
       "\n",
       "    .dataframe thead th {\n",
       "        text-align: left;\n",
       "    }\n",
       "\n",
       "    .dataframe tbody tr th {\n",
       "        vertical-align: top;\n",
       "    }\n",
       "</style>\n",
       "<table border=\"1\" class=\"dataframe\">\n",
       "  <thead>\n",
       "    <tr style=\"text-align: right;\">\n",
       "      <th></th>\n",
       "      <th>channel</th>\n",
       "      <th>note</th>\n",
       "      <th>time</th>\n",
       "      <th>typ</th>\n",
       "      <th>velocity</th>\n",
       "    </tr>\n",
       "  </thead>\n",
       "  <tbody>\n",
       "    <tr>\n",
       "      <th>0</th>\n",
       "      <td>1</td>\n",
       "      <td>60</td>\n",
       "      <td>128</td>\n",
       "      <td>note_on</td>\n",
       "      <td>102</td>\n",
       "    </tr>\n",
       "    <tr>\n",
       "      <th>1</th>\n",
       "      <td>1</td>\n",
       "      <td>60</td>\n",
       "      <td>31</td>\n",
       "      <td>note_off</td>\n",
       "      <td>90</td>\n",
       "    </tr>\n",
       "    <tr>\n",
       "      <th>2</th>\n",
       "      <td>1</td>\n",
       "      <td>60</td>\n",
       "      <td>1</td>\n",
       "      <td>note_on</td>\n",
       "      <td>102</td>\n",
       "    </tr>\n",
       "    <tr>\n",
       "      <th>3</th>\n",
       "      <td>1</td>\n",
       "      <td>60</td>\n",
       "      <td>31</td>\n",
       "      <td>note_off</td>\n",
       "      <td>90</td>\n",
       "    </tr>\n",
       "    <tr>\n",
       "      <th>4</th>\n",
       "      <td>1</td>\n",
       "      <td>60</td>\n",
       "      <td>65</td>\n",
       "      <td>note_on</td>\n",
       "      <td>102</td>\n",
       "    </tr>\n",
       "    <tr>\n",
       "      <th>5</th>\n",
       "      <td>1</td>\n",
       "      <td>60</td>\n",
       "      <td>31</td>\n",
       "      <td>note_off</td>\n",
       "      <td>90</td>\n",
       "    </tr>\n",
       "    <tr>\n",
       "      <th>6</th>\n",
       "      <td>1</td>\n",
       "      <td>60</td>\n",
       "      <td>1</td>\n",
       "      <td>note_on</td>\n",
       "      <td>102</td>\n",
       "    </tr>\n",
       "    <tr>\n",
       "      <th>7</th>\n",
       "      <td>1</td>\n",
       "      <td>60</td>\n",
       "      <td>31</td>\n",
       "      <td>note_off</td>\n",
       "      <td>90</td>\n",
       "    </tr>\n",
       "    <tr>\n",
       "      <th>8</th>\n",
       "      <td>1</td>\n",
       "      <td>60</td>\n",
       "      <td>65</td>\n",
       "      <td>note_on</td>\n",
       "      <td>102</td>\n",
       "    </tr>\n",
       "    <tr>\n",
       "      <th>9</th>\n",
       "      <td>1</td>\n",
       "      <td>60</td>\n",
       "      <td>31</td>\n",
       "      <td>note_off</td>\n",
       "      <td>90</td>\n",
       "    </tr>\n",
       "  </tbody>\n",
       "</table>\n",
       "</div>"
      ],
      "text/plain": [
       "   channel  note  time       typ  velocity\n",
       "0        1    60   128   note_on       102\n",
       "1        1    60    31  note_off        90\n",
       "2        1    60     1   note_on       102\n",
       "3        1    60    31  note_off        90\n",
       "4        1    60    65   note_on       102\n",
       "5        1    60    31  note_off        90\n",
       "6        1    60     1   note_on       102\n",
       "7        1    60    31  note_off        90\n",
       "8        1    60    65   note_on       102\n",
       "9        1    60    31  note_off        90"
      ]
     },
     "execution_count": 47,
     "metadata": {},
     "output_type": "execute_result"
    }
   ],
   "source": [
    "df = pd.DataFrame(\n",
    "    {'channel':channel,\n",
    "     'typ':typ,\n",
    "     'note':note,\n",
    "     'velocity':velocity,\n",
    "     'time':time\n",
    "    }\n",
    ")\n",
    "df.head(10)     "
   ]
  }
 ],
 "metadata": {
  "kernelspec": {
   "display_name": "Python 3",
   "language": "python",
   "name": "python3"
  },
  "language_info": {
   "codemirror_mode": {
    "name": "ipython",
    "version": 3
   },
   "file_extension": ".py",
   "mimetype": "text/x-python",
   "name": "python",
   "nbconvert_exporter": "python",
   "pygments_lexer": "ipython3",
   "version": "3.6.3"
  }
 },
 "nbformat": 4,
 "nbformat_minor": 2
}
