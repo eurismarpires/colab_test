{
  "nbformat": 4,
  "nbformat_minor": 0,
  "metadata": {
    "colab": {
      "name": "music_lstm.ipynb",
      "version": "0.3.2",
      "provenance": [],
      "collapsed_sections": []
    },
    "kernelspec": {
      "name": "python3",
      "display_name": "Python 3"
    },
    "accelerator": "GPU"
  },
  "cells": [
    {
      "cell_type": "markdown",
      "metadata": {
        "id": "view-in-github",
        "colab_type": "text"
      },
      "source": [
        "[View in Colaboratory](https://colab.research.google.com/github/eurismarpires/colab_test/blob/master/music_lstm.ipynb)"
      ]
    },
    {
      "metadata": {
        "id": "MKSa_sPsJspC",
        "colab_type": "code",
        "colab": {
          "base_uri": "https://localhost:8080/",
          "height": 34
        },
        "outputId": "966c1648-27b0-4f99-b684-c192c60bfcfd"
      },
      "cell_type": "code",
      "source": [
        "!ls"
      ],
      "execution_count": 1,
      "outputs": [
        {
          "output_type": "stream",
          "text": [
            "datalab\r\n"
          ],
          "name": "stdout"
        }
      ]
    },
    {
      "metadata": {
        "id": "oOxrQzNDLV9n",
        "colab_type": "code",
        "colab": {
          "base_uri": "https://localhost:8080/",
          "height": 102
        },
        "outputId": "b1e7f8fa-ef5e-46d3-fbb3-00f0be69170f"
      },
      "cell_type": "code",
      "source": [
        "!pip install mido"
      ],
      "execution_count": 2,
      "outputs": [
        {
          "output_type": "stream",
          "text": [
            "Collecting mido\n",
            "\u001b[?25l  Downloading https://files.pythonhosted.org/packages/70/37/96da8908dd6b04fec9b3d3931fa38c43d36b6942f206d9586efede105e7d/mido-1.2.8-py2.py3-none-any.whl (70kB)\n",
            "\u001b[K    100% |████████████████████████████████| 71kB 2.4MB/s \n",
            "\u001b[?25hInstalling collected packages: mido\n",
            "Successfully installed mido-1.2.8\n"
          ],
          "name": "stdout"
        }
      ]
    },
    {
      "metadata": {
        "id": "JxB9ZZY9Kcb8",
        "colab_type": "code",
        "colab": {
          "base_uri": "https://localhost:8080/",
          "height": 102
        },
        "outputId": "afa8be49-a721-474d-db41-330865fafdf9"
      },
      "cell_type": "code",
      "source": [
        "!git clone https://github.com/llSourcell/Music_Generator_Demo.git"
      ],
      "execution_count": 3,
      "outputs": [
        {
          "output_type": "stream",
          "text": [
            "Cloning into 'Music_Generator_Demo'...\n",
            "remote: Counting objects: 218, done.\u001b[K\n",
            "remote: Total 218 (delta 0), reused 0 (delta 0), pack-reused 218\u001b[K\n",
            "Receiving objects: 100% (218/218), 66.15 KiB | 3.15 MiB/s, done.\n",
            "Resolving deltas: 100% (40/40), done.\n"
          ],
          "name": "stdout"
        }
      ]
    },
    {
      "metadata": {
        "id": "aT7ChqkUKmV-",
        "colab_type": "code",
        "colab": {
          "base_uri": "https://localhost:8080/",
          "height": 2159
        },
        "outputId": "f64e34ba-4758-4761-9a36-3d8d29258d31"
      },
      "cell_type": "code",
      "source": [
        "!ls Music_Generator_Demo/Pop_Music_Midi/"
      ],
      "execution_count": 4,
      "outputs": [
        {
          "output_type": "stream",
          "text": [
            "All The Small Things - Chorus.midi\r\n",
            "All The Small Things - Verse.midi\r\n",
            "Around The World - Chorus.midi\r\n",
            "Around The World - Verse.midi\r\n",
            "Baby I'm Yours - Chorus.midi\r\n",
            "Baby One More Time - Chorus.midi\r\n",
            "Baby One More Time - Verse.midi\r\n",
            "Barbie Girl - Chorus.midi\r\n",
            "Barbie Girl - Verse.midi\r\n",
            "Beautiful Life - Chorus.midi\r\n",
            "Beautiful Life - Pre Chorus.midi\r\n",
            "Beautiful Life - Verse.midi\r\n",
            "Best Day Of My Life - Chorus.midi\r\n",
            "Blank Space - Chorus.midi\r\n",
            "Blank Space - Pre Chorus.midi\r\n",
            "Blank Space - Verse.midi\r\n",
            "California Gurls - Chorus.midi\r\n",
            "California Gurls - Pre Chorus.midi\r\n",
            "California Gurls - Verse.midi\r\n",
            "Call Me Maybe - Chorus.midi\r\n",
            "Can You Feel the Love Tonight - Chorus.midi\r\n",
            "Can You Feel the Love Tonight - Verse.midi\r\n",
            "Chasing Pavements - Chorus.midi\r\n",
            "Clocks - Intro.midi\r\n",
            "Clocks - Verse.midi\r\n",
            "Dancing Queen - Chorus.midi\r\n",
            "Dancing Queen - Verse.midi\r\n",
            "Dark Horse - Chorus.midi\r\n",
            "Dark Horse - Verse.midi\r\n",
            "Die Young - Chorus.midi\r\n",
            "Die Young - Verse.midi\r\n",
            "Don't Trust Me - Chorus.midi\r\n",
            "Everybody - Chorus.midi\r\n",
            "Every Time We Touch - Chorus.midi\r\n",
            "Every Time We Touch - Verse.midi\r\n",
            "Ex's And Oh's - Chorus.midi\r\n",
            "Feel So Close - Chorus.midi\r\n",
            "Feel So Close - Verse.midi\r\n",
            "Fix You - Chorus.midi\r\n",
            "Fix You - Verse.midi\r\n",
            "Genie In A Bottle - Chorus.midi\r\n",
            "Genie in a Bottle - Verse.midi\r\n",
            "Girl On Fire - Bridge.midi\r\n",
            "Girl On Fire - Chorus.midi\r\n",
            "Girl On Fire - Pre Chorus.midi\r\n",
            "Girl On Fire - Verse.midi\r\n",
            "Hot N Cold - Bridge.midi\r\n",
            "Hot N Cold - Chorus.midi\r\n",
            "Hot N Cold - Verse.midi\r\n",
            "How Deep Is Your Love - Chorus.midi\r\n",
            "I Gotta Feeling - Chorus.midi\r\n",
            "I Kissed A Girl - Bridge.midi\r\n",
            "I Kissed A Girl - Chorus.midi\r\n",
            "I Kissed A Girl - Verse.midi\r\n",
            "I Miss You - Chorus.midi\r\n",
            "I Miss You - Verse.midi\r\n",
            "I Need Your Love - Chorus.midi\r\n",
            "I Need Your Love - Verse.midi\r\n",
            "Irreplaceable - Chorus.midi\r\n",
            "I Want It That Way - Chorus.midi\r\n",
            "Let's Dance - Chorus.midi\r\n",
            "Let's Go - Verse.midi\r\n",
            "Locked Out Of Heaven - Chorus.midi\r\n",
            "Locked Out Of Heaven - Pre Chorus.midi\r\n",
            "Locked Out Of Heaven - Verse.midi\r\n",
            "Love Me Harder ft The Weeknd - Chorus.midi\r\n",
            "Love Me Harder ft The Weeknd - Pre Chorus.midi\r\n",
            "Love Me Harder ft The Weeknd - Verse.midi\r\n",
            "Love Story - Chorus.midi\r\n",
            "Love Story - Verse.midi\r\n",
            "Mr Saxobeat - Verse.midi\r\n",
            "Outside feat Ellie Goulding - Chorus.midi\r\n",
            "Piano man - Bridge.midi\r\n",
            "Piano Man - Chorus.midi\r\n",
            "Piano Man - Verse.midi\r\n",
            "Pompeii - Bridge.midi\r\n",
            "Pompeii - Chorus.midi\r\n",
            "Pompeii - Intro.midi\r\n",
            "Pompeii - Verse.midi\r\n",
            "Put Your Records On - Chorus.midi\r\n",
            "Put Your Records On - Verse.midi\r\n",
            "Roar - Chorus.midi\r\n",
            "Roar - Pre Chorus.midi\r\n",
            "Roar - Verse.midi\r\n",
            "Rock That Body - Chorus.midi\r\n",
            "Rolling In The Deep - Chorus.midi\r\n",
            "Rolling In The Deep - Pre Chorus.midi\r\n",
            "Say My Name - Chorus.midi\r\n",
            "Say My Name - Pre Chorus.midi\r\n",
            "Say My Name - Verse.midi\r\n",
            "Shake It Off - Chorus.midi\r\n",
            "Shake It Off - Pre Chorus.midi\r\n",
            "Shake It Off - Verse.midi\r\n",
            "Sk8er Boi - Verse.midi\r\n",
            "Someone Like You - Chorus.midi\r\n",
            "Someone Like You - Verse.midi\r\n",
            "Summer - Chorus.midi\r\n",
            "Sweet Nothing - Chorus.midi\r\n",
            "Sweet Nothing - Verse.midi\r\n",
            "The Great Escape - Verse.midi\r\n",
            "The Scientist - Intro.midi\r\n",
            "The Scientist - Verse.midi\r\n",
            "Thinking Out Loud - Chorus.midi\r\n",
            "Timber - Chorus.midi\r\n",
            "Timber - Verse.midi\r\n",
            "Tiny Dancer - Chorus.midi\r\n",
            "Tiny Dancer - Pre Chorus.midi\r\n",
            "Tiny Dancer - Verse.midi\r\n",
            "Titanium feat Sia - Chorus.midi\r\n",
            "Titanium feat Sia - Verse.midi\r\n",
            "Toxic - Chorus.midi\r\n",
            "Toxic - Verse.midi\r\n",
            "Treasure - Chorus.midi\r\n",
            "Treasure - Verse.midi\r\n",
            "Viva La Vida - Verse.midi\r\n",
            "What A Girl Wants - Chorus.midi\r\n",
            "When I Was Your Man - Chorus.midi\r\n",
            "When I Was Your Man - Pre Chorus.midi\r\n",
            "When I Was Your Man - Verse.midi\r\n",
            "When Love Takes Over ft Kelly Rowland - Chorus.midi\r\n",
            "White Flag - Chorus.midi\r\n",
            "White Flag - Verse.midi\r\n",
            "You Belong With Me - Chorus.midi\r\n",
            "You Belong With Me - Pre Chorus.midi\r\n",
            "You Belong With Me - Verse.midi\r\n",
            "You Drive Me Crazy - Chorus.midi\r\n"
          ],
          "name": "stdout"
        }
      ]
    },
    {
      "metadata": {
        "id": "dpRW-tgtLw7N",
        "colab_type": "text"
      },
      "cell_type": "markdown",
      "source": [
        "**Preparação dos Dados**"
      ]
    },
    {
      "metadata": {
        "id": "UhcXh4EnK0Lq",
        "colab_type": "code",
        "colab": {}
      },
      "cell_type": "code",
      "source": [
        "from mido import MidiFile, Message, MetaMessage, MidiTrack\n",
        "from math import ceil\n",
        "import os\n",
        "import numpy as np\n",
        "from sklearn.utils import shuffle\n",
        "\n",
        "\n",
        "#Global parameters\n",
        "time_per_time_slice = 0.02 #0.02 #200ms #time-unit for each column in the piano roll\n",
        "highest_note = 81 #81 # A_6\n",
        "lowest_note = 33  #33 # A_2\n",
        "input_dim = highest_note - lowest_note + 1 #highest_note - lowest_note + 1\n",
        "output_dim = highest_note - lowest_note + 1 #highest_note - lowest_note + 1\n",
        "MICROSECONDS_PER_MINUTE = 60000000 #60000000"
      ],
      "execution_count": 0,
      "outputs": []
    },
    {
      "metadata": {
        "id": "L1EeViUQLTJi",
        "colab_type": "code",
        "colab": {}
      },
      "cell_type": "code",
      "source": [
        "def midiToPianoroll(filepath, debug = False):\n",
        "\tmidi_data = MidiFile(filepath)\n",
        "\tresolution = midi_data.ticks_per_beat\n",
        "\tif debug:\n",
        "\t\tprint (\"resolution\", resolution)\n",
        "\tset_tempo_events = [x for t in midi_data.tracks for x in t if str(x.type) == 'set_tempo']\n",
        "\t\n",
        "\ttempo = MICROSECONDS_PER_MINUTE/set_tempo_events[0].tempo\n",
        "\tif debug:\n",
        "\t\tprint (\"tempo\", tempo)\n",
        "\tticks_per_time_slice = 1.0 * (resolution * tempo * time_per_time_slice)/60 \n",
        "\tif debug:\n",
        "\t\tprint (\"ticks_per_time_slice\", ticks_per_time_slice)\n",
        "\t\n",
        "\t#Get maximum ticks across all tracks\n",
        "\ttotal_ticks =0\n",
        "\tfor t in midi_data.tracks:\n",
        "        #since ticks represent delta times we need a cumulative sum to get the total ticks in that track\n",
        "\t\tsum_ticks = 0\n",
        "\t\tfor e in t:\n",
        "\t\t\tif str(e.type) == 'note_on' or str(e.type) == 'note_off' or str(e.type) == 'end_of_track':\n",
        "\t\t\t\tsum_ticks += e.time\n",
        "\t\t\t\t\n",
        "\t\tif sum_ticks > total_ticks:\n",
        "\t\t\ttotal_ticks = sum_ticks\n",
        "\tif debug:\n",
        "\t\tprint (\"total_ticks\", total_ticks)\n",
        "\n",
        "\ttime_slices = int(ceil(total_ticks / ticks_per_time_slice))\n",
        "\tif debug:\n",
        "\t\tprint (\"time_slices\", time_slices)\n",
        "\n",
        "\tpiano_roll = np.zeros((input_dim, time_slices), dtype =int)\n",
        "\n",
        "\tnote_states = {}\n",
        "\tfor track in midi_data.tracks:\n",
        "\t\ttotal_ticks = 0\n",
        "\t\tfor event in track:\n",
        "\t\t\tif str(event.type) == 'note_on' and event.velocity > 0:\n",
        "\t\t\t\ttotal_ticks += event.time\n",
        "\t\t\t\ttime_slice_idx = int(total_ticks / ticks_per_time_slice )\n",
        "\n",
        "\t\t\t\tif event.note <= highest_note and event.note >= lowest_note: \n",
        "\t\t\t\t\tnote_idx = event.note - lowest_note\n",
        "\t\t\t\t\tpiano_roll[note_idx][time_slice_idx] = 1\n",
        "\t\t\t\t\tnote_states[note_idx] = time_slice_idx\n",
        "\n",
        "\t\t\telif str(event.type) == 'note_off' or ( str(event.type) == 'note_on' and event.velocity == 0 ):\n",
        "\t\t\t\tnote_idx = event.note - lowest_note\n",
        "\t\t\t\ttotal_ticks += event.time\n",
        "\t\t\t\ttime_slice_idx = int(total_ticks /ticks_per_time_slice )\n",
        "\n",
        "\t\t\t\tif note_idx in note_states:\t\n",
        "\t\t\t\t\tlast_time_slice_index = note_states[note_idx]\n",
        "\t\t\t\t\tpiano_roll[note_idx][last_time_slice_index:time_slice_idx] = 1\n",
        "\t\t\t\t\tdel note_states[note_idx]\n",
        "\treturn piano_roll.T"
      ],
      "execution_count": 0,
      "outputs": []
    },
    {
      "metadata": {
        "id": "TriiL6C2L17V",
        "colab_type": "code",
        "colab": {}
      },
      "cell_type": "code",
      "source": [
        "#preprocess data directory\n",
        "def get_data(data_dir):\n",
        "\tpianoroll_data = []\n",
        "\tfor file in os.listdir(data_dir):\n",
        "\t\tfilepath = data_dir + \"/\" + file\n",
        "\t\tpiano_roll = midiToPianoroll(filepath)\n",
        "\t\tpianoroll_data.append(piano_roll)\n",
        "\n",
        "\treturn pianoroll_data"
      ],
      "execution_count": 0,
      "outputs": []
    },
    {
      "metadata": {
        "id": "SavPMmaEL-Vh",
        "colab_type": "code",
        "colab": {}
      },
      "cell_type": "code",
      "source": [
        "dataset_folder = 'Music_Generator_Demo/Pop_Music_Midi/'\n",
        "pianoroll_data = get_data(dataset_folder)"
      ],
      "execution_count": 0,
      "outputs": []
    },
    {
      "metadata": {
        "id": "BoYHYnUhMMHD",
        "colab_type": "code",
        "colab": {
          "base_uri": "https://localhost:8080/",
          "height": 34
        },
        "outputId": "498f0ac2-066b-4675-c449-f460bc630b26"
      },
      "cell_type": "code",
      "source": [
        "len(pianoroll_data)"
      ],
      "execution_count": 9,
      "outputs": [
        {
          "output_type": "execute_result",
          "data": {
            "text/plain": [
              "126"
            ]
          },
          "metadata": {
            "tags": []
          },
          "execution_count": 9
        }
      ]
    },
    {
      "metadata": {
        "id": "JhvfuyFIMPfV",
        "colab_type": "code",
        "colab": {}
      },
      "cell_type": "code",
      "source": [
        "def createSeqNetInputs(pianoroll_data, x_seq_length, y_seq_length):\n",
        "\tx = []\n",
        "\ty = []\n",
        "\n",
        "\tfor i,piano_roll in enumerate(pianoroll_data):\n",
        "\t\tprint (\"piano_roll.shape\", piano_roll.shape)\n",
        "\t\t\n",
        "\t\tpos = 0\n",
        "\t\twhile pos + x_seq_length + y_seq_length < piano_roll.shape[0]:\n",
        "\t\t\tx.append(piano_roll[pos:pos + x_seq_length])\n",
        "\t\t\ty.append(piano_roll [pos+ x_seq_length: pos + x_seq_length + y_seq_length])\n",
        "\t\t\tpos += x_seq_length\n",
        "\n",
        "\tX = np.array(x)\n",
        "\tY = np.array(y)\n",
        "\tprint (\"x shape\", X.shape)\n",
        "\tprint (\"y shape\", Y.shape)\n",
        "\n",
        "\tx_1, y_1 = shuffle(X,Y)\n",
        "\n",
        "\treturn x_1, y_1"
      ],
      "execution_count": 0,
      "outputs": []
    },
    {
      "metadata": {
        "id": "tBr6sL5pMrek",
        "colab_type": "code",
        "colab": {}
      },
      "cell_type": "code",
      "source": [
        "x_seq_length = 50\n",
        "y_seq_length = 50 "
      ],
      "execution_count": 0,
      "outputs": []
    },
    {
      "metadata": {
        "id": "-RhymataMaMH",
        "colab_type": "code",
        "colab": {
          "base_uri": "https://localhost:8080/",
          "height": 2193
        },
        "outputId": "7f8d26e6-38ed-42ae-fc81-4302be748cfe"
      },
      "cell_type": "code",
      "source": [
        "input_data, target_data = createSeqNetInputs(pianoroll_data, x_seq_length, y_seq_length)\n",
        "input_data = input_data.astype(np.bool)\n",
        "target_data = target_data.astype(np.bool)"
      ],
      "execution_count": 12,
      "outputs": [
        {
          "output_type": "stream",
          "text": [
            "piano_roll.shape (1600, 49)\n",
            "piano_roll.shape (800, 49)\n",
            "piano_roll.shape (400, 49)\n",
            "piano_roll.shape (800, 49)\n",
            "piano_roll.shape (1399, 49)\n",
            "piano_roll.shape (1150, 49)\n",
            "piano_roll.shape (1100, 49)\n",
            "piano_roll.shape (1200, 49)\n",
            "piano_roll.shape (1600, 49)\n",
            "piano_roll.shape (800, 49)\n",
            "piano_roll.shape (800, 49)\n",
            "piano_roll.shape (800, 49)\n",
            "piano_roll.shape (400, 49)\n",
            "piano_roll.shape (900, 49)\n",
            "piano_roll.shape (775, 49)\n",
            "piano_roll.shape (800, 49)\n",
            "piano_roll.shape (800, 49)\n",
            "piano_roll.shape (800, 49)\n",
            "piano_roll.shape (2000, 49)\n",
            "piano_roll.shape (1600, 49)\n",
            "piano_roll.shape (798, 49)\n",
            "piano_roll.shape (2400, 49)\n",
            "piano_roll.shape (799, 49)\n",
            "piano_roll.shape (800, 49)\n",
            "piano_roll.shape (800, 49)\n",
            "piano_roll.shape (400, 49)\n",
            "piano_roll.shape (1000, 49)\n",
            "piano_roll.shape (600, 49)\n",
            "piano_roll.shape (2000, 49)\n",
            "piano_roll.shape (800, 49)\n",
            "piano_roll.shape (400, 49)\n",
            "piano_roll.shape (400, 49)\n",
            "piano_roll.shape (1600, 49)\n",
            "piano_roll.shape (3200, 49)\n",
            "piano_roll.shape (800, 49)\n",
            "piano_roll.shape (1600, 49)\n",
            "piano_roll.shape (800, 49)\n",
            "piano_roll.shape (900, 49)\n",
            "piano_roll.shape (1300, 49)\n",
            "piano_roll.shape (400, 49)\n",
            "piano_roll.shape (800, 49)\n",
            "piano_roll.shape (798, 49)\n",
            "piano_roll.shape (400, 49)\n",
            "piano_roll.shape (800, 49)\n",
            "piano_roll.shape (1600, 49)\n",
            "piano_roll.shape (800, 49)\n",
            "piano_roll.shape (793, 49)\n",
            "piano_roll.shape (799, 49)\n",
            "piano_roll.shape (800, 49)\n",
            "piano_roll.shape (1600, 49)\n",
            "piano_roll.shape (800, 49)\n",
            "piano_roll.shape (800, 49)\n",
            "piano_roll.shape (900, 49)\n",
            "piano_roll.shape (1199, 49)\n",
            "piano_roll.shape (825, 49)\n",
            "piano_roll.shape (800, 49)\n",
            "piano_roll.shape (1600, 49)\n",
            "piano_roll.shape (800, 49)\n",
            "piano_roll.shape (800, 49)\n",
            "piano_roll.shape (1600, 49)\n",
            "piano_roll.shape (800, 49)\n",
            "piano_roll.shape (900, 49)\n",
            "piano_roll.shape (1600, 49)\n",
            "piano_roll.shape (800, 49)\n",
            "piano_roll.shape (1188, 49)\n",
            "piano_roll.shape (900, 49)\n",
            "piano_roll.shape (1700, 49)\n",
            "piano_roll.shape (1600, 49)\n",
            "piano_roll.shape (900, 49)\n",
            "piano_roll.shape (1200, 49)\n",
            "piano_roll.shape (800, 49)\n",
            "piano_roll.shape (1600, 49)\n",
            "piano_roll.shape (800, 49)\n",
            "piano_roll.shape (1500, 49)\n",
            "piano_roll.shape (800, 49)\n",
            "piano_roll.shape (2000, 49)\n",
            "piano_roll.shape (900, 49)\n",
            "piano_roll.shape (400, 49)\n",
            "piano_roll.shape (1600, 49)\n",
            "piano_roll.shape (1600, 49)\n",
            "piano_roll.shape (1200, 49)\n",
            "piano_roll.shape (463, 49)\n",
            "piano_roll.shape (1600, 49)\n",
            "piano_roll.shape (800, 49)\n",
            "piano_roll.shape (3200, 49)\n",
            "piano_roll.shape (763, 49)\n",
            "piano_roll.shape (800, 49)\n",
            "piano_roll.shape (1600, 49)\n",
            "piano_roll.shape (1200, 49)\n",
            "piano_roll.shape (800, 49)\n",
            "piano_roll.shape (400, 49)\n",
            "piano_roll.shape (2300, 49)\n",
            "piano_roll.shape (1600, 49)\n",
            "piano_roll.shape (1599, 49)\n",
            "piano_roll.shape (1600, 49)\n",
            "piano_roll.shape (899, 49)\n",
            "piano_roll.shape (800, 49)\n",
            "piano_roll.shape (800, 49)\n",
            "piano_roll.shape (400, 49)\n",
            "piano_roll.shape (1800, 49)\n",
            "piano_roll.shape (800, 49)\n",
            "piano_roll.shape (1200, 49)\n",
            "piano_roll.shape (1200, 49)\n",
            "piano_roll.shape (800, 49)\n",
            "piano_roll.shape (1200, 49)\n",
            "piano_roll.shape (1000, 49)\n",
            "piano_roll.shape (1200, 49)\n",
            "piano_roll.shape (1599, 49)\n",
            "piano_roll.shape (1300, 49)\n",
            "piano_roll.shape (900, 49)\n",
            "piano_roll.shape (1600, 49)\n",
            "piano_roll.shape (800, 49)\n",
            "piano_roll.shape (500, 49)\n",
            "piano_roll.shape (400, 49)\n",
            "piano_roll.shape (1600, 49)\n",
            "piano_roll.shape (800, 49)\n",
            "piano_roll.shape (900, 49)\n",
            "piano_roll.shape (800, 49)\n",
            "piano_roll.shape (1700, 49)\n",
            "piano_roll.shape (800, 49)\n",
            "piano_roll.shape (800, 49)\n",
            "piano_roll.shape (900, 49)\n",
            "piano_roll.shape (1600, 49)\n",
            "piano_roll.shape (1800, 49)\n",
            "piano_roll.shape (400, 49)\n",
            "piano_roll.shape (800, 49)\n",
            "x shape (2496, 50, 49)\n",
            "y shape (2496, 50, 49)\n"
          ],
          "name": "stdout"
        }
      ]
    },
    {
      "metadata": {
        "id": "2GRKR0-wMgl5",
        "colab_type": "code",
        "colab": {
          "base_uri": "https://localhost:8080/",
          "height": 34
        },
        "outputId": "4cca4e31-bfbb-48e2-e1d7-6334525fb2d2"
      },
      "cell_type": "code",
      "source": [
        "input_data.shape"
      ],
      "execution_count": 13,
      "outputs": [
        {
          "output_type": "execute_result",
          "data": {
            "text/plain": [
              "(2496, 50, 49)"
            ]
          },
          "metadata": {
            "tags": []
          },
          "execution_count": 13
        }
      ]
    },
    {
      "metadata": {
        "id": "rWFdrSK6M9F8",
        "colab_type": "code",
        "colab": {
          "base_uri": "https://localhost:8080/",
          "height": 34
        },
        "outputId": "c77c65c4-6ece-4d43-8912-ae82367f3b4b"
      },
      "cell_type": "code",
      "source": [
        "target_data.shape"
      ],
      "execution_count": 14,
      "outputs": [
        {
          "output_type": "execute_result",
          "data": {
            "text/plain": [
              "(2496, 50, 49)"
            ]
          },
          "metadata": {
            "tags": []
          },
          "execution_count": 14
        }
      ]
    },
    {
      "metadata": {
        "id": "C5fkOregNDTj",
        "colab_type": "text"
      },
      "cell_type": "markdown",
      "source": [
        "**Modelo**"
      ]
    },
    {
      "metadata": {
        "id": "bmtr4Kc0NUGu",
        "colab_type": "code",
        "colab": {
          "base_uri": "https://localhost:8080/",
          "height": 34
        },
        "outputId": "9296ca7b-b4de-4d3a-e2d2-c86a875b741f"
      },
      "cell_type": "code",
      "source": [
        "from keras.models import Sequential\n",
        "from keras.layers import LSTM,BatchNormalization,Dropout,RepeatVector,TimeDistributed, Dense\n",
        "from keras.optimizers import Adam\n",
        "from keras.callbacks import EarlyStopping, History\n",
        "from keras.models import model_from_json"
      ],
      "execution_count": 15,
      "outputs": [
        {
          "output_type": "stream",
          "text": [
            "Using TensorFlow backend.\n"
          ],
          "name": "stderr"
        }
      ]
    },
    {
      "metadata": {
        "id": "Pes6_cVxOVRL",
        "colab_type": "code",
        "colab": {}
      },
      "cell_type": "code",
      "source": [
        "num_units =64\n",
        "batch_size = 64\n",
        "num_epochs = 100"
      ],
      "execution_count": 0,
      "outputs": []
    },
    {
      "metadata": {
        "id": "VKZ5JcxJNFQJ",
        "colab_type": "code",
        "colab": {
          "base_uri": "https://localhost:8080/",
          "height": 598
        },
        "outputId": "f949dbd6-857f-4908-95e1-109e242f1882"
      },
      "cell_type": "code",
      "source": [
        "model = Sequential()\n",
        "model.add(LSTM(input_shape = (None,input_dim), output_dim = num_units, activation= 'tanh', return_sequences = True ))\n",
        "model.add(BatchNormalization())\n",
        "model.add(Dropout(0.3))\n",
        "model.add(LSTM(num_units, activation= 'tanh'))\n",
        "\n",
        "\t#decoder\n",
        "model.add(RepeatVector(y_seq_length))\n",
        "num_layers= 2\n",
        "for _ in range(num_layers):\n",
        "\tmodel.add(LSTM(num_units, activation= 'tanh', return_sequences = True))\n",
        "\tmodel.add(BatchNormalization())\n",
        "\tmodel.add(Dropout(0.3))\n",
        "\n",
        "model.add(TimeDistributed(Dense(output_dim, activation= 'softmax')))\n",
        "model.summary()"
      ],
      "execution_count": 17,
      "outputs": [
        {
          "output_type": "stream",
          "text": [
            "/usr/local/lib/python3.6/dist-packages/ipykernel_launcher.py:2: UserWarning: Update your `LSTM` call to the Keras 2 API: `LSTM(input_shape=(None, 49), activation=\"tanh\", return_sequences=True, units=64)`\n",
            "  \n"
          ],
          "name": "stderr"
        },
        {
          "output_type": "stream",
          "text": [
            "_________________________________________________________________\n",
            "Layer (type)                 Output Shape              Param #   \n",
            "=================================================================\n",
            "lstm_1 (LSTM)                (None, None, 64)          29184     \n",
            "_________________________________________________________________\n",
            "batch_normalization_1 (Batch (None, None, 64)          256       \n",
            "_________________________________________________________________\n",
            "dropout_1 (Dropout)          (None, None, 64)          0         \n",
            "_________________________________________________________________\n",
            "lstm_2 (LSTM)                (None, 64)                33024     \n",
            "_________________________________________________________________\n",
            "repeat_vector_1 (RepeatVecto (None, 50, 64)            0         \n",
            "_________________________________________________________________\n",
            "lstm_3 (LSTM)                (None, 50, 64)            33024     \n",
            "_________________________________________________________________\n",
            "batch_normalization_2 (Batch (None, 50, 64)            256       \n",
            "_________________________________________________________________\n",
            "dropout_2 (Dropout)          (None, 50, 64)            0         \n",
            "_________________________________________________________________\n",
            "lstm_4 (LSTM)                (None, 50, 64)            33024     \n",
            "_________________________________________________________________\n",
            "batch_normalization_3 (Batch (None, 50, 64)            256       \n",
            "_________________________________________________________________\n",
            "dropout_3 (Dropout)          (None, 50, 64)            0         \n",
            "_________________________________________________________________\n",
            "time_distributed_1 (TimeDist (None, 50, 49)            3185      \n",
            "=================================================================\n",
            "Total params: 132,209\n",
            "Trainable params: 131,825\n",
            "Non-trainable params: 384\n",
            "_________________________________________________________________\n"
          ],
          "name": "stdout"
        }
      ]
    },
    {
      "metadata": {
        "id": "twoI8lAtPMv1",
        "colab_type": "code",
        "colab": {}
      },
      "cell_type": "code",
      "source": [
        "loss_function = 'categorical_crossentropy' #'categorical_crossentropy'\n",
        "optimizer = Adam(lr=0.0001) #Adam() #lr=0.0001"
      ],
      "execution_count": 0,
      "outputs": []
    },
    {
      "metadata": {
        "id": "seA7lpTNOR6c",
        "colab_type": "code",
        "colab": {}
      },
      "cell_type": "code",
      "source": [
        "model.compile(loss=loss_function, optimizer = optimizer)"
      ],
      "execution_count": 0,
      "outputs": []
    },
    {
      "metadata": {
        "id": "aBDQYFGLOqJe",
        "colab_type": "code",
        "colab": {}
      },
      "cell_type": "code",
      "source": [
        "earlystop = EarlyStopping(monitor='loss', patience= 50, min_delta = 0.01 , verbose=0, mode= 'auto') \n",
        "history = History()"
      ],
      "execution_count": 0,
      "outputs": []
    },
    {
      "metadata": {
        "id": "IS8mKXDiRN-R",
        "colab_type": "code",
        "colab": {
          "base_uri": "https://localhost:8080/",
          "height": 8394
        },
        "outputId": "1a5aecce-cc3a-4a9e-f4a4-dd7fa173c7aa"
      },
      "cell_type": "code",
      "source": [
        "hist = model.fit(input_data, target_data, batch_size =  batch_size, epochs=300, callbacks=[ earlystop, history ])\n",
        "#hist = model.fit(input_data, target_data, batch_size =  batch_size, epochs=300, callbacks=[history ])\n",
        "print(\"History:\", hist.history )"
      ],
      "execution_count": 153,
      "outputs": [
        {
          "output_type": "stream",
          "text": [
            "Epoch 1/300\n",
            "2496/2496 [==============================] - 17s 7ms/step - loss: 8.7099\n",
            "Epoch 2/300\n",
            "2496/2496 [==============================] - 17s 7ms/step - loss: 8.7014\n",
            "Epoch 3/300\n",
            "2496/2496 [==============================] - 17s 7ms/step - loss: 8.6733\n",
            "Epoch 4/300\n",
            "2496/2496 [==============================] - 17s 7ms/step - loss: 8.6802\n",
            "Epoch 5/300\n",
            "2496/2496 [==============================] - 17s 7ms/step - loss: 8.6777\n",
            "Epoch 6/300\n",
            "2496/2496 [==============================] - 17s 7ms/step - loss: 8.7113\n",
            "Epoch 7/300\n",
            "2496/2496 [==============================] - 17s 7ms/step - loss: 8.6800\n",
            "Epoch 8/300\n",
            " 576/2496 [=====>........................] - ETA: 13s - loss: 8.6397"
          ],
          "name": "stdout"
        },
        {
          "output_type": "stream",
          "text": [
            "2496/2496 [==============================] - 17s 7ms/step - loss: 8.6517\n",
            "Epoch 9/300\n",
            "2496/2496 [==============================] - 17s 7ms/step - loss: 8.7039\n",
            "Epoch 10/300\n",
            "2496/2496 [==============================] - 17s 7ms/step - loss: 8.7122\n",
            "Epoch 11/300\n",
            "2496/2496 [==============================] - 17s 7ms/step - loss: 8.7423\n",
            "Epoch 12/300\n",
            "2496/2496 [==============================] - 17s 7ms/step - loss: 8.6901\n",
            "Epoch 13/300\n",
            "2496/2496 [==============================] - 17s 7ms/step - loss: 8.7065\n",
            "Epoch 14/300\n",
            "2496/2496 [==============================] - 17s 7ms/step - loss: 8.6766\n",
            "Epoch 15/300\n",
            " 896/2496 [=========>....................] - ETA: 10s - loss: 8.6314"
          ],
          "name": "stdout"
        },
        {
          "output_type": "stream",
          "text": [
            "2496/2496 [==============================] - 17s 7ms/step - loss: 8.6738\n",
            "Epoch 16/300\n",
            "2496/2496 [==============================] - 18s 7ms/step - loss: 8.6953\n",
            "Epoch 17/300\n",
            "2496/2496 [==============================] - 18s 7ms/step - loss: 8.7006\n",
            "Epoch 18/300\n",
            "2496/2496 [==============================] - 18s 7ms/step - loss: 8.7061\n",
            "Epoch 19/300\n",
            "2496/2496 [==============================] - 18s 7ms/step - loss: 8.6669\n",
            "Epoch 20/300\n",
            "2496/2496 [==============================] - 18s 7ms/step - loss: 8.6741\n",
            "Epoch 21/300\n",
            "2496/2496 [==============================] - 18s 7ms/step - loss: 8.6723\n",
            "Epoch 22/300\n",
            " 896/2496 [=========>....................] - ETA: 11s - loss: 8.7017"
          ],
          "name": "stdout"
        },
        {
          "output_type": "stream",
          "text": [
            "2496/2496 [==============================] - 18s 7ms/step - loss: 8.6686\n",
            "Epoch 23/300\n",
            "2496/2496 [==============================] - 18s 7ms/step - loss: 8.6987\n",
            "Epoch 24/300\n",
            "2496/2496 [==============================] - 17s 7ms/step - loss: 8.7030\n",
            "Epoch 25/300\n",
            "2496/2496 [==============================] - 18s 7ms/step - loss: 8.6951\n",
            "Epoch 26/300\n",
            "2496/2496 [==============================] - 17s 7ms/step - loss: 8.6609\n",
            "Epoch 27/300\n",
            "2496/2496 [==============================] - 18s 7ms/step - loss: 8.7007\n",
            "Epoch 28/300\n",
            "2496/2496 [==============================] - 18s 7ms/step - loss: 8.6584\n",
            "Epoch 29/300\n",
            " 896/2496 [=========>....................] - ETA: 11s - loss: 8.5935"
          ],
          "name": "stdout"
        },
        {
          "output_type": "stream",
          "text": [
            "2496/2496 [==============================] - 18s 7ms/step - loss: 8.6538\n",
            "Epoch 30/300\n",
            "2496/2496 [==============================] - 18s 7ms/step - loss: 8.6430\n",
            "Epoch 31/300\n",
            "2496/2496 [==============================] - 18s 7ms/step - loss: 8.6757\n",
            "Epoch 32/300\n",
            "2496/2496 [==============================] - 18s 7ms/step - loss: 8.6732\n",
            "Epoch 33/300\n",
            "2496/2496 [==============================] - 18s 7ms/step - loss: 8.6841\n",
            "Epoch 34/300\n",
            "2496/2496 [==============================] - 17s 7ms/step - loss: 8.6602\n",
            "Epoch 35/300\n",
            "2496/2496 [==============================] - 17s 7ms/step - loss: 8.6588\n",
            "Epoch 36/300\n",
            " 896/2496 [=========>....................] - ETA: 11s - loss: 8.6236"
          ],
          "name": "stdout"
        },
        {
          "output_type": "stream",
          "text": [
            "2496/2496 [==============================] - 18s 7ms/step - loss: 8.6516\n",
            "Epoch 37/300\n",
            "2496/2496 [==============================] - 17s 7ms/step - loss: 8.6519\n",
            "Epoch 38/300\n",
            "2496/2496 [==============================] - 17s 7ms/step - loss: 8.6378\n",
            "Epoch 39/300\n",
            "2496/2496 [==============================] - 17s 7ms/step - loss: 8.6220\n",
            "Epoch 40/300\n",
            "2496/2496 [==============================] - 17s 7ms/step - loss: 8.6747\n",
            "Epoch 41/300\n",
            "2496/2496 [==============================] - 17s 7ms/step - loss: 8.6510\n",
            "Epoch 42/300\n",
            "2496/2496 [==============================] - 17s 7ms/step - loss: 8.6509\n",
            "Epoch 43/300\n",
            " 896/2496 [=========>....................] - ETA: 11s - loss: 8.6070"
          ],
          "name": "stdout"
        },
        {
          "output_type": "stream",
          "text": [
            "2496/2496 [==============================] - 18s 7ms/step - loss: 8.6445\n",
            "Epoch 44/300\n",
            "2496/2496 [==============================] - 18s 7ms/step - loss: 8.6640\n",
            "Epoch 45/300\n",
            "2496/2496 [==============================] - 17s 7ms/step - loss: 8.6327\n",
            "Epoch 46/300\n",
            "2496/2496 [==============================] - 18s 7ms/step - loss: 8.6599\n",
            "Epoch 47/300\n",
            "2496/2496 [==============================] - 18s 7ms/step - loss: 8.6398\n",
            "Epoch 48/300\n",
            "2496/2496 [==============================] - 18s 7ms/step - loss: 8.6482\n",
            "Epoch 49/300\n",
            "2496/2496 [==============================] - 18s 7ms/step - loss: 8.6571\n",
            "Epoch 50/300\n",
            " 896/2496 [=========>....................] - ETA: 11s - loss: 8.5124"
          ],
          "name": "stdout"
        },
        {
          "output_type": "stream",
          "text": [
            "2496/2496 [==============================] - 18s 7ms/step - loss: 8.6723\n",
            "Epoch 51/300\n",
            "2496/2496 [==============================] - 18s 7ms/step - loss: 8.6533\n",
            "Epoch 52/300\n",
            "2496/2496 [==============================] - 18s 7ms/step - loss: 8.6416\n",
            "Epoch 53/300\n",
            "2496/2496 [==============================] - 18s 7ms/step - loss: 8.6654\n",
            "Epoch 54/300\n",
            "2496/2496 [==============================] - 18s 7ms/step - loss: 8.6481\n",
            "Epoch 55/300\n",
            "2496/2496 [==============================] - 18s 7ms/step - loss: 8.6397\n",
            "Epoch 56/300\n",
            "2496/2496 [==============================] - 18s 7ms/step - loss: 8.6591\n",
            "Epoch 57/300\n",
            " 896/2496 [=========>....................] - ETA: 11s - loss: 8.5616"
          ],
          "name": "stdout"
        },
        {
          "output_type": "stream",
          "text": [
            "2496/2496 [==============================] - 18s 7ms/step - loss: 8.6640\n",
            "Epoch 58/300\n",
            "2496/2496 [==============================] - 18s 7ms/step - loss: 8.6521\n",
            "Epoch 59/300\n",
            "2496/2496 [==============================] - 18s 7ms/step - loss: 8.6211\n",
            "Epoch 60/300\n",
            "2496/2496 [==============================] - 18s 7ms/step - loss: 8.6556\n",
            "Epoch 61/300\n",
            "2496/2496 [==============================] - 18s 7ms/step - loss: 8.6218\n",
            "Epoch 62/300\n",
            "2496/2496 [==============================] - 18s 7ms/step - loss: 8.6383\n",
            "Epoch 63/300\n",
            "2496/2496 [==============================] - 18s 7ms/step - loss: 8.6600\n",
            "Epoch 64/300\n",
            " 896/2496 [=========>....................] - ETA: 11s - loss: 8.5280"
          ],
          "name": "stdout"
        },
        {
          "output_type": "stream",
          "text": [
            "2496/2496 [==============================] - 18s 7ms/step - loss: 8.6242\n",
            "Epoch 65/300\n",
            "2496/2496 [==============================] - 18s 7ms/step - loss: 8.6386\n",
            "Epoch 66/300\n",
            "2496/2496 [==============================] - 18s 7ms/step - loss: 8.6371\n",
            "Epoch 67/300\n",
            "2496/2496 [==============================] - 18s 7ms/step - loss: 8.6088\n",
            "Epoch 68/300\n",
            "2496/2496 [==============================] - 18s 7ms/step - loss: 8.6584\n",
            "Epoch 69/300\n",
            "2496/2496 [==============================] - 17s 7ms/step - loss: 8.6397\n",
            "Epoch 70/300\n",
            "2496/2496 [==============================] - 18s 7ms/step - loss: 8.6468\n",
            "Epoch 71/300\n",
            " 896/2496 [=========>....................] - ETA: 11s - loss: 8.4858"
          ],
          "name": "stdout"
        },
        {
          "output_type": "stream",
          "text": [
            "2496/2496 [==============================] - 18s 7ms/step - loss: 8.6212\n",
            "Epoch 72/300\n",
            "2496/2496 [==============================] - 18s 7ms/step - loss: 8.6366\n",
            "Epoch 73/300\n",
            "2496/2496 [==============================] - 18s 7ms/step - loss: 8.6364\n",
            "Epoch 74/300\n",
            "2496/2496 [==============================] - 17s 7ms/step - loss: 8.6158\n",
            "Epoch 75/300\n",
            "2496/2496 [==============================] - 17s 7ms/step - loss: 8.6186\n",
            "Epoch 76/300\n",
            "2496/2496 [==============================] - 18s 7ms/step - loss: 8.5947\n",
            "Epoch 77/300\n",
            "2496/2496 [==============================] - 18s 7ms/step - loss: 8.6410\n",
            "Epoch 78/300\n",
            " 896/2496 [=========>....................] - ETA: 11s - loss: 8.7105"
          ],
          "name": "stdout"
        },
        {
          "output_type": "stream",
          "text": [
            "2496/2496 [==============================] - 18s 7ms/step - loss: 8.6391\n",
            "Epoch 79/300\n",
            "2496/2496 [==============================] - 17s 7ms/step - loss: 8.6072\n",
            "Epoch 80/300\n",
            "2496/2496 [==============================] - 17s 7ms/step - loss: 8.6347\n",
            "Epoch 81/300\n",
            "2496/2496 [==============================] - 17s 7ms/step - loss: 8.6240\n",
            "Epoch 82/300\n",
            "2496/2496 [==============================] - 17s 7ms/step - loss: 8.6054\n",
            "Epoch 83/300\n",
            "2496/2496 [==============================] - 17s 7ms/step - loss: 8.6056\n",
            "Epoch 84/300\n",
            "2496/2496 [==============================] - 17s 7ms/step - loss: 8.6074\n",
            "Epoch 85/300\n",
            " 896/2496 [=========>....................] - ETA: 11s - loss: 8.6782"
          ],
          "name": "stdout"
        },
        {
          "output_type": "stream",
          "text": [
            "2496/2496 [==============================] - 17s 7ms/step - loss: 8.6558\n",
            "Epoch 86/300\n",
            "2496/2496 [==============================] - 17s 7ms/step - loss: 8.5871\n",
            "Epoch 87/300\n",
            "2496/2496 [==============================] - 17s 7ms/step - loss: 8.6021\n",
            "Epoch 88/300\n",
            "2496/2496 [==============================] - 18s 7ms/step - loss: 8.6100\n",
            "Epoch 89/300\n",
            "2496/2496 [==============================] - 17s 7ms/step - loss: 8.5951\n",
            "Epoch 90/300\n",
            "2496/2496 [==============================] - 17s 7ms/step - loss: 8.6069\n",
            "Epoch 91/300\n",
            "2496/2496 [==============================] - 18s 7ms/step - loss: 8.6143\n",
            "Epoch 92/300\n",
            " 896/2496 [=========>....................] - ETA: 11s - loss: 8.5503"
          ],
          "name": "stdout"
        },
        {
          "output_type": "stream",
          "text": [
            "2496/2496 [==============================] - 18s 7ms/step - loss: 8.6202\n",
            "Epoch 93/300\n",
            "2496/2496 [==============================] - 17s 7ms/step - loss: 8.6416\n",
            "Epoch 94/300\n",
            "2496/2496 [==============================] - 18s 7ms/step - loss: 8.6146\n",
            "Epoch 95/300\n",
            "2496/2496 [==============================] - 18s 7ms/step - loss: 8.6163\n",
            "Epoch 96/300\n",
            "2496/2496 [==============================] - 18s 7ms/step - loss: 8.6196\n",
            "Epoch 97/300\n",
            "2496/2496 [==============================] - 18s 7ms/step - loss: 8.6267\n",
            "Epoch 98/300\n",
            "2496/2496 [==============================] - 18s 7ms/step - loss: 8.6150\n",
            "Epoch 99/300\n",
            " 896/2496 [=========>....................] - ETA: 11s - loss: 8.7050"
          ],
          "name": "stdout"
        },
        {
          "output_type": "stream",
          "text": [
            "2496/2496 [==============================] - 18s 7ms/step - loss: 8.6885\n",
            "Epoch 100/300\n",
            "2496/2496 [==============================] - 18s 7ms/step - loss: 8.6191\n",
            "Epoch 101/300\n",
            "2496/2496 [==============================] - 18s 7ms/step - loss: 8.5696\n",
            "Epoch 102/300\n",
            "2496/2496 [==============================] - 18s 7ms/step - loss: 8.6074\n",
            "Epoch 103/300\n",
            "2496/2496 [==============================] - 18s 7ms/step - loss: 8.5903\n",
            "Epoch 104/300\n",
            "2496/2496 [==============================] - 18s 7ms/step - loss: 8.6022\n",
            "Epoch 105/300\n",
            "2496/2496 [==============================] - 17s 7ms/step - loss: 8.6286\n",
            "Epoch 106/300\n",
            " 768/2496 [========>.....................] - ETA: 12s - loss: 8.5740"
          ],
          "name": "stdout"
        },
        {
          "output_type": "stream",
          "text": [
            "2496/2496 [==============================] - 17s 7ms/step - loss: 8.5822\n",
            "Epoch 107/300\n",
            "2496/2496 [==============================] - 17s 7ms/step - loss: 8.6045\n",
            "Epoch 108/300\n",
            "2496/2496 [==============================] - 18s 7ms/step - loss: 8.5948\n",
            "Epoch 109/300\n",
            "2496/2496 [==============================] - 18s 7ms/step - loss: 8.5819\n",
            "Epoch 110/300\n",
            "2496/2496 [==============================] - 18s 7ms/step - loss: 8.5996\n",
            "Epoch 111/300\n",
            "2496/2496 [==============================] - 18s 7ms/step - loss: 8.5860\n",
            "Epoch 112/300\n",
            "2496/2496 [==============================] - 18s 7ms/step - loss: 8.5697\n",
            "Epoch 113/300\n",
            " 768/2496 [========>.....................] - ETA: 12s - loss: 8.6040"
          ],
          "name": "stdout"
        },
        {
          "output_type": "stream",
          "text": [
            "2496/2496 [==============================] - 17s 7ms/step - loss: 8.5662\n",
            "Epoch 114/300\n",
            "2496/2496 [==============================] - 18s 7ms/step - loss: 8.6171\n",
            "Epoch 115/300\n",
            "2496/2496 [==============================] - 17s 7ms/step - loss: 8.6222\n",
            "Epoch 116/300\n",
            "2496/2496 [==============================] - 17s 7ms/step - loss: 8.5889\n",
            "Epoch 117/300\n",
            "2496/2496 [==============================] - 17s 7ms/step - loss: 8.5998\n",
            "Epoch 118/300\n",
            "2496/2496 [==============================] - 17s 7ms/step - loss: 8.5836\n",
            "Epoch 119/300\n",
            "2496/2496 [==============================] - 18s 7ms/step - loss: 8.5903\n",
            "Epoch 120/300\n",
            " 768/2496 [========>.....................] - ETA: 11s - loss: 8.6340"
          ],
          "name": "stdout"
        },
        {
          "output_type": "stream",
          "text": [
            "2496/2496 [==============================] - 17s 7ms/step - loss: 8.6013\n",
            "Epoch 121/300\n",
            "2496/2496 [==============================] - 17s 7ms/step - loss: 8.5708\n",
            "Epoch 122/300\n",
            "2496/2496 [==============================] - 17s 7ms/step - loss: 8.5971\n",
            "Epoch 123/300\n",
            "2496/2496 [==============================] - 17s 7ms/step - loss: 8.5881\n",
            "Epoch 124/300\n",
            "2496/2496 [==============================] - 17s 7ms/step - loss: 8.5629\n",
            "Epoch 125/300\n",
            "2496/2496 [==============================] - 17s 7ms/step - loss: 8.5867\n",
            "Epoch 126/300\n",
            "2496/2496 [==============================] - 17s 7ms/step - loss: 8.5739\n",
            "Epoch 127/300\n",
            " 768/2496 [========>.....................] - ETA: 11s - loss: 8.4413"
          ],
          "name": "stdout"
        },
        {
          "output_type": "stream",
          "text": [
            "2496/2496 [==============================] - 17s 7ms/step - loss: 8.5551\n",
            "Epoch 128/300\n",
            "2496/2496 [==============================] - 17s 7ms/step - loss: 8.5783\n",
            "Epoch 129/300\n",
            "2496/2496 [==============================] - 17s 7ms/step - loss: 8.5725\n",
            "Epoch 130/300\n",
            "2496/2496 [==============================] - 17s 7ms/step - loss: 8.5658\n",
            "Epoch 131/300\n",
            "2496/2496 [==============================] - 18s 7ms/step - loss: 8.5572\n",
            "Epoch 132/300\n",
            "2496/2496 [==============================] - 18s 7ms/step - loss: 8.6078\n",
            "Epoch 133/300\n",
            "2496/2496 [==============================] - 18s 7ms/step - loss: 8.5690\n",
            "Epoch 134/300\n",
            " 768/2496 [========>.....................] - ETA: 12s - loss: 8.6218"
          ],
          "name": "stdout"
        },
        {
          "output_type": "stream",
          "text": [
            "2496/2496 [==============================] - 17s 7ms/step - loss: 8.5712\n",
            "Epoch 135/300\n",
            "2496/2496 [==============================] - 18s 7ms/step - loss: 8.5883\n",
            "Epoch 136/300\n",
            "2496/2496 [==============================] - 17s 7ms/step - loss: 8.5545\n",
            "Epoch 137/300\n",
            "2496/2496 [==============================] - 18s 7ms/step - loss: 8.5821\n",
            "Epoch 138/300\n",
            "2496/2496 [==============================] - 18s 7ms/step - loss: 8.5912\n",
            "Epoch 139/300\n",
            "2496/2496 [==============================] - 17s 7ms/step - loss: 8.5524\n",
            "Epoch 140/300\n",
            "2496/2496 [==============================] - 18s 7ms/step - loss: 8.5518\n",
            "Epoch 141/300\n",
            " 768/2496 [========>.....................] - ETA: 12s - loss: 8.6767"
          ],
          "name": "stdout"
        },
        {
          "output_type": "stream",
          "text": [
            "2496/2496 [==============================] - 18s 7ms/step - loss: 8.5738\n",
            "Epoch 142/300\n",
            "2496/2496 [==============================] - 18s 7ms/step - loss: 8.5519\n",
            "Epoch 143/300\n",
            "2496/2496 [==============================] - 17s 7ms/step - loss: 8.5387\n",
            "Epoch 144/300\n",
            "2496/2496 [==============================] - 17s 7ms/step - loss: 8.5340\n",
            "Epoch 145/300\n",
            "2496/2496 [==============================] - 18s 7ms/step - loss: 8.5173\n",
            "Epoch 146/300\n",
            "2496/2496 [==============================] - 18s 7ms/step - loss: 8.5491\n",
            "Epoch 147/300\n",
            "2496/2496 [==============================] - 18s 7ms/step - loss: 8.5353\n",
            "Epoch 148/300\n",
            " 768/2496 [========>.....................] - ETA: 12s - loss: 8.4763"
          ],
          "name": "stdout"
        },
        {
          "output_type": "stream",
          "text": [
            "2496/2496 [==============================] - 18s 7ms/step - loss: 8.5547\n",
            "Epoch 149/300\n",
            "2496/2496 [==============================] - 18s 7ms/step - loss: 8.5325\n",
            "Epoch 150/300\n",
            "2496/2496 [==============================] - 17s 7ms/step - loss: 8.5449\n",
            "Epoch 151/300\n",
            "2496/2496 [==============================] - 17s 7ms/step - loss: 8.5604\n",
            "Epoch 152/300\n",
            "2496/2496 [==============================] - 17s 7ms/step - loss: 8.5410\n",
            "Epoch 153/300\n",
            "2496/2496 [==============================] - 17s 7ms/step - loss: 8.5505\n",
            "Epoch 154/300\n",
            "2496/2496 [==============================] - 17s 7ms/step - loss: 8.5636\n",
            "Epoch 155/300\n",
            " 768/2496 [========>.....................] - ETA: 11s - loss: 8.5657"
          ],
          "name": "stdout"
        },
        {
          "output_type": "stream",
          "text": [
            "2496/2496 [==============================] - 17s 7ms/step - loss: 8.5291\n",
            "Epoch 156/300\n",
            "2496/2496 [==============================] - 17s 7ms/step - loss: 8.5461\n",
            "Epoch 157/300\n",
            "2496/2496 [==============================] - 17s 7ms/step - loss: 8.5429\n",
            "Epoch 158/300\n",
            "2496/2496 [==============================] - 18s 7ms/step - loss: 8.5510\n",
            "Epoch 159/300\n",
            "2496/2496 [==============================] - 18s 7ms/step - loss: 8.5394\n",
            "Epoch 160/300\n",
            "2496/2496 [==============================] - 18s 7ms/step - loss: 8.5078\n",
            "Epoch 161/300\n",
            "2496/2496 [==============================] - 17s 7ms/step - loss: 8.5403\n",
            "Epoch 162/300\n",
            " 768/2496 [========>.....................] - ETA: 11s - loss: 8.5680"
          ],
          "name": "stdout"
        },
        {
          "output_type": "stream",
          "text": [
            "2496/2496 [==============================] - 17s 7ms/step - loss: 8.5220\n",
            "Epoch 163/300\n",
            "2496/2496 [==============================] - 18s 7ms/step - loss: 8.5202\n",
            "Epoch 164/300\n",
            "2496/2496 [==============================] - 18s 7ms/step - loss: 8.5536\n",
            "Epoch 165/300\n",
            "2496/2496 [==============================] - 18s 7ms/step - loss: 8.5269\n",
            "Epoch 166/300\n",
            "2496/2496 [==============================] - 18s 7ms/step - loss: 8.5525\n",
            "Epoch 167/300\n",
            "2496/2496 [==============================] - 17s 7ms/step - loss: 8.5431\n",
            "Epoch 168/300\n",
            "2496/2496 [==============================] - 18s 7ms/step - loss: 8.5474\n",
            "Epoch 169/300\n",
            " 768/2496 [========>.....................] - ETA: 12s - loss: 8.3905"
          ],
          "name": "stdout"
        },
        {
          "output_type": "stream",
          "text": [
            "2496/2496 [==============================] - 17s 7ms/step - loss: 8.5548\n",
            "Epoch 170/300\n",
            "2496/2496 [==============================] - 17s 7ms/step - loss: 8.5419\n",
            "Epoch 171/300\n",
            "2496/2496 [==============================] - 17s 7ms/step - loss: 8.5186\n",
            "Epoch 172/300\n",
            "2496/2496 [==============================] - 17s 7ms/step - loss: 8.5278\n",
            "Epoch 173/300\n",
            "2496/2496 [==============================] - 18s 7ms/step - loss: 8.5235\n",
            "Epoch 174/300\n",
            "2496/2496 [==============================] - 17s 7ms/step - loss: 8.5264\n",
            "Epoch 175/300\n",
            "2496/2496 [==============================] - 17s 7ms/step - loss: 8.5110\n",
            "Epoch 176/300\n",
            " 768/2496 [========>.....................] - ETA: 12s - loss: 8.4959"
          ],
          "name": "stdout"
        },
        {
          "output_type": "stream",
          "text": [
            "2496/2496 [==============================] - 17s 7ms/step - loss: 8.5175\n",
            "Epoch 177/300\n",
            "2496/2496 [==============================] - 17s 7ms/step - loss: 8.5081\n",
            "Epoch 178/300\n",
            "2496/2496 [==============================] - 17s 7ms/step - loss: 8.5168\n",
            "Epoch 179/300\n",
            "2496/2496 [==============================] - 17s 7ms/step - loss: 8.5198\n",
            "Epoch 180/300\n",
            "2496/2496 [==============================] - 18s 7ms/step - loss: 8.5372\n",
            "Epoch 181/300\n",
            "2496/2496 [==============================] - 18s 7ms/step - loss: 8.5503\n",
            "Epoch 182/300\n",
            "2496/2496 [==============================] - 18s 7ms/step - loss: 8.5306\n",
            "Epoch 183/300\n",
            " 768/2496 [========>.....................] - ETA: 12s - loss: 8.4993"
          ],
          "name": "stdout"
        },
        {
          "output_type": "stream",
          "text": [
            "2496/2496 [==============================] - 18s 7ms/step - loss: 8.5300\n",
            "Epoch 184/300\n",
            "2496/2496 [==============================] - 18s 7ms/step - loss: 8.5005\n",
            "Epoch 185/300\n",
            "2496/2496 [==============================] - 18s 7ms/step - loss: 8.5107\n",
            "Epoch 186/300\n",
            "2496/2496 [==============================] - 18s 7ms/step - loss: 8.5201\n",
            "Epoch 187/300\n",
            "2496/2496 [==============================] - 18s 7ms/step - loss: 8.5007\n",
            "Epoch 188/300\n",
            "2496/2496 [==============================] - 17s 7ms/step - loss: 8.5420\n",
            "Epoch 189/300\n",
            "2496/2496 [==============================] - 17s 7ms/step - loss: 8.5627\n",
            "Epoch 190/300\n",
            " 768/2496 [========>.....................] - ETA: 11s - loss: 8.5504"
          ],
          "name": "stdout"
        },
        {
          "output_type": "stream",
          "text": [
            "2496/2496 [==============================] - 17s 7ms/step - loss: 8.5479\n",
            "Epoch 191/300\n",
            "2496/2496 [==============================] - 17s 7ms/step - loss: 8.5113\n",
            "Epoch 192/300\n",
            "2496/2496 [==============================] - 17s 7ms/step - loss: 8.5122\n",
            "Epoch 193/300\n",
            "2496/2496 [==============================] - 17s 7ms/step - loss: 8.5148\n",
            "Epoch 194/300\n",
            "2496/2496 [==============================] - 18s 7ms/step - loss: 8.4712\n",
            "Epoch 195/300\n",
            "2496/2496 [==============================] - 18s 7ms/step - loss: 8.4948\n",
            "Epoch 196/300\n",
            "2496/2496 [==============================] - 17s 7ms/step - loss: 8.4993\n",
            "Epoch 197/300\n",
            " 768/2496 [========>.....................] - ETA: 12s - loss: 8.5459"
          ],
          "name": "stdout"
        },
        {
          "output_type": "stream",
          "text": [
            "2496/2496 [==============================] - 18s 7ms/step - loss: 8.4871\n",
            "Epoch 198/300\n",
            "2496/2496 [==============================] - 17s 7ms/step - loss: 8.5024\n",
            "Epoch 199/300\n",
            "2496/2496 [==============================] - 17s 7ms/step - loss: 8.5519\n",
            "Epoch 200/300\n",
            "2496/2496 [==============================] - 17s 7ms/step - loss: 8.5926\n",
            "Epoch 201/300\n",
            "2496/2496 [==============================] - 18s 7ms/step - loss: 8.4875\n",
            "Epoch 202/300\n",
            "2496/2496 [==============================] - 18s 7ms/step - loss: 8.4928\n",
            "Epoch 203/300\n",
            "2496/2496 [==============================] - 17s 7ms/step - loss: 8.4968\n",
            "Epoch 204/300\n",
            " 768/2496 [========>.....................] - ETA: 12s - loss: 8.4334"
          ],
          "name": "stdout"
        },
        {
          "output_type": "stream",
          "text": [
            "2496/2496 [==============================] - 18s 7ms/step - loss: 8.5025\n",
            "Epoch 205/300\n",
            "2496/2496 [==============================] - 18s 7ms/step - loss: 8.5176\n",
            "Epoch 206/300\n"
          ],
          "name": "stdout"
        },
        {
          "output_type": "error",
          "ename": "KeyboardInterrupt",
          "evalue": "ignored",
          "traceback": [
            "\u001b[0;31m---------------------------------------------------------------------------\u001b[0m",
            "\u001b[0;31mKeyboardInterrupt\u001b[0m                         Traceback (most recent call last)",
            "\u001b[0;32m<ipython-input-153-18a1925c91fc>\u001b[0m in \u001b[0;36m<module>\u001b[0;34m()\u001b[0m\n\u001b[0;32m----> 1\u001b[0;31m \u001b[0mhist\u001b[0m \u001b[0;34m=\u001b[0m \u001b[0mmodel\u001b[0m\u001b[0;34m.\u001b[0m\u001b[0mfit\u001b[0m\u001b[0;34m(\u001b[0m\u001b[0minput_data\u001b[0m\u001b[0;34m,\u001b[0m \u001b[0mtarget_data\u001b[0m\u001b[0;34m,\u001b[0m \u001b[0mbatch_size\u001b[0m \u001b[0;34m=\u001b[0m  \u001b[0mbatch_size\u001b[0m\u001b[0;34m,\u001b[0m \u001b[0mepochs\u001b[0m\u001b[0;34m=\u001b[0m\u001b[0;36m300\u001b[0m\u001b[0;34m,\u001b[0m \u001b[0mcallbacks\u001b[0m\u001b[0;34m=\u001b[0m\u001b[0;34m[\u001b[0m \u001b[0mearlystop\u001b[0m\u001b[0;34m,\u001b[0m \u001b[0mhistory\u001b[0m \u001b[0;34m]\u001b[0m\u001b[0;34m)\u001b[0m\u001b[0;34m\u001b[0m\u001b[0m\n\u001b[0m\u001b[1;32m      2\u001b[0m \u001b[0;31m#hist = model.fit(input_data, target_data, batch_size =  batch_size, epochs=300, callbacks=[history ])\u001b[0m\u001b[0;34m\u001b[0m\u001b[0;34m\u001b[0m\u001b[0m\n\u001b[1;32m      3\u001b[0m \u001b[0mprint\u001b[0m\u001b[0;34m(\u001b[0m\u001b[0;34m\"History:\"\u001b[0m\u001b[0;34m,\u001b[0m \u001b[0mhist\u001b[0m\u001b[0;34m.\u001b[0m\u001b[0mhistory\u001b[0m \u001b[0;34m)\u001b[0m\u001b[0;34m\u001b[0m\u001b[0m\n",
            "\u001b[0;32m/usr/local/lib/python3.6/dist-packages/keras/models.py\u001b[0m in \u001b[0;36mfit\u001b[0;34m(self, x, y, batch_size, epochs, verbose, callbacks, validation_split, validation_data, shuffle, class_weight, sample_weight, initial_epoch, steps_per_epoch, validation_steps, **kwargs)\u001b[0m\n\u001b[1;32m   1000\u001b[0m                               \u001b[0minitial_epoch\u001b[0m\u001b[0;34m=\u001b[0m\u001b[0minitial_epoch\u001b[0m\u001b[0;34m,\u001b[0m\u001b[0;34m\u001b[0m\u001b[0m\n\u001b[1;32m   1001\u001b[0m                               \u001b[0msteps_per_epoch\u001b[0m\u001b[0;34m=\u001b[0m\u001b[0msteps_per_epoch\u001b[0m\u001b[0;34m,\u001b[0m\u001b[0;34m\u001b[0m\u001b[0m\n\u001b[0;32m-> 1002\u001b[0;31m                               validation_steps=validation_steps)\n\u001b[0m\u001b[1;32m   1003\u001b[0m \u001b[0;34m\u001b[0m\u001b[0m\n\u001b[1;32m   1004\u001b[0m     def evaluate(self, x=None, y=None,\n",
            "\u001b[0;32m/usr/local/lib/python3.6/dist-packages/keras/engine/training.py\u001b[0m in \u001b[0;36mfit\u001b[0;34m(self, x, y, batch_size, epochs, verbose, callbacks, validation_split, validation_data, shuffle, class_weight, sample_weight, initial_epoch, steps_per_epoch, validation_steps, **kwargs)\u001b[0m\n\u001b[1;32m   1703\u001b[0m                               \u001b[0minitial_epoch\u001b[0m\u001b[0;34m=\u001b[0m\u001b[0minitial_epoch\u001b[0m\u001b[0;34m,\u001b[0m\u001b[0;34m\u001b[0m\u001b[0m\n\u001b[1;32m   1704\u001b[0m                               \u001b[0msteps_per_epoch\u001b[0m\u001b[0;34m=\u001b[0m\u001b[0msteps_per_epoch\u001b[0m\u001b[0;34m,\u001b[0m\u001b[0;34m\u001b[0m\u001b[0m\n\u001b[0;32m-> 1705\u001b[0;31m                               validation_steps=validation_steps)\n\u001b[0m\u001b[1;32m   1706\u001b[0m \u001b[0;34m\u001b[0m\u001b[0m\n\u001b[1;32m   1707\u001b[0m     def evaluate(self, x=None, y=None,\n",
            "\u001b[0;32m/usr/local/lib/python3.6/dist-packages/keras/engine/training.py\u001b[0m in \u001b[0;36m_fit_loop\u001b[0;34m(self, f, ins, out_labels, batch_size, epochs, verbose, callbacks, val_f, val_ins, shuffle, callback_metrics, initial_epoch, steps_per_epoch, validation_steps)\u001b[0m\n\u001b[1;32m   1234\u001b[0m                         \u001b[0mins_batch\u001b[0m\u001b[0;34m[\u001b[0m\u001b[0mi\u001b[0m\u001b[0;34m]\u001b[0m \u001b[0;34m=\u001b[0m \u001b[0mins_batch\u001b[0m\u001b[0;34m[\u001b[0m\u001b[0mi\u001b[0m\u001b[0;34m]\u001b[0m\u001b[0;34m.\u001b[0m\u001b[0mtoarray\u001b[0m\u001b[0;34m(\u001b[0m\u001b[0;34m)\u001b[0m\u001b[0;34m\u001b[0m\u001b[0m\n\u001b[1;32m   1235\u001b[0m \u001b[0;34m\u001b[0m\u001b[0m\n\u001b[0;32m-> 1236\u001b[0;31m                     \u001b[0mouts\u001b[0m \u001b[0;34m=\u001b[0m \u001b[0mf\u001b[0m\u001b[0;34m(\u001b[0m\u001b[0mins_batch\u001b[0m\u001b[0;34m)\u001b[0m\u001b[0;34m\u001b[0m\u001b[0m\n\u001b[0m\u001b[1;32m   1237\u001b[0m                     \u001b[0;32mif\u001b[0m \u001b[0;32mnot\u001b[0m \u001b[0misinstance\u001b[0m\u001b[0;34m(\u001b[0m\u001b[0mouts\u001b[0m\u001b[0;34m,\u001b[0m \u001b[0mlist\u001b[0m\u001b[0;34m)\u001b[0m\u001b[0;34m:\u001b[0m\u001b[0;34m\u001b[0m\u001b[0m\n\u001b[1;32m   1238\u001b[0m                         \u001b[0mouts\u001b[0m \u001b[0;34m=\u001b[0m \u001b[0;34m[\u001b[0m\u001b[0mouts\u001b[0m\u001b[0;34m]\u001b[0m\u001b[0;34m\u001b[0m\u001b[0m\n",
            "\u001b[0;32m/usr/local/lib/python3.6/dist-packages/keras/backend/tensorflow_backend.py\u001b[0m in \u001b[0;36m__call__\u001b[0;34m(self, inputs)\u001b[0m\n\u001b[1;32m   2480\u001b[0m         \u001b[0msession\u001b[0m \u001b[0;34m=\u001b[0m \u001b[0mget_session\u001b[0m\u001b[0;34m(\u001b[0m\u001b[0;34m)\u001b[0m\u001b[0;34m\u001b[0m\u001b[0m\n\u001b[1;32m   2481\u001b[0m         updated = session.run(fetches=fetches, feed_dict=feed_dict,\n\u001b[0;32m-> 2482\u001b[0;31m                               **self.session_kwargs)\n\u001b[0m\u001b[1;32m   2483\u001b[0m         \u001b[0;32mreturn\u001b[0m \u001b[0mupdated\u001b[0m\u001b[0;34m[\u001b[0m\u001b[0;34m:\u001b[0m\u001b[0mlen\u001b[0m\u001b[0;34m(\u001b[0m\u001b[0mself\u001b[0m\u001b[0;34m.\u001b[0m\u001b[0moutputs\u001b[0m\u001b[0;34m)\u001b[0m\u001b[0;34m]\u001b[0m\u001b[0;34m\u001b[0m\u001b[0m\n\u001b[1;32m   2484\u001b[0m \u001b[0;34m\u001b[0m\u001b[0m\n",
            "\u001b[0;32m/usr/local/lib/python3.6/dist-packages/tensorflow/python/client/session.py\u001b[0m in \u001b[0;36mrun\u001b[0;34m(self, fetches, feed_dict, options, run_metadata)\u001b[0m\n\u001b[1;32m    898\u001b[0m     \u001b[0;32mtry\u001b[0m\u001b[0;34m:\u001b[0m\u001b[0;34m\u001b[0m\u001b[0m\n\u001b[1;32m    899\u001b[0m       result = self._run(None, fetches, feed_dict, options_ptr,\n\u001b[0;32m--> 900\u001b[0;31m                          run_metadata_ptr)\n\u001b[0m\u001b[1;32m    901\u001b[0m       \u001b[0;32mif\u001b[0m \u001b[0mrun_metadata\u001b[0m\u001b[0;34m:\u001b[0m\u001b[0;34m\u001b[0m\u001b[0m\n\u001b[1;32m    902\u001b[0m         \u001b[0mproto_data\u001b[0m \u001b[0;34m=\u001b[0m \u001b[0mtf_session\u001b[0m\u001b[0;34m.\u001b[0m\u001b[0mTF_GetBuffer\u001b[0m\u001b[0;34m(\u001b[0m\u001b[0mrun_metadata_ptr\u001b[0m\u001b[0;34m)\u001b[0m\u001b[0;34m\u001b[0m\u001b[0m\n",
            "\u001b[0;32m/usr/local/lib/python3.6/dist-packages/tensorflow/python/client/session.py\u001b[0m in \u001b[0;36m_run\u001b[0;34m(self, handle, fetches, feed_dict, options, run_metadata)\u001b[0m\n\u001b[1;32m   1133\u001b[0m     \u001b[0;32mif\u001b[0m \u001b[0mfinal_fetches\u001b[0m \u001b[0;32mor\u001b[0m \u001b[0mfinal_targets\u001b[0m \u001b[0;32mor\u001b[0m \u001b[0;34m(\u001b[0m\u001b[0mhandle\u001b[0m \u001b[0;32mand\u001b[0m \u001b[0mfeed_dict_tensor\u001b[0m\u001b[0;34m)\u001b[0m\u001b[0;34m:\u001b[0m\u001b[0;34m\u001b[0m\u001b[0m\n\u001b[1;32m   1134\u001b[0m       results = self._do_run(handle, final_targets, final_fetches,\n\u001b[0;32m-> 1135\u001b[0;31m                              feed_dict_tensor, options, run_metadata)\n\u001b[0m\u001b[1;32m   1136\u001b[0m     \u001b[0;32melse\u001b[0m\u001b[0;34m:\u001b[0m\u001b[0;34m\u001b[0m\u001b[0m\n\u001b[1;32m   1137\u001b[0m       \u001b[0mresults\u001b[0m \u001b[0;34m=\u001b[0m \u001b[0;34m[\u001b[0m\u001b[0;34m]\u001b[0m\u001b[0;34m\u001b[0m\u001b[0m\n",
            "\u001b[0;32m/usr/local/lib/python3.6/dist-packages/tensorflow/python/client/session.py\u001b[0m in \u001b[0;36m_do_run\u001b[0;34m(self, handle, target_list, fetch_list, feed_dict, options, run_metadata)\u001b[0m\n\u001b[1;32m   1314\u001b[0m     \u001b[0;32mif\u001b[0m \u001b[0mhandle\u001b[0m \u001b[0;32mis\u001b[0m \u001b[0;32mNone\u001b[0m\u001b[0;34m:\u001b[0m\u001b[0;34m\u001b[0m\u001b[0m\n\u001b[1;32m   1315\u001b[0m       return self._do_call(_run_fn, feeds, fetches, targets, options,\n\u001b[0;32m-> 1316\u001b[0;31m                            run_metadata)\n\u001b[0m\u001b[1;32m   1317\u001b[0m     \u001b[0;32melse\u001b[0m\u001b[0;34m:\u001b[0m\u001b[0;34m\u001b[0m\u001b[0m\n\u001b[1;32m   1318\u001b[0m       \u001b[0;32mreturn\u001b[0m \u001b[0mself\u001b[0m\u001b[0;34m.\u001b[0m\u001b[0m_do_call\u001b[0m\u001b[0;34m(\u001b[0m\u001b[0m_prun_fn\u001b[0m\u001b[0;34m,\u001b[0m \u001b[0mhandle\u001b[0m\u001b[0;34m,\u001b[0m \u001b[0mfeeds\u001b[0m\u001b[0;34m,\u001b[0m \u001b[0mfetches\u001b[0m\u001b[0;34m)\u001b[0m\u001b[0;34m\u001b[0m\u001b[0m\n",
            "\u001b[0;32m/usr/local/lib/python3.6/dist-packages/tensorflow/python/client/session.py\u001b[0m in \u001b[0;36m_do_call\u001b[0;34m(self, fn, *args)\u001b[0m\n\u001b[1;32m   1320\u001b[0m   \u001b[0;32mdef\u001b[0m \u001b[0m_do_call\u001b[0m\u001b[0;34m(\u001b[0m\u001b[0mself\u001b[0m\u001b[0;34m,\u001b[0m \u001b[0mfn\u001b[0m\u001b[0;34m,\u001b[0m \u001b[0;34m*\u001b[0m\u001b[0margs\u001b[0m\u001b[0;34m)\u001b[0m\u001b[0;34m:\u001b[0m\u001b[0;34m\u001b[0m\u001b[0m\n\u001b[1;32m   1321\u001b[0m     \u001b[0;32mtry\u001b[0m\u001b[0;34m:\u001b[0m\u001b[0;34m\u001b[0m\u001b[0m\n\u001b[0;32m-> 1322\u001b[0;31m       \u001b[0;32mreturn\u001b[0m \u001b[0mfn\u001b[0m\u001b[0;34m(\u001b[0m\u001b[0;34m*\u001b[0m\u001b[0margs\u001b[0m\u001b[0;34m)\u001b[0m\u001b[0;34m\u001b[0m\u001b[0m\n\u001b[0m\u001b[1;32m   1323\u001b[0m     \u001b[0;32mexcept\u001b[0m \u001b[0merrors\u001b[0m\u001b[0;34m.\u001b[0m\u001b[0mOpError\u001b[0m \u001b[0;32mas\u001b[0m \u001b[0me\u001b[0m\u001b[0;34m:\u001b[0m\u001b[0;34m\u001b[0m\u001b[0m\n\u001b[1;32m   1324\u001b[0m       \u001b[0mmessage\u001b[0m \u001b[0;34m=\u001b[0m \u001b[0mcompat\u001b[0m\u001b[0;34m.\u001b[0m\u001b[0mas_text\u001b[0m\u001b[0;34m(\u001b[0m\u001b[0me\u001b[0m\u001b[0;34m.\u001b[0m\u001b[0mmessage\u001b[0m\u001b[0;34m)\u001b[0m\u001b[0;34m\u001b[0m\u001b[0m\n",
            "\u001b[0;32m/usr/local/lib/python3.6/dist-packages/tensorflow/python/client/session.py\u001b[0m in \u001b[0;36m_run_fn\u001b[0;34m(feed_dict, fetch_list, target_list, options, run_metadata)\u001b[0m\n\u001b[1;32m   1305\u001b[0m       \u001b[0mself\u001b[0m\u001b[0;34m.\u001b[0m\u001b[0m_extend_graph\u001b[0m\u001b[0;34m(\u001b[0m\u001b[0;34m)\u001b[0m\u001b[0;34m\u001b[0m\u001b[0m\n\u001b[1;32m   1306\u001b[0m       return self._call_tf_sessionrun(\n\u001b[0;32m-> 1307\u001b[0;31m           options, feed_dict, fetch_list, target_list, run_metadata)\n\u001b[0m\u001b[1;32m   1308\u001b[0m \u001b[0;34m\u001b[0m\u001b[0m\n\u001b[1;32m   1309\u001b[0m     \u001b[0;32mdef\u001b[0m \u001b[0m_prun_fn\u001b[0m\u001b[0;34m(\u001b[0m\u001b[0mhandle\u001b[0m\u001b[0;34m,\u001b[0m \u001b[0mfeed_dict\u001b[0m\u001b[0;34m,\u001b[0m \u001b[0mfetch_list\u001b[0m\u001b[0;34m)\u001b[0m\u001b[0;34m:\u001b[0m\u001b[0;34m\u001b[0m\u001b[0m\n",
            "\u001b[0;32m/usr/local/lib/python3.6/dist-packages/tensorflow/python/client/session.py\u001b[0m in \u001b[0;36m_call_tf_sessionrun\u001b[0;34m(self, options, feed_dict, fetch_list, target_list, run_metadata)\u001b[0m\n\u001b[1;32m   1407\u001b[0m       return tf_session.TF_SessionRun_wrapper(\n\u001b[1;32m   1408\u001b[0m           \u001b[0mself\u001b[0m\u001b[0;34m.\u001b[0m\u001b[0m_session\u001b[0m\u001b[0;34m,\u001b[0m \u001b[0moptions\u001b[0m\u001b[0;34m,\u001b[0m \u001b[0mfeed_dict\u001b[0m\u001b[0;34m,\u001b[0m \u001b[0mfetch_list\u001b[0m\u001b[0;34m,\u001b[0m \u001b[0mtarget_list\u001b[0m\u001b[0;34m,\u001b[0m\u001b[0;34m\u001b[0m\u001b[0m\n\u001b[0;32m-> 1409\u001b[0;31m           run_metadata)\n\u001b[0m\u001b[1;32m   1410\u001b[0m     \u001b[0;32melse\u001b[0m\u001b[0;34m:\u001b[0m\u001b[0;34m\u001b[0m\u001b[0m\n\u001b[1;32m   1411\u001b[0m       \u001b[0;32mwith\u001b[0m \u001b[0merrors\u001b[0m\u001b[0;34m.\u001b[0m\u001b[0mraise_exception_on_not_ok_status\u001b[0m\u001b[0;34m(\u001b[0m\u001b[0;34m)\u001b[0m \u001b[0;32mas\u001b[0m \u001b[0mstatus\u001b[0m\u001b[0;34m:\u001b[0m\u001b[0;34m\u001b[0m\u001b[0m\n",
            "\u001b[0;31mKeyboardInterrupt\u001b[0m: "
          ]
        }
      ]
    },
    {
      "metadata": {
        "id": "2hxVrrqaW_L3",
        "colab_type": "code",
        "colab": {}
      },
      "cell_type": "code",
      "source": [
        "model.save_weights(\"model.h5\")"
      ],
      "execution_count": 0,
      "outputs": []
    },
    {
      "metadata": {
        "id": "TI3BIqmCQXAB",
        "colab_type": "code",
        "colab": {
          "base_uri": "https://localhost:8080/",
          "height": 54
        },
        "outputId": "feb40dd9-e898-4a00-fac5-d7bf983c76e3"
      },
      "cell_type": "code",
      "source": [
        "print(\"History:\", hist.history )"
      ],
      "execution_count": 126,
      "outputs": [
        {
          "output_type": "stream",
          "text": [
            "History: {'loss': [9.091264602465507, 9.077885529933832, 9.061925374544584, 9.088777957818447, 9.096061657636593, 9.098533190213717, 9.086993070749136, 9.093432401999449, 9.064432510962853, 9.064065786508413, 9.075973168397562, 9.065588926657652, 9.071618813734789, 9.057363656850962, 9.027721796280298, 9.073285836439867, 9.058489481608072, 9.083915148025904, 9.057693041287935, 9.036016977750338, 9.048761196625538, 9.055905880072178, 9.043162370339418, 9.00322486192752, 9.07244557600755, 8.999951215890738, 9.050137593195988, 9.056245950552134, 9.002696257371168, 9.027058112315643, 9.019765315911709, 9.026924377832657, 9.040553068503355, 9.024553078871508, 9.00793914305858, 9.033113308441944, 9.054161022870968, 9.040352870256473, 9.027462323506674, 9.000483684050732, 9.011246289962378, 9.00329223045936, 9.016948797763922, 8.98748412499061, 9.011411520150991, 9.007215964488495, 9.010597571348532, 8.976527874286358, 9.015610792698004, 8.991001911652393, 8.975697395129082, 8.972223942096416, 8.989078595088078, 8.969057449927696, 8.979705932812813, 8.970735378754444, 9.014146633637257, 9.003822204394218, 8.983932446210812, 8.986255499032827, 8.976019468062963, 8.96350933955266, 8.957406899867914, 8.976150072537935, 8.984562555948893, 8.977564273736416, 8.962983889457506, 8.953571857550205, 8.967387615106045, 9.00005176739815, 8.964380264282227, 8.989486816601875, 8.95548886519212, 8.951292453668056, 8.97722166012495, 8.951524269886505, 8.96119834215213, 8.952422068669247, 8.958544364342323, 8.950252190614359, 8.951024691263834, 8.928529519301195, 8.940934816996256, 8.943563436850523, 8.959561568040113, 8.921488664089106, 8.944375527210724, 8.958543728559444, 8.941015610328087, 8.916544425181854, 8.928477262839293, 8.950890907874474, 8.961052038730719, 8.922413116846329, 8.910679303682768, 8.920666278936924, 8.899178822835287, 8.926777399503267, 8.911451804332245, 8.917969532502003, 8.910620053609213, 8.937530884375938, 8.925506885235126, 8.930502182398087, 8.915264178545048, 8.895971591656025, 8.906286802047338, 8.895726032746143, 8.90511732835036, 8.895064329489683, 8.918160952054537, 8.94821100968581, 8.887423197428385, 8.918260965591822, 8.922716605357635, 8.918352860670824, 8.889594078063965, 8.904403857695751, 8.88390054458227, 8.889075670486841, 8.917972955948267, 8.883160615578676, 8.900652714264698, 8.860693662594526, 8.8806761717185, 8.87826594328269, 8.867697715759277, 8.875816051776592, 8.888601743257963, 8.848362017900516, 8.86757439833421, 8.845464975405962, 8.86349910344833, 8.840157949007475, 8.85879470140506, 8.874212827437963, 8.848578453063965, 8.867380142211914, 8.896937052408854, 8.862671069609814, 8.827552306346405, 8.835553682767427, 8.84228718586457, 8.890845983456343, 8.861123647445288, 8.858510237473707, 8.873255534049791, 8.870236152257675, 8.851930153675568, 8.846522844754732, 8.866445443569086, 8.85391739087227, 8.823489164694761, 8.866746609027569, 8.84823175577017, 8.838119604648687, 8.841615334535257, 8.796597505227114, 8.78958389086601, 8.81930292569674, 8.842529101249498, 8.837179110600399, 8.843625411009176, 8.847502830700996, 8.798399607340494, 8.838870928837704, 8.850486241854155, 8.853052334907728, 8.813015350928673, 8.825752698458158, 8.812537266657902, 8.807907275664501, 8.839321454366049, 8.829917467557467, 8.802612671485313, 8.814547538757324, 8.827230722476274, 8.788968404134115]}\n"
          ],
          "name": "stdout"
        }
      ]
    },
    {
      "metadata": {
        "id": "R7SB2HdjW6ZN",
        "colab_type": "text"
      },
      "cell_type": "markdown",
      "source": [
        ""
      ]
    },
    {
      "metadata": {
        "id": "qfZEjJa_Uby1",
        "colab_type": "code",
        "colab": {
          "base_uri": "https://localhost:8080/",
          "height": 34
        },
        "outputId": "4f960f83-ce99-4032-b1da-7b98b6f73e08"
      },
      "cell_type": "code",
      "source": [
        "print(hist.history.keys())"
      ],
      "execution_count": 127,
      "outputs": [
        {
          "output_type": "stream",
          "text": [
            "dict_keys(['loss'])\n"
          ],
          "name": "stdout"
        }
      ]
    },
    {
      "metadata": {
        "id": "uT4qgUbSHVxy",
        "colab_type": "code",
        "colab": {}
      },
      "cell_type": "code",
      "source": [
        "import matplotlib.pyplot as plt"
      ],
      "execution_count": 0,
      "outputs": []
    },
    {
      "metadata": {
        "id": "dZTyCPutQsKk",
        "colab_type": "code",
        "colab": {
          "base_uri": "https://localhost:8080/",
          "height": 376
        },
        "outputId": "015b1e43-c84d-4fe6-e3a8-39e2aae985fb"
      },
      "cell_type": "code",
      "source": [
        "# summarize history for loss\n",
        "plt.plot(history.history['loss'])\n",
        "plt.title('model loss')\n",
        "plt.ylabel('loss')\n",
        "plt.xlabel('epoch')\n",
        "plt.legend(['train', 'test'], loc='upper left')\n",
        "plt.show()"
      ],
      "execution_count": 129,
      "outputs": [
        {
          "output_type": "display_data",
          "data": {
            "image/png": "[encoded data removed]",
            "text/plain": [
              "<matplotlib.figure.Figure at 0x7fd92cf2e5f8>"
            ]
          },
          "metadata": {
            "tags": []
          }
        }
      ]
    },
    {
      "metadata": {
        "id": "cG9Q3zXDQ7xg",
        "colab_type": "code",
        "colab": {
          "base_uri": "https://localhost:8080/",
          "height": 85
        },
        "outputId": "c337bc5a-3236-4bac-8b95-3a2a739a9e94"
      },
      "cell_type": "code",
      "source": [
        "!ls"
      ],
      "execution_count": 121,
      "outputs": [
        {
          "output_type": "stream",
          "text": [
            "datalab\t\t\t     midi\t\t   readme.pdf\r\n",
            "infographics\t\t     model.h5\t\t   scale_chords_small.zip\r\n",
            "LSTM_gen_20180601_12_04.mid  model.json\t\t   scale_chords_small.zip.1\r\n",
            "LSTM_gen_20180601_14_41.mid  Music_Generator_Demo\r\n"
          ],
          "name": "stdout"
        }
      ]
    },
    {
      "metadata": {
        "id": "k1I6LNnAXGOs",
        "colab_type": "code",
        "colab": {}
      },
      "cell_type": "code",
      "source": [
        "# serialize model to JSON\n",
        "model_json = model.to_json()\n",
        "with open(\"model.json\", \"w\") as json_file:\n",
        "    json_file.write(model_json)"
      ],
      "execution_count": 0,
      "outputs": []
    },
    {
      "metadata": {
        "id": "RklGXdreXbVZ",
        "colab_type": "code",
        "colab": {
          "base_uri": "https://localhost:8080/",
          "height": 54
        },
        "outputId": "107da23a-b9cb-492e-b2d1-23d7b7ee08e8"
      },
      "cell_type": "code",
      "source": [
        "!cat model.json"
      ],
      "execution_count": 83,
      "outputs": [
        {
          "output_type": "stream",
          "text": [
            "{\"class_name\": \"Sequential\", \"config\": [{\"class_name\": \"LSTM\", \"config\": {\"name\": \"lstm_1\", \"trainable\": true, \"batch_input_shape\": [null, null, 49], \"dtype\": \"float32\", \"return_sequences\": true, \"return_state\": false, \"go_backwards\": false, \"stateful\": false, \"unroll\": false, \"units\": 64, \"activation\": \"tanh\", \"recurrent_activation\": \"hard_sigmoid\", \"use_bias\": true, \"kernel_initializer\": {\"class_name\": \"VarianceScaling\", \"config\": {\"scale\": 1.0, \"mode\": \"fan_avg\", \"distribution\": \"uniform\", \"seed\": null}}, \"recurrent_initializer\": {\"class_name\": \"Orthogonal\", \"config\": {\"gain\": 1.0, \"seed\": null}}, \"bias_initializer\": {\"class_name\": \"Zeros\", \"config\": {}}, \"unit_forget_bias\": true, \"kernel_regularizer\": null, \"recurrent_regularizer\": null, \"bias_regularizer\": null, \"activity_regularizer\": null, \"kernel_constraint\": null, \"recurrent_constraint\": null, \"bias_constraint\": null, \"dropout\": 0.0, \"recurrent_dropout\": 0.0, \"implementation\": 1}}, {\"class_name\": \"BatchNormalization\", \"config\": {\"name\": \"batch_normalization_1\", \"trainable\": true, \"axis\": -1, \"momentum\": 0.99, \"epsilon\": 0.001, \"center\": true, \"scale\": true, \"beta_initializer\": {\"class_name\": \"Zeros\", \"config\": {}}, \"gamma_initializer\": {\"class_name\": \"Ones\", \"config\": {}}, \"moving_mean_initializer\": {\"class_name\": \"Zeros\", \"config\": {}}, \"moving_variance_initializer\": {\"class_name\": \"Ones\", \"config\": {}}, \"beta_regularizer\": null, \"gamma_regularizer\": null, \"beta_constraint\": null, \"gamma_constraint\": null}}, {\"class_name\": \"Dropout\", \"config\": {\"name\": \"dropout_1\", \"trainable\": true, \"rate\": 0.3, \"noise_shape\": null, \"seed\": null}}, {\"class_name\": \"LSTM\", \"config\": {\"name\": \"lstm_2\", \"trainable\": true, \"return_sequences\": false, \"return_state\": false, \"go_backwards\": false, \"stateful\": false, \"unroll\": false, \"units\": 64, \"activation\": \"tanh\", \"recurrent_activation\": \"hard_sigmoid\", \"use_bias\": true, \"kernel_initializer\": {\"class_name\": \"VarianceScaling\", \"config\": {\"scale\": 1.0, \"mode\": \"fan_avg\", \"distribution\": \"uniform\", \"seed\": null}}, \"recurrent_initializer\": {\"class_name\": \"Orthogonal\", \"config\": {\"gain\": 1.0, \"seed\": null}}, \"bias_initializer\": {\"class_name\": \"Zeros\", \"config\": {}}, \"unit_forget_bias\": true, \"kernel_regularizer\": null, \"recurrent_regularizer\": null, \"bias_regularizer\": null, \"activity_regularizer\": null, \"kernel_constraint\": null, \"recurrent_constraint\": null, \"bias_constraint\": null, \"dropout\": 0.0, \"recurrent_dropout\": 0.0, \"implementation\": 1}}, {\"class_name\": \"RepeatVector\", \"config\": {\"name\": \"repeat_vector_1\", \"trainable\": true, \"n\": 50}}, {\"class_name\": \"LSTM\", \"config\": {\"name\": \"lstm_3\", \"trainable\": true, \"return_sequences\": true, \"return_state\": false, \"go_backwards\": false, \"stateful\": false, \"unroll\": false, \"units\": 64, \"activation\": \"tanh\", \"recurrent_activation\": \"hard_sigmoid\", \"use_bias\": true, \"kernel_initializer\": {\"class_name\": \"VarianceScaling\", \"config\": {\"scale\": 1.0, \"mode\": \"fan_avg\", \"distribution\": \"uniform\", \"seed\": null}}, \"recurrent_initializer\": {\"class_name\": \"Orthogonal\", \"config\": {\"gain\": 1.0, \"seed\": null}}, \"bias_initializer\": {\"class_name\": \"Zeros\", \"config\": {}}, \"unit_forget_bias\": true, \"kernel_regularizer\": null, \"recurrent_regularizer\": null, \"bias_regularizer\": null, \"activity_regularizer\": null, \"kernel_constraint\": null, \"recurrent_constraint\": null, \"bias_constraint\": null, \"dropout\": 0.0, \"recurrent_dropout\": 0.0, \"implementation\": 1}}, {\"class_name\": \"BatchNormalization\", \"config\": {\"name\": \"batch_normalization_2\", \"trainable\": true, \"axis\": -1, \"momentum\": 0.99, \"epsilon\": 0.001, \"center\": true, \"scale\": true, \"beta_initializer\": {\"class_name\": \"Zeros\", \"config\": {}}, \"gamma_initializer\": {\"class_name\": \"Ones\", \"config\": {}}, \"moving_mean_initializer\": {\"class_name\": \"Zeros\", \"config\": {}}, \"moving_variance_initializer\": {\"class_name\": \"Ones\", \"config\": {}}, \"beta_regularizer\": null, \"gamma_regularizer\": null, \"beta_constraint\": null, \"gamma_constraint\": null}}, {\"class_name\": \"Dropout\", \"config\": {\"name\": \"dropout_2\", \"trainable\": true, \"rate\": 0.3, \"noise_shape\": null, \"seed\": null}}, {\"class_name\": \"LSTM\", \"config\": {\"name\": \"lstm_4\", \"trainable\": true, \"return_sequences\": true, \"return_state\": false, \"go_backwards\": false, \"stateful\": false, \"unroll\": false, \"units\": 64, \"activation\": \"tanh\", \"recurrent_activation\": \"hard_sigmoid\", \"use_bias\": true, \"kernel_initializer\": {\"class_name\": \"VarianceScaling\", \"config\": {\"scale\": 1.0, \"mode\": \"fan_avg\", \"distribution\": \"uniform\", \"seed\": null}}, \"recurrent_initializer\": {\"class_name\": \"Orthogonal\", \"config\": {\"gain\": 1.0, \"seed\": null}}, \"bias_initializer\": {\"class_name\": \"Zeros\", \"config\": {}}, \"unit_forget_bias\": true, \"kernel_regularizer\": null, \"recurrent_regularizer\": null, \"bias_regularizer\": null, \"activity_regularizer\": null, \"kernel_constraint\": null, \"recurrent_constraint\": null, \"bias_constraint\": null, \"dropout\": 0.0, \"recurrent_dropout\": 0.0, \"implementation\": 1}}, {\"class_name\": \"BatchNormalization\", \"config\": {\"name\": \"batch_normalization_3\", \"trainable\": true, \"axis\": -1, \"momentum\": 0.99, \"epsilon\": 0.001, \"center\": true, \"scale\": true, \"beta_initializer\": {\"class_name\": \"Zeros\", \"config\": {}}, \"gamma_initializer\": {\"class_name\": \"Ones\", \"config\": {}}, \"moving_mean_initializer\": {\"class_name\": \"Zeros\", \"config\": {}}, \"moving_variance_initializer\": {\"class_name\": \"Ones\", \"config\": {}}, \"beta_regularizer\": null, \"gamma_regularizer\": null, \"beta_constraint\": null, \"gamma_constraint\": null}}, {\"class_name\": \"Dropout\", \"config\": {\"name\": \"dropout_3\", \"trainable\": true, \"rate\": 0.3, \"noise_shape\": null, \"seed\": null}}, {\"class_name\": \"TimeDistributed\", \"config\": {\"name\": \"time_distributed_1\", \"trainable\": true, \"layer\": {\"class_name\": \"Dense\", \"config\": {\"name\": \"dense_1\", \"trainable\": true, \"units\": 49, \"activation\": \"softmax\", \"use_bias\": true, \"kernel_initializer\": {\"class_name\": \"VarianceScaling\", \"config\": {\"scale\": 1.0, \"mode\": \"fan_avg\", \"distribution\": \"uniform\", \"seed\": null}}, \"bias_initializer\": {\"class_name\": \"Zeros\", \"config\": {}}, \"kernel_regularizer\": null, \"bias_regularizer\": null, \"activity_regularizer\": null, \"kernel_constraint\": null, \"bias_constraint\": null}}}}], \"keras_version\": \"2.1.6\", \"backend\": \"tensorflow\"}"
          ],
          "name": "stdout"
        }
      ]
    },
    {
      "metadata": {
        "id": "lb6zIRS8mDi8",
        "colab_type": "text"
      },
      "cell_type": "markdown",
      "source": [
        "**Geração**"
      ]
    },
    {
      "metadata": {
        "id": "4MBwFCIAXdhY",
        "colab_type": "code",
        "colab": {}
      },
      "cell_type": "code",
      "source": [
        "model2 = Sequential()"
      ],
      "execution_count": 0,
      "outputs": []
    },
    {
      "metadata": {
        "id": "MpUFbomfvx2z",
        "colab_type": "code",
        "colab": {}
      },
      "cell_type": "code",
      "source": [
        "model2 = model_from_json(open('model.json').read())"
      ],
      "execution_count": 0,
      "outputs": []
    },
    {
      "metadata": {
        "id": "EyAY8DdnwbnD",
        "colab_type": "code",
        "colab": {
          "base_uri": "https://localhost:8080/",
          "height": 68
        },
        "outputId": "5d3214a1-7ab2-4e2e-db67-1e21311322ef"
      },
      "cell_type": "code",
      "source": [
        "!ls"
      ],
      "execution_count": 86,
      "outputs": [
        {
          "output_type": "stream",
          "text": [
            "datalab\t\t\t     midi\t Music_Generator_Demo\r\n",
            "infographics\t\t     model.h5\t readme.pdf\r\n",
            "LSTM_gen_20180601_12_04.mid  model.json  scale_chords_small.zip\r\n"
          ],
          "name": "stdout"
        }
      ]
    },
    {
      "metadata": {
        "id": "UQz9eleVwCsL",
        "colab_type": "code",
        "colab": {}
      },
      "cell_type": "code",
      "source": [
        "model2.load_weights('model.h5')"
      ],
      "execution_count": 0,
      "outputs": []
    },
    {
      "metadata": {
        "id": "9uIri69i0PA9",
        "colab_type": "code",
        "colab": {
          "base_uri": "https://localhost:8080/",
          "height": 68
        },
        "outputId": "23ac2b06-2ae3-4aea-ed80-236386fed084"
      },
      "cell_type": "code",
      "source": [
        "!ls"
      ],
      "execution_count": 88,
      "outputs": [
        {
          "output_type": "stream",
          "text": [
            "datalab\t\t\t     midi\t Music_Generator_Demo\r\n",
            "infographics\t\t     model.h5\t readme.pdf\r\n",
            "LSTM_gen_20180601_12_04.mid  model.json  scale_chords_small.zip\r\n"
          ],
          "name": "stdout"
        }
      ]
    },
    {
      "metadata": {
        "id": "Ob7tk5zEM0m8",
        "colab_type": "code",
        "colab": {
          "base_uri": "https://localhost:8080/",
          "height": 272
        },
        "outputId": "af03c9c5-81a1-4216-ee9b-d1f356c0d0d9"
      },
      "cell_type": "code",
      "source": [
        "!wget http://www.feelyoursound.com/data/scale_chords_small.zip"
      ],
      "execution_count": 89,
      "outputs": [
        {
          "output_type": "stream",
          "text": [
            "--2018-06-01 13:49:46--  http://www.feelyoursound.com/data/scale_chords_small.zip\n",
            "Resolving www.feelyoursound.com (www.feelyoursound.com)... 81.169.145.164, 2a01:238:20a:202:1164::\n",
            "Connecting to www.feelyoursound.com (www.feelyoursound.com)|81.169.145.164|:80... connected.\n",
            "HTTP request sent, awaiting response... 301 Moved Permanently\n",
            "Location: https://www.feelyoursound.com/data/scale_chords_small.zip [following]\n",
            "--2018-06-01 13:49:46--  https://www.feelyoursound.com/data/scale_chords_small.zip\n",
            "Connecting to www.feelyoursound.com (www.feelyoursound.com)|81.169.145.164|:443... connected.\n",
            "HTTP request sent, awaiting response... 200 OK\n",
            "Length: 6388682 (6.1M) [application/zip]\n",
            "Saving to: ‘scale_chords_small.zip.1’\n",
            "\n",
            "scale_chords_small. 100%[===================>]   6.09M  6.03MB/s    in 1.0s    \n",
            "\n",
            "2018-06-01 13:49:47 (6.03 MB/s) - ‘scale_chords_small.zip.1’ saved [6388682/6388682]\n",
            "\n"
          ],
          "name": "stdout"
        }
      ]
    },
    {
      "metadata": {
        "id": "3jw2A3kIM4J-",
        "colab_type": "code",
        "colab": {
          "base_uri": "https://localhost:8080/",
          "height": 51
        },
        "outputId": "8a8812dd-e677-4156-f001-af33e624cde8"
      },
      "cell_type": "code",
      "source": [
        "!unzip scale_chords_small.zip"
      ],
      "execution_count": 90,
      "outputs": [
        {
          "output_type": "stream",
          "text": [
            "Archive:  scale_chords_small.zip\n",
            "replace infographics/chords_asharp_aeolian.png? [y]es, [n]o, [A]ll, [N]one, [r]ename: ^C\n"
          ],
          "name": "stdout"
        }
      ]
    },
    {
      "metadata": {
        "id": "Y1lE13ZKM4W6",
        "colab_type": "code",
        "colab": {
          "base_uri": "https://localhost:8080/",
          "height": 85
        },
        "outputId": "205533a3-6d2f-473c-d8b2-158d8acadf1e"
      },
      "cell_type": "code",
      "source": [
        "!ls"
      ],
      "execution_count": 91,
      "outputs": [
        {
          "output_type": "stream",
          "text": [
            "datalab\t\t\t     model.h5\t\t   scale_chords_small.zip\r\n",
            "infographics\t\t     model.json\t\t   scale_chords_small.zip.1\r\n",
            "LSTM_gen_20180601_12_04.mid  Music_Generator_Demo\r\n",
            "midi\t\t\t     readme.pdf\r\n"
          ],
          "name": "stdout"
        }
      ]
    },
    {
      "metadata": {
        "id": "tJp38Ni3pJIL",
        "colab_type": "code",
        "colab": {}
      },
      "cell_type": "code",
      "source": [
        "dataset_folder = 'midi'"
      ],
      "execution_count": 0,
      "outputs": []
    },
    {
      "metadata": {
        "id": "SjHWVBO2MCtc",
        "colab_type": "code",
        "colab": {}
      },
      "cell_type": "code",
      "source": [
        "import glob"
      ],
      "execution_count": 0,
      "outputs": []
    },
    {
      "metadata": {
        "id": "i17SyTh2x-lZ",
        "colab_type": "code",
        "colab": {}
      },
      "cell_type": "code",
      "source": [
        "midi_files  = glob.glob(dataset_folder +'/*.mid')"
      ],
      "execution_count": 0,
      "outputs": []
    },
    {
      "metadata": {
        "id": "JL9ndLpI0sFA",
        "colab_type": "code",
        "colab": {}
      },
      "cell_type": "code",
      "source": [
        "import random"
      ],
      "execution_count": 0,
      "outputs": []
    },
    {
      "metadata": {
        "id": "GzmRuw1BMPJe",
        "colab_type": "code",
        "colab": {
          "base_uri": "https://localhost:8080/",
          "height": 34
        },
        "outputId": "1911f3c6-63a8-493b-c73d-5322212f318e"
      },
      "cell_type": "code",
      "source": [
        "len(midi_files)"
      ],
      "execution_count": 96,
      "outputs": [
        {
          "output_type": "execute_result",
          "data": {
            "text/plain": [
              "156"
            ]
          },
          "metadata": {
            "tags": []
          },
          "execution_count": 96
        }
      ]
    },
    {
      "metadata": {
        "id": "sjOINmYkvqfu",
        "colab_type": "code",
        "colab": {}
      },
      "cell_type": "code",
      "source": [
        "file_idx = random.randint(0,len(midi_files) - 1) # escolhe um arquivo mid aleatório"
      ],
      "execution_count": 0,
      "outputs": []
    },
    {
      "metadata": {
        "id": "mMLqX_AewMt4",
        "colab_type": "code",
        "colab": {
          "base_uri": "https://localhost:8080/",
          "height": 34
        },
        "outputId": "262fdc0f-e9bd-40f3-9bc9-35348a3aa666"
      },
      "cell_type": "code",
      "source": [
        "file_idx"
      ],
      "execution_count": 132,
      "outputs": [
        {
          "output_type": "execute_result",
          "data": {
            "text/plain": [
              "60"
            ]
          },
          "metadata": {
            "tags": []
          },
          "execution_count": 132
        }
      ]
    },
    {
      "metadata": {
        "id": "oCg290qdwSNW",
        "colab_type": "code",
        "colab": {}
      },
      "cell_type": "code",
      "source": [
        "primer = midi_files[file_idx]"
      ],
      "execution_count": 0,
      "outputs": []
    },
    {
      "metadata": {
        "id": "JnWOsGXHwSR2",
        "colab_type": "code",
        "colab": {
          "base_uri": "https://localhost:8080/",
          "height": 34
        },
        "outputId": "18c3f368-833f-485e-b0e1-08c123d4539e"
      },
      "cell_type": "code",
      "source": [
        "primer"
      ],
      "execution_count": 134,
      "outputs": [
        {
          "output_type": "execute_result",
          "data": {
            "text/plain": [
              "'midi/scale_gsharp_major.mid'"
            ]
          },
          "metadata": {
            "tags": []
          },
          "execution_count": 134
        }
      ]
    },
    {
      "metadata": {
        "id": "VnxEK3OcxKOr",
        "colab_type": "code",
        "colab": {}
      },
      "cell_type": "code",
      "source": [
        "test_piano_roll = midiToPianoroll(primer)"
      ],
      "execution_count": 0,
      "outputs": []
    },
    {
      "metadata": {
        "id": "my5nh6WVxT8i",
        "colab_type": "code",
        "colab": {
          "base_uri": "https://localhost:8080/",
          "height": 34
        },
        "outputId": "88428ec8-d982-4273-b0e9-2891d00831f2"
      },
      "cell_type": "code",
      "source": [
        "test_piano_roll.shape"
      ],
      "execution_count": 136,
      "outputs": [
        {
          "output_type": "execute_result",
          "data": {
            "text/plain": [
              "(2850, 49)"
            ]
          },
          "metadata": {
            "tags": []
          },
          "execution_count": 136
        }
      ]
    },
    {
      "metadata": {
        "id": "WfUMdAwfybDF",
        "colab_type": "code",
        "colab": {}
      },
      "cell_type": "code",
      "source": [
        "test_data = [test_piano_roll]"
      ],
      "execution_count": 0,
      "outputs": []
    },
    {
      "metadata": {
        "id": "Q5Gzk2MNynpJ",
        "colab_type": "code",
        "colab": {}
      },
      "cell_type": "code",
      "source": [
        "#create Network inputs\n",
        "def createSeqTestNetInputs(pianoroll_data, seq_length):\n",
        "\tx_test = []\n",
        "\t\n",
        "\tfor i,piano_roll in enumerate(pianoroll_data):\n",
        "\t\tprint (\"piano_roll.shape\", piano_roll.shape)\n",
        "\t\tx = []\n",
        "\t\tpos = 0\n",
        "\t\twhile pos + seq_length < piano_roll.shape[0]:\n",
        "\t\t\tx.append(piano_roll[pos:pos + seq_length])\n",
        "\t\t\tpos +=1\n",
        "\t\tx_test.append(np.array(x))\n",
        "\n",
        "\tprint(\"x_test shape\", np.array(x_test).shape)\n",
        "\n",
        "\treturn np.array(x_test)"
      ],
      "execution_count": 0,
      "outputs": []
    },
    {
      "metadata": {
        "id": "a6Cad6GAxwD9",
        "colab_type": "code",
        "colab": {
          "base_uri": "https://localhost:8080/",
          "height": 51
        },
        "outputId": "b84b92ac-fdc7-464f-d011-54c5d463263e"
      },
      "cell_type": "code",
      "source": [
        "test_input = createSeqTestNetInputs(test_data, x_seq_length)"
      ],
      "execution_count": 139,
      "outputs": [
        {
          "output_type": "stream",
          "text": [
            "piano_roll.shape (2850, 49)\n",
            "x_test shape (1, 2800, 50, 49)\n"
          ],
          "name": "stdout"
        }
      ]
    },
    {
      "metadata": {
        "id": "8piAWJaz4WGz",
        "colab_type": "code",
        "colab": {}
      },
      "cell_type": "code",
      "source": [
        "import time"
      ],
      "execution_count": 0,
      "outputs": []
    },
    {
      "metadata": {
        "id": "mQSg7v7N4aEt",
        "colab_type": "code",
        "colab": {}
      },
      "cell_type": "code",
      "source": [
        "generated_file = 'LSTM_gen_%s.mid' %(time.strftime(\"%Y%m%d_%H_%M\"))"
      ],
      "execution_count": 0,
      "outputs": []
    },
    {
      "metadata": {
        "id": "7ZnYNMJ44bqt",
        "colab_type": "code",
        "colab": {
          "base_uri": "https://localhost:8080/",
          "height": 34
        },
        "outputId": "423501eb-5bd5-43b9-aad8-cb5a87ad3590"
      },
      "cell_type": "code",
      "source": [
        "print(generated_file)"
      ],
      "execution_count": 142,
      "outputs": [
        {
          "output_type": "stream",
          "text": [
            "LSTM_gen_20180601_18_25.mid\n"
          ],
          "name": "stdout"
        }
      ]
    },
    {
      "metadata": {
        "id": "imahiAAd4n7f",
        "colab_type": "code",
        "colab": {}
      },
      "cell_type": "code",
      "source": [
        "def seqNetOutToPianoroll(output, threshold = 0.1):\n",
        "\tpiano_roll = []\n",
        "\tfor seq_out in output:\n",
        "\t\tfor time_slice in seq_out:\n",
        "\t\t\tidx = [i for i,t in enumerate(time_slice) if t > threshold]\n",
        "\t\t\tpianoroll_slice = np.zeros(time_slice.shape)\n",
        "\t\t\tpianoroll_slice[idx] = 1\n",
        "\t\t\tpiano_roll.append(pianoroll_slice)\n",
        "\n",
        "\treturn np.array(piano_roll)"
      ],
      "execution_count": 0,
      "outputs": []
    },
    {
      "metadata": {
        "id": "F5gvNNij7RgB",
        "colab_type": "code",
        "colab": {}
      },
      "cell_type": "code",
      "source": [
        "# pianoroll to MIDI\n",
        "def pianorollToMidi(piano_roll, filepath):\n",
        "    #ensure that resolution is an integer \n",
        "\tticks_per_time_slice=1 # hard-coded, arbitrary but needs to be >= 1 and an integer to avoid distortion\n",
        "\ttempo = 1/time_per_time_slice\n",
        "\tresolution = 60*ticks_per_time_slice/(tempo*time_per_time_slice)\n",
        "\n",
        "\tmid = MidiFile(ticks_per_beat = int(resolution))\n",
        "\ttrack = MidiTrack()\n",
        "\tmid.tracks.append(track)\n",
        "\ttrack.append(MetaMessage('set_tempo', tempo = int(MICROSECONDS_PER_MINUTE/tempo), time =0))\n",
        "\n",
        "\tcurrent_state = np.zeros(input_dim)\n",
        "\n",
        "\tindex_of_last_event = 0\n",
        "\n",
        "\tfor slice_index, time_slice in enumerate(np.concatenate((piano_roll, np.zeros((1, input_dim))), axis =0)):\n",
        "\t\tnote_changes = time_slice - current_state\n",
        "\t\t\n",
        "\t\tfor note_idx, note in enumerate(note_changes):\n",
        "\t\t\tif note == 1:\n",
        "\t\t\t\tnote_event = Message('note_on', time = (slice_index - index_of_last_event)*ticks_per_time_slice, velocity = 65, note = note_idx + lowest_note )\n",
        "\t\t\t\ttrack.append(note_event)\n",
        "\t\t\t\tindex_of_last_event = slice_index\n",
        "\t\t\telif note == -1:\n",
        "\t\t\t\tnote_event = Message('note_off', time = (slice_index - index_of_last_event)*ticks_per_time_slice, velocity = 65, note = note_idx + lowest_note )\n",
        "\t\t\t\ttrack.append(note_event)\n",
        "\t\t\t\tindex_of_last_event = slice_index\n",
        "\n",
        "\t\tcurrent_state = time_slice\n",
        "\n",
        "\teot = MetaMessage('end_of_track', time=1)\n",
        "\ttrack.append(eot)\n",
        "\t\n",
        "\tmid.save(filepath)"
      ],
      "execution_count": 0,
      "outputs": []
    },
    {
      "metadata": {
        "id": "LXzB4DfozPZB",
        "colab_type": "code",
        "colab": {
          "base_uri": "https://localhost:8080/",
          "height": 51
        },
        "outputId": "da29035e-c194-4ced-d2a2-8e8a8a472c0b"
      },
      "cell_type": "code",
      "source": [
        "for i,song in enumerate(test_input):\n",
        "  net_output = model.predict(song)\n",
        "  print(\"net_output:\", np.array(net_output.shape))\n",
        "  net_roll = seqNetOutToPianoroll(net_output)\n",
        "  print(\"net_roll:\", net_roll.shape)\n",
        "  pianorollToMidi(net_roll, generated_file)\n",
        "    "
      ],
      "execution_count": 145,
      "outputs": [
        {
          "output_type": "stream",
          "text": [
            "net_output: [2800   50   49]\n",
            "net_roll: (140000, 49)\n"
          ],
          "name": "stdout"
        }
      ]
    },
    {
      "metadata": {
        "id": "AD76XkcdzIDd",
        "colab_type": "code",
        "colab": {
          "base_uri": "https://localhost:8080/",
          "height": 119
        },
        "outputId": "70a3c0e9-b7d3-4b16-c080-8e1b44b1e8bf"
      },
      "cell_type": "code",
      "source": [
        "!ls"
      ],
      "execution_count": 146,
      "outputs": [
        {
          "output_type": "stream",
          "text": [
            "datalab\t\t\t     model.h5\r\n",
            "infographics\t\t     model.json\r\n",
            "LSTM_gen_20180601_12_04.mid  Music_Generator_Demo\r\n",
            "LSTM_gen_20180601_14_41.mid  readme.pdf\r\n",
            "LSTM_gen_20180601_18_25.mid  scale_chords_small.zip\r\n",
            "midi\t\t\t     scale_chords_small.zip.1\r\n"
          ],
          "name": "stdout"
        }
      ]
    },
    {
      "metadata": {
        "id": "omuNi6SR254V",
        "colab_type": "code",
        "colab": {}
      },
      "cell_type": "code",
      "source": [
        "from google.colab import files\n",
        "files.download(generated_file)  # from colab to browser download"
      ],
      "execution_count": 0,
      "outputs": []
    },
    {
      "metadata": {
        "id": "T4R7ZS75ypUr",
        "colab_type": "code",
        "colab": {}
      },
      "cell_type": "code",
      "source": [
        "from google.colab import files\n",
        "files.download('model.h5')  # from colab to browser download"
      ],
      "execution_count": 0,
      "outputs": []
    },
    {
      "metadata": {
        "id": "knte4HCk-MGB",
        "colab_type": "code",
        "colab": {}
      },
      "cell_type": "code",
      "source": [
        ""
      ],
      "execution_count": 0,
      "outputs": []
    }
  ]
}