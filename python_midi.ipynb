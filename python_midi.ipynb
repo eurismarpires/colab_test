{
  "nbformat": 4,
  "nbformat_minor": 0,
  "metadata": {
    "colab": {
      "name": "python_midi.ipynb",
      "version": "0.3.2",
      "provenance": [],
      "collapsed_sections": []
    },
    "kernelspec": {
      "name": "python2",
      "display_name": "Python 2"
    },
    "accelerator": "GPU"
  },
  "cells": [
    {
      "cell_type": "markdown",
      "metadata": {
        "id": "view-in-github",
        "colab_type": "text"
      },
      "source": [
        "[View in Colaboratory](https://colab.research.google.com/github/eurismarpires/colab_test/blob/master/python_midi.ipynb)"
      ]
    },
    {
      "metadata": {
        "id": "YkTDKycpn5yR",
        "colab_type": "text"
      },
      "cell_type": "markdown",
      "source": [
        "**Download midi e instalação do Python Midi**"
      ]
    },
    {
      "metadata": {
        "id": "shH_1rjpwJRK",
        "colab_type": "code",
        "colab": {
          "base_uri": "https://localhost:8080/",
          "height": 34
        },
        "outputId": "940014f6-3de0-4cb4-971d-91a264d60449"
      },
      "cell_type": "code",
      "source": [
        "!ls"
      ],
      "execution_count": 1,
      "outputs": [
        {
          "output_type": "stream",
          "text": [
            "datalab\r\n"
          ],
          "name": "stdout"
        }
      ]
    },
    {
      "metadata": {
        "id": "UWYremrZlo8e",
        "colab_type": "code",
        "colab": {
          "base_uri": "https://localhost:8080/",
          "height": 102
        },
        "outputId": "1125f616-4cc6-44d5-ee31-1ea014055eb3"
      },
      "cell_type": "code",
      "source": [
        "!git clone https://github.com/llSourcell/Music_Generator_Demo.git"
      ],
      "execution_count": 2,
      "outputs": [
        {
          "output_type": "stream",
          "text": [
            "Cloning into 'Music_Generator_Demo'...\n",
            "remote: Counting objects: 218, done.\u001b[K\n",
            "remote: Total 218 (delta 0), reused 0 (delta 0), pack-reused 218\u001b[K\n",
            "Receiving objects: 100% (218/218), 66.15 KiB | 6.62 MiB/s, done.\n",
            "Resolving deltas: 100% (40/40), done.\n"
          ],
          "name": "stdout"
        }
      ]
    },
    {
      "metadata": {
        "id": "WxcrkRhXnsOn",
        "colab_type": "code",
        "colab": {
          "base_uri": "https://localhost:8080/",
          "height": 34
        },
        "outputId": "30e2ec64-6cd2-4b76-e6ed-d758f9274217"
      },
      "cell_type": "code",
      "source": [
        "!ls"
      ],
      "execution_count": 3,
      "outputs": [
        {
          "output_type": "stream",
          "text": [
            "datalab  Music_Generator_Demo\r\n"
          ],
          "name": "stdout"
        }
      ]
    },
    {
      "metadata": {
        "id": "lwQdoQojmEtR",
        "colab_type": "code",
        "colab": {
          "base_uri": "https://localhost:8080/",
          "height": 173
        },
        "outputId": "9624dfd5-ea6a-45d3-be7b-54082730e89e"
      },
      "cell_type": "code",
      "source": [
        "!pip install python-midi"
      ],
      "execution_count": 4,
      "outputs": [
        {
          "output_type": "stream",
          "text": [
            "Collecting python-midi\n",
            "  Downloading https://files.pythonhosted.org/packages/8d/e1/fd34aa05508d907449fb2d66a679d4f98eeeacdb4b3c7e6af87d91c4fa21/python-midi-v0.2.4.tar.gz\n",
            "Building wheels for collected packages: python-midi\n",
            "  Running setup.py bdist_wheel for python-midi ... \u001b[?25l-\b \bdone\n",
            "\u001b[?25h  Stored in directory: /content/.cache/pip/wheels/98/7a/2d/25a0047a3aac9bfa40e897f8ff565a1f0f2aab2eb2232ca4df\n",
            "Successfully built python-midi\n",
            "Installing collected packages: python-midi\n",
            "Successfully installed python-midi-0.2.4\n"
          ],
          "name": "stdout"
        }
      ]
    },
    {
      "metadata": {
        "id": "7y0TWVFunE3T",
        "colab_type": "code",
        "colab": {
          "base_uri": "https://localhost:8080/",
          "height": 34
        },
        "outputId": "085c1dad-ab85-4c6d-8fae-9db23ad21243"
      },
      "cell_type": "code",
      "source": [
        "!ls"
      ],
      "execution_count": 5,
      "outputs": [
        {
          "output_type": "stream",
          "text": [
            "datalab  Music_Generator_Demo\r\n"
          ],
          "name": "stdout"
        }
      ]
    },
    {
      "metadata": {
        "id": "isxrAwBBnkXe",
        "colab_type": "code",
        "colab": {}
      },
      "cell_type": "code",
      "source": [
        ""
      ],
      "execution_count": 0,
      "outputs": []
    },
    {
      "metadata": {
        "id": "UpuRBjr_lf3u",
        "colab_type": "text"
      },
      "cell_type": "markdown",
      "source": [
        "## links uteis\n",
        "### https://www.dataquest.io/blog/pandas-python-tutorial/\n",
        "### https://blogs.technet.microsoft.com/machinelearning/2017/12/06/music-generation-with-azure-machine-learning/\n",
        "### https://github.com/vishnubob/python-midi\n",
        "### https://github.com/llSourcell/Music_Generator_Demo/blob/master/midi_manipulation.py"
      ]
    },
    {
      "metadata": {
        "id": "FuDRrCT3lf3v",
        "colab_type": "code",
        "colab": {}
      },
      "cell_type": "code",
      "source": [
        "import pandas as pd"
      ],
      "execution_count": 0,
      "outputs": []
    },
    {
      "metadata": {
        "id": "h_1MKbd-lf3y",
        "colab_type": "code",
        "colab": {}
      },
      "cell_type": "code",
      "source": [
        "import midi"
      ],
      "execution_count": 0,
      "outputs": []
    },
    {
      "metadata": {
        "id": "wec1dOo-lf31",
        "colab_type": "code",
        "colab": {}
      },
      "cell_type": "code",
      "source": [
        "midifile = 'Music_Generator_Demo/Pop_Music_Midi/Beautiful Life - Chorus.midi'"
      ],
      "execution_count": 0,
      "outputs": []
    },
    {
      "metadata": {
        "id": "eSRr1BdDKhWm",
        "colab_type": "code",
        "colab": {
          "base_uri": "https://localhost:8080/",
          "height": 34
        },
        "outputId": "4a2ae549-8e7b-46b7-94dc-d4f09e7cf197"
      },
      "cell_type": "code",
      "source": [
        "!ls Music_Generator_Demo/Pop_Music_Midi/Beautiful\\ Life\\ -\\ Chorus.midi"
      ],
      "execution_count": 195,
      "outputs": [
        {
          "output_type": "stream",
          "text": [
            "Music_Generator_Demo/Pop_Music_Midi/Beautiful Life - Chorus.midi\r\n"
          ],
          "name": "stdout"
        }
      ]
    },
    {
      "metadata": {
        "id": "3LIDxBl5KHE2",
        "colab_type": "code",
        "colab": {}
      },
      "cell_type": "code",
      "source": [
        "#Music_Generator_Demo/Pop_Music_Midi/Beautiful\\ Life\\ -\\ Chorus.midi"
      ],
      "execution_count": 0,
      "outputs": []
    },
    {
      "metadata": {
        "id": "eqZotrYblf34",
        "colab_type": "code",
        "colab": {}
      },
      "cell_type": "code",
      "source": [
        "pattern = midi.read_midifile(midifile)"
      ],
      "execution_count": 0,
      "outputs": []
    },
    {
      "metadata": {
        "id": "zdaeBZhalf36",
        "colab_type": "code",
        "colab": {
          "base_uri": "https://localhost:8080/",
          "height": 3519
        },
        "outputId": "f32b1d6a-a966-49fb-875b-a51960eeca80"
      },
      "cell_type": "code",
      "source": [
        "pattern"
      ],
      "execution_count": 198,
      "outputs": [
        {
          "output_type": "execute_result",
          "data": {
            "text/plain": [
              "midi.Pattern(format=1, resolution=128, tracks=\\\n",
              "[midi.Track(\\\n",
              "  [midi.SetTempoEvent(tick=0, data=[7, 161, 32]),\n",
              "   midi.TrackNameEvent(tick=0, text='\\x00', data=[0]),\n",
              "   midi.TimeSignatureEvent(tick=0, data=[4, 2, 24, 8]),\n",
              "   midi.KeySignatureEvent(tick=0, data=[0, 0]),\n",
              "   midi.ProgramChangeEvent(tick=0, channel=0, data=[1]),\n",
              "   midi.NoteOnEvent(tick=64, channel=1, data=[62, 102]),\n",
              "   midi.NoteOffEvent(tick=63, channel=1, data=[62, 90]),\n",
              "   midi.NoteOnEvent(tick=1, channel=1, data=[65, 102]),\n",
              "   midi.NoteOffEvent(tick=63, channel=1, data=[65, 90]),\n",
              "   midi.NoteOnEvent(tick=1, channel=1, data=[67, 102]),\n",
              "   midi.NoteOffEvent(tick=63, channel=1, data=[67, 90]),\n",
              "   midi.NoteOnEvent(tick=1, channel=1, data=[69, 102]),\n",
              "   midi.NoteOffEvent(tick=63, channel=1, data=[69, 90]),\n",
              "   midi.NoteOnEvent(tick=1, channel=1, data=[60, 102]),\n",
              "   midi.NoteOffEvent(tick=63, channel=1, data=[60, 90]),\n",
              "   midi.NoteOnEvent(tick=1, channel=1, data=[60, 102]),\n",
              "   midi.NoteOffEvent(tick=63, channel=1, data=[60, 90]),\n",
              "   midi.NoteOnEvent(tick=1, channel=1, data=[60, 102]),\n",
              "   midi.NoteOffEvent(tick=63, channel=1, data=[60, 90]),\n",
              "   midi.NoteOnEvent(tick=1, channel=1, data=[59, 102]),\n",
              "   midi.NoteOffEvent(tick=63, channel=1, data=[59, 90]),\n",
              "   midi.NoteOnEvent(tick=1, channel=1, data=[60, 102]),\n",
              "   midi.NoteOffEvent(tick=63, channel=1, data=[60, 90]),\n",
              "   midi.NoteOnEvent(tick=1, channel=1, data=[59, 102]),\n",
              "   midi.NoteOffEvent(tick=63, channel=1, data=[59, 90]),\n",
              "   midi.NoteOnEvent(tick=1, channel=1, data=[57, 102]),\n",
              "   midi.NoteOffEvent(tick=126, channel=1, data=[57, 90]),\n",
              "   midi.NoteOnEvent(tick=194, channel=1, data=[57, 102]),\n",
              "   midi.NoteOffEvent(tick=63, channel=1, data=[57, 90]),\n",
              "   midi.NoteOnEvent(tick=1, channel=1, data=[60, 102]),\n",
              "   midi.NoteOffEvent(tick=63, channel=1, data=[60, 90]),\n",
              "   midi.NoteOnEvent(tick=1, channel=1, data=[65, 102]),\n",
              "   midi.NoteOffEvent(tick=63, channel=1, data=[65, 90]),\n",
              "   midi.NoteOnEvent(tick=1, channel=1, data=[67, 102]),\n",
              "   midi.NoteOffEvent(tick=63, channel=1, data=[67, 90]),\n",
              "   midi.NoteOnEvent(tick=1, channel=1, data=[69, 102]),\n",
              "   midi.NoteOffEvent(tick=63, channel=1, data=[69, 90]),\n",
              "   midi.NoteOnEvent(tick=1, channel=1, data=[69, 102]),\n",
              "   midi.NoteOffEvent(tick=63, channel=1, data=[69, 90]),\n",
              "   midi.NoteOnEvent(tick=1, channel=1, data=[69, 102]),\n",
              "   midi.NoteOffEvent(tick=63, channel=1, data=[69, 90]),\n",
              "   midi.NoteOnEvent(tick=1, channel=1, data=[72, 102]),\n",
              "   midi.NoteOffEvent(tick=63, channel=1, data=[72, 90]),\n",
              "   midi.NoteOnEvent(tick=1, channel=1, data=[71, 102]),\n",
              "   midi.NoteOffEvent(tick=63, channel=1, data=[71, 90]),\n",
              "   midi.NoteOnEvent(tick=1, channel=1, data=[72, 102]),\n",
              "   midi.NoteOffEvent(tick=63, channel=1, data=[72, 90]),\n",
              "   midi.NoteOnEvent(tick=1, channel=1, data=[71, 102]),\n",
              "   midi.NoteOffEvent(tick=63, channel=1, data=[71, 90]),\n",
              "   midi.NoteOnEvent(tick=1, channel=1, data=[69, 102]),\n",
              "   midi.NoteOffEvent(tick=63, channel=1, data=[69, 90]),\n",
              "   midi.NoteOnEvent(tick=1, channel=1, data=[69, 102]),\n",
              "   midi.NoteOffEvent(tick=63, channel=1, data=[69, 90]),\n",
              "   midi.NoteOnEvent(tick=1, channel=1, data=[69, 102]),\n",
              "   midi.NoteOffEvent(tick=63, channel=1, data=[69, 90]),\n",
              "   midi.NoteOnEvent(tick=1, channel=1, data=[69, 102]),\n",
              "   midi.NoteOffEvent(tick=63, channel=1, data=[69, 90]),\n",
              "   midi.NoteOnEvent(tick=1, channel=1, data=[69, 102]),\n",
              "   midi.NoteOffEvent(tick=63, channel=1, data=[69, 90]),\n",
              "   midi.EndOfTrackEvent(tick=0, data=[])]),\n",
              " midi.Track(\\\n",
              "  [midi.SetTempoEvent(tick=0, data=[7, 161, 32]),\n",
              "   midi.TrackNameEvent(tick=0, text='\\x00', data=[0]),\n",
              "   midi.TimeSignatureEvent(tick=0, data=[4, 2, 24, 8]),\n",
              "   midi.KeySignatureEvent(tick=0, data=[0, 0]),\n",
              "   midi.ProgramChangeEvent(tick=0, channel=0, data=[2]),\n",
              "   midi.NoteOnEvent(tick=0, channel=2, data=[62, 81]),\n",
              "   midi.NoteOnEvent(tick=0, channel=2, data=[65, 81]),\n",
              "   midi.NoteOnEvent(tick=0, channel=2, data=[57, 81]),\n",
              "   midi.NoteOffEvent(tick=126, channel=2, data=[57, 90]),\n",
              "   midi.NoteOffEvent(tick=0, channel=2, data=[62, 90]),\n",
              "   midi.NoteOffEvent(tick=0, channel=2, data=[65, 90]),\n",
              "   midi.NoteOnEvent(tick=2, channel=2, data=[57, 31]),\n",
              "   midi.NoteOnEvent(tick=0, channel=2, data=[65, 31]),\n",
              "   midi.NoteOnEvent(tick=0, channel=2, data=[62, 31]),\n",
              "   midi.NoteOffEvent(tick=126, channel=2, data=[57, 90]),\n",
              "   midi.NoteOffEvent(tick=0, channel=2, data=[62, 90]),\n",
              "   midi.NoteOffEvent(tick=0, channel=2, data=[65, 90]),\n",
              "   midi.NoteOnEvent(tick=2, channel=2, data=[57, 81]),\n",
              "   midi.NoteOnEvent(tick=0, channel=2, data=[65, 81]),\n",
              "   midi.NoteOnEvent(tick=0, channel=2, data=[60, 81]),\n",
              "   midi.NoteOffEvent(tick=126, channel=2, data=[60, 90]),\n",
              "   midi.NoteOffEvent(tick=0, channel=2, data=[65, 90]),\n",
              "   midi.NoteOffEvent(tick=0, channel=2, data=[57, 90]),\n",
              "   midi.NoteOnEvent(tick=2, channel=2, data=[60, 31]),\n",
              "   midi.NoteOnEvent(tick=0, channel=2, data=[65, 31]),\n",
              "   midi.NoteOnEvent(tick=0, channel=2, data=[57, 31]),\n",
              "   midi.NoteOffEvent(tick=126, channel=2, data=[60, 90]),\n",
              "   midi.NoteOffEvent(tick=0, channel=2, data=[57, 90]),\n",
              "   midi.NoteOffEvent(tick=0, channel=2, data=[65, 90]),\n",
              "   midi.NoteOnEvent(tick=2, channel=2, data=[59, 81]),\n",
              "   midi.NoteOnEvent(tick=0, channel=2, data=[62, 81]),\n",
              "   midi.NoteOnEvent(tick=0, channel=2, data=[67, 81]),\n",
              "   midi.NoteOffEvent(tick=126, channel=2, data=[67, 90]),\n",
              "   midi.NoteOffEvent(tick=0, channel=2, data=[59, 90]),\n",
              "   midi.NoteOffEvent(tick=0, channel=2, data=[62, 90]),\n",
              "   midi.NoteOnEvent(tick=2, channel=2, data=[67, 31]),\n",
              "   midi.NoteOnEvent(tick=0, channel=2, data=[59, 31]),\n",
              "   midi.NoteOnEvent(tick=0, channel=2, data=[62, 31]),\n",
              "   midi.NoteOffEvent(tick=63, channel=2, data=[59, 90]),\n",
              "   midi.NoteOffEvent(tick=0, channel=2, data=[62, 90]),\n",
              "   midi.NoteOffEvent(tick=0, channel=2, data=[67, 90]),\n",
              "   midi.NoteOnEvent(tick=1, channel=2, data=[61, 81]),\n",
              "   midi.NoteOnEvent(tick=0, channel=2, data=[57, 81]),\n",
              "   midi.NoteOnEvent(tick=0, channel=2, data=[64, 81]),\n",
              "   midi.NoteOffEvent(tick=190, channel=2, data=[57, 90]),\n",
              "   midi.NoteOffEvent(tick=0, channel=2, data=[61, 90]),\n",
              "   midi.NoteOffEvent(tick=0, channel=2, data=[64, 90]),\n",
              "   midi.NoteOnEvent(tick=2, channel=2, data=[61, 31]),\n",
              "   midi.NoteOnEvent(tick=0, channel=2, data=[64, 31]),\n",
              "   midi.NoteOnEvent(tick=0, channel=2, data=[57, 31]),\n",
              "   midi.NoteOffEvent(tick=126, channel=2, data=[57, 90]),\n",
              "   midi.NoteOffEvent(tick=0, channel=2, data=[61, 90]),\n",
              "   midi.NoteOffEvent(tick=0, channel=2, data=[64, 90]),\n",
              "   midi.NoteOnEvent(tick=2, channel=2, data=[60, 81]),\n",
              "   midi.NoteOnEvent(tick=0, channel=2, data=[57, 81]),\n",
              "   midi.NoteOnEvent(tick=0, channel=2, data=[65, 81]),\n",
              "   midi.NoteOffEvent(tick=126, channel=2, data=[57, 90]),\n",
              "   midi.NoteOffEvent(tick=0, channel=2, data=[60, 90]),\n",
              "   midi.NoteOffEvent(tick=0, channel=2, data=[65, 90]),\n",
              "   midi.NoteOnEvent(tick=2, channel=2, data=[60, 31]),\n",
              "   midi.NoteOnEvent(tick=0, channel=2, data=[65, 31]),\n",
              "   midi.NoteOnEvent(tick=0, channel=2, data=[57, 31]),\n",
              "   midi.NoteOffEvent(tick=126, channel=2, data=[57, 90]),\n",
              "   midi.NoteOffEvent(tick=0, channel=2, data=[60, 90]),\n",
              "   midi.NoteOffEvent(tick=0, channel=2, data=[65, 90]),\n",
              "   midi.NoteOnEvent(tick=2, channel=2, data=[57, 59]),\n",
              "   midi.NoteOnEvent(tick=0, channel=2, data=[65, 59]),\n",
              "   midi.NoteOnEvent(tick=0, channel=2, data=[60, 59]),\n",
              "   midi.NoteOffEvent(tick=126, channel=2, data=[57, 90]),\n",
              "   midi.NoteOffEvent(tick=0, channel=2, data=[60, 90]),\n",
              "   midi.NoteOffEvent(tick=0, channel=2, data=[65, 90]),\n",
              "   midi.NoteOnEvent(tick=2, channel=2, data=[57, 31]),\n",
              "   midi.NoteOnEvent(tick=0, channel=2, data=[65, 31]),\n",
              "   midi.NoteOnEvent(tick=0, channel=2, data=[60, 31]),\n",
              "   midi.NoteOffEvent(tick=63, channel=2, data=[57, 90]),\n",
              "   midi.NoteOffEvent(tick=0, channel=2, data=[60, 90]),\n",
              "   midi.NoteOffEvent(tick=0, channel=2, data=[65, 90]),\n",
              "   midi.NoteOnEvent(tick=1, channel=2, data=[57, 81]),\n",
              "   midi.NoteOnEvent(tick=0, channel=2, data=[64, 81]),\n",
              "   midi.NoteOnEvent(tick=0, channel=2, data=[60, 81]),\n",
              "   midi.NoteOffEvent(tick=63, channel=2, data=[57, 90]),\n",
              "   midi.NoteOffEvent(tick=0, channel=2, data=[60, 90]),\n",
              "   midi.NoteOffEvent(tick=0, channel=2, data=[64, 90]),\n",
              "   midi.NoteOnEvent(tick=1, channel=2, data=[59, 81]),\n",
              "   midi.NoteOnEvent(tick=0, channel=2, data=[67, 81]),\n",
              "   midi.NoteOnEvent(tick=0, channel=2, data=[62, 81]),\n",
              "   midi.NoteOffEvent(tick=126, channel=2, data=[59, 90]),\n",
              "   midi.NoteOffEvent(tick=0, channel=2, data=[62, 90]),\n",
              "   midi.NoteOffEvent(tick=0, channel=2, data=[67, 90]),\n",
              "   midi.NoteOnEvent(tick=2, channel=2, data=[59, 31]),\n",
              "   midi.NoteOnEvent(tick=0, channel=2, data=[67, 31]),\n",
              "   midi.NoteOnEvent(tick=0, channel=2, data=[62, 31]),\n",
              "   midi.NoteOffEvent(tick=63, channel=2, data=[59, 90]),\n",
              "   midi.NoteOffEvent(tick=0, channel=2, data=[62, 90]),\n",
              "   midi.NoteOffEvent(tick=0, channel=2, data=[67, 90]),\n",
              "   midi.NoteOnEvent(tick=1, channel=2, data=[57, 81]),\n",
              "   midi.NoteOnEvent(tick=0, channel=2, data=[64, 81]),\n",
              "   midi.NoteOnEvent(tick=0, channel=2, data=[61, 81]),\n",
              "   midi.NoteOffEvent(tick=190, channel=2, data=[57, 90]),\n",
              "   midi.NoteOffEvent(tick=0, channel=2, data=[61, 90]),\n",
              "   midi.NoteOffEvent(tick=0, channel=2, data=[64, 90]),\n",
              "   midi.NoteOnEvent(tick=2, channel=2, data=[57, 31]),\n",
              "   midi.NoteOnEvent(tick=0, channel=2, data=[64, 31]),\n",
              "   midi.NoteOnEvent(tick=0, channel=2, data=[61, 31]),\n",
              "   midi.NoteOffEvent(tick=126, channel=2, data=[57, 90]),\n",
              "   midi.NoteOffEvent(tick=0, channel=2, data=[61, 90]),\n",
              "   midi.NoteOffEvent(tick=0, channel=2, data=[64, 90]),\n",
              "   midi.EndOfTrackEvent(tick=0, data=[])]),\n",
              " midi.Track(\\\n",
              "  [midi.SetTempoEvent(tick=0, data=[7, 161, 32]),\n",
              "   midi.TrackNameEvent(tick=0, text='\\x00', data=[0]),\n",
              "   midi.TimeSignatureEvent(tick=0, data=[4, 2, 24, 8]),\n",
              "   midi.KeySignatureEvent(tick=0, data=[0, 0]),\n",
              "   midi.ProgramChangeEvent(tick=0, channel=0, data=[10]),\n",
              "   midi.NoteOnEvent(tick=0, channel=3, data=[50, 81]),\n",
              "   midi.NoteOffEvent(tick=190, channel=3, data=[50, 90]),\n",
              "   midi.NoteOnEvent(tick=2, channel=3, data=[50, 59]),\n",
              "   midi.NoteOffEvent(tick=60, channel=3, data=[50, 90]),\n",
              "   midi.NoteOnEvent(tick=4, channel=3, data=[41, 81]),\n",
              "   midi.NoteOffEvent(tick=190, channel=3, data=[41, 90]),\n",
              "   midi.NoteOnEvent(tick=2, channel=3, data=[41, 59]),\n",
              "   midi.NoteOffEvent(tick=60, channel=3, data=[41, 90]),\n",
              "   midi.NoteOnEvent(tick=4, channel=3, data=[43, 81]),\n",
              "   midi.NoteOffEvent(tick=190, channel=3, data=[43, 90]),\n",
              "   midi.NoteOnEvent(tick=2, channel=3, data=[45, 81]),\n",
              "   midi.NoteOffEvent(tick=253, channel=3, data=[45, 90]),\n",
              "   midi.NoteOnEvent(tick=3, channel=3, data=[45, 59]),\n",
              "   midi.NoteOffEvent(tick=60, channel=3, data=[45, 90]),\n",
              "   midi.NoteOnEvent(tick=4, channel=3, data=[41, 81]),\n",
              "   midi.NoteOffEvent(tick=190, channel=3, data=[41, 90]),\n",
              "   midi.NoteOnEvent(tick=2, channel=3, data=[41, 59]),\n",
              "   midi.NoteOffEvent(tick=60, channel=3, data=[41, 90]),\n",
              "   midi.NoteOnEvent(tick=4, channel=3, data=[41, 59]),\n",
              "   midi.NoteOffEvent(tick=190, channel=3, data=[41, 90]),\n",
              "   midi.NoteOnEvent(tick=2, channel=3, data=[45, 81]),\n",
              "   midi.NoteOffEvent(tick=63, channel=3, data=[45, 90]),\n",
              "   midi.NoteOnEvent(tick=1, channel=3, data=[43, 81]),\n",
              "   midi.NoteOffEvent(tick=190, channel=3, data=[43, 90]),\n",
              "   midi.NoteOnEvent(tick=2, channel=3, data=[45, 81]),\n",
              "   midi.NoteOffEvent(tick=253, channel=3, data=[45, 90]),\n",
              "   midi.NoteOnEvent(tick=3, channel=3, data=[45, 59]),\n",
              "   midi.NoteOffEvent(tick=60, channel=3, data=[45, 90]),\n",
              "   midi.EndOfTrackEvent(tick=0, data=[])])])"
            ]
          },
          "metadata": {
            "tags": []
          },
          "execution_count": 198
        }
      ]
    },
    {
      "metadata": {
        "id": "FQyvv7LJlf3_",
        "colab_type": "code",
        "colab": {
          "base_uri": "https://localhost:8080/",
          "height": 34
        },
        "outputId": "593b87d8-6cbe-4f46-8ab7-2f181558eb76"
      },
      "cell_type": "code",
      "source": [
        "pattern.format"
      ],
      "execution_count": 199,
      "outputs": [
        {
          "output_type": "execute_result",
          "data": {
            "text/plain": [
              "1"
            ]
          },
          "metadata": {
            "tags": []
          },
          "execution_count": 199
        }
      ]
    },
    {
      "metadata": {
        "id": "Aei6UOcRlf4C",
        "colab_type": "code",
        "colab": {
          "base_uri": "https://localhost:8080/",
          "height": 34
        },
        "outputId": "d668a413-c52a-48e2-ba3f-0a1f1c66bf2f"
      },
      "cell_type": "code",
      "source": [
        "pattern.resolution"
      ],
      "execution_count": 200,
      "outputs": [
        {
          "output_type": "execute_result",
          "data": {
            "text/plain": [
              "128"
            ]
          },
          "metadata": {
            "tags": []
          },
          "execution_count": 200
        }
      ]
    },
    {
      "metadata": {
        "id": "LfF-p3Xulf4F",
        "colab_type": "text"
      },
      "cell_type": "markdown",
      "source": [
        "# The resolution is the number of pulses, or ticks, per quarter note (PPQ)"
      ]
    },
    {
      "metadata": {
        "id": "49_Xss5tlf4F",
        "colab_type": "code",
        "colab": {
          "base_uri": "https://localhost:8080/",
          "height": 34
        },
        "outputId": "6a0024ca-8d98-4549-b3f9-291249574112"
      },
      "cell_type": "code",
      "source": [
        "len(pattern) # numero de canais"
      ],
      "execution_count": 201,
      "outputs": [
        {
          "output_type": "execute_result",
          "data": {
            "text/plain": [
              "3"
            ]
          },
          "metadata": {
            "tags": []
          },
          "execution_count": 201
        }
      ]
    },
    {
      "metadata": {
        "id": "D5zzmB3vlf4J",
        "colab_type": "code",
        "colab": {
          "base_uri": "https://localhost:8080/",
          "height": 34
        },
        "outputId": "525e0983-3978-4666-9373-1e7baed6fdbf"
      },
      "cell_type": "code",
      "source": [
        "len(pattern[0]) # numero de eventos canal 1"
      ],
      "execution_count": 202,
      "outputs": [
        {
          "output_type": "execute_result",
          "data": {
            "text/plain": [
              "60"
            ]
          },
          "metadata": {
            "tags": []
          },
          "execution_count": 202
        }
      ]
    },
    {
      "metadata": {
        "id": "PECrtZwIlf4M",
        "colab_type": "code",
        "colab": {
          "base_uri": "https://localhost:8080/",
          "height": 34
        },
        "outputId": "0c44ec9e-afe1-49a1-8b9b-427e1e42f562"
      },
      "cell_type": "code",
      "source": [
        "pattern[0][0]"
      ],
      "execution_count": 203,
      "outputs": [
        {
          "output_type": "execute_result",
          "data": {
            "text/plain": [
              "midi.SetTempoEvent(tick=0, data=[7, 161, 32])"
            ]
          },
          "metadata": {
            "tags": []
          },
          "execution_count": 203
        }
      ]
    },
    {
      "metadata": {
        "id": "1IC73D76lf4Q",
        "colab_type": "code",
        "colab": {
          "base_uri": "https://localhost:8080/",
          "height": 34
        },
        "outputId": "f9a57f3a-4b30-4276-9063-1c54ec016329"
      },
      "cell_type": "code",
      "source": [
        "pattern[0][1]"
      ],
      "execution_count": 204,
      "outputs": [
        {
          "output_type": "execute_result",
          "data": {
            "text/plain": [
              "midi.TrackNameEvent(tick=0, text='\\x00', data=[0])"
            ]
          },
          "metadata": {
            "tags": []
          },
          "execution_count": 204
        }
      ]
    },
    {
      "metadata": {
        "id": "UQVTIfAklf4T",
        "colab_type": "code",
        "colab": {
          "base_uri": "https://localhost:8080/",
          "height": 34
        },
        "outputId": "5776520f-932b-4eca-91d9-7e41cdf297aa"
      },
      "cell_type": "code",
      "source": [
        "pattern[0][2]"
      ],
      "execution_count": 205,
      "outputs": [
        {
          "output_type": "execute_result",
          "data": {
            "text/plain": [
              "midi.TimeSignatureEvent(tick=0, data=[4, 2, 24, 8])"
            ]
          },
          "metadata": {
            "tags": []
          },
          "execution_count": 205
        }
      ]
    },
    {
      "metadata": {
        "id": "JdMI-OvZlf4X",
        "colab_type": "code",
        "colab": {
          "base_uri": "https://localhost:8080/",
          "height": 359
        },
        "outputId": "4437ca8b-8421-48e0-fd3a-39b9d91d8d06"
      },
      "cell_type": "code",
      "source": [
        "track = 0\n",
        "tick = []\n",
        "channel = []\n",
        "data = []\n",
        "name = []\n",
        "tipo = []\n",
        "data_0 = []\n",
        "tick_acum = []\n",
        "acum = 0\n",
        "for evt in pattern[track]:\n",
        "    if isinstance(evt, midi.NoteEvent):\n",
        "      tick.append(evt.tick)\n",
        "      channel.append(evt.channel)\n",
        "      data.append(evt.data)\n",
        "      name.append(evt.name)\n",
        "      if evt.name=='Note On':\n",
        "        tipo.append(1)\n",
        "      else:\n",
        "        tipo.append(0)\n",
        "      data_0.append(evt.data[0])\n",
        "      acum = acum + evt.tick\n",
        "      tick_acum.append(acum)\n",
        "    \n",
        "df = pd.DataFrame(\n",
        "    {'tick':tick,\n",
        "     'channel':channel,\n",
        "     'data':data,\n",
        "     'data_0':data_0,\n",
        "     'name':name,\n",
        "     'tipo':tipo,\n",
        "     'tick_acum':tick_acum\n",
        "    }\n",
        ")\n",
        "df.head(10)"
      ],
      "execution_count": 206,
      "outputs": [
        {
          "output_type": "execute_result",
          "data": {
            "text/html": [
              "<div>\n",
              "<style scoped>\n",
              "    .dataframe tbody tr th:only-of-type {\n",
              "        vertical-align: middle;\n",
              "    }\n",
              "\n",
              "    .dataframe tbody tr th {\n",
              "        vertical-align: top;\n",
              "    }\n",
              "\n",
              "    .dataframe thead th {\n",
              "        text-align: right;\n",
              "    }\n",
              "</style>\n",
              "<table border=\"1\" class=\"dataframe\">\n",
              "  <thead>\n",
              "    <tr style=\"text-align: right;\">\n",
              "      <th></th>\n",
              "      <th>channel</th>\n",
              "      <th>data</th>\n",
              "      <th>data_0</th>\n",
              "      <th>name</th>\n",
              "      <th>tick</th>\n",
              "      <th>tick_acum</th>\n",
              "      <th>tipo</th>\n",
              "    </tr>\n",
              "  </thead>\n",
              "  <tbody>\n",
              "    <tr>\n",
              "      <th>0</th>\n",
              "      <td>1</td>\n",
              "      <td>[62, 102]</td>\n",
              "      <td>62</td>\n",
              "      <td>Note On</td>\n",
              "      <td>64</td>\n",
              "      <td>64</td>\n",
              "      <td>1</td>\n",
              "    </tr>\n",
              "    <tr>\n",
              "      <th>1</th>\n",
              "      <td>1</td>\n",
              "      <td>[62, 90]</td>\n",
              "      <td>62</td>\n",
              "      <td>Note Off</td>\n",
              "      <td>63</td>\n",
              "      <td>127</td>\n",
              "      <td>0</td>\n",
              "    </tr>\n",
              "    <tr>\n",
              "      <th>2</th>\n",
              "      <td>1</td>\n",
              "      <td>[65, 102]</td>\n",
              "      <td>65</td>\n",
              "      <td>Note On</td>\n",
              "      <td>1</td>\n",
              "      <td>128</td>\n",
              "      <td>1</td>\n",
              "    </tr>\n",
              "    <tr>\n",
              "      <th>3</th>\n",
              "      <td>1</td>\n",
              "      <td>[65, 90]</td>\n",
              "      <td>65</td>\n",
              "      <td>Note Off</td>\n",
              "      <td>63</td>\n",
              "      <td>191</td>\n",
              "      <td>0</td>\n",
              "    </tr>\n",
              "    <tr>\n",
              "      <th>4</th>\n",
              "      <td>1</td>\n",
              "      <td>[67, 102]</td>\n",
              "      <td>67</td>\n",
              "      <td>Note On</td>\n",
              "      <td>1</td>\n",
              "      <td>192</td>\n",
              "      <td>1</td>\n",
              "    </tr>\n",
              "    <tr>\n",
              "      <th>5</th>\n",
              "      <td>1</td>\n",
              "      <td>[67, 90]</td>\n",
              "      <td>67</td>\n",
              "      <td>Note Off</td>\n",
              "      <td>63</td>\n",
              "      <td>255</td>\n",
              "      <td>0</td>\n",
              "    </tr>\n",
              "    <tr>\n",
              "      <th>6</th>\n",
              "      <td>1</td>\n",
              "      <td>[69, 102]</td>\n",
              "      <td>69</td>\n",
              "      <td>Note On</td>\n",
              "      <td>1</td>\n",
              "      <td>256</td>\n",
              "      <td>1</td>\n",
              "    </tr>\n",
              "    <tr>\n",
              "      <th>7</th>\n",
              "      <td>1</td>\n",
              "      <td>[69, 90]</td>\n",
              "      <td>69</td>\n",
              "      <td>Note Off</td>\n",
              "      <td>63</td>\n",
              "      <td>319</td>\n",
              "      <td>0</td>\n",
              "    </tr>\n",
              "    <tr>\n",
              "      <th>8</th>\n",
              "      <td>1</td>\n",
              "      <td>[60, 102]</td>\n",
              "      <td>60</td>\n",
              "      <td>Note On</td>\n",
              "      <td>1</td>\n",
              "      <td>320</td>\n",
              "      <td>1</td>\n",
              "    </tr>\n",
              "    <tr>\n",
              "      <th>9</th>\n",
              "      <td>1</td>\n",
              "      <td>[60, 90]</td>\n",
              "      <td>60</td>\n",
              "      <td>Note Off</td>\n",
              "      <td>63</td>\n",
              "      <td>383</td>\n",
              "      <td>0</td>\n",
              "    </tr>\n",
              "  </tbody>\n",
              "</table>\n",
              "</div>"
            ],
            "text/plain": [
              "   channel       data  data_0      name  tick  tick_acum  tipo\n",
              "0        1  [62, 102]      62   Note On    64         64     1\n",
              "1        1   [62, 90]      62  Note Off    63        127     0\n",
              "2        1  [65, 102]      65   Note On     1        128     1\n",
              "3        1   [65, 90]      65  Note Off    63        191     0\n",
              "4        1  [67, 102]      67   Note On     1        192     1\n",
              "5        1   [67, 90]      67  Note Off    63        255     0\n",
              "6        1  [69, 102]      69   Note On     1        256     1\n",
              "7        1   [69, 90]      69  Note Off    63        319     0\n",
              "8        1  [60, 102]      60   Note On     1        320     1\n",
              "9        1   [60, 90]      60  Note Off    63        383     0"
            ]
          },
          "metadata": {
            "tags": []
          },
          "execution_count": 206
        }
      ]
    },
    {
      "metadata": {
        "id": "GZ4W6CCYlf4b",
        "colab_type": "code",
        "colab": {}
      },
      "cell_type": "code",
      "source": [
        "def getTrack(track=0):\n",
        "    tick = []\n",
        "    channel = []\n",
        "    data = []\n",
        "    name = []\n",
        "    data_0 = []\n",
        "    tick_acum = []\n",
        "    tipo = []\n",
        "    acum = 0\n",
        "    for evt in pattern[track]:\n",
        "        if isinstance(evt, midi.NoteEvent):\n",
        "          tick.append(evt.tick)\n",
        "          channel.append(evt.channel)\n",
        "          data.append(evt.data)\n",
        "          name.append(evt.name)\n",
        "          if evt.name=='Note On':\n",
        "            tipo.append(1)\n",
        "          else:\n",
        "            tipo.append(0)\n",
        "          data_0.append(evt.data[0])\n",
        "          acum = acum + evt.tick\n",
        "          tick_acum.append(acum)\n",
        "    \n",
        "    df = pd.DataFrame(\n",
        "        {'tick':tick,\n",
        "         'channel':channel,\n",
        "         'data':data,\n",
        "         'data_0':data_0,\n",
        "         'name':name,\n",
        "         'tipo':tipo,\n",
        "         'tick_acum':tick_acum\n",
        "        }\n",
        "    )\n",
        "    return df"
      ],
      "execution_count": 0,
      "outputs": []
    },
    {
      "metadata": {
        "id": "aEVU-H5nlf4d",
        "colab_type": "code",
        "colab": {
          "base_uri": "https://localhost:8080/",
          "height": 204
        },
        "outputId": "3a02f40e-5dca-478b-e434-8625ce7fc216"
      },
      "cell_type": "code",
      "source": [
        "getTrack(0).head()"
      ],
      "execution_count": 208,
      "outputs": [
        {
          "output_type": "execute_result",
          "data": {
            "text/html": [
              "<div>\n",
              "<style scoped>\n",
              "    .dataframe tbody tr th:only-of-type {\n",
              "        vertical-align: middle;\n",
              "    }\n",
              "\n",
              "    .dataframe tbody tr th {\n",
              "        vertical-align: top;\n",
              "    }\n",
              "\n",
              "    .dataframe thead th {\n",
              "        text-align: right;\n",
              "    }\n",
              "</style>\n",
              "<table border=\"1\" class=\"dataframe\">\n",
              "  <thead>\n",
              "    <tr style=\"text-align: right;\">\n",
              "      <th></th>\n",
              "      <th>channel</th>\n",
              "      <th>data</th>\n",
              "      <th>data_0</th>\n",
              "      <th>name</th>\n",
              "      <th>tick</th>\n",
              "      <th>tick_acum</th>\n",
              "      <th>tipo</th>\n",
              "    </tr>\n",
              "  </thead>\n",
              "  <tbody>\n",
              "    <tr>\n",
              "      <th>0</th>\n",
              "      <td>1</td>\n",
              "      <td>[62, 102]</td>\n",
              "      <td>62</td>\n",
              "      <td>Note On</td>\n",
              "      <td>64</td>\n",
              "      <td>64</td>\n",
              "      <td>1</td>\n",
              "    </tr>\n",
              "    <tr>\n",
              "      <th>1</th>\n",
              "      <td>1</td>\n",
              "      <td>[62, 90]</td>\n",
              "      <td>62</td>\n",
              "      <td>Note Off</td>\n",
              "      <td>63</td>\n",
              "      <td>127</td>\n",
              "      <td>0</td>\n",
              "    </tr>\n",
              "    <tr>\n",
              "      <th>2</th>\n",
              "      <td>1</td>\n",
              "      <td>[65, 102]</td>\n",
              "      <td>65</td>\n",
              "      <td>Note On</td>\n",
              "      <td>1</td>\n",
              "      <td>128</td>\n",
              "      <td>1</td>\n",
              "    </tr>\n",
              "    <tr>\n",
              "      <th>3</th>\n",
              "      <td>1</td>\n",
              "      <td>[65, 90]</td>\n",
              "      <td>65</td>\n",
              "      <td>Note Off</td>\n",
              "      <td>63</td>\n",
              "      <td>191</td>\n",
              "      <td>0</td>\n",
              "    </tr>\n",
              "    <tr>\n",
              "      <th>4</th>\n",
              "      <td>1</td>\n",
              "      <td>[67, 102]</td>\n",
              "      <td>67</td>\n",
              "      <td>Note On</td>\n",
              "      <td>1</td>\n",
              "      <td>192</td>\n",
              "      <td>1</td>\n",
              "    </tr>\n",
              "  </tbody>\n",
              "</table>\n",
              "</div>"
            ],
            "text/plain": [
              "   channel       data  data_0      name  tick  tick_acum  tipo\n",
              "0        1  [62, 102]      62   Note On    64         64     1\n",
              "1        1   [62, 90]      62  Note Off    63        127     0\n",
              "2        1  [65, 102]      65   Note On     1        128     1\n",
              "3        1   [65, 90]      65  Note Off    63        191     0\n",
              "4        1  [67, 102]      67   Note On     1        192     1"
            ]
          },
          "metadata": {
            "tags": []
          },
          "execution_count": 208
        }
      ]
    },
    {
      "metadata": {
        "id": "spmGC7Xnlf4h",
        "colab_type": "code",
        "colab": {
          "base_uri": "https://localhost:8080/",
          "height": 204
        },
        "outputId": "4a4bbcf3-4d09-47b2-dbdc-5be46e36b37a"
      },
      "cell_type": "code",
      "source": [
        "getTrack(1).head()"
      ],
      "execution_count": 209,
      "outputs": [
        {
          "output_type": "execute_result",
          "data": {
            "text/html": [
              "<div>\n",
              "<style scoped>\n",
              "    .dataframe tbody tr th:only-of-type {\n",
              "        vertical-align: middle;\n",
              "    }\n",
              "\n",
              "    .dataframe tbody tr th {\n",
              "        vertical-align: top;\n",
              "    }\n",
              "\n",
              "    .dataframe thead th {\n",
              "        text-align: right;\n",
              "    }\n",
              "</style>\n",
              "<table border=\"1\" class=\"dataframe\">\n",
              "  <thead>\n",
              "    <tr style=\"text-align: right;\">\n",
              "      <th></th>\n",
              "      <th>channel</th>\n",
              "      <th>data</th>\n",
              "      <th>data_0</th>\n",
              "      <th>name</th>\n",
              "      <th>tick</th>\n",
              "      <th>tick_acum</th>\n",
              "      <th>tipo</th>\n",
              "    </tr>\n",
              "  </thead>\n",
              "  <tbody>\n",
              "    <tr>\n",
              "      <th>0</th>\n",
              "      <td>2</td>\n",
              "      <td>[62, 81]</td>\n",
              "      <td>62</td>\n",
              "      <td>Note On</td>\n",
              "      <td>0</td>\n",
              "      <td>0</td>\n",
              "      <td>1</td>\n",
              "    </tr>\n",
              "    <tr>\n",
              "      <th>1</th>\n",
              "      <td>2</td>\n",
              "      <td>[65, 81]</td>\n",
              "      <td>65</td>\n",
              "      <td>Note On</td>\n",
              "      <td>0</td>\n",
              "      <td>0</td>\n",
              "      <td>1</td>\n",
              "    </tr>\n",
              "    <tr>\n",
              "      <th>2</th>\n",
              "      <td>2</td>\n",
              "      <td>[57, 81]</td>\n",
              "      <td>57</td>\n",
              "      <td>Note On</td>\n",
              "      <td>0</td>\n",
              "      <td>0</td>\n",
              "      <td>1</td>\n",
              "    </tr>\n",
              "    <tr>\n",
              "      <th>3</th>\n",
              "      <td>2</td>\n",
              "      <td>[57, 90]</td>\n",
              "      <td>57</td>\n",
              "      <td>Note Off</td>\n",
              "      <td>126</td>\n",
              "      <td>126</td>\n",
              "      <td>0</td>\n",
              "    </tr>\n",
              "    <tr>\n",
              "      <th>4</th>\n",
              "      <td>2</td>\n",
              "      <td>[62, 90]</td>\n",
              "      <td>62</td>\n",
              "      <td>Note Off</td>\n",
              "      <td>0</td>\n",
              "      <td>126</td>\n",
              "      <td>0</td>\n",
              "    </tr>\n",
              "  </tbody>\n",
              "</table>\n",
              "</div>"
            ],
            "text/plain": [
              "   channel      data  data_0      name  tick  tick_acum  tipo\n",
              "0        2  [62, 81]      62   Note On     0          0     1\n",
              "1        2  [65, 81]      65   Note On     0          0     1\n",
              "2        2  [57, 81]      57   Note On     0          0     1\n",
              "3        2  [57, 90]      57  Note Off   126        126     0\n",
              "4        2  [62, 90]      62  Note Off     0        126     0"
            ]
          },
          "metadata": {
            "tags": []
          },
          "execution_count": 209
        }
      ]
    },
    {
      "metadata": {
        "id": "dxCFSKHQlf4j",
        "colab_type": "code",
        "colab": {
          "base_uri": "https://localhost:8080/",
          "height": 204
        },
        "outputId": "eb851552-3e97-40b5-d94a-d1da546108e6"
      },
      "cell_type": "code",
      "source": [
        "getTrack(2).head()"
      ],
      "execution_count": 210,
      "outputs": [
        {
          "output_type": "execute_result",
          "data": {
            "text/html": [
              "<div>\n",
              "<style scoped>\n",
              "    .dataframe tbody tr th:only-of-type {\n",
              "        vertical-align: middle;\n",
              "    }\n",
              "\n",
              "    .dataframe tbody tr th {\n",
              "        vertical-align: top;\n",
              "    }\n",
              "\n",
              "    .dataframe thead th {\n",
              "        text-align: right;\n",
              "    }\n",
              "</style>\n",
              "<table border=\"1\" class=\"dataframe\">\n",
              "  <thead>\n",
              "    <tr style=\"text-align: right;\">\n",
              "      <th></th>\n",
              "      <th>channel</th>\n",
              "      <th>data</th>\n",
              "      <th>data_0</th>\n",
              "      <th>name</th>\n",
              "      <th>tick</th>\n",
              "      <th>tick_acum</th>\n",
              "      <th>tipo</th>\n",
              "    </tr>\n",
              "  </thead>\n",
              "  <tbody>\n",
              "    <tr>\n",
              "      <th>0</th>\n",
              "      <td>3</td>\n",
              "      <td>[50, 81]</td>\n",
              "      <td>50</td>\n",
              "      <td>Note On</td>\n",
              "      <td>0</td>\n",
              "      <td>0</td>\n",
              "      <td>1</td>\n",
              "    </tr>\n",
              "    <tr>\n",
              "      <th>1</th>\n",
              "      <td>3</td>\n",
              "      <td>[50, 90]</td>\n",
              "      <td>50</td>\n",
              "      <td>Note Off</td>\n",
              "      <td>190</td>\n",
              "      <td>190</td>\n",
              "      <td>0</td>\n",
              "    </tr>\n",
              "    <tr>\n",
              "      <th>2</th>\n",
              "      <td>3</td>\n",
              "      <td>[50, 59]</td>\n",
              "      <td>50</td>\n",
              "      <td>Note On</td>\n",
              "      <td>2</td>\n",
              "      <td>192</td>\n",
              "      <td>1</td>\n",
              "    </tr>\n",
              "    <tr>\n",
              "      <th>3</th>\n",
              "      <td>3</td>\n",
              "      <td>[50, 90]</td>\n",
              "      <td>50</td>\n",
              "      <td>Note Off</td>\n",
              "      <td>60</td>\n",
              "      <td>252</td>\n",
              "      <td>0</td>\n",
              "    </tr>\n",
              "    <tr>\n",
              "      <th>4</th>\n",
              "      <td>3</td>\n",
              "      <td>[41, 81]</td>\n",
              "      <td>41</td>\n",
              "      <td>Note On</td>\n",
              "      <td>4</td>\n",
              "      <td>256</td>\n",
              "      <td>1</td>\n",
              "    </tr>\n",
              "  </tbody>\n",
              "</table>\n",
              "</div>"
            ],
            "text/plain": [
              "   channel      data  data_0      name  tick  tick_acum  tipo\n",
              "0        3  [50, 81]      50   Note On     0          0     1\n",
              "1        3  [50, 90]      50  Note Off   190        190     0\n",
              "2        3  [50, 59]      50   Note On     2        192     1\n",
              "3        3  [50, 90]      50  Note Off    60        252     0\n",
              "4        3  [41, 81]      41   Note On     4        256     1"
            ]
          },
          "metadata": {
            "tags": []
          },
          "execution_count": 210
        }
      ]
    },
    {
      "metadata": {
        "id": "C2o9mJ4hlf4l",
        "colab_type": "code",
        "colab": {}
      },
      "cell_type": "code",
      "source": [
        "df = getTrack(0)"
      ],
      "execution_count": 0,
      "outputs": []
    },
    {
      "metadata": {
        "id": "4hd17fF0lf4n",
        "colab_type": "code",
        "colab": {}
      },
      "cell_type": "code",
      "source": [
        "df1 = df[['data_0','tipo','tick']]"
      ],
      "execution_count": 0,
      "outputs": []
    },
    {
      "metadata": {
        "id": "LzIawqQslf4p",
        "colab_type": "code",
        "colab": {}
      },
      "cell_type": "code",
      "source": [
        "%matplotlib inline"
      ],
      "execution_count": 0,
      "outputs": []
    },
    {
      "metadata": {
        "id": "6IMnAsAWlf4s",
        "colab_type": "code",
        "colab": {
          "base_uri": "https://localhost:8080/",
          "height": 282
        },
        "outputId": "ce42ab80-734d-4d41-8325-b7c047fc9949"
      },
      "cell_type": "code",
      "source": [
        "df['data_0'].plot(kind=\"hist\")"
      ],
      "execution_count": 214,
      "outputs": [
        {
          "output_type": "execute_result",
          "data": {
            "text/plain": [
              "<matplotlib.axes._subplots.AxesSubplot at 0x7fe538c68b90>"
            ]
          },
          "metadata": {
            "tags": []
          },
          "execution_count": 214
        },
        {
          "output_type": "display_data",
          "data": {
            "image/png": "[encoded data removed]",
            "text/plain": [
              "<matplotlib.figure.Figure at 0x7fe539bca750>"
            ]
          },
          "metadata": {
            "tags": []
          }
        }
      ]
    },
    {
      "metadata": {
        "id": "1GR6f3XUlf4w",
        "colab_type": "code",
        "colab": {
          "base_uri": "https://localhost:8080/",
          "height": 282
        },
        "outputId": "b7439298-42e4-4e4d-ce51-b586d4b095f6"
      },
      "cell_type": "code",
      "source": [
        "df['tick'].plot(kind=\"hist\")"
      ],
      "execution_count": 215,
      "outputs": [
        {
          "output_type": "execute_result",
          "data": {
            "text/plain": [
              "<matplotlib.axes._subplots.AxesSubplot at 0x7fe538b00790>"
            ]
          },
          "metadata": {
            "tags": []
          },
          "execution_count": 215
        },
        {
          "output_type": "display_data",
          "data": {
            "image/png": "[encoded data removed]",
            "text/plain": [
              "<matplotlib.figure.Figure at 0x7fe538b1a090>"
            ]
          },
          "metadata": {
            "tags": []
          }
        }
      ]
    },
    {
      "metadata": {
        "id": "QU2RPnNclf41",
        "colab_type": "code",
        "colab": {
          "base_uri": "https://localhost:8080/",
          "height": 204
        },
        "outputId": "0b06e2a1-5a20-4296-bf8d-e2c2c046fcad"
      },
      "cell_type": "code",
      "source": [
        "df1.head()"
      ],
      "execution_count": 216,
      "outputs": [
        {
          "output_type": "execute_result",
          "data": {
            "text/html": [
              "<div>\n",
              "<style scoped>\n",
              "    .dataframe tbody tr th:only-of-type {\n",
              "        vertical-align: middle;\n",
              "    }\n",
              "\n",
              "    .dataframe tbody tr th {\n",
              "        vertical-align: top;\n",
              "    }\n",
              "\n",
              "    .dataframe thead th {\n",
              "        text-align: right;\n",
              "    }\n",
              "</style>\n",
              "<table border=\"1\" class=\"dataframe\">\n",
              "  <thead>\n",
              "    <tr style=\"text-align: right;\">\n",
              "      <th></th>\n",
              "      <th>data_0</th>\n",
              "      <th>tipo</th>\n",
              "      <th>tick</th>\n",
              "    </tr>\n",
              "  </thead>\n",
              "  <tbody>\n",
              "    <tr>\n",
              "      <th>0</th>\n",
              "      <td>62</td>\n",
              "      <td>1</td>\n",
              "      <td>64</td>\n",
              "    </tr>\n",
              "    <tr>\n",
              "      <th>1</th>\n",
              "      <td>62</td>\n",
              "      <td>0</td>\n",
              "      <td>63</td>\n",
              "    </tr>\n",
              "    <tr>\n",
              "      <th>2</th>\n",
              "      <td>65</td>\n",
              "      <td>1</td>\n",
              "      <td>1</td>\n",
              "    </tr>\n",
              "    <tr>\n",
              "      <th>3</th>\n",
              "      <td>65</td>\n",
              "      <td>0</td>\n",
              "      <td>63</td>\n",
              "    </tr>\n",
              "    <tr>\n",
              "      <th>4</th>\n",
              "      <td>67</td>\n",
              "      <td>1</td>\n",
              "      <td>1</td>\n",
              "    </tr>\n",
              "  </tbody>\n",
              "</table>\n",
              "</div>"
            ],
            "text/plain": [
              "   data_0  tipo  tick\n",
              "0      62     1    64\n",
              "1      62     0    63\n",
              "2      65     1     1\n",
              "3      65     0    63\n",
              "4      67     1     1"
            ]
          },
          "metadata": {
            "tags": []
          },
          "execution_count": 216
        }
      ]
    },
    {
      "metadata": {
        "id": "Q61l0K70lf44",
        "colab_type": "code",
        "colab": {}
      },
      "cell_type": "code",
      "source": [
        "from sklearn.preprocessing import StandardScaler"
      ],
      "execution_count": 0,
      "outputs": []
    },
    {
      "metadata": {
        "id": "YPz38wKhlf48",
        "colab_type": "code",
        "colab": {}
      },
      "cell_type": "code",
      "source": [
        "scaler = StandardScaler()\n",
        "raw_midi = scaler.fit_transform(df1)"
      ],
      "execution_count": 0,
      "outputs": []
    },
    {
      "metadata": {
        "id": "uaF6gwKLlf4_",
        "colab_type": "code",
        "colab": {
          "base_uri": "https://localhost:8080/",
          "height": 935
        },
        "outputId": "3d25c2f2-6b1b-40c4-ec36-6dd54543dda9"
      },
      "cell_type": "code",
      "source": [
        "raw_midi"
      ],
      "execution_count": 219,
      "outputs": [
        {
          "output_type": "execute_result",
          "data": {
            "text/plain": [
              "array([[-0.68570459,  1.        ,  0.66461902],\n",
              "       [-0.68570459, -1.        ,  0.63914746],\n",
              "       [-0.07535215,  1.        , -0.94008921],\n",
              "       [-0.07535215, -1.        ,  0.63914746],\n",
              "       [ 0.33154947,  1.        , -0.94008921],\n",
              "       [ 0.33154947, -1.        ,  0.63914746],\n",
              "       [ 0.73845109,  1.        , -0.94008921],\n",
              "       [ 0.73845109, -1.        ,  0.63914746],\n",
              "       [-1.09260621,  1.        , -0.94008921],\n",
              "       [-1.09260621, -1.        ,  0.63914746],\n",
              "       [-1.09260621,  1.        , -0.94008921],\n",
              "       [-1.09260621, -1.        ,  0.63914746],\n",
              "       [-1.09260621,  1.        , -0.94008921],\n",
              "       [-1.09260621, -1.        ,  0.63914746],\n",
              "       [-1.29605702,  1.        , -0.94008921],\n",
              "       [-1.29605702, -1.        ,  0.63914746],\n",
              "       [-1.09260621,  1.        , -0.94008921],\n",
              "       [-1.09260621, -1.        ,  0.63914746],\n",
              "       [-1.29605702,  1.        , -0.94008921],\n",
              "       [-1.29605702, -1.        ,  0.63914746],\n",
              "       [-1.70295864,  1.        , -0.94008921],\n",
              "       [-1.70295864, -1.        ,  2.24385569],\n",
              "       [-1.70295864,  1.        ,  3.97592172],\n",
              "       [-1.70295864, -1.        ,  0.63914746],\n",
              "       [-1.09260621,  1.        , -0.94008921],\n",
              "       [-1.09260621, -1.        ,  0.63914746],\n",
              "       [-0.07535215,  1.        , -0.94008921],\n",
              "       [-0.07535215, -1.        ,  0.63914746],\n",
              "       [ 0.33154947,  1.        , -0.94008921],\n",
              "       [ 0.33154947, -1.        ,  0.63914746],\n",
              "       [ 0.73845109,  1.        , -0.94008921],\n",
              "       [ 0.73845109, -1.        ,  0.63914746],\n",
              "       [ 0.73845109,  1.        , -0.94008921],\n",
              "       [ 0.73845109, -1.        ,  0.63914746],\n",
              "       [ 0.73845109,  1.        , -0.94008921],\n",
              "       [ 0.73845109, -1.        ,  0.63914746],\n",
              "       [ 1.34880353,  1.        , -0.94008921],\n",
              "       [ 1.34880353, -1.        ,  0.63914746],\n",
              "       [ 1.14535271,  1.        , -0.94008921],\n",
              "       [ 1.14535271, -1.        ,  0.63914746],\n",
              "       [ 1.34880353,  1.        , -0.94008921],\n",
              "       [ 1.34880353, -1.        ,  0.63914746],\n",
              "       [ 1.14535271,  1.        , -0.94008921],\n",
              "       [ 1.14535271, -1.        ,  0.63914746],\n",
              "       [ 0.73845109,  1.        , -0.94008921],\n",
              "       [ 0.73845109, -1.        ,  0.63914746],\n",
              "       [ 0.73845109,  1.        , -0.94008921],\n",
              "       [ 0.73845109, -1.        ,  0.63914746],\n",
              "       [ 0.73845109,  1.        , -0.94008921],\n",
              "       [ 0.73845109, -1.        ,  0.63914746],\n",
              "       [ 0.73845109,  1.        , -0.94008921],\n",
              "       [ 0.73845109, -1.        ,  0.63914746],\n",
              "       [ 0.73845109,  1.        , -0.94008921],\n",
              "       [ 0.73845109, -1.        ,  0.63914746]])"
            ]
          },
          "metadata": {
            "tags": []
          },
          "execution_count": 219
        }
      ]
    },
    {
      "metadata": {
        "id": "rqKtOI8Bskdw",
        "colab_type": "code",
        "colab": {
          "base_uri": "https://localhost:8080/",
          "height": 34
        },
        "outputId": "0561b516-90b3-48e9-fb1e-7194b337b744"
      },
      "cell_type": "code",
      "source": [
        "raw_midi.shape"
      ],
      "execution_count": 220,
      "outputs": [
        {
          "output_type": "execute_result",
          "data": {
            "text/plain": [
              "(54, 3)"
            ]
          },
          "metadata": {
            "tags": []
          },
          "execution_count": 220
        }
      ]
    },
    {
      "metadata": {
        "id": "lR3MtW4Qlf5E",
        "colab_type": "code",
        "colab": {
          "base_uri": "https://localhost:8080/",
          "height": 34
        },
        "outputId": "1b13a27d-00b0-4c2b-a476-bc57f9817162"
      },
      "cell_type": "code",
      "source": [
        "# prepare the dataset of input to output pairs encoded as integers\n",
        "seq_length = 20\n",
        "dataX = []\n",
        "dataY = []\n",
        "for i in range(0, raw_midi.shape[0] - seq_length, 1):\n",
        "\tseq_in = raw_midi[i:i + seq_length]\n",
        "\tseq_out = raw_midi[i + seq_length]\n",
        "\tdataX.append(seq_in)\n",
        "\tdataY.append(seq_out)\n",
        "n_patterns = len(dataX)\n",
        "print \"Total Patterns: \", n_patterns"
      ],
      "execution_count": 231,
      "outputs": [
        {
          "output_type": "stream",
          "text": [
            "Total Patterns:  34\n"
          ],
          "name": "stdout"
        }
      ]
    },
    {
      "metadata": {
        "id": "Tzk-rBYf4H3c",
        "colab_type": "code",
        "colab": {}
      },
      "cell_type": "code",
      "source": [
        "import numpy as np"
      ],
      "execution_count": 0,
      "outputs": []
    },
    {
      "metadata": {
        "id": "qcldYapx35mx",
        "colab_type": "code",
        "colab": {}
      },
      "cell_type": "code",
      "source": [
        "X = np.reshape(dataX, (len(dataX), seq_length, 3))"
      ],
      "execution_count": 0,
      "outputs": []
    },
    {
      "metadata": {
        "id": "Wa-GVKxY4iF_",
        "colab_type": "code",
        "colab": {}
      },
      "cell_type": "code",
      "source": [
        "y = np.reshape(dataY, (len(dataY), 3))"
      ],
      "execution_count": 0,
      "outputs": []
    },
    {
      "metadata": {
        "id": "gzWVztD8tbrt",
        "colab_type": "code",
        "colab": {
          "base_uri": "https://localhost:8080/",
          "height": 34
        },
        "outputId": "23405e4c-32ac-44ed-c435-5d232aa65e04"
      },
      "cell_type": "code",
      "source": [
        "X.shape"
      ],
      "execution_count": 235,
      "outputs": [
        {
          "output_type": "execute_result",
          "data": {
            "text/plain": [
              "(34, 20, 3)"
            ]
          },
          "metadata": {
            "tags": []
          },
          "execution_count": 235
        }
      ]
    },
    {
      "metadata": {
        "id": "5R7AoZGa5UMO",
        "colab_type": "code",
        "colab": {
          "base_uri": "https://localhost:8080/",
          "height": 34
        },
        "outputId": "811272bf-c48e-4d56-9a4c-b49e6de4601e"
      },
      "cell_type": "code",
      "source": [
        "y.shape"
      ],
      "execution_count": 236,
      "outputs": [
        {
          "output_type": "execute_result",
          "data": {
            "text/plain": [
              "(34, 3)"
            ]
          },
          "metadata": {
            "tags": []
          },
          "execution_count": 236
        }
      ]
    },
    {
      "metadata": {
        "id": "NQ18dxbhvLIQ",
        "colab_type": "code",
        "colab": {}
      },
      "cell_type": "code",
      "source": [
        "from keras.models import Sequential\n",
        "from keras.layers import LSTM,BatchNormalization,Dropout,RepeatVector,TimeDistributed, Dense\n",
        "from keras import optimizers\n",
        "from keras.callbacks import EarlyStopping, History\n",
        "from keras.models import model_from_json"
      ],
      "execution_count": 0,
      "outputs": []
    },
    {
      "metadata": {
        "id": "7fwAEhiBtqsp",
        "colab_type": "code",
        "colab": {
          "base_uri": "https://localhost:8080/",
          "height": 323
        },
        "outputId": "98831b0a-2f5e-40c6-cc27-b63815811858"
      },
      "cell_type": "code",
      "source": [
        "# define model\n",
        "model = Sequential()\n",
        "model.add(LSTM(256, input_shape=(seq_length, 3),return_sequences=True))\n",
        "model.add(Dropout(0.2))\n",
        "model.add(LSTM(256))\n",
        "model.add(Dropout(0.2))\n",
        "model.add(Dense(3, activation='tanh'))\n",
        "adam = optimizers.Adam(lr=0.001)\n",
        "model.compile(loss='mae', optimizer=adam,metrics=['accuracy'])\n",
        "print(model.summary())"
      ],
      "execution_count": 346,
      "outputs": [
        {
          "output_type": "stream",
          "text": [
            "_________________________________________________________________\n",
            "Layer (type)                 Output Shape              Param #   \n",
            "=================================================================\n",
            "lstm_18 (LSTM)               (None, 20, 256)           266240    \n",
            "_________________________________________________________________\n",
            "dropout_3 (Dropout)          (None, 20, 256)           0         \n",
            "_________________________________________________________________\n",
            "lstm_19 (LSTM)               (None, 256)               525312    \n",
            "_________________________________________________________________\n",
            "dropout_4 (Dropout)          (None, 256)               0         \n",
            "_________________________________________________________________\n",
            "dense_17 (Dense)             (None, 3)                 771       \n",
            "=================================================================\n",
            "Total params: 792,323\n",
            "Trainable params: 792,323\n",
            "Non-trainable params: 0\n",
            "_________________________________________________________________\n",
            "None\n"
          ],
          "name": "stdout"
        }
      ]
    },
    {
      "metadata": {
        "id": "7HvFgqkS5ksH",
        "colab_type": "code",
        "colab": {
          "base_uri": "https://localhost:8080/",
          "height": 10237
        },
        "outputId": "0289ddfc-6166-4969-c624-f701ab1b6429"
      },
      "cell_type": "code",
      "source": [
        "history = model.fit(X, y, epochs=300,batch_size=32, verbose=1, shuffle=False)"
      ],
      "execution_count": 347,
      "outputs": [
        {
          "output_type": "stream",
          "text": [
            "Epoch 1/300\n",
            "34/34 [==============================] - 2s 64ms/step - loss: 0.9593 - acc: 0.1176\n",
            "Epoch 2/300\n",
            "34/34 [==============================] - 0s 6ms/step - loss: 0.8878 - acc: 0.6176\n",
            "Epoch 3/300\n",
            "34/34 [==============================] - 0s 6ms/step - loss: 0.8603 - acc: 0.5588\n",
            "Epoch 4/300\n",
            "34/34 [==============================] - 0s 6ms/step - loss: 0.8579 - acc: 0.5588\n",
            "Epoch 5/300\n",
            "34/34 [==============================] - 0s 6ms/step - loss: 0.8220 - acc: 0.5882\n",
            "Epoch 6/300\n",
            "34/34 [==============================] - 0s 6ms/step - loss: 0.7822 - acc: 0.6471\n",
            "Epoch 7/300\n",
            "34/34 [==============================] - 0s 6ms/step - loss: 0.7688 - acc: 0.6471\n",
            "Epoch 8/300\n",
            "34/34 [==============================] - 0s 6ms/step - loss: 0.7562 - acc: 0.6176\n",
            "Epoch 9/300\n",
            "34/34 [==============================] - 0s 6ms/step - loss: 0.7644 - acc: 0.6176\n",
            "Epoch 10/300\n",
            "34/34 [==============================] - 0s 6ms/step - loss: 0.7523 - acc: 0.6765\n",
            "Epoch 11/300\n",
            "34/34 [==============================] - 0s 5ms/step - loss: 0.7519 - acc: 0.6176\n",
            "Epoch 12/300\n",
            "34/34 [==============================] - 0s 6ms/step - loss: 0.7344 - acc: 0.6176\n",
            "Epoch 13/300\n",
            "34/34 [==============================] - 0s 6ms/step - loss: 0.7114 - acc: 0.6471\n",
            "Epoch 14/300\n",
            "34/34 [==============================] - 0s 6ms/step - loss: 0.7413 - acc: 0.6176\n",
            "Epoch 15/300\n",
            "34/34 [==============================] - 0s 6ms/step - loss: 0.7501 - acc: 0.5882\n",
            "Epoch 16/300\n",
            "34/34 [==============================] - 0s 5ms/step - loss: 0.7160 - acc: 0.5882\n",
            "Epoch 17/300\n",
            "34/34 [==============================] - 0s 6ms/step - loss: 0.7163 - acc: 0.6471\n",
            "Epoch 18/300\n",
            "34/34 [==============================] - 0s 6ms/step - loss: 0.6989 - acc: 0.6471\n",
            "Epoch 19/300\n",
            "34/34 [==============================] - 0s 5ms/step - loss: 0.7015 - acc: 0.6471\n",
            "Epoch 20/300\n",
            "34/34 [==============================] - 0s 6ms/step - loss: 0.6799 - acc: 0.6176\n",
            "Epoch 21/300\n",
            "34/34 [==============================] - 0s 5ms/step - loss: 0.6838 - acc: 0.5882\n",
            "Epoch 22/300\n",
            "34/34 [==============================] - 0s 6ms/step - loss: 0.6866 - acc: 0.6176\n",
            "Epoch 23/300\n",
            "34/34 [==============================] - 0s 6ms/step - loss: 0.6629 - acc: 0.6471\n",
            "Epoch 24/300\n",
            "34/34 [==============================] - 0s 6ms/step - loss: 0.6608 - acc: 0.6765\n",
            "Epoch 25/300\n",
            "34/34 [==============================] - 0s 6ms/step - loss: 0.6190 - acc: 0.6765\n",
            "Epoch 26/300\n",
            "32/34 [===========================>..] - ETA: 0s - loss: 0.5639 - acc: 0.7188"
          ],
          "name": "stdout"
        },
        {
          "output_type": "stream",
          "text": [
            "\b\b\b\b\b\b\b\b\b\b\b\b\b\b\b\b\b\b\b\b\b\b\b\b\b\b\b\b\b\b\b\b\b\b\b\b\b\b\b\b\b\b\b\b\b\b\b\b\b\b\b\b\b\b\b\b\b\b\b\b\b\b\b\b\b\b\b\b\b\b\b\b\b\b\b\b\b\r34/34 [==============================] - 0s 6ms/step - loss: 0.5441 - acc: 0.7059\n",
            "Epoch 27/300\n",
            "34/34 [==============================] - 0s 6ms/step - loss: 0.4205 - acc: 0.7353\n",
            "Epoch 28/300\n",
            "34/34 [==============================] - 0s 6ms/step - loss: 0.3949 - acc: 0.7059\n",
            "Epoch 29/300\n",
            "34/34 [==============================] - 0s 6ms/step - loss: 0.3756 - acc: 0.6176\n",
            "Epoch 30/300\n",
            "34/34 [==============================] - 0s 6ms/step - loss: 0.4338 - acc: 0.9118\n",
            "Epoch 31/300\n",
            "34/34 [==============================] - 0s 6ms/step - loss: 0.3619 - acc: 0.8529\n",
            "Epoch 32/300\n",
            "34/34 [==============================] - 0s 6ms/step - loss: 0.3697 - acc: 0.6471\n",
            "Epoch 33/300\n",
            "34/34 [==============================] - 0s 6ms/step - loss: 0.3729 - acc: 0.5588\n",
            "Epoch 34/300\n",
            "34/34 [==============================] - 0s 6ms/step - loss: 0.3536 - acc: 0.8529\n",
            "Epoch 35/300\n",
            "34/34 [==============================] - 0s 6ms/step - loss: 0.3471 - acc: 0.6765\n",
            "Epoch 36/300\n",
            "34/34 [==============================] - 0s 6ms/step - loss: 0.3891 - acc: 0.6765\n",
            "Epoch 37/300\n",
            "34/34 [==============================] - 0s 6ms/step - loss: 0.3376 - acc: 0.6176\n",
            "Epoch 38/300\n",
            "34/34 [==============================] - 0s 6ms/step - loss: 0.3367 - acc: 0.6471\n",
            "Epoch 39/300\n",
            "34/34 [==============================] - 0s 6ms/step - loss: 0.3452 - acc: 0.7941\n",
            "Epoch 40/300\n",
            "34/34 [==============================] - 0s 6ms/step - loss: 0.3307 - acc: 0.8824\n",
            "Epoch 41/300\n",
            "34/34 [==============================] - 0s 6ms/step - loss: 0.3624 - acc: 0.9118\n",
            "Epoch 42/300\n",
            "34/34 [==============================] - 0s 6ms/step - loss: 0.3880 - acc: 0.9118\n",
            "Epoch 43/300\n",
            "34/34 [==============================] - 0s 6ms/step - loss: 0.3243 - acc: 0.9118\n",
            "Epoch 44/300\n",
            "34/34 [==============================] - 0s 5ms/step - loss: 0.3312 - acc: 0.8824\n",
            "Epoch 45/300\n",
            "34/34 [==============================] - 0s 6ms/step - loss: 0.3364 - acc: 0.8824\n",
            "Epoch 46/300\n",
            "34/34 [==============================] - 0s 6ms/step - loss: 0.3323 - acc: 0.8529\n",
            "Epoch 47/300\n",
            "34/34 [==============================] - 0s 6ms/step - loss: 0.3325 - acc: 0.8824\n",
            "Epoch 48/300\n",
            "34/34 [==============================] - 0s 6ms/step - loss: 0.3288 - acc: 0.8529\n",
            "Epoch 49/300\n",
            "34/34 [==============================] - 0s 6ms/step - loss: 0.3343 - acc: 0.9118\n",
            "Epoch 50/300\n",
            "34/34 [==============================] - 0s 6ms/step - loss: 0.3182 - acc: 0.8235\n",
            "Epoch 51/300\n"
          ],
          "name": "stdout"
        },
        {
          "output_type": "stream",
          "text": [
            "34/34 [==============================] - 0s 6ms/step - loss: 0.3232 - acc: 0.8235\n",
            "Epoch 52/300\n",
            "34/34 [==============================] - 0s 6ms/step - loss: 0.3125 - acc: 0.8824\n",
            "Epoch 53/300\n",
            "34/34 [==============================] - 0s 6ms/step - loss: 0.3079 - acc: 0.9118\n",
            "Epoch 54/300\n",
            "34/34 [==============================] - 0s 6ms/step - loss: 0.3051 - acc: 0.8824\n",
            "Epoch 55/300\n",
            "34/34 [==============================] - 0s 6ms/step - loss: 0.2923 - acc: 0.8824\n",
            "Epoch 56/300\n",
            "34/34 [==============================] - 0s 6ms/step - loss: 0.2980 - acc: 0.9118\n",
            "Epoch 57/300\n",
            "34/34 [==============================] - 0s 6ms/step - loss: 0.2990 - acc: 0.9412\n",
            "Epoch 58/300\n",
            "34/34 [==============================] - 0s 5ms/step - loss: 0.3464 - acc: 0.9412\n",
            "Epoch 59/300\n",
            "34/34 [==============================] - 0s 6ms/step - loss: 0.3197 - acc: 0.8235\n",
            "Epoch 60/300\n",
            "34/34 [==============================] - 0s 5ms/step - loss: 0.2305 - acc: 0.8824\n",
            "Epoch 61/300\n",
            "34/34 [==============================] - 0s 6ms/step - loss: 0.2394 - acc: 0.8824\n",
            "Epoch 62/300\n",
            "34/34 [==============================] - 0s 6ms/step - loss: 0.2714 - acc: 0.8824\n",
            "Epoch 63/300\n",
            "34/34 [==============================] - 0s 6ms/step - loss: 0.2587 - acc: 0.8824\n",
            "Epoch 64/300\n",
            "34/34 [==============================] - 0s 6ms/step - loss: 0.2607 - acc: 0.8529\n",
            "Epoch 65/300\n",
            "34/34 [==============================] - 0s 6ms/step - loss: 0.2491 - acc: 0.8824\n",
            "Epoch 66/300\n",
            "34/34 [==============================] - 0s 6ms/step - loss: 0.2562 - acc: 0.9118\n",
            "Epoch 67/300\n",
            "34/34 [==============================] - 0s 6ms/step - loss: 0.2388 - acc: 0.8529\n",
            "Epoch 68/300\n",
            "34/34 [==============================] - 0s 5ms/step - loss: 0.2529 - acc: 0.7941\n",
            "Epoch 69/300\n",
            "34/34 [==============================] - 0s 6ms/step - loss: 0.2493 - acc: 0.7647\n",
            "Epoch 70/300\n",
            "34/34 [==============================] - 0s 6ms/step - loss: 0.2477 - acc: 0.8235\n",
            "Epoch 71/300\n",
            "34/34 [==============================] - 0s 6ms/step - loss: 0.2495 - acc: 0.7647\n",
            "Epoch 72/300\n",
            "34/34 [==============================] - 0s 6ms/step - loss: 0.2499 - acc: 0.7941\n",
            "Epoch 73/300\n",
            "34/34 [==============================] - 0s 6ms/step - loss: 0.2521 - acc: 0.7941\n",
            "Epoch 74/300\n",
            "34/34 [==============================] - 0s 6ms/step - loss: 0.2443 - acc: 0.8824\n",
            "Epoch 75/300\n",
            "34/34 [==============================] - 0s 6ms/step - loss: 0.2556 - acc: 0.8824\n",
            "Epoch 76/300\n",
            "34/34 [==============================] - 0s 6ms/step - loss: 0.2537 - acc: 0.8824\n",
            "Epoch 77/300\n"
          ],
          "name": "stdout"
        },
        {
          "output_type": "stream",
          "text": [
            "34/34 [==============================] - 0s 6ms/step - loss: 0.2307 - acc: 0.9118\n",
            "Epoch 78/300\n",
            "34/34 [==============================] - 0s 6ms/step - loss: 0.2389 - acc: 0.8529\n",
            "Epoch 79/300\n",
            "34/34 [==============================] - 0s 6ms/step - loss: 0.2468 - acc: 0.9118\n",
            "Epoch 80/300\n",
            "34/34 [==============================] - 0s 6ms/step - loss: 0.2515 - acc: 0.8824\n",
            "Epoch 81/300\n",
            "34/34 [==============================] - 0s 6ms/step - loss: 0.2426 - acc: 0.8824\n",
            "Epoch 82/300\n",
            "34/34 [==============================] - 0s 6ms/step - loss: 0.2684 - acc: 0.9118\n",
            "Epoch 83/300\n",
            "34/34 [==============================] - 0s 6ms/step - loss: 0.2631 - acc: 0.9118\n",
            "Epoch 84/300\n",
            "34/34 [==============================] - 0s 6ms/step - loss: 0.2447 - acc: 0.8824\n",
            "Epoch 85/300\n",
            "34/34 [==============================] - 0s 5ms/step - loss: 0.2384 - acc: 0.9118\n",
            "Epoch 86/300\n",
            "34/34 [==============================] - 0s 6ms/step - loss: 0.2453 - acc: 0.7647\n",
            "Epoch 87/300\n",
            "34/34 [==============================] - 0s 5ms/step - loss: 0.2433 - acc: 0.7353\n",
            "Epoch 88/300\n",
            "34/34 [==============================] - 0s 6ms/step - loss: 0.2372 - acc: 0.7353\n",
            "Epoch 89/300\n",
            "34/34 [==============================] - 0s 5ms/step - loss: 0.2428 - acc: 0.7941\n",
            "Epoch 90/300\n",
            "34/34 [==============================] - 0s 5ms/step - loss: 0.2314 - acc: 0.9118\n",
            "Epoch 91/300\n",
            "34/34 [==============================] - 0s 6ms/step - loss: 0.2380 - acc: 0.8824\n",
            "Epoch 92/300\n",
            "34/34 [==============================] - 0s 6ms/step - loss: 0.2405 - acc: 0.8824\n",
            "Epoch 93/300\n",
            "34/34 [==============================] - 0s 5ms/step - loss: 0.2283 - acc: 0.8824\n",
            "Epoch 94/300\n",
            "34/34 [==============================] - 0s 5ms/step - loss: 0.2522 - acc: 0.8824\n",
            "Epoch 95/300\n",
            "34/34 [==============================] - 0s 5ms/step - loss: 0.2472 - acc: 0.8824\n",
            "Epoch 96/300\n",
            "34/34 [==============================] - 0s 6ms/step - loss: 0.2498 - acc: 0.8529\n",
            "Epoch 97/300\n",
            "34/34 [==============================] - 0s 5ms/step - loss: 0.2498 - acc: 0.8529\n",
            "Epoch 98/300\n",
            "34/34 [==============================] - 0s 6ms/step - loss: 0.2517 - acc: 0.9118\n",
            "Epoch 99/300\n",
            "34/34 [==============================] - 0s 6ms/step - loss: 0.2512 - acc: 0.8824\n",
            "Epoch 100/300\n",
            "34/34 [==============================] - 0s 6ms/step - loss: 0.2426 - acc: 0.8529\n",
            "Epoch 101/300\n",
            "34/34 [==============================] - 0s 6ms/step - loss: 0.2297 - acc: 0.8824\n",
            "Epoch 102/300\n",
            "34/34 [==============================] - 0s 5ms/step - loss: 0.2289 - acc: 0.8824\n",
            "Epoch 103/300\n"
          ],
          "name": "stdout"
        },
        {
          "output_type": "stream",
          "text": [
            "34/34 [==============================] - 0s 6ms/step - loss: 0.2362 - acc: 0.8824\n",
            "Epoch 104/300\n",
            "34/34 [==============================] - 0s 5ms/step - loss: 0.2430 - acc: 0.8824\n",
            "Epoch 105/300\n",
            "34/34 [==============================] - 0s 6ms/step - loss: 0.2457 - acc: 0.8529\n",
            "Epoch 106/300\n",
            "34/34 [==============================] - 0s 6ms/step - loss: 0.2327 - acc: 0.7059\n",
            "Epoch 107/300\n",
            "34/34 [==============================] - 0s 5ms/step - loss: 0.2304 - acc: 0.6765\n",
            "Epoch 108/300\n",
            "34/34 [==============================] - 0s 6ms/step - loss: 0.2393 - acc: 0.7647\n",
            "Epoch 109/300\n",
            "34/34 [==============================] - 0s 6ms/step - loss: 0.2322 - acc: 0.8824\n",
            "Epoch 110/300\n",
            "34/34 [==============================] - 0s 6ms/step - loss: 0.2498 - acc: 0.8529\n",
            "Epoch 111/300\n",
            "34/34 [==============================] - 0s 6ms/step - loss: 0.2278 - acc: 0.8824\n",
            "Epoch 112/300\n",
            "34/34 [==============================] - 0s 6ms/step - loss: 0.2224 - acc: 0.9118\n",
            "Epoch 113/300\n",
            "34/34 [==============================] - 0s 5ms/step - loss: 0.2440 - acc: 0.9118\n",
            "Epoch 114/300\n",
            "34/34 [==============================] - 0s 6ms/step - loss: 0.2349 - acc: 0.8235\n",
            "Epoch 115/300\n",
            "34/34 [==============================] - 0s 6ms/step - loss: 0.2418 - acc: 0.8529\n",
            "Epoch 116/300\n",
            "34/34 [==============================] - 0s 6ms/step - loss: 0.2433 - acc: 0.8529\n",
            "Epoch 117/300\n",
            "34/34 [==============================] - 0s 6ms/step - loss: 0.2356 - acc: 0.8529\n",
            "Epoch 118/300\n",
            "34/34 [==============================] - 0s 6ms/step - loss: 0.2260 - acc: 0.8235\n",
            "Epoch 119/300\n",
            "34/34 [==============================] - 0s 6ms/step - loss: 0.2298 - acc: 0.8529\n",
            "Epoch 120/300\n",
            "34/34 [==============================] - 0s 6ms/step - loss: 0.2424 - acc: 0.7941\n",
            "Epoch 121/300\n",
            "34/34 [==============================] - 0s 6ms/step - loss: 0.2160 - acc: 0.8529\n",
            "Epoch 122/300\n",
            "34/34 [==============================] - 0s 6ms/step - loss: 0.2229 - acc: 0.8824\n",
            "Epoch 123/300\n",
            "34/34 [==============================] - 0s 6ms/step - loss: 0.2267 - acc: 0.9118\n",
            "Epoch 124/300\n",
            "34/34 [==============================] - 0s 5ms/step - loss: 0.2211 - acc: 0.9118\n",
            "Epoch 125/300\n",
            "34/34 [==============================] - 0s 6ms/step - loss: 0.2236 - acc: 0.7941\n",
            "Epoch 126/300\n",
            "34/34 [==============================] - 0s 6ms/step - loss: 0.2163 - acc: 0.8824\n",
            "Epoch 127/300\n",
            "34/34 [==============================] - 0s 6ms/step - loss: 0.2195 - acc: 0.8235\n",
            "Epoch 128/300\n",
            "34/34 [==============================] - 0s 5ms/step - loss: 0.2270 - acc: 0.8529\n"
          ],
          "name": "stdout"
        },
        {
          "output_type": "stream",
          "text": [
            "Epoch 129/300\n",
            "34/34 [==============================] - 0s 6ms/step - loss: 0.2246 - acc: 0.8529\n",
            "Epoch 130/300\n",
            "34/34 [==============================] - 0s 6ms/step - loss: 0.2330 - acc: 0.8824\n",
            "Epoch 131/300\n",
            "34/34 [==============================] - 0s 5ms/step - loss: 0.2296 - acc: 0.8824\n",
            "Epoch 132/300\n",
            "34/34 [==============================] - 0s 6ms/step - loss: 0.2231 - acc: 0.9118\n",
            "Epoch 133/300\n",
            "34/34 [==============================] - 0s 6ms/step - loss: 0.2352 - acc: 0.8824\n",
            "Epoch 134/300\n",
            "34/34 [==============================] - 0s 6ms/step - loss: 0.2211 - acc: 0.8824\n",
            "Epoch 135/300\n",
            "34/34 [==============================] - 0s 5ms/step - loss: 0.2197 - acc: 0.9118\n",
            "Epoch 136/300\n",
            "34/34 [==============================] - 0s 5ms/step - loss: 0.2193 - acc: 0.8824\n",
            "Epoch 137/300\n",
            "34/34 [==============================] - 0s 5ms/step - loss: 0.2201 - acc: 0.8529\n",
            "Epoch 138/300\n",
            "34/34 [==============================] - 0s 5ms/step - loss: 0.2167 - acc: 0.9118\n",
            "Epoch 139/300\n",
            "34/34 [==============================] - 0s 5ms/step - loss: 0.2206 - acc: 0.8824\n",
            "Epoch 140/300\n",
            "34/34 [==============================] - 0s 5ms/step - loss: 0.2272 - acc: 0.9118\n",
            "Epoch 141/300\n",
            "34/34 [==============================] - 0s 5ms/step - loss: 0.2185 - acc: 0.8824\n",
            "Epoch 142/300\n",
            "34/34 [==============================] - 0s 5ms/step - loss: 0.2171 - acc: 0.8235\n",
            "Epoch 143/300\n",
            "34/34 [==============================] - 0s 6ms/step - loss: 0.2037 - acc: 0.8529\n",
            "Epoch 144/300\n",
            "34/34 [==============================] - 0s 5ms/step - loss: 0.2135 - acc: 0.8529\n",
            "Epoch 145/300\n",
            "34/34 [==============================] - 0s 6ms/step - loss: 0.2144 - acc: 0.9118\n",
            "Epoch 146/300\n",
            "34/34 [==============================] - 0s 5ms/step - loss: 0.2052 - acc: 0.9118\n",
            "Epoch 147/300\n",
            "34/34 [==============================] - 0s 5ms/step - loss: 0.2082 - acc: 0.9118\n",
            "Epoch 148/300\n",
            "34/34 [==============================] - 0s 5ms/step - loss: 0.2026 - acc: 0.9118\n",
            "Epoch 149/300\n",
            "34/34 [==============================] - 0s 6ms/step - loss: 0.2200 - acc: 0.8824\n",
            "Epoch 150/300\n",
            "34/34 [==============================] - 0s 6ms/step - loss: 0.2132 - acc: 0.8824\n",
            "Epoch 151/300\n",
            "34/34 [==============================] - 0s 5ms/step - loss: 0.2218 - acc: 0.8235\n",
            "Epoch 152/300\n",
            "34/34 [==============================] - 0s 6ms/step - loss: 0.2218 - acc: 0.8235\n",
            "Epoch 153/300\n",
            "34/34 [==============================] - 0s 6ms/step - loss: 0.2146 - acc: 0.9118\n",
            "Epoch 154/300\n",
            "34/34 [==============================] - 0s 5ms/step - loss: 0.2145 - acc: 0.8824\n"
          ],
          "name": "stdout"
        },
        {
          "output_type": "stream",
          "text": [
            "Epoch 155/300\n",
            "34/34 [==============================] - 0s 6ms/step - loss: 0.2101 - acc: 0.9118\n",
            "Epoch 156/300\n",
            "34/34 [==============================] - 0s 5ms/step - loss: 0.2152 - acc: 0.9118\n",
            "Epoch 157/300\n",
            "34/34 [==============================] - 0s 6ms/step - loss: 0.2114 - acc: 0.9118\n",
            "Epoch 158/300\n",
            "34/34 [==============================] - 0s 5ms/step - loss: 0.2091 - acc: 0.8824\n",
            "Epoch 159/300\n",
            "34/34 [==============================] - 0s 5ms/step - loss: 0.2017 - acc: 0.8824\n",
            "Epoch 160/300\n",
            "34/34 [==============================] - 0s 5ms/step - loss: 0.2020 - acc: 0.8529\n",
            "Epoch 161/300\n",
            "34/34 [==============================] - 0s 6ms/step - loss: 0.2061 - acc: 0.8235\n",
            "Epoch 162/300\n",
            "34/34 [==============================] - 0s 6ms/step - loss: 0.2108 - acc: 0.7941\n",
            "Epoch 163/300\n",
            "34/34 [==============================] - 0s 5ms/step - loss: 0.2111 - acc: 0.8529\n",
            "Epoch 164/300\n",
            "34/34 [==============================] - 0s 6ms/step - loss: 0.2038 - acc: 0.9118\n",
            "Epoch 165/300\n",
            "34/34 [==============================] - 0s 5ms/step - loss: 0.2002 - acc: 0.9118\n",
            "Epoch 166/300\n",
            "34/34 [==============================] - 0s 5ms/step - loss: 0.2146 - acc: 0.9118\n",
            "Epoch 167/300\n",
            "34/34 [==============================] - 0s 6ms/step - loss: 0.2004 - acc: 0.8824\n",
            "Epoch 168/300\n",
            "34/34 [==============================] - 0s 5ms/step - loss: 0.2076 - acc: 0.9118\n",
            "Epoch 169/300\n",
            "34/34 [==============================] - 0s 6ms/step - loss: 0.2074 - acc: 0.8235\n",
            "Epoch 170/300\n",
            "34/34 [==============================] - 0s 6ms/step - loss: 0.2121 - acc: 0.8824\n",
            "Epoch 171/300\n",
            "34/34 [==============================] - 0s 6ms/step - loss: 0.1961 - acc: 0.8529\n",
            "Epoch 172/300\n",
            "34/34 [==============================] - 0s 6ms/step - loss: 0.1898 - acc: 0.9118\n",
            "Epoch 173/300\n",
            "34/34 [==============================] - 0s 6ms/step - loss: 0.2061 - acc: 0.9118\n",
            "Epoch 174/300\n",
            "34/34 [==============================] - 0s 6ms/step - loss: 0.2222 - acc: 0.9118\n",
            "Epoch 175/300\n",
            "34/34 [==============================] - 0s 6ms/step - loss: 0.2153 - acc: 0.9118\n",
            "Epoch 176/300\n",
            "34/34 [==============================] - 0s 6ms/step - loss: 0.2065 - acc: 0.9118\n",
            "Epoch 177/300\n",
            "34/34 [==============================] - 0s 5ms/step - loss: 0.2107 - acc: 0.8824\n",
            "Epoch 178/300\n",
            "34/34 [==============================] - 0s 6ms/step - loss: 0.2100 - acc: 0.7941\n",
            "Epoch 179/300\n",
            "34/34 [==============================] - 0s 6ms/step - loss: 0.2052 - acc: 0.8235\n",
            "Epoch 180/300\n"
          ],
          "name": "stdout"
        },
        {
          "output_type": "stream",
          "text": [
            "34/34 [==============================] - 0s 6ms/step - loss: 0.2219 - acc: 0.8235\n",
            "Epoch 181/300\n",
            "34/34 [==============================] - 0s 6ms/step - loss: 0.2017 - acc: 0.8824\n",
            "Epoch 182/300\n",
            "34/34 [==============================] - 0s 6ms/step - loss: 0.2038 - acc: 0.9118\n",
            "Epoch 183/300\n",
            "34/34 [==============================] - 0s 6ms/step - loss: 0.2123 - acc: 0.8824\n",
            "Epoch 184/300\n",
            "34/34 [==============================] - 0s 6ms/step - loss: 0.2041 - acc: 0.9118\n",
            "Epoch 185/300\n",
            "34/34 [==============================] - 0s 6ms/step - loss: 0.2076 - acc: 0.9118\n",
            "Epoch 186/300\n",
            "34/34 [==============================] - 0s 5ms/step - loss: 0.2057 - acc: 0.9118\n",
            "Epoch 187/300\n",
            "34/34 [==============================] - 0s 6ms/step - loss: 0.1960 - acc: 0.8529\n",
            "Epoch 188/300\n",
            "34/34 [==============================] - 0s 5ms/step - loss: 0.2049 - acc: 0.8235\n",
            "Epoch 189/300\n",
            "34/34 [==============================] - 0s 6ms/step - loss: 0.2054 - acc: 0.7059\n",
            "Epoch 190/300\n",
            "34/34 [==============================] - 0s 5ms/step - loss: 0.2074 - acc: 0.7941\n",
            "Epoch 191/300\n",
            "34/34 [==============================] - 0s 6ms/step - loss: 0.2000 - acc: 0.8824\n",
            "Epoch 192/300\n",
            "34/34 [==============================] - 0s 6ms/step - loss: 0.2077 - acc: 0.8824\n",
            "Epoch 193/300\n",
            "34/34 [==============================] - 0s 5ms/step - loss: 0.2148 - acc: 0.8824\n",
            "Epoch 194/300\n",
            "34/34 [==============================] - 0s 5ms/step - loss: 0.3121 - acc: 0.8235\n",
            "Epoch 195/300\n",
            "34/34 [==============================] - 0s 5ms/step - loss: 0.3177 - acc: 0.8824\n",
            "Epoch 196/300\n",
            "34/34 [==============================] - 0s 6ms/step - loss: 0.2905 - acc: 0.8235\n",
            "Epoch 197/300\n",
            "34/34 [==============================] - 0s 6ms/step - loss: 0.2842 - acc: 0.7647\n",
            "Epoch 198/300\n",
            "34/34 [==============================] - 0s 5ms/step - loss: 0.3305 - acc: 0.8529\n",
            "Epoch 199/300\n",
            "34/34 [==============================] - 0s 6ms/step - loss: 0.3659 - acc: 0.8529\n",
            "Epoch 200/300\n",
            "34/34 [==============================] - 0s 6ms/step - loss: 0.2820 - acc: 0.8824\n",
            "Epoch 201/300\n",
            "34/34 [==============================] - 0s 6ms/step - loss: 0.2838 - acc: 0.8529\n",
            "Epoch 202/300\n",
            "34/34 [==============================] - 0s 5ms/step - loss: 0.2761 - acc: 0.8824\n",
            "Epoch 203/300\n",
            "34/34 [==============================] - 0s 6ms/step - loss: 0.2422 - acc: 0.8824\n",
            "Epoch 204/300\n",
            "34/34 [==============================] - 0s 6ms/step - loss: 0.2308 - acc: 0.8529\n",
            "Epoch 205/300\n",
            "34/34 [==============================] - 0s 6ms/step - loss: 0.2438 - acc: 0.8235\n"
          ],
          "name": "stdout"
        },
        {
          "output_type": "stream",
          "text": [
            "Epoch 206/300\n",
            "34/34 [==============================] - 0s 6ms/step - loss: 0.2342 - acc: 0.8529\n",
            "Epoch 207/300\n",
            "34/34 [==============================] - 0s 6ms/step - loss: 0.2343 - acc: 0.7941\n",
            "Epoch 208/300\n",
            "34/34 [==============================] - 0s 6ms/step - loss: 0.2246 - acc: 0.8824\n",
            "Epoch 209/300\n",
            "34/34 [==============================] - 0s 5ms/step - loss: 0.2278 - acc: 0.8529\n",
            "Epoch 210/300\n",
            "34/34 [==============================] - 0s 6ms/step - loss: 0.2366 - acc: 0.8529\n",
            "Epoch 211/300\n",
            "34/34 [==============================] - 0s 5ms/step - loss: 0.2375 - acc: 0.8824\n",
            "Epoch 212/300\n",
            "34/34 [==============================] - 0s 6ms/step - loss: 0.2349 - acc: 0.8529\n",
            "Epoch 213/300\n",
            "34/34 [==============================] - 0s 6ms/step - loss: 0.2342 - acc: 0.8529\n",
            "Epoch 214/300\n",
            "34/34 [==============================] - 0s 6ms/step - loss: 0.2195 - acc: 0.8824\n",
            "Epoch 215/300\n",
            "34/34 [==============================] - 0s 5ms/step - loss: 0.2226 - acc: 0.8529\n",
            "Epoch 216/300\n",
            "34/34 [==============================] - 0s 6ms/step - loss: 0.2247 - acc: 0.8235\n",
            "Epoch 217/300\n",
            "34/34 [==============================] - 0s 6ms/step - loss: 0.2223 - acc: 0.8235\n",
            "Epoch 218/300\n",
            "34/34 [==============================] - 0s 6ms/step - loss: 0.2273 - acc: 0.8235\n",
            "Epoch 219/300\n",
            "34/34 [==============================] - 0s 6ms/step - loss: 0.2136 - acc: 0.8529\n",
            "Epoch 220/300\n",
            "34/34 [==============================] - 0s 5ms/step - loss: 0.2233 - acc: 0.8235\n",
            "Epoch 221/300\n",
            "34/34 [==============================] - 0s 5ms/step - loss: 0.2103 - acc: 0.8529\n",
            "Epoch 222/300\n",
            "34/34 [==============================] - 0s 6ms/step - loss: 0.2162 - acc: 0.8824\n",
            "Epoch 223/300\n",
            "34/34 [==============================] - 0s 5ms/step - loss: 0.2291 - acc: 0.8235\n",
            "Epoch 224/300\n",
            "34/34 [==============================] - 0s 6ms/step - loss: 0.2208 - acc: 0.8235\n",
            "Epoch 225/300\n",
            "34/34 [==============================] - 0s 5ms/step - loss: 0.2035 - acc: 0.7941\n",
            "Epoch 226/300\n",
            "34/34 [==============================] - 0s 6ms/step - loss: 0.1933 - acc: 0.8824\n",
            "Epoch 227/300\n",
            "34/34 [==============================] - 0s 6ms/step - loss: 0.1965 - acc: 0.8529\n",
            "Epoch 228/300\n",
            "34/34 [==============================] - 0s 6ms/step - loss: 0.1806 - acc: 0.8824\n",
            "Epoch 229/300\n",
            "34/34 [==============================] - 0s 6ms/step - loss: 0.1858 - acc: 0.7647\n",
            "Epoch 230/300\n",
            "34/34 [==============================] - 0s 6ms/step - loss: 0.1830 - acc: 0.7059\n",
            "Epoch 231/300\n",
            "32/34 [===========================>..] - ETA: 0s - loss: 0.1805 - acc: 0.8125"
          ],
          "name": "stdout"
        },
        {
          "output_type": "stream",
          "text": [
            "\b\b\b\b\b\b\b\b\b\b\b\b\b\b\b\b\b\b\b\b\b\b\b\b\b\b\b\b\b\b\b\b\b\b\b\b\b\b\b\b\b\b\b\b\b\b\b\b\b\b\b\b\b\b\b\b\b\b\b\b\b\b\b\b\b\b\b\b\b\b\b\b\b\b\b\b\b\r34/34 [==============================] - 0s 6ms/step - loss: 0.1712 - acc: 0.8235\n",
            "Epoch 232/300\n",
            "34/34 [==============================] - 0s 6ms/step - loss: 0.1784 - acc: 0.8235\n",
            "Epoch 233/300\n",
            "34/34 [==============================] - 0s 6ms/step - loss: 0.1779 - acc: 0.8824\n",
            "Epoch 234/300\n",
            "34/34 [==============================] - 0s 6ms/step - loss: 0.1790 - acc: 0.8529\n",
            "Epoch 235/300\n",
            "34/34 [==============================] - 0s 6ms/step - loss: 0.1695 - acc: 0.8529\n",
            "Epoch 236/300\n",
            "34/34 [==============================] - 0s 6ms/step - loss: 0.1730 - acc: 0.7941\n",
            "Epoch 237/300\n",
            "34/34 [==============================] - 0s 5ms/step - loss: 0.1800 - acc: 0.7941\n",
            "Epoch 238/300\n",
            "34/34 [==============================] - 0s 6ms/step - loss: 0.1745 - acc: 0.7647\n",
            "Epoch 239/300\n",
            "34/34 [==============================] - 0s 6ms/step - loss: 0.1820 - acc: 0.7941\n",
            "Epoch 240/300\n",
            "34/34 [==============================] - 0s 5ms/step - loss: 0.1712 - acc: 0.8235\n",
            "Epoch 241/300\n",
            "34/34 [==============================] - 0s 6ms/step - loss: 0.1590 - acc: 0.8824\n",
            "Epoch 242/300\n",
            "34/34 [==============================] - 0s 6ms/step - loss: 0.1725 - acc: 0.8529\n",
            "Epoch 243/300\n",
            "34/34 [==============================] - 0s 6ms/step - loss: 0.1660 - acc: 0.8529\n",
            "Epoch 244/300\n",
            "34/34 [==============================] - 0s 6ms/step - loss: 0.1706 - acc: 0.8529\n",
            "Epoch 245/300\n",
            "34/34 [==============================] - 0s 6ms/step - loss: 0.1710 - acc: 0.7647\n",
            "Epoch 246/300\n",
            "34/34 [==============================] - 0s 6ms/step - loss: 0.1639 - acc: 0.8235\n",
            "Epoch 247/300\n",
            "34/34 [==============================] - 0s 6ms/step - loss: 0.1647 - acc: 0.7941\n",
            "Epoch 248/300\n",
            "34/34 [==============================] - 0s 6ms/step - loss: 0.1651 - acc: 0.8235\n",
            "Epoch 249/300\n",
            "34/34 [==============================] - 0s 6ms/step - loss: 0.1643 - acc: 0.8529\n",
            "Epoch 250/300\n",
            "34/34 [==============================] - 0s 5ms/step - loss: 0.1657 - acc: 0.8824\n",
            "Epoch 251/300\n",
            "34/34 [==============================] - 0s 6ms/step - loss: 0.1597 - acc: 0.8529\n",
            "Epoch 252/300\n",
            "34/34 [==============================] - 0s 6ms/step - loss: 0.1626 - acc: 0.8824\n",
            "Epoch 253/300\n",
            "34/34 [==============================] - 0s 5ms/step - loss: 0.1673 - acc: 0.7941\n",
            "Epoch 254/300\n",
            "34/34 [==============================] - 0s 5ms/step - loss: 0.1614 - acc: 0.8824\n",
            "Epoch 255/300\n",
            "34/34 [==============================] - 0s 5ms/step - loss: 0.1638 - acc: 0.8529\n",
            "Epoch 256/300\n"
          ],
          "name": "stdout"
        },
        {
          "output_type": "stream",
          "text": [
            "34/34 [==============================] - 0s 5ms/step - loss: 0.1607 - acc: 0.8235\n",
            "Epoch 257/300\n",
            "34/34 [==============================] - 0s 5ms/step - loss: 0.1633 - acc: 0.8529\n",
            "Epoch 258/300\n",
            "34/34 [==============================] - 0s 6ms/step - loss: 0.1627 - acc: 0.8824\n",
            "Epoch 259/300\n",
            "34/34 [==============================] - 0s 5ms/step - loss: 0.1639 - acc: 0.8235\n",
            "Epoch 260/300\n",
            "34/34 [==============================] - 0s 5ms/step - loss: 0.1639 - acc: 0.8529\n",
            "Epoch 261/300\n",
            "34/34 [==============================] - 0s 5ms/step - loss: 0.1629 - acc: 0.7647\n",
            "Epoch 262/300\n",
            "34/34 [==============================] - 0s 5ms/step - loss: 0.1617 - acc: 0.7941\n",
            "Epoch 263/300\n",
            "34/34 [==============================] - 0s 5ms/step - loss: 0.1619 - acc: 0.8529\n",
            "Epoch 264/300\n",
            "34/34 [==============================] - 0s 5ms/step - loss: 0.1663 - acc: 0.8529\n",
            "Epoch 265/300\n",
            "34/34 [==============================] - 0s 5ms/step - loss: 0.1646 - acc: 0.8235\n",
            "Epoch 266/300\n",
            "34/34 [==============================] - 0s 6ms/step - loss: 0.1659 - acc: 0.8529\n",
            "Epoch 267/300\n",
            "34/34 [==============================] - 0s 5ms/step - loss: 0.1565 - acc: 0.8824\n",
            "Epoch 268/300\n",
            "34/34 [==============================] - 0s 5ms/step - loss: 0.1609 - acc: 0.8529\n",
            "Epoch 269/300\n",
            "34/34 [==============================] - 0s 5ms/step - loss: 0.1705 - acc: 0.8529\n",
            "Epoch 270/300\n",
            "34/34 [==============================] - 0s 5ms/step - loss: 0.1618 - acc: 0.8824\n",
            "Epoch 271/300\n",
            "34/34 [==============================] - 0s 6ms/step - loss: 0.1694 - acc: 0.8235\n",
            "Epoch 272/300\n",
            "34/34 [==============================] - 0s 5ms/step - loss: 0.1651 - acc: 0.8235\n",
            "Epoch 273/300\n",
            "34/34 [==============================] - 0s 6ms/step - loss: 0.1645 - acc: 0.7647\n",
            "Epoch 274/300\n",
            "34/34 [==============================] - 0s 5ms/step - loss: 0.1600 - acc: 0.7647\n",
            "Epoch 275/300\n",
            "34/34 [==============================] - 0s 6ms/step - loss: 0.1568 - acc: 0.7941\n",
            "Epoch 276/300\n",
            "34/34 [==============================] - 0s 6ms/step - loss: 0.1628 - acc: 0.8529\n",
            "Epoch 277/300\n",
            "34/34 [==============================] - 0s 5ms/step - loss: 0.1651 - acc: 0.8529\n",
            "Epoch 278/300\n",
            "34/34 [==============================] - 0s 6ms/step - loss: 0.1595 - acc: 0.8529\n",
            "Epoch 279/300\n",
            "34/34 [==============================] - 0s 5ms/step - loss: 0.1701 - acc: 0.8235\n",
            "Epoch 280/300\n",
            "34/34 [==============================] - 0s 6ms/step - loss: 0.1649 - acc: 0.8529\n",
            "Epoch 281/300\n",
            "34/34 [==============================] - 0s 6ms/step - loss: 0.1617 - acc: 0.8824\n"
          ],
          "name": "stdout"
        },
        {
          "output_type": "stream",
          "text": [
            "Epoch 282/300\n",
            "34/34 [==============================] - 0s 5ms/step - loss: 0.1615 - acc: 0.8529\n",
            "Epoch 283/300\n",
            "34/34 [==============================] - 0s 6ms/step - loss: 0.1540 - acc: 0.8529\n",
            "Epoch 284/300\n",
            "34/34 [==============================] - 0s 5ms/step - loss: 0.1706 - acc: 0.7647\n",
            "Epoch 285/300\n",
            "34/34 [==============================] - 0s 5ms/step - loss: 0.1609 - acc: 0.8235\n",
            "Epoch 286/300\n",
            "34/34 [==============================] - 0s 5ms/step - loss: 0.1602 - acc: 0.7353\n",
            "Epoch 287/300\n",
            "34/34 [==============================] - 0s 6ms/step - loss: 0.1658 - acc: 0.8235\n",
            "Epoch 288/300\n",
            "34/34 [==============================] - 0s 5ms/step - loss: 0.1564 - acc: 0.8235\n",
            "Epoch 289/300\n",
            "34/34 [==============================] - 0s 5ms/step - loss: 0.1570 - acc: 0.8529\n",
            "Epoch 290/300\n",
            "34/34 [==============================] - 0s 5ms/step - loss: 0.1582 - acc: 0.8529\n",
            "Epoch 291/300\n",
            "34/34 [==============================] - 0s 5ms/step - loss: 0.1646 - acc: 0.8235\n",
            "Epoch 292/300\n",
            "34/34 [==============================] - 0s 6ms/step - loss: 0.1617 - acc: 0.8235\n",
            "Epoch 293/300\n",
            "34/34 [==============================] - 0s 5ms/step - loss: 0.1663 - acc: 0.8235\n",
            "Epoch 294/300\n",
            "34/34 [==============================] - 0s 6ms/step - loss: 0.1633 - acc: 0.8235\n",
            "Epoch 295/300\n",
            "34/34 [==============================] - 0s 5ms/step - loss: 0.1575 - acc: 0.8235\n",
            "Epoch 296/300\n",
            "34/34 [==============================] - 0s 6ms/step - loss: 0.1558 - acc: 0.8235\n",
            "Epoch 297/300\n",
            "34/34 [==============================] - 0s 6ms/step - loss: 0.1642 - acc: 0.7941\n",
            "Epoch 298/300\n",
            "34/34 [==============================] - 0s 6ms/step - loss: 0.1555 - acc: 0.8529\n",
            "Epoch 299/300\n",
            "34/34 [==============================] - 0s 6ms/step - loss: 0.1578 - acc: 0.7647\n",
            "Epoch 300/300\n",
            "34/34 [==============================] - 0s 6ms/step - loss: 0.1580 - acc: 0.7647\n"
          ],
          "name": "stdout"
        }
      ]
    },
    {
      "metadata": {
        "id": "5hxSWJHn6gew",
        "colab_type": "code",
        "colab": {
          "base_uri": "https://localhost:8080/",
          "height": 34
        },
        "outputId": "ecb875dc-c622-475f-8908-6fb9e2f18d53"
      },
      "cell_type": "code",
      "source": [
        "# list all data in history\n",
        "print(history.history.keys())"
      ],
      "execution_count": 351,
      "outputs": [
        {
          "output_type": "stream",
          "text": [
            "['acc', 'loss']\n"
          ],
          "name": "stdout"
        }
      ]
    },
    {
      "metadata": {
        "id": "ClvWhhAO7Eij",
        "colab_type": "code",
        "colab": {}
      },
      "cell_type": "code",
      "source": [
        "import matplotlib.pyplot as plt"
      ],
      "execution_count": 0,
      "outputs": []
    },
    {
      "metadata": {
        "id": "AJqaHuAd8Men",
        "colab_type": "code",
        "colab": {
          "base_uri": "https://localhost:8080/",
          "height": 571
        },
        "outputId": "dfe928ed-6e6c-4e5f-d394-2b54ae6b910b"
      },
      "cell_type": "code",
      "source": [
        "# summarize history for accuracy\n",
        "plt.plot(history.history['acc'])\n",
        "plt.title('model accuracy')\n",
        "plt.ylabel('accuracy')\n",
        "plt.xlabel('epoch')\n",
        "plt.legend(['train', 'test'], loc='upper left')\n",
        "plt.show()\n",
        "# summarize history for loss\n",
        "plt.plot(history.history['loss'])\n",
        "plt.title('model loss')\n",
        "plt.ylabel('loss')\n",
        "plt.xlabel('epoch')\n",
        "plt.legend(['train', 'test'], loc='upper left')\n",
        "plt.show()"
      ],
      "execution_count": 353,
      "outputs": [
        {
          "output_type": "display_data",
          "data": {
            "image/png": "[encoded data removed]",
            "text/plain": [
              "<matplotlib.figure.Figure at 0x7fe535821fd0>"
            ]
          },
          "metadata": {
            "tags": []
          }
        },
        {
          "output_type": "display_data",
          "data": {
            "image/png": "[encoded data removed]",
            "text/plain": [
              "<matplotlib.figure.Figure at 0x7fe5357a6f50>"
            ]
          },
          "metadata": {
            "tags": []
          }
        }
      ]
    },
    {
      "metadata": {
        "id": "OQPFMRCKEkgd",
        "colab_type": "code",
        "colab": {
          "base_uri": "https://localhost:8080/",
          "height": 34
        },
        "outputId": "bf4ac827-187d-426d-f84e-287abe88e3f0"
      },
      "cell_type": "code",
      "source": [
        "type(pattern)"
      ],
      "execution_count": 354,
      "outputs": [
        {
          "output_type": "execute_result",
          "data": {
            "text/plain": [
              "midi.containers.Pattern"
            ]
          },
          "metadata": {
            "tags": []
          },
          "execution_count": 354
        }
      ]
    },
    {
      "metadata": {
        "id": "RVfg7KpX9b7L",
        "colab_type": "code",
        "colab": {
          "base_uri": "https://localhost:8080/",
          "height": 238
        },
        "outputId": "b1a98cab-6ca6-4f3a-cdbe-ff082fa77766"
      },
      "cell_type": "code",
      "source": [
        "start = np.random.randint(0, len(dataX)-1)\n",
        "pattern = dataX[start]\n",
        "print(\"seed:\")\n",
        "#print(pattern)\n",
        "generate = list()\n",
        "for i in range(10):\n",
        "  gx = np.reshape(pattern, (1, len(pattern), 3))\n",
        "  prediction = model.predict(gx, verbose=0)\n",
        "  print(prediction)\n",
        "  generate.append(prediction)\n",
        "  #print('antes:',pattern)\n",
        "  pattern = np.concatenate([pattern,prediction])\n",
        "  pattern = pattern[1:len(pattern)]\n",
        "  #print('depois:',pattern)\n",
        "print \"\\nDone.\""
      ],
      "execution_count": 355,
      "outputs": [
        {
          "output_type": "stream",
          "text": [
            "seed:\n",
            "[[ 0.7855881 -0.9987634  0.6932163]]\n",
            "[[ 0.7636044  0.9996453 -0.9560073]]\n",
            "[[ 0.77492523 -0.99842674  0.6949536 ]]\n",
            "[[ 0.7507983   0.99964464 -0.95729566]]\n",
            "[[ 0.76213145 -0.99838114  0.6984056 ]]\n",
            "[[ 0.74292785  0.99964005 -0.95745087]]\n",
            "[[ 0.7550925  -0.9984561   0.70148224]]\n",
            "[[ 0.740261   0.9996302 -0.9571631]]\n",
            "[[ 0.75312155 -0.9985417   0.70332897]]\n",
            "[[ 0.7406095   0.99962187 -0.9567654 ]]\n",
            "\n",
            "Done.\n"
          ],
          "name": "stdout"
        }
      ]
    },
    {
      "metadata": {
        "id": "7MY6odf1IQmx",
        "colab_type": "code",
        "colab": {
          "base_uri": "https://localhost:8080/",
          "height": 187
        },
        "outputId": "744c43c9-1c96-4510-e4d8-e3d4d7d01eba"
      },
      "cell_type": "code",
      "source": [
        "generate"
      ],
      "execution_count": 356,
      "outputs": [
        {
          "output_type": "execute_result",
          "data": {
            "text/plain": [
              "[array([[ 0.7855881, -0.9987634,  0.6932163]], dtype=float32),\n",
              " array([[ 0.7636044,  0.9996453, -0.9560073]], dtype=float32),\n",
              " array([[ 0.77492523, -0.99842674,  0.6949536 ]], dtype=float32),\n",
              " array([[ 0.7507983 ,  0.99964464, -0.95729566]], dtype=float32),\n",
              " array([[ 0.76213145, -0.99838114,  0.6984056 ]], dtype=float32),\n",
              " array([[ 0.74292785,  0.99964005, -0.95745087]], dtype=float32),\n",
              " array([[ 0.7550925 , -0.9984561 ,  0.70148224]], dtype=float32),\n",
              " array([[ 0.740261 ,  0.9996302, -0.9571631]], dtype=float32),\n",
              " array([[ 0.75312155, -0.9985417 ,  0.70332897]], dtype=float32),\n",
              " array([[ 0.7406095 ,  0.99962187, -0.9567654 ]], dtype=float32)]"
            ]
          },
          "metadata": {
            "tags": []
          },
          "execution_count": 356
        }
      ]
    },
    {
      "metadata": {
        "id": "f7Y5uFjT-U8S",
        "colab_type": "code",
        "colab": {}
      },
      "cell_type": "code",
      "source": [
        "inv = scaler.inverse_transform(generate)"
      ],
      "execution_count": 0,
      "outputs": []
    },
    {
      "metadata": {
        "id": "OqZxxIj_VBOv",
        "colab_type": "code",
        "colab": {
          "base_uri": "https://localhost:8080/",
          "height": 340
        },
        "outputId": "981179d1-caa4-425e-9ce8-0815f9565a5b"
      },
      "cell_type": "code",
      "source": [
        "inv"
      ],
      "execution_count": 358,
      "outputs": [
        {
          "output_type": "execute_result",
          "data": {
            "text/plain": [
              "array([[[6.9231689e+01, 6.1830878e-04, 6.5122711e+01]],\n",
              "\n",
              "       [[6.9123634e+01, 9.9982262e-01, 3.7506258e-01]],\n",
              "\n",
              "       [[6.9179276e+01, 7.8663230e-04, 6.5190918e+01]],\n",
              "\n",
              "       [[6.9060692e+01, 9.9982232e-01, 3.2448351e-01]],\n",
              "\n",
              "       [[6.9116394e+01, 8.0943108e-04, 6.5326447e+01]],\n",
              "\n",
              "       [[6.9022003e+01, 9.9981999e-01, 3.1839144e-01]],\n",
              "\n",
              "       [[6.9081795e+01, 7.7193975e-04, 6.5447227e+01]],\n",
              "\n",
              "       [[6.9008896e+01, 9.9981511e-01, 3.2968676e-01]],\n",
              "\n",
              "       [[6.9072105e+01, 7.2914362e-04, 6.5519730e+01]],\n",
              "\n",
              "       [[6.9010612e+01, 9.9981093e-01, 3.4530032e-01]]], dtype=float32)"
            ]
          },
          "metadata": {
            "tags": []
          },
          "execution_count": 358
        }
      ]
    },
    {
      "metadata": {
        "id": "E63NH9cYIeCw",
        "colab_type": "code",
        "colab": {
          "base_uri": "https://localhost:8080/",
          "height": 34
        },
        "outputId": "f2db6d1c-7f36-4096-d9e1-916c7b65d501"
      },
      "cell_type": "code",
      "source": [
        "inv.shape"
      ],
      "execution_count": 359,
      "outputs": [
        {
          "output_type": "execute_result",
          "data": {
            "text/plain": [
              "(10, 1, 3)"
            ]
          },
          "metadata": {
            "tags": []
          },
          "execution_count": 359
        }
      ]
    },
    {
      "metadata": {
        "id": "hJ5aE5w9R4sb",
        "colab_type": "code",
        "colab": {}
      },
      "cell_type": "code",
      "source": [
        "import midi\n",
        "# Instantiate a MIDI Pattern (contains a list of tracks)\n",
        "pattern = midi.Pattern()\n",
        "pattern.resolution = 128\n",
        "# Instantiate a MIDI Track (contains a list of MIDI events)\n",
        "track = midi.Track()\n",
        "# Append the track to the pattern\n",
        "pattern.append(track)"
      ],
      "execution_count": 0,
      "outputs": []
    },
    {
      "metadata": {
        "id": "qHfX2NvJIeJa",
        "colab_type": "code",
        "colab": {}
      },
      "cell_type": "code",
      "source": [
        "for i in inv:\n",
        "  a, c = int(i.T[0]),int(i.T[2])\n",
        "  \n",
        "  b = i.T[1]\n",
        "  if b > 0.6:\n",
        "    on = midi.NoteOnEvent(tick=c, velocity=127, pitch=a)\n",
        "    track.append(on)\n",
        "  else:\n",
        "    off = midi.NoteOffEvent(tick=100, pitch=a)\n",
        "    track.append(off)\n",
        "eot = midi.EndOfTrackEvent(tick=1) \n",
        "track.append(eot)"
      ],
      "execution_count": 0,
      "outputs": []
    },
    {
      "metadata": {
        "id": "ihucw7vMSEfd",
        "colab_type": "code",
        "colab": {
          "base_uri": "https://localhost:8080/",
          "height": 238
        },
        "outputId": "4ce75fb5-1a0e-4213-8adc-4cec0a265e09"
      },
      "cell_type": "code",
      "source": [
        "print(pattern)"
      ],
      "execution_count": 362,
      "outputs": [
        {
          "output_type": "stream",
          "text": [
            "midi.Pattern(format=1, resolution=128, tracks=\\\n",
            "[midi.Track(\\\n",
            "  [midi.NoteOffEvent(tick=100, channel=0, data=[69, 0]),\n",
            "   midi.NoteOnEvent(tick=0, channel=0, data=[69, 127]),\n",
            "   midi.NoteOffEvent(tick=100, channel=0, data=[69, 0]),\n",
            "   midi.NoteOnEvent(tick=0, channel=0, data=[69, 127]),\n",
            "   midi.NoteOffEvent(tick=100, channel=0, data=[69, 0]),\n",
            "   midi.NoteOnEvent(tick=0, channel=0, data=[69, 127]),\n",
            "   midi.NoteOffEvent(tick=100, channel=0, data=[69, 0]),\n",
            "   midi.NoteOnEvent(tick=0, channel=0, data=[69, 127]),\n",
            "   midi.NoteOffEvent(tick=100, channel=0, data=[69, 0]),\n",
            "   midi.NoteOnEvent(tick=0, channel=0, data=[69, 127]),\n",
            "   midi.EndOfTrackEvent(tick=1, data=[])])])\n"
          ],
          "name": "stdout"
        }
      ]
    },
    {
      "metadata": {
        "id": "a2VfULFBIeNy",
        "colab_type": "code",
        "colab": {}
      },
      "cell_type": "code",
      "source": [
        "midi.write_midifile(\"musica_gerada.mid\", pattern)"
      ],
      "execution_count": 0,
      "outputs": []
    },
    {
      "metadata": {
        "id": "Tvc3xBRqLnyP",
        "colab_type": "code",
        "colab": {}
      },
      "cell_type": "code",
      "source": [
        "\n",
        "from google.colab import files"
      ],
      "execution_count": 0,
      "outputs": []
    },
    {
      "metadata": {
        "id": "oinZOfbaTevl",
        "colab_type": "code",
        "colab": {}
      },
      "cell_type": "code",
      "source": [
        "files.download('musica_gerada.mid')"
      ],
      "execution_count": 0,
      "outputs": []
    },
    {
      "metadata": {
        "id": "3Ci5W6E2Ti9V",
        "colab_type": "code",
        "colab": {}
      },
      "cell_type": "code",
      "source": [
        ""
      ],
      "execution_count": 0,
      "outputs": []
    }
  ]
}