{
  "nbformat": 4,
  "nbformat_minor": 0,
  "metadata": {
    "colab": {
      "name": "python_midi_v2.ipynb",
      "version": "0.3.2",
      "provenance": [],
      "collapsed_sections": []
    },
    "kernelspec": {
      "name": "python2",
      "display_name": "Python 2"
    },
    "accelerator": "GPU"
  },
  "cells": [
    {
      "cell_type": "markdown",
      "metadata": {
        "id": "view-in-github",
        "colab_type": "text"
      },
      "source": [
        "[View in Colaboratory](https://colab.research.google.com/github/eurismarpires/colab_test/blob/master/python_midi_v2.ipynb)"
      ]
    },
    {
      "metadata": {
        "id": "YkTDKycpn5yR",
        "colab_type": "text"
      },
      "cell_type": "markdown",
      "source": [
        "**Download midi e instalação do Python Midi**"
      ]
    },
    {
      "metadata": {
        "id": "Z3GH9avUGojw",
        "colab_type": "code",
        "colab": {
          "base_uri": "https://localhost:8080/",
          "height": 34
        },
        "outputId": "6d47938b-0c84-414e-acca-55e79237a9cc"
      },
      "cell_type": "code",
      "source": [
        "!ls"
      ],
      "execution_count": 311,
      "outputs": [
        {
          "output_type": "stream",
          "text": [
            "datalab  Music_Generator_Demo\r\n"
          ],
          "name": "stdout"
        }
      ]
    },
    {
      "metadata": {
        "id": "UWYremrZlo8e",
        "colab_type": "code",
        "colab": {
          "base_uri": "https://localhost:8080/",
          "height": 34
        },
        "outputId": "e17086b3-99dc-40d4-f454-564652c089f8"
      },
      "cell_type": "code",
      "source": [
        "!git clone https://github.com/llSourcell/Music_Generator_Demo.git"
      ],
      "execution_count": 312,
      "outputs": [
        {
          "output_type": "stream",
          "text": [
            "fatal: destination path 'Music_Generator_Demo' already exists and is not an empty directory.\r\n"
          ],
          "name": "stdout"
        }
      ]
    },
    {
      "metadata": {
        "id": "WxcrkRhXnsOn",
        "colab_type": "code",
        "colab": {
          "base_uri": "https://localhost:8080/",
          "height": 34
        },
        "outputId": "0fc94bc6-1c77-4cd1-b3cb-0c5b50191c32"
      },
      "cell_type": "code",
      "source": [
        "!ls"
      ],
      "execution_count": 313,
      "outputs": [
        {
          "output_type": "stream",
          "text": [
            "datalab  Music_Generator_Demo\r\n"
          ],
          "name": "stdout"
        }
      ]
    },
    {
      "metadata": {
        "id": "lwQdoQojmEtR",
        "colab_type": "code",
        "colab": {
          "base_uri": "https://localhost:8080/",
          "height": 34
        },
        "outputId": "910f77f0-e12c-43f0-ea0a-fab8e32685ce"
      },
      "cell_type": "code",
      "source": [
        "!pip install python-midi"
      ],
      "execution_count": 314,
      "outputs": [
        {
          "output_type": "stream",
          "text": [
            "Requirement already satisfied: python-midi in /usr/local/lib/python2.7/dist-packages (0.2.4)\r\n"
          ],
          "name": "stdout"
        }
      ]
    },
    {
      "metadata": {
        "id": "u3lPCsbgnDAj",
        "colab_type": "code",
        "colab": {}
      },
      "cell_type": "code",
      "source": [
        "import midi"
      ],
      "execution_count": 0,
      "outputs": []
    },
    {
      "metadata": {
        "id": "7y0TWVFunE3T",
        "colab_type": "code",
        "colab": {
          "base_uri": "https://localhost:8080/",
          "height": 34
        },
        "outputId": "80c66457-9c90-4f4c-c2b9-e9e5641ff4ca"
      },
      "cell_type": "code",
      "source": [
        "!ls"
      ],
      "execution_count": 316,
      "outputs": [
        {
          "output_type": "stream",
          "text": [
            "datalab  Music_Generator_Demo\r\n"
          ],
          "name": "stdout"
        }
      ]
    },
    {
      "metadata": {
        "id": "isxrAwBBnkXe",
        "colab_type": "code",
        "colab": {}
      },
      "cell_type": "code",
      "source": [
        ""
      ],
      "execution_count": 0,
      "outputs": []
    },
    {
      "metadata": {
        "id": "UpuRBjr_lf3u",
        "colab_type": "text"
      },
      "cell_type": "markdown",
      "source": [
        "## links uteis\n",
        "### https://www.dataquest.io/blog/pandas-python-tutorial/\n",
        "### https://blogs.technet.microsoft.com/machinelearning/2017/12/06/music-generation-with-azure-machine-learning/\n",
        "### https://github.com/vishnubob/python-midi\n",
        "### https://github.com/llSourcell/Music_Generator_Demo/blob/master/midi_manipulation.py"
      ]
    },
    {
      "metadata": {
        "id": "FuDRrCT3lf3v",
        "colab_type": "code",
        "colab": {}
      },
      "cell_type": "code",
      "source": [
        "import pandas as pd"
      ],
      "execution_count": 0,
      "outputs": []
    },
    {
      "metadata": {
        "id": "h_1MKbd-lf3y",
        "colab_type": "code",
        "colab": {}
      },
      "cell_type": "code",
      "source": [
        "import midi"
      ],
      "execution_count": 0,
      "outputs": []
    },
    {
      "metadata": {
        "id": "wec1dOo-lf31",
        "colab_type": "code",
        "colab": {}
      },
      "cell_type": "code",
      "source": [
        "midifile = 'Music_Generator_Demo/Pop_Music_Midi/Blank Space - Verse.midi'"
      ],
      "execution_count": 0,
      "outputs": []
    },
    {
      "metadata": {
        "id": "eqZotrYblf34",
        "colab_type": "code",
        "colab": {}
      },
      "cell_type": "code",
      "source": [
        "pattern = midi.read_midifile(midifile)"
      ],
      "execution_count": 0,
      "outputs": []
    },
    {
      "metadata": {
        "id": "zdaeBZhalf36",
        "colab_type": "code",
        "colab": {
          "base_uri": "https://localhost:8080/",
          "height": 6579
        },
        "outputId": "955bd4f9-76fb-4e3c-afbd-4b3925d4c308"
      },
      "cell_type": "code",
      "source": [
        "pattern"
      ],
      "execution_count": 321,
      "outputs": [
        {
          "output_type": "execute_result",
          "data": {
            "text/plain": [
              "midi.Pattern(format=1, resolution=128, tracks=\\\n",
              "[midi.Track(\\\n",
              "  [midi.SetTempoEvent(tick=0, data=[7, 161, 32]),\n",
              "   midi.TrackNameEvent(tick=0, text='\\x00', data=[0]),\n",
              "   midi.TimeSignatureEvent(tick=0, data=[4, 2, 24, 8]),\n",
              "   midi.KeySignatureEvent(tick=0, data=[0, 0]),\n",
              "   midi.ProgramChangeEvent(tick=0, channel=0, data=[1]),\n",
              "   midi.NoteOnEvent(tick=128, channel=1, data=[60, 102]),\n",
              "   midi.NoteOffEvent(tick=31, channel=1, data=[60, 90]),\n",
              "   midi.NoteOnEvent(tick=1, channel=1, data=[60, 102]),\n",
              "   midi.NoteOffEvent(tick=31, channel=1, data=[60, 90]),\n",
              "   midi.NoteOnEvent(tick=65, channel=1, data=[60, 102]),\n",
              "   midi.NoteOffEvent(tick=31, channel=1, data=[60, 90]),\n",
              "   midi.NoteOnEvent(tick=1, channel=1, data=[60, 102]),\n",
              "   midi.NoteOffEvent(tick=31, channel=1, data=[60, 90]),\n",
              "   midi.NoteOnEvent(tick=65, channel=1, data=[60, 102]),\n",
              "   midi.NoteOffEvent(tick=31, channel=1, data=[60, 90]),\n",
              "   midi.NoteOnEvent(tick=1, channel=1, data=[60, 102]),\n",
              "   midi.NoteOffEvent(tick=31, channel=1, data=[60, 90]),\n",
              "   midi.NoteOnEvent(tick=65, channel=1, data=[60, 102]),\n",
              "   midi.NoteOffEvent(tick=126, channel=1, data=[60, 90]),\n",
              "   midi.NoteOnEvent(tick=2, channel=1, data=[64, 102]),\n",
              "   midi.NoteOffEvent(tick=31, channel=1, data=[64, 90]),\n",
              "   midi.NoteOnEvent(tick=1, channel=1, data=[64, 102]),\n",
              "   midi.NoteOffEvent(tick=63, channel=1, data=[64, 90]),\n",
              "   midi.NoteOnEvent(tick=1, channel=1, data=[64, 102]),\n",
              "   midi.NoteOffEvent(tick=63, channel=1, data=[64, 90]),\n",
              "   midi.NoteOnEvent(tick=1, channel=1, data=[62, 102]),\n",
              "   midi.NoteOffEvent(tick=63, channel=1, data=[62, 90]),\n",
              "   midi.NoteOnEvent(tick=1, channel=1, data=[60, 102]),\n",
              "   midi.NoteOffEvent(tick=31, channel=1, data=[60, 90]),\n",
              "   midi.NoteOnEvent(tick=1, channel=1, data=[62, 102]),\n",
              "   midi.NoteOffEvent(tick=31, channel=1, data=[62, 90]),\n",
              "   midi.NoteOnEvent(tick=1, channel=1, data=[60, 102]),\n",
              "   midi.NoteOffEvent(tick=31, channel=1, data=[60, 90]),\n",
              "   midi.NoteOnEvent(tick=1, channel=1, data=[62, 102]),\n",
              "   midi.NoteOffEvent(tick=63, channel=1, data=[62, 90]),\n",
              "   midi.NoteOnEvent(tick=1, channel=1, data=[57, 102]),\n",
              "   midi.NoteOffEvent(tick=63, channel=1, data=[57, 90]),\n",
              "   midi.NoteOnEvent(tick=65, channel=1, data=[60, 102]),\n",
              "   midi.NoteOffEvent(tick=31, channel=1, data=[60, 90]),\n",
              "   midi.NoteOnEvent(tick=1, channel=1, data=[60, 102]),\n",
              "   midi.NoteOffEvent(tick=31, channel=1, data=[60, 90]),\n",
              "   midi.NoteOnEvent(tick=65, channel=1, data=[60, 102]),\n",
              "   midi.NoteOffEvent(tick=31, channel=1, data=[60, 90]),\n",
              "   midi.NoteOnEvent(tick=1, channel=1, data=[60, 102]),\n",
              "   midi.NoteOffEvent(tick=31, channel=1, data=[60, 90]),\n",
              "   midi.NoteOnEvent(tick=65, channel=1, data=[60, 102]),\n",
              "   midi.NoteOffEvent(tick=31, channel=1, data=[60, 90]),\n",
              "   midi.NoteOnEvent(tick=1, channel=1, data=[60, 102]),\n",
              "   midi.NoteOffEvent(tick=31, channel=1, data=[60, 90]),\n",
              "   midi.NoteOnEvent(tick=65, channel=1, data=[60, 102]),\n",
              "   midi.NoteOffEvent(tick=126, channel=1, data=[60, 90]),\n",
              "   midi.NoteOnEvent(tick=2, channel=1, data=[64, 102]),\n",
              "   midi.NoteOffEvent(tick=31, channel=1, data=[64, 90]),\n",
              "   midi.NoteOnEvent(tick=1, channel=1, data=[64, 102]),\n",
              "   midi.NoteOffEvent(tick=63, channel=1, data=[64, 90]),\n",
              "   midi.NoteOnEvent(tick=1, channel=1, data=[64, 102]),\n",
              "   midi.NoteOffEvent(tick=95, channel=1, data=[64, 90]),\n",
              "   midi.NoteOnEvent(tick=1, channel=1, data=[64, 102]),\n",
              "   midi.NoteOffEvent(tick=31, channel=1, data=[64, 90]),\n",
              "   midi.NoteOnEvent(tick=1, channel=1, data=[62, 102]),\n",
              "   midi.NoteOffEvent(tick=63, channel=1, data=[62, 90]),\n",
              "   midi.NoteOnEvent(tick=1, channel=1, data=[60, 102]),\n",
              "   midi.NoteOffEvent(tick=63, channel=1, data=[60, 90]),\n",
              "   midi.NoteOnEvent(tick=33, channel=1, data=[53, 102]),\n",
              "   midi.NoteOffEvent(tick=63, channel=1, data=[53, 90]),\n",
              "   midi.NoteOnEvent(tick=1, channel=1, data=[60, 102]),\n",
              "   midi.NoteOffEvent(tick=63, channel=1, data=[60, 90]),\n",
              "   midi.NoteOnEvent(tick=1, channel=1, data=[60, 102]),\n",
              "   midi.NoteOffEvent(tick=63, channel=1, data=[60, 90]),\n",
              "   midi.NoteOnEvent(tick=65, channel=1, data=[53, 102]),\n",
              "   midi.NoteOffEvent(tick=31, channel=1, data=[53, 90]),\n",
              "   midi.NoteOnEvent(tick=1, channel=1, data=[64, 102]),\n",
              "   midi.NoteOffEvent(tick=31, channel=1, data=[64, 90]),\n",
              "   midi.NoteOnEvent(tick=1, channel=1, data=[64, 102]),\n",
              "   midi.NoteOffEvent(tick=31, channel=1, data=[64, 90]),\n",
              "   midi.NoteOnEvent(tick=1, channel=1, data=[64, 102]),\n",
              "   midi.NoteOffEvent(tick=126, channel=1, data=[64, 90]),\n",
              "   midi.NoteOnEvent(tick=34, channel=1, data=[53, 102]),\n",
              "   midi.NoteOffEvent(tick=63, channel=1, data=[53, 90]),\n",
              "   midi.NoteOnEvent(tick=1, channel=1, data=[60, 102]),\n",
              "   midi.NoteOffEvent(tick=63, channel=1, data=[60, 90]),\n",
              "   midi.NoteOnEvent(tick=1, channel=1, data=[60, 102]),\n",
              "   midi.NoteOffEvent(tick=63, channel=1, data=[60, 90]),\n",
              "   midi.NoteOnEvent(tick=33, channel=1, data=[53, 102]),\n",
              "   midi.NoteOffEvent(tick=31, channel=1, data=[53, 90]),\n",
              "   midi.NoteOnEvent(tick=1, channel=1, data=[53, 102]),\n",
              "   midi.NoteOffEvent(tick=31, channel=1, data=[53, 90]),\n",
              "   midi.NoteOnEvent(tick=1, channel=1, data=[64, 102]),\n",
              "   midi.NoteOffEvent(tick=31, channel=1, data=[64, 90]),\n",
              "   midi.NoteOnEvent(tick=1, channel=1, data=[64, 102]),\n",
              "   midi.NoteOffEvent(tick=31, channel=1, data=[64, 90]),\n",
              "   midi.NoteOnEvent(tick=1, channel=1, data=[64, 102]),\n",
              "   midi.NoteOffEvent(tick=126, channel=1, data=[64, 90]),\n",
              "   midi.NoteOnEvent(tick=34, channel=1, data=[55, 102]),\n",
              "   midi.NoteOffEvent(tick=63, channel=1, data=[55, 90]),\n",
              "   midi.NoteOnEvent(tick=1, channel=1, data=[60, 102]),\n",
              "   midi.NoteOffEvent(tick=63, channel=1, data=[60, 90]),\n",
              "   midi.NoteOnEvent(tick=1, channel=1, data=[60, 102]),\n",
              "   midi.NoteOffEvent(tick=63, channel=1, data=[60, 90]),\n",
              "   midi.NoteOnEvent(tick=65, channel=1, data=[55, 102]),\n",
              "   midi.NoteOffEvent(tick=31, channel=1, data=[55, 90]),\n",
              "   midi.NoteOnEvent(tick=1, channel=1, data=[60, 102]),\n",
              "   midi.NoteOffEvent(tick=31, channel=1, data=[60, 90]),\n",
              "   midi.NoteOnEvent(tick=1, channel=1, data=[64, 102]),\n",
              "   midi.NoteOffEvent(tick=126, channel=1, data=[64, 90]),\n",
              "   midi.NoteOnEvent(tick=2, channel=1, data=[65, 102]),\n",
              "   midi.NoteOffEvent(tick=31, channel=1, data=[65, 90]),\n",
              "   midi.NoteOnEvent(tick=1, channel=1, data=[64, 102]),\n",
              "   midi.NoteOffEvent(tick=31, channel=1, data=[64, 90]),\n",
              "   midi.NoteOnEvent(tick=1, channel=1, data=[62, 102]),\n",
              "   midi.NoteOffEvent(tick=253, channel=1, data=[62, 90]),\n",
              "   midi.NoteOnEvent(tick=67, channel=1, data=[62, 102]),\n",
              "   midi.NoteOffEvent(tick=63, channel=1, data=[62, 90]),\n",
              "   midi.EndOfTrackEvent(tick=0, data=[])]),\n",
              " midi.Track(\\\n",
              "  [midi.SetTempoEvent(tick=0, data=[7, 161, 32]),\n",
              "   midi.TrackNameEvent(tick=0, text='\\x00', data=[0]),\n",
              "   midi.TimeSignatureEvent(tick=0, data=[4, 2, 24, 8]),\n",
              "   midi.KeySignatureEvent(tick=0, data=[0, 0]),\n",
              "   midi.ProgramChangeEvent(tick=0, channel=0, data=[2]),\n",
              "   midi.NoteOnEvent(tick=0, channel=2, data=[64, 81]),\n",
              "   midi.NoteOnEvent(tick=0, channel=2, data=[67, 81]),\n",
              "   midi.NoteOnEvent(tick=0, channel=2, data=[60, 81]),\n",
              "   midi.NoteOffEvent(tick=126, channel=2, data=[60, 90]),\n",
              "   midi.NoteOffEvent(tick=0, channel=2, data=[64, 90]),\n",
              "   midi.NoteOffEvent(tick=0, channel=2, data=[67, 90]),\n",
              "   midi.NoteOnEvent(tick=2, channel=2, data=[60, 31]),\n",
              "   midi.NoteOnEvent(tick=0, channel=2, data=[67, 31]),\n",
              "   midi.NoteOnEvent(tick=0, channel=2, data=[64, 31]),\n",
              "   midi.NoteOffEvent(tick=126, channel=2, data=[60, 90]),\n",
              "   midi.NoteOffEvent(tick=0, channel=2, data=[64, 90]),\n",
              "   midi.NoteOffEvent(tick=0, channel=2, data=[67, 90]),\n",
              "   midi.NoteOnEvent(tick=2, channel=2, data=[60, 59]),\n",
              "   midi.NoteOnEvent(tick=0, channel=2, data=[67, 59]),\n",
              "   midi.NoteOnEvent(tick=0, channel=2, data=[64, 59]),\n",
              "   midi.NoteOffEvent(tick=126, channel=2, data=[60, 90]),\n",
              "   midi.NoteOffEvent(tick=0, channel=2, data=[64, 90]),\n",
              "   midi.NoteOffEvent(tick=0, channel=2, data=[67, 90]),\n",
              "   midi.NoteOnEvent(tick=2, channel=2, data=[60, 31]),\n",
              "   midi.NoteOnEvent(tick=0, channel=2, data=[67, 31]),\n",
              "   midi.NoteOnEvent(tick=0, channel=2, data=[64, 31]),\n",
              "   midi.NoteOffEvent(tick=126, channel=2, data=[60, 90]),\n",
              "   midi.NoteOffEvent(tick=0, channel=2, data=[64, 90]),\n",
              "   midi.NoteOffEvent(tick=0, channel=2, data=[67, 90]),\n",
              "   midi.NoteOnEvent(tick=2, channel=2, data=[60, 59]),\n",
              "   midi.NoteOnEvent(tick=0, channel=2, data=[67, 59]),\n",
              "   midi.NoteOnEvent(tick=0, channel=2, data=[64, 59]),\n",
              "   midi.NoteOffEvent(tick=126, channel=2, data=[60, 90]),\n",
              "   midi.NoteOffEvent(tick=0, channel=2, data=[64, 90]),\n",
              "   midi.NoteOffEvent(tick=0, channel=2, data=[67, 90]),\n",
              "   midi.NoteOnEvent(tick=2, channel=2, data=[60, 31]),\n",
              "   midi.NoteOnEvent(tick=0, channel=2, data=[67, 31]),\n",
              "   midi.NoteOnEvent(tick=0, channel=2, data=[64, 31]),\n",
              "   midi.NoteOffEvent(tick=126, channel=2, data=[60, 90]),\n",
              "   midi.NoteOffEvent(tick=0, channel=2, data=[64, 90]),\n",
              "   midi.NoteOffEvent(tick=0, channel=2, data=[67, 90]),\n",
              "   midi.NoteOnEvent(tick=2, channel=2, data=[60, 59]),\n",
              "   midi.NoteOnEvent(tick=0, channel=2, data=[67, 59]),\n",
              "   midi.NoteOnEvent(tick=0, channel=2, data=[64, 59]),\n",
              "   midi.NoteOffEvent(tick=126, channel=2, data=[60, 90]),\n",
              "   midi.NoteOffEvent(tick=0, channel=2, data=[64, 90]),\n",
              "   midi.NoteOffEvent(tick=0, channel=2, data=[67, 90]),\n",
              "   midi.NoteOnEvent(tick=2, channel=2, data=[60, 31]),\n",
              "   midi.NoteOnEvent(tick=0, channel=2, data=[67, 31]),\n",
              "   midi.NoteOnEvent(tick=0, channel=2, data=[64, 31]),\n",
              "   midi.NoteOffEvent(tick=126, channel=2, data=[60, 90]),\n",
              "   midi.NoteOffEvent(tick=0, channel=2, data=[64, 90]),\n",
              "   midi.NoteOffEvent(tick=0, channel=2, data=[67, 90]),\n",
              "   midi.NoteOnEvent(tick=2, channel=2, data=[57, 81]),\n",
              "   midi.NoteOnEvent(tick=0, channel=2, data=[64, 81]),\n",
              "   midi.NoteOnEvent(tick=0, channel=2, data=[60, 81]),\n",
              "   midi.NoteOffEvent(tick=126, channel=2, data=[57, 90]),\n",
              "   midi.NoteOffEvent(tick=0, channel=2, data=[60, 90]),\n",
              "   midi.NoteOffEvent(tick=0, channel=2, data=[64, 90]),\n",
              "   midi.NoteOnEvent(tick=2, channel=2, data=[57, 31]),\n",
              "   midi.NoteOnEvent(tick=0, channel=2, data=[64, 31]),\n",
              "   midi.NoteOnEvent(tick=0, channel=2, data=[60, 31]),\n",
              "   midi.NoteOffEvent(tick=126, channel=2, data=[57, 90]),\n",
              "   midi.NoteOffEvent(tick=0, channel=2, data=[60, 90]),\n",
              "   midi.NoteOffEvent(tick=0, channel=2, data=[64, 90]),\n",
              "   midi.NoteOnEvent(tick=2, channel=2, data=[57, 59]),\n",
              "   midi.NoteOnEvent(tick=0, channel=2, data=[64, 59]),\n",
              "   midi.NoteOnEvent(tick=0, channel=2, data=[60, 59]),\n",
              "   midi.NoteOffEvent(tick=126, channel=2, data=[57, 90]),\n",
              "   midi.NoteOffEvent(tick=0, channel=2, data=[60, 90]),\n",
              "   midi.NoteOffEvent(tick=0, channel=2, data=[64, 90]),\n",
              "   midi.NoteOnEvent(tick=2, channel=2, data=[57, 31]),\n",
              "   midi.NoteOnEvent(tick=0, channel=2, data=[64, 31]),\n",
              "   midi.NoteOnEvent(tick=0, channel=2, data=[60, 31]),\n",
              "   midi.NoteOffEvent(tick=126, channel=2, data=[57, 90]),\n",
              "   midi.NoteOffEvent(tick=0, channel=2, data=[60, 90]),\n",
              "   midi.NoteOffEvent(tick=0, channel=2, data=[64, 90]),\n",
              "   midi.NoteOnEvent(tick=2, channel=2, data=[57, 59]),\n",
              "   midi.NoteOnEvent(tick=0, channel=2, data=[64, 59]),\n",
              "   midi.NoteOnEvent(tick=0, channel=2, data=[60, 59]),\n",
              "   midi.NoteOffEvent(tick=126, channel=2, data=[57, 90]),\n",
              "   midi.NoteOffEvent(tick=0, channel=2, data=[60, 90]),\n",
              "   midi.NoteOffEvent(tick=0, channel=2, data=[64, 90]),\n",
              "   midi.NoteOnEvent(tick=2, channel=2, data=[57, 31]),\n",
              "   midi.NoteOnEvent(tick=0, channel=2, data=[64, 31]),\n",
              "   midi.NoteOnEvent(tick=0, channel=2, data=[60, 31]),\n",
              "   midi.NoteOffEvent(tick=126, channel=2, data=[57, 90]),\n",
              "   midi.NoteOffEvent(tick=0, channel=2, data=[60, 90]),\n",
              "   midi.NoteOffEvent(tick=0, channel=2, data=[64, 90]),\n",
              "   midi.NoteOnEvent(tick=2, channel=2, data=[57, 59]),\n",
              "   midi.NoteOnEvent(tick=0, channel=2, data=[64, 59]),\n",
              "   midi.NoteOnEvent(tick=0, channel=2, data=[60, 59]),\n",
              "   midi.NoteOffEvent(tick=126, channel=2, data=[57, 90]),\n",
              "   midi.NoteOffEvent(tick=0, channel=2, data=[60, 90]),\n",
              "   midi.NoteOffEvent(tick=0, channel=2, data=[64, 90]),\n",
              "   midi.NoteOnEvent(tick=2, channel=2, data=[57, 31]),\n",
              "   midi.NoteOnEvent(tick=0, channel=2, data=[64, 31]),\n",
              "   midi.NoteOnEvent(tick=0, channel=2, data=[60, 31]),\n",
              "   midi.NoteOffEvent(tick=126, channel=2, data=[57, 90]),\n",
              "   midi.NoteOffEvent(tick=0, channel=2, data=[60, 90]),\n",
              "   midi.NoteOffEvent(tick=0, channel=2, data=[64, 90]),\n",
              "   midi.NoteOnEvent(tick=2, channel=2, data=[57, 81]),\n",
              "   midi.NoteOnEvent(tick=0, channel=2, data=[65, 81]),\n",
              "   midi.NoteOnEvent(tick=0, channel=2, data=[60, 81]),\n",
              "   midi.NoteOffEvent(tick=126, channel=2, data=[57, 90]),\n",
              "   midi.NoteOffEvent(tick=0, channel=2, data=[60, 90]),\n",
              "   midi.NoteOffEvent(tick=0, channel=2, data=[65, 90]),\n",
              "   midi.NoteOnEvent(tick=2, channel=2, data=[57, 31]),\n",
              "   midi.NoteOnEvent(tick=0, channel=2, data=[65, 31]),\n",
              "   midi.NoteOnEvent(tick=0, channel=2, data=[60, 31]),\n",
              "   midi.NoteOffEvent(tick=126, channel=2, data=[57, 90]),\n",
              "   midi.NoteOffEvent(tick=0, channel=2, data=[60, 90]),\n",
              "   midi.NoteOffEvent(tick=0, channel=2, data=[65, 90]),\n",
              "   midi.NoteOnEvent(tick=2, channel=2, data=[57, 59]),\n",
              "   midi.NoteOnEvent(tick=0, channel=2, data=[65, 59]),\n",
              "   midi.NoteOnEvent(tick=0, channel=2, data=[60, 59]),\n",
              "   midi.NoteOffEvent(tick=126, channel=2, data=[57, 90]),\n",
              "   midi.NoteOffEvent(tick=0, channel=2, data=[60, 90]),\n",
              "   midi.NoteOffEvent(tick=0, channel=2, data=[65, 90]),\n",
              "   midi.NoteOnEvent(tick=2, channel=2, data=[57, 31]),\n",
              "   midi.NoteOnEvent(tick=0, channel=2, data=[65, 31]),\n",
              "   midi.NoteOnEvent(tick=0, channel=2, data=[60, 31]),\n",
              "   midi.NoteOffEvent(tick=126, channel=2, data=[57, 90]),\n",
              "   midi.NoteOffEvent(tick=0, channel=2, data=[60, 90]),\n",
              "   midi.NoteOffEvent(tick=0, channel=2, data=[65, 90]),\n",
              "   midi.NoteOnEvent(tick=2, channel=2, data=[57, 59]),\n",
              "   midi.NoteOnEvent(tick=0, channel=2, data=[65, 59]),\n",
              "   midi.NoteOnEvent(tick=0, channel=2, data=[60, 59]),\n",
              "   midi.NoteOffEvent(tick=126, channel=2, data=[57, 90]),\n",
              "   midi.NoteOffEvent(tick=0, channel=2, data=[60, 90]),\n",
              "   midi.NoteOffEvent(tick=0, channel=2, data=[65, 90]),\n",
              "   midi.NoteOnEvent(tick=2, channel=2, data=[57, 31]),\n",
              "   midi.NoteOnEvent(tick=0, channel=2, data=[65, 31]),\n",
              "   midi.NoteOnEvent(tick=0, channel=2, data=[60, 31]),\n",
              "   midi.NoteOffEvent(tick=126, channel=2, data=[57, 90]),\n",
              "   midi.NoteOffEvent(tick=0, channel=2, data=[60, 90]),\n",
              "   midi.NoteOffEvent(tick=0, channel=2, data=[65, 90]),\n",
              "   midi.NoteOnEvent(tick=2, channel=2, data=[57, 59]),\n",
              "   midi.NoteOnEvent(tick=0, channel=2, data=[65, 59]),\n",
              "   midi.NoteOnEvent(tick=0, channel=2, data=[60, 59]),\n",
              "   midi.NoteOffEvent(tick=126, channel=2, data=[57, 90]),\n",
              "   midi.NoteOffEvent(tick=0, channel=2, data=[60, 90]),\n",
              "   midi.NoteOffEvent(tick=0, channel=2, data=[65, 90]),\n",
              "   midi.NoteOnEvent(tick=2, channel=2, data=[57, 31]),\n",
              "   midi.NoteOnEvent(tick=0, channel=2, data=[65, 31]),\n",
              "   midi.NoteOnEvent(tick=0, channel=2, data=[60, 31]),\n",
              "   midi.NoteOffEvent(tick=126, channel=2, data=[57, 90]),\n",
              "   midi.NoteOffEvent(tick=0, channel=2, data=[60, 90]),\n",
              "   midi.NoteOffEvent(tick=0, channel=2, data=[65, 90]),\n",
              "   midi.NoteOnEvent(tick=2, channel=2, data=[59, 81]),\n",
              "   midi.NoteOnEvent(tick=0, channel=2, data=[67, 81]),\n",
              "   midi.NoteOnEvent(tick=0, channel=2, data=[62, 81]),\n",
              "   midi.NoteOffEvent(tick=126, channel=2, data=[59, 90]),\n",
              "   midi.NoteOffEvent(tick=0, channel=2, data=[62, 90]),\n",
              "   midi.NoteOffEvent(tick=0, channel=2, data=[67, 90]),\n",
              "   midi.NoteOnEvent(tick=2, channel=2, data=[59, 31]),\n",
              "   midi.NoteOnEvent(tick=0, channel=2, data=[67, 31]),\n",
              "   midi.NoteOnEvent(tick=0, channel=2, data=[62, 31]),\n",
              "   midi.NoteOffEvent(tick=126, channel=2, data=[59, 90]),\n",
              "   midi.NoteOffEvent(tick=0, channel=2, data=[62, 90]),\n",
              "   midi.NoteOffEvent(tick=0, channel=2, data=[67, 90]),\n",
              "   midi.NoteOnEvent(tick=2, channel=2, data=[59, 59]),\n",
              "   midi.NoteOnEvent(tick=0, channel=2, data=[67, 59]),\n",
              "   midi.NoteOnEvent(tick=0, channel=2, data=[62, 59]),\n",
              "   midi.NoteOffEvent(tick=126, channel=2, data=[59, 90]),\n",
              "   midi.NoteOffEvent(tick=0, channel=2, data=[62, 90]),\n",
              "   midi.NoteOffEvent(tick=0, channel=2, data=[67, 90]),\n",
              "   midi.NoteOnEvent(tick=2, channel=2, data=[59, 31]),\n",
              "   midi.NoteOnEvent(tick=0, channel=2, data=[67, 31]),\n",
              "   midi.NoteOnEvent(tick=0, channel=2, data=[62, 31]),\n",
              "   midi.NoteOffEvent(tick=126, channel=2, data=[59, 90]),\n",
              "   midi.NoteOffEvent(tick=0, channel=2, data=[62, 90]),\n",
              "   midi.NoteOffEvent(tick=0, channel=2, data=[67, 90]),\n",
              "   midi.NoteOnEvent(tick=2, channel=2, data=[59, 59]),\n",
              "   midi.NoteOnEvent(tick=0, channel=2, data=[67, 59]),\n",
              "   midi.NoteOnEvent(tick=0, channel=2, data=[62, 59]),\n",
              "   midi.NoteOffEvent(tick=126, channel=2, data=[59, 90]),\n",
              "   midi.NoteOffEvent(tick=0, channel=2, data=[62, 90]),\n",
              "   midi.NoteOffEvent(tick=0, channel=2, data=[67, 90]),\n",
              "   midi.NoteOnEvent(tick=2, channel=2, data=[59, 31]),\n",
              "   midi.NoteOnEvent(tick=0, channel=2, data=[67, 31]),\n",
              "   midi.NoteOnEvent(tick=0, channel=2, data=[62, 31]),\n",
              "   midi.NoteOffEvent(tick=126, channel=2, data=[59, 90]),\n",
              "   midi.NoteOffEvent(tick=0, channel=2, data=[62, 90]),\n",
              "   midi.NoteOffEvent(tick=0, channel=2, data=[67, 90]),\n",
              "   midi.NoteOnEvent(tick=2, channel=2, data=[59, 59]),\n",
              "   midi.NoteOnEvent(tick=0, channel=2, data=[67, 59]),\n",
              "   midi.NoteOnEvent(tick=0, channel=2, data=[62, 59]),\n",
              "   midi.NoteOffEvent(tick=126, channel=2, data=[59, 90]),\n",
              "   midi.NoteOffEvent(tick=0, channel=2, data=[62, 90]),\n",
              "   midi.NoteOffEvent(tick=0, channel=2, data=[67, 90]),\n",
              "   midi.NoteOnEvent(tick=2, channel=2, data=[59, 31]),\n",
              "   midi.NoteOnEvent(tick=0, channel=2, data=[67, 31]),\n",
              "   midi.NoteOnEvent(tick=0, channel=2, data=[62, 31]),\n",
              "   midi.NoteOffEvent(tick=126, channel=2, data=[59, 90]),\n",
              "   midi.NoteOffEvent(tick=0, channel=2, data=[62, 90]),\n",
              "   midi.NoteOffEvent(tick=0, channel=2, data=[67, 90]),\n",
              "   midi.EndOfTrackEvent(tick=0, data=[])]),\n",
              " midi.Track(\\\n",
              "  [midi.SetTempoEvent(tick=0, data=[7, 161, 32]),\n",
              "   midi.TrackNameEvent(tick=0, text='\\x00', data=[0]),\n",
              "   midi.TimeSignatureEvent(tick=0, data=[4, 2, 24, 8]),\n",
              "   midi.KeySignatureEvent(tick=0, data=[0, 0]),\n",
              "   midi.ProgramChangeEvent(tick=0, channel=0, data=[10]),\n",
              "   midi.NoteOnEvent(tick=0, channel=3, data=[48, 81]),\n",
              "   midi.NoteOffEvent(tick=190, channel=3, data=[48, 90]),\n",
              "   midi.NoteOnEvent(tick=2, channel=3, data=[48, 59]),\n",
              "   midi.NoteOffEvent(tick=60, channel=3, data=[48, 90]),\n",
              "   midi.NoteOnEvent(tick=4, channel=3, data=[48, 59]),\n",
              "   midi.NoteOffEvent(tick=180, channel=3, data=[48, 90]),\n",
              "   midi.NoteOnEvent(tick=12, channel=3, data=[48, 59]),\n",
              "   midi.NoteOffEvent(tick=60, channel=3, data=[48, 90]),\n",
              "   midi.NoteOnEvent(tick=4, channel=3, data=[48, 59]),\n",
              "   midi.NoteOffEvent(tick=180, channel=3, data=[48, 90]),\n",
              "   midi.NoteOnEvent(tick=12, channel=3, data=[48, 59]),\n",
              "   midi.NoteOffEvent(tick=60, channel=3, data=[48, 90]),\n",
              "   midi.NoteOnEvent(tick=4, channel=3, data=[48, 59]),\n",
              "   midi.NoteOffEvent(tick=180, channel=3, data=[48, 90]),\n",
              "   midi.NoteOnEvent(tick=12, channel=3, data=[48, 59]),\n",
              "   midi.NoteOffEvent(tick=60, channel=3, data=[48, 90]),\n",
              "   midi.NoteOnEvent(tick=4, channel=3, data=[45, 81]),\n",
              "   midi.NoteOffEvent(tick=190, channel=3, data=[45, 90]),\n",
              "   midi.NoteOnEvent(tick=2, channel=3, data=[45, 59]),\n",
              "   midi.NoteOffEvent(tick=60, channel=3, data=[45, 90]),\n",
              "   midi.NoteOnEvent(tick=4, channel=3, data=[45, 59]),\n",
              "   midi.NoteOffEvent(tick=180, channel=3, data=[45, 90]),\n",
              "   midi.NoteOnEvent(tick=12, channel=3, data=[45, 59]),\n",
              "   midi.NoteOffEvent(tick=60, channel=3, data=[45, 90]),\n",
              "   midi.NoteOnEvent(tick=4, channel=3, data=[45, 59]),\n",
              "   midi.NoteOffEvent(tick=180, channel=3, data=[45, 90]),\n",
              "   midi.NoteOnEvent(tick=12, channel=3, data=[45, 59]),\n",
              "   midi.NoteOffEvent(tick=60, channel=3, data=[45, 90]),\n",
              "   midi.NoteOnEvent(tick=4, channel=3, data=[45, 59]),\n",
              "   midi.NoteOffEvent(tick=180, channel=3, data=[45, 90]),\n",
              "   midi.NoteOnEvent(tick=12, channel=3, data=[45, 59]),\n",
              "   midi.NoteOffEvent(tick=60, channel=3, data=[45, 90]),\n",
              "   midi.NoteOnEvent(tick=4, channel=3, data=[41, 81]),\n",
              "   midi.NoteOffEvent(tick=190, channel=3, data=[41, 90]),\n",
              "   midi.NoteOnEvent(tick=2, channel=3, data=[41, 59]),\n",
              "   midi.NoteOffEvent(tick=60, channel=3, data=[41, 90]),\n",
              "   midi.NoteOnEvent(tick=4, channel=3, data=[41, 59]),\n",
              "   midi.NoteOffEvent(tick=180, channel=3, data=[41, 90]),\n",
              "   midi.NoteOnEvent(tick=12, channel=3, data=[41, 59]),\n",
              "   midi.NoteOffEvent(tick=60, channel=3, data=[41, 90]),\n",
              "   midi.NoteOnEvent(tick=4, channel=3, data=[41, 59]),\n",
              "   midi.NoteOffEvent(tick=180, channel=3, data=[41, 90]),\n",
              "   midi.NoteOnEvent(tick=12, channel=3, data=[41, 59]),\n",
              "   midi.NoteOffEvent(tick=60, channel=3, data=[41, 90]),\n",
              "   midi.NoteOnEvent(tick=4, channel=3, data=[41, 59]),\n",
              "   midi.NoteOffEvent(tick=180, channel=3, data=[41, 90]),\n",
              "   midi.NoteOnEvent(tick=12, channel=3, data=[41, 59]),\n",
              "   midi.NoteOffEvent(tick=60, channel=3, data=[41, 90]),\n",
              "   midi.NoteOnEvent(tick=4, channel=3, data=[43, 81]),\n",
              "   midi.NoteOffEvent(tick=190, channel=3, data=[43, 90]),\n",
              "   midi.NoteOnEvent(tick=2, channel=3, data=[43, 59]),\n",
              "   midi.NoteOffEvent(tick=60, channel=3, data=[43, 90]),\n",
              "   midi.NoteOnEvent(tick=4, channel=3, data=[43, 59]),\n",
              "   midi.NoteOffEvent(tick=180, channel=3, data=[43, 90]),\n",
              "   midi.NoteOnEvent(tick=12, channel=3, data=[43, 59]),\n",
              "   midi.NoteOffEvent(tick=60, channel=3, data=[43, 90]),\n",
              "   midi.NoteOnEvent(tick=4, channel=3, data=[43, 59]),\n",
              "   midi.NoteOffEvent(tick=180, channel=3, data=[43, 90]),\n",
              "   midi.NoteOnEvent(tick=12, channel=3, data=[43, 59]),\n",
              "   midi.NoteOffEvent(tick=60, channel=3, data=[43, 90]),\n",
              "   midi.NoteOnEvent(tick=4, channel=3, data=[43, 59]),\n",
              "   midi.NoteOffEvent(tick=180, channel=3, data=[43, 90]),\n",
              "   midi.NoteOnEvent(tick=12, channel=3, data=[43, 59]),\n",
              "   midi.NoteOffEvent(tick=60, channel=3, data=[43, 90]),\n",
              "   midi.EndOfTrackEvent(tick=0, data=[])])])"
            ]
          },
          "metadata": {
            "tags": []
          },
          "execution_count": 321
        }
      ]
    },
    {
      "metadata": {
        "id": "FQyvv7LJlf3_",
        "colab_type": "code",
        "colab": {
          "base_uri": "https://localhost:8080/",
          "height": 34
        },
        "outputId": "dd2ef186-0621-44b6-a153-a16d7ccf6695"
      },
      "cell_type": "code",
      "source": [
        "pattern.format"
      ],
      "execution_count": 208,
      "outputs": [
        {
          "output_type": "execute_result",
          "data": {
            "text/plain": [
              "1"
            ]
          },
          "metadata": {
            "tags": []
          },
          "execution_count": 208
        }
      ]
    },
    {
      "metadata": {
        "id": "Aei6UOcRlf4C",
        "colab_type": "code",
        "colab": {
          "base_uri": "https://localhost:8080/",
          "height": 34
        },
        "outputId": "9142ff7f-7869-4bd8-801c-eac768d404a8"
      },
      "cell_type": "code",
      "source": [
        "pattern.resolution"
      ],
      "execution_count": 209,
      "outputs": [
        {
          "output_type": "execute_result",
          "data": {
            "text/plain": [
              "128"
            ]
          },
          "metadata": {
            "tags": []
          },
          "execution_count": 209
        }
      ]
    },
    {
      "metadata": {
        "id": "LfF-p3Xulf4F",
        "colab_type": "text"
      },
      "cell_type": "markdown",
      "source": [
        "# The resolution is the number of pulses, or ticks, per quarter note (PPQ)"
      ]
    },
    {
      "metadata": {
        "id": "49_Xss5tlf4F",
        "colab_type": "code",
        "colab": {
          "base_uri": "https://localhost:8080/",
          "height": 34
        },
        "outputId": "f801edaa-c72e-40fd-a26f-e992629b0c68"
      },
      "cell_type": "code",
      "source": [
        "len(pattern) # numero de canais"
      ],
      "execution_count": 210,
      "outputs": [
        {
          "output_type": "execute_result",
          "data": {
            "text/plain": [
              "3"
            ]
          },
          "metadata": {
            "tags": []
          },
          "execution_count": 210
        }
      ]
    },
    {
      "metadata": {
        "id": "D5zzmB3vlf4J",
        "colab_type": "code",
        "colab": {
          "base_uri": "https://localhost:8080/",
          "height": 34
        },
        "outputId": "fa653253-6eb9-4de7-da6d-7e8a3ccedb52"
      },
      "cell_type": "code",
      "source": [
        "len(pattern[0]) # numero de eventos canal 1"
      ],
      "execution_count": 211,
      "outputs": [
        {
          "output_type": "execute_result",
          "data": {
            "text/plain": [
              "114"
            ]
          },
          "metadata": {
            "tags": []
          },
          "execution_count": 211
        }
      ]
    },
    {
      "metadata": {
        "id": "PECrtZwIlf4M",
        "colab_type": "code",
        "colab": {
          "base_uri": "https://localhost:8080/",
          "height": 34
        },
        "outputId": "dc8df19f-11dc-42a3-9e54-55b947a9741b"
      },
      "cell_type": "code",
      "source": [
        "pattern[0][0]"
      ],
      "execution_count": 212,
      "outputs": [
        {
          "output_type": "execute_result",
          "data": {
            "text/plain": [
              "midi.SetTempoEvent(tick=0, data=[7, 161, 32])"
            ]
          },
          "metadata": {
            "tags": []
          },
          "execution_count": 212
        }
      ]
    },
    {
      "metadata": {
        "id": "1IC73D76lf4Q",
        "colab_type": "code",
        "colab": {
          "base_uri": "https://localhost:8080/",
          "height": 34
        },
        "outputId": "a0d6402f-7b4b-4f9b-cd95-c0f3740a2f9c"
      },
      "cell_type": "code",
      "source": [
        "pattern[0][1]"
      ],
      "execution_count": 213,
      "outputs": [
        {
          "output_type": "execute_result",
          "data": {
            "text/plain": [
              "midi.TrackNameEvent(tick=0, text='\\x00', data=[0])"
            ]
          },
          "metadata": {
            "tags": []
          },
          "execution_count": 213
        }
      ]
    },
    {
      "metadata": {
        "id": "UQVTIfAklf4T",
        "colab_type": "code",
        "colab": {
          "base_uri": "https://localhost:8080/",
          "height": 34
        },
        "outputId": "c8d74fa0-7aad-4318-cbf8-9715963cbbbd"
      },
      "cell_type": "code",
      "source": [
        "pattern[0][2]"
      ],
      "execution_count": 214,
      "outputs": [
        {
          "output_type": "execute_result",
          "data": {
            "text/plain": [
              "midi.TimeSignatureEvent(tick=0, data=[4, 2, 24, 8])"
            ]
          },
          "metadata": {
            "tags": []
          },
          "execution_count": 214
        }
      ]
    },
    {
      "metadata": {
        "id": "JdMI-OvZlf4X",
        "colab_type": "code",
        "colab": {
          "base_uri": "https://localhost:8080/",
          "height": 359
        },
        "outputId": "c752f91d-0ab2-4b85-8712-fc14effe7a7c"
      },
      "cell_type": "code",
      "source": [
        "track = 0\n",
        "tick = []\n",
        "channel = []\n",
        "data = []\n",
        "name = []\n",
        "tipo = []\n",
        "data_0 = []\n",
        "pitch = []\n",
        "tick_acum = []\n",
        "acum = 0\n",
        "for evt in pattern[track]:\n",
        "    if isinstance(evt, midi.NoteEvent):\n",
        "      tick.append(evt.tick)\n",
        "      channel.append(evt.channel)\n",
        "      data.append(evt.data)\n",
        "      name.append(evt.name)\n",
        "      if evt.name=='Note On':\n",
        "        tipo.append(1)\n",
        "      else:\n",
        "        tipo.append(0)\n",
        "      data_0.append(evt.data[0])\n",
        "      pitch.append('p'+str(evt.data[0]))\n",
        "      acum = acum + evt.tick\n",
        "      tick_acum.append(acum)\n",
        "    \n",
        "df = pd.DataFrame(\n",
        "    {'tick':tick,\n",
        "     'channel':channel,\n",
        "     'data':data,\n",
        "     'data_0':data_0,\n",
        "     'pitch':pitch,\n",
        "     'name':name,\n",
        "     'tipo':tipo,\n",
        "     'tick_acum':tick_acum\n",
        "    }\n",
        ")\n",
        "df.head(10)"
      ],
      "execution_count": 224,
      "outputs": [
        {
          "output_type": "execute_result",
          "data": {
            "text/html": [
              "<div>\n",
              "<style scoped>\n",
              "    .dataframe tbody tr th:only-of-type {\n",
              "        vertical-align: middle;\n",
              "    }\n",
              "\n",
              "    .dataframe tbody tr th {\n",
              "        vertical-align: top;\n",
              "    }\n",
              "\n",
              "    .dataframe thead th {\n",
              "        text-align: right;\n",
              "    }\n",
              "</style>\n",
              "<table border=\"1\" class=\"dataframe\">\n",
              "  <thead>\n",
              "    <tr style=\"text-align: right;\">\n",
              "      <th></th>\n",
              "      <th>channel</th>\n",
              "      <th>data</th>\n",
              "      <th>data_0</th>\n",
              "      <th>name</th>\n",
              "      <th>pitch</th>\n",
              "      <th>tick</th>\n",
              "      <th>tick_acum</th>\n",
              "      <th>tipo</th>\n",
              "    </tr>\n",
              "  </thead>\n",
              "  <tbody>\n",
              "    <tr>\n",
              "      <th>0</th>\n",
              "      <td>1</td>\n",
              "      <td>[60, 102]</td>\n",
              "      <td>60</td>\n",
              "      <td>Note On</td>\n",
              "      <td>p60</td>\n",
              "      <td>128</td>\n",
              "      <td>128</td>\n",
              "      <td>1</td>\n",
              "    </tr>\n",
              "    <tr>\n",
              "      <th>1</th>\n",
              "      <td>1</td>\n",
              "      <td>[60, 90]</td>\n",
              "      <td>60</td>\n",
              "      <td>Note Off</td>\n",
              "      <td>p60</td>\n",
              "      <td>31</td>\n",
              "      <td>159</td>\n",
              "      <td>0</td>\n",
              "    </tr>\n",
              "    <tr>\n",
              "      <th>2</th>\n",
              "      <td>1</td>\n",
              "      <td>[60, 102]</td>\n",
              "      <td>60</td>\n",
              "      <td>Note On</td>\n",
              "      <td>p60</td>\n",
              "      <td>1</td>\n",
              "      <td>160</td>\n",
              "      <td>1</td>\n",
              "    </tr>\n",
              "    <tr>\n",
              "      <th>3</th>\n",
              "      <td>1</td>\n",
              "      <td>[60, 90]</td>\n",
              "      <td>60</td>\n",
              "      <td>Note Off</td>\n",
              "      <td>p60</td>\n",
              "      <td>31</td>\n",
              "      <td>191</td>\n",
              "      <td>0</td>\n",
              "    </tr>\n",
              "    <tr>\n",
              "      <th>4</th>\n",
              "      <td>1</td>\n",
              "      <td>[60, 102]</td>\n",
              "      <td>60</td>\n",
              "      <td>Note On</td>\n",
              "      <td>p60</td>\n",
              "      <td>65</td>\n",
              "      <td>256</td>\n",
              "      <td>1</td>\n",
              "    </tr>\n",
              "    <tr>\n",
              "      <th>5</th>\n",
              "      <td>1</td>\n",
              "      <td>[60, 90]</td>\n",
              "      <td>60</td>\n",
              "      <td>Note Off</td>\n",
              "      <td>p60</td>\n",
              "      <td>31</td>\n",
              "      <td>287</td>\n",
              "      <td>0</td>\n",
              "    </tr>\n",
              "    <tr>\n",
              "      <th>6</th>\n",
              "      <td>1</td>\n",
              "      <td>[60, 102]</td>\n",
              "      <td>60</td>\n",
              "      <td>Note On</td>\n",
              "      <td>p60</td>\n",
              "      <td>1</td>\n",
              "      <td>288</td>\n",
              "      <td>1</td>\n",
              "    </tr>\n",
              "    <tr>\n",
              "      <th>7</th>\n",
              "      <td>1</td>\n",
              "      <td>[60, 90]</td>\n",
              "      <td>60</td>\n",
              "      <td>Note Off</td>\n",
              "      <td>p60</td>\n",
              "      <td>31</td>\n",
              "      <td>319</td>\n",
              "      <td>0</td>\n",
              "    </tr>\n",
              "    <tr>\n",
              "      <th>8</th>\n",
              "      <td>1</td>\n",
              "      <td>[60, 102]</td>\n",
              "      <td>60</td>\n",
              "      <td>Note On</td>\n",
              "      <td>p60</td>\n",
              "      <td>65</td>\n",
              "      <td>384</td>\n",
              "      <td>1</td>\n",
              "    </tr>\n",
              "    <tr>\n",
              "      <th>9</th>\n",
              "      <td>1</td>\n",
              "      <td>[60, 90]</td>\n",
              "      <td>60</td>\n",
              "      <td>Note Off</td>\n",
              "      <td>p60</td>\n",
              "      <td>31</td>\n",
              "      <td>415</td>\n",
              "      <td>0</td>\n",
              "    </tr>\n",
              "  </tbody>\n",
              "</table>\n",
              "</div>"
            ],
            "text/plain": [
              "   channel       data  data_0      name pitch  tick  tick_acum  tipo\n",
              "0        1  [60, 102]      60   Note On   p60   128        128     1\n",
              "1        1   [60, 90]      60  Note Off   p60    31        159     0\n",
              "2        1  [60, 102]      60   Note On   p60     1        160     1\n",
              "3        1   [60, 90]      60  Note Off   p60    31        191     0\n",
              "4        1  [60, 102]      60   Note On   p60    65        256     1\n",
              "5        1   [60, 90]      60  Note Off   p60    31        287     0\n",
              "6        1  [60, 102]      60   Note On   p60     1        288     1\n",
              "7        1   [60, 90]      60  Note Off   p60    31        319     0\n",
              "8        1  [60, 102]      60   Note On   p60    65        384     1\n",
              "9        1   [60, 90]      60  Note Off   p60    31        415     0"
            ]
          },
          "metadata": {
            "tags": []
          },
          "execution_count": 224
        }
      ]
    },
    {
      "metadata": {
        "id": "GZ4W6CCYlf4b",
        "colab_type": "code",
        "colab": {}
      },
      "cell_type": "code",
      "source": [
        "def getTrack(track=0):\n",
        "    tick = []\n",
        "    channel = []\n",
        "    data = []\n",
        "    name = []\n",
        "    data_0 = []\n",
        "    pitch = []\n",
        "    tick_acum = []\n",
        "    tipo = []\n",
        "    acum = 0\n",
        "    for evt in pattern[track]:\n",
        "        if isinstance(evt, midi.NoteEvent):\n",
        "          tick.append(evt.tick)\n",
        "          channel.append(evt.channel)\n",
        "          data.append(evt.data)\n",
        "          name.append(evt.name)\n",
        "          if evt.name=='Note On':\n",
        "            tipo.append(1)\n",
        "          else:\n",
        "            tipo.append(0)\n",
        "          data_0.append(evt.data[0])\n",
        "          pitch.append('p'+str(evt.data[0]))\n",
        "          acum = acum + evt.tick\n",
        "          tick_acum.append(acum)\n",
        "    \n",
        "    df = pd.DataFrame(\n",
        "        {'tick':tick,\n",
        "         'channel':channel,\n",
        "         'data':data,\n",
        "         'data_0':data_0,\n",
        "         'pitch':pitch,\n",
        "         'name':name,\n",
        "         'tipo':tipo,\n",
        "         'tick_acum':tick_acum\n",
        "        }\n",
        "    )\n",
        "    return df"
      ],
      "execution_count": 0,
      "outputs": []
    },
    {
      "metadata": {
        "id": "aEVU-H5nlf4d",
        "colab_type": "code",
        "colab": {
          "base_uri": "https://localhost:8080/",
          "height": 204
        },
        "outputId": "5506de69-8ded-4b94-f668-411204f723ab"
      },
      "cell_type": "code",
      "source": [
        "getTrack(0).head()"
      ],
      "execution_count": 226,
      "outputs": [
        {
          "output_type": "execute_result",
          "data": {
            "text/html": [
              "<div>\n",
              "<style scoped>\n",
              "    .dataframe tbody tr th:only-of-type {\n",
              "        vertical-align: middle;\n",
              "    }\n",
              "\n",
              "    .dataframe tbody tr th {\n",
              "        vertical-align: top;\n",
              "    }\n",
              "\n",
              "    .dataframe thead th {\n",
              "        text-align: right;\n",
              "    }\n",
              "</style>\n",
              "<table border=\"1\" class=\"dataframe\">\n",
              "  <thead>\n",
              "    <tr style=\"text-align: right;\">\n",
              "      <th></th>\n",
              "      <th>channel</th>\n",
              "      <th>data</th>\n",
              "      <th>data_0</th>\n",
              "      <th>name</th>\n",
              "      <th>pitch</th>\n",
              "      <th>tick</th>\n",
              "      <th>tick_acum</th>\n",
              "      <th>tipo</th>\n",
              "    </tr>\n",
              "  </thead>\n",
              "  <tbody>\n",
              "    <tr>\n",
              "      <th>0</th>\n",
              "      <td>1</td>\n",
              "      <td>[60, 102]</td>\n",
              "      <td>60</td>\n",
              "      <td>Note On</td>\n",
              "      <td>p60</td>\n",
              "      <td>128</td>\n",
              "      <td>128</td>\n",
              "      <td>1</td>\n",
              "    </tr>\n",
              "    <tr>\n",
              "      <th>1</th>\n",
              "      <td>1</td>\n",
              "      <td>[60, 90]</td>\n",
              "      <td>60</td>\n",
              "      <td>Note Off</td>\n",
              "      <td>p60</td>\n",
              "      <td>31</td>\n",
              "      <td>159</td>\n",
              "      <td>0</td>\n",
              "    </tr>\n",
              "    <tr>\n",
              "      <th>2</th>\n",
              "      <td>1</td>\n",
              "      <td>[60, 102]</td>\n",
              "      <td>60</td>\n",
              "      <td>Note On</td>\n",
              "      <td>p60</td>\n",
              "      <td>1</td>\n",
              "      <td>160</td>\n",
              "      <td>1</td>\n",
              "    </tr>\n",
              "    <tr>\n",
              "      <th>3</th>\n",
              "      <td>1</td>\n",
              "      <td>[60, 90]</td>\n",
              "      <td>60</td>\n",
              "      <td>Note Off</td>\n",
              "      <td>p60</td>\n",
              "      <td>31</td>\n",
              "      <td>191</td>\n",
              "      <td>0</td>\n",
              "    </tr>\n",
              "    <tr>\n",
              "      <th>4</th>\n",
              "      <td>1</td>\n",
              "      <td>[60, 102]</td>\n",
              "      <td>60</td>\n",
              "      <td>Note On</td>\n",
              "      <td>p60</td>\n",
              "      <td>65</td>\n",
              "      <td>256</td>\n",
              "      <td>1</td>\n",
              "    </tr>\n",
              "  </tbody>\n",
              "</table>\n",
              "</div>"
            ],
            "text/plain": [
              "   channel       data  data_0      name pitch  tick  tick_acum  tipo\n",
              "0        1  [60, 102]      60   Note On   p60   128        128     1\n",
              "1        1   [60, 90]      60  Note Off   p60    31        159     0\n",
              "2        1  [60, 102]      60   Note On   p60     1        160     1\n",
              "3        1   [60, 90]      60  Note Off   p60    31        191     0\n",
              "4        1  [60, 102]      60   Note On   p60    65        256     1"
            ]
          },
          "metadata": {
            "tags": []
          },
          "execution_count": 226
        }
      ]
    },
    {
      "metadata": {
        "id": "spmGC7Xnlf4h",
        "colab_type": "code",
        "colab": {
          "base_uri": "https://localhost:8080/",
          "height": 204
        },
        "outputId": "89196697-65fd-4c13-d76a-71aa8b6117ff"
      },
      "cell_type": "code",
      "source": [
        "getTrack(1).head()"
      ],
      "execution_count": 22,
      "outputs": [
        {
          "output_type": "execute_result",
          "data": {
            "text/html": [
              "<div>\n",
              "<style scoped>\n",
              "    .dataframe tbody tr th:only-of-type {\n",
              "        vertical-align: middle;\n",
              "    }\n",
              "\n",
              "    .dataframe tbody tr th {\n",
              "        vertical-align: top;\n",
              "    }\n",
              "\n",
              "    .dataframe thead th {\n",
              "        text-align: right;\n",
              "    }\n",
              "</style>\n",
              "<table border=\"1\" class=\"dataframe\">\n",
              "  <thead>\n",
              "    <tr style=\"text-align: right;\">\n",
              "      <th></th>\n",
              "      <th>channel</th>\n",
              "      <th>data</th>\n",
              "      <th>data_0</th>\n",
              "      <th>name</th>\n",
              "      <th>tick</th>\n",
              "      <th>tick_acum</th>\n",
              "      <th>tipo</th>\n",
              "    </tr>\n",
              "  </thead>\n",
              "  <tbody>\n",
              "    <tr>\n",
              "      <th>0</th>\n",
              "      <td>2</td>\n",
              "      <td>[64, 81]</td>\n",
              "      <td>64</td>\n",
              "      <td>Note On</td>\n",
              "      <td>0</td>\n",
              "      <td>0</td>\n",
              "      <td>1</td>\n",
              "    </tr>\n",
              "    <tr>\n",
              "      <th>1</th>\n",
              "      <td>2</td>\n",
              "      <td>[67, 81]</td>\n",
              "      <td>67</td>\n",
              "      <td>Note On</td>\n",
              "      <td>0</td>\n",
              "      <td>0</td>\n",
              "      <td>1</td>\n",
              "    </tr>\n",
              "    <tr>\n",
              "      <th>2</th>\n",
              "      <td>2</td>\n",
              "      <td>[60, 81]</td>\n",
              "      <td>60</td>\n",
              "      <td>Note On</td>\n",
              "      <td>0</td>\n",
              "      <td>0</td>\n",
              "      <td>1</td>\n",
              "    </tr>\n",
              "    <tr>\n",
              "      <th>3</th>\n",
              "      <td>2</td>\n",
              "      <td>[60, 90]</td>\n",
              "      <td>60</td>\n",
              "      <td>Note Off</td>\n",
              "      <td>126</td>\n",
              "      <td>126</td>\n",
              "      <td>0</td>\n",
              "    </tr>\n",
              "    <tr>\n",
              "      <th>4</th>\n",
              "      <td>2</td>\n",
              "      <td>[64, 90]</td>\n",
              "      <td>64</td>\n",
              "      <td>Note Off</td>\n",
              "      <td>0</td>\n",
              "      <td>126</td>\n",
              "      <td>0</td>\n",
              "    </tr>\n",
              "  </tbody>\n",
              "</table>\n",
              "</div>"
            ],
            "text/plain": [
              "   channel      data  data_0      name  tick  tick_acum  tipo\n",
              "0        2  [64, 81]      64   Note On     0          0     1\n",
              "1        2  [67, 81]      67   Note On     0          0     1\n",
              "2        2  [60, 81]      60   Note On     0          0     1\n",
              "3        2  [60, 90]      60  Note Off   126        126     0\n",
              "4        2  [64, 90]      64  Note Off     0        126     0"
            ]
          },
          "metadata": {
            "tags": []
          },
          "execution_count": 22
        }
      ]
    },
    {
      "metadata": {
        "id": "dxCFSKHQlf4j",
        "colab_type": "code",
        "colab": {
          "base_uri": "https://localhost:8080/",
          "height": 204
        },
        "outputId": "75cfbda8-23e0-455d-ac62-674709430390"
      },
      "cell_type": "code",
      "source": [
        "getTrack(2).head()"
      ],
      "execution_count": 23,
      "outputs": [
        {
          "output_type": "execute_result",
          "data": {
            "text/html": [
              "<div>\n",
              "<style scoped>\n",
              "    .dataframe tbody tr th:only-of-type {\n",
              "        vertical-align: middle;\n",
              "    }\n",
              "\n",
              "    .dataframe tbody tr th {\n",
              "        vertical-align: top;\n",
              "    }\n",
              "\n",
              "    .dataframe thead th {\n",
              "        text-align: right;\n",
              "    }\n",
              "</style>\n",
              "<table border=\"1\" class=\"dataframe\">\n",
              "  <thead>\n",
              "    <tr style=\"text-align: right;\">\n",
              "      <th></th>\n",
              "      <th>channel</th>\n",
              "      <th>data</th>\n",
              "      <th>data_0</th>\n",
              "      <th>name</th>\n",
              "      <th>tick</th>\n",
              "      <th>tick_acum</th>\n",
              "      <th>tipo</th>\n",
              "    </tr>\n",
              "  </thead>\n",
              "  <tbody>\n",
              "    <tr>\n",
              "      <th>0</th>\n",
              "      <td>3</td>\n",
              "      <td>[48, 81]</td>\n",
              "      <td>48</td>\n",
              "      <td>Note On</td>\n",
              "      <td>0</td>\n",
              "      <td>0</td>\n",
              "      <td>1</td>\n",
              "    </tr>\n",
              "    <tr>\n",
              "      <th>1</th>\n",
              "      <td>3</td>\n",
              "      <td>[48, 90]</td>\n",
              "      <td>48</td>\n",
              "      <td>Note Off</td>\n",
              "      <td>190</td>\n",
              "      <td>190</td>\n",
              "      <td>0</td>\n",
              "    </tr>\n",
              "    <tr>\n",
              "      <th>2</th>\n",
              "      <td>3</td>\n",
              "      <td>[48, 59]</td>\n",
              "      <td>48</td>\n",
              "      <td>Note On</td>\n",
              "      <td>2</td>\n",
              "      <td>192</td>\n",
              "      <td>1</td>\n",
              "    </tr>\n",
              "    <tr>\n",
              "      <th>3</th>\n",
              "      <td>3</td>\n",
              "      <td>[48, 90]</td>\n",
              "      <td>48</td>\n",
              "      <td>Note Off</td>\n",
              "      <td>60</td>\n",
              "      <td>252</td>\n",
              "      <td>0</td>\n",
              "    </tr>\n",
              "    <tr>\n",
              "      <th>4</th>\n",
              "      <td>3</td>\n",
              "      <td>[48, 59]</td>\n",
              "      <td>48</td>\n",
              "      <td>Note On</td>\n",
              "      <td>4</td>\n",
              "      <td>256</td>\n",
              "      <td>1</td>\n",
              "    </tr>\n",
              "  </tbody>\n",
              "</table>\n",
              "</div>"
            ],
            "text/plain": [
              "   channel      data  data_0      name  tick  tick_acum  tipo\n",
              "0        3  [48, 81]      48   Note On     0          0     1\n",
              "1        3  [48, 90]      48  Note Off   190        190     0\n",
              "2        3  [48, 59]      48   Note On     2        192     1\n",
              "3        3  [48, 90]      48  Note Off    60        252     0\n",
              "4        3  [48, 59]      48   Note On     4        256     1"
            ]
          },
          "metadata": {
            "tags": []
          },
          "execution_count": 23
        }
      ]
    },
    {
      "metadata": {
        "id": "C2o9mJ4hlf4l",
        "colab_type": "code",
        "colab": {}
      },
      "cell_type": "code",
      "source": [
        "df = getTrack(0)"
      ],
      "execution_count": 0,
      "outputs": []
    },
    {
      "metadata": {
        "id": "YSr9AOfpPUfa",
        "colab_type": "code",
        "colab": {}
      },
      "cell_type": "code",
      "source": [
        "labels = df[['pitch','name','tick']]"
      ],
      "execution_count": 0,
      "outputs": []
    },
    {
      "metadata": {
        "id": "VPuEVGCyPlK6",
        "colab_type": "code",
        "colab": {
          "base_uri": "https://localhost:8080/",
          "height": 1969
        },
        "outputId": "bdc61ff7-4d77-4bf1-f5f1-80cf2b143878"
      },
      "cell_type": "code",
      "source": [
        "labels"
      ],
      "execution_count": 228,
      "outputs": [
        {
          "output_type": "execute_result",
          "data": {
            "text/html": [
              "<div>\n",
              "<style scoped>\n",
              "    .dataframe tbody tr th:only-of-type {\n",
              "        vertical-align: middle;\n",
              "    }\n",
              "\n",
              "    .dataframe tbody tr th {\n",
              "        vertical-align: top;\n",
              "    }\n",
              "\n",
              "    .dataframe thead th {\n",
              "        text-align: right;\n",
              "    }\n",
              "</style>\n",
              "<table border=\"1\" class=\"dataframe\">\n",
              "  <thead>\n",
              "    <tr style=\"text-align: right;\">\n",
              "      <th></th>\n",
              "      <th>pitch</th>\n",
              "      <th>name</th>\n",
              "      <th>tick</th>\n",
              "    </tr>\n",
              "  </thead>\n",
              "  <tbody>\n",
              "    <tr>\n",
              "      <th>0</th>\n",
              "      <td>p60</td>\n",
              "      <td>Note On</td>\n",
              "      <td>128</td>\n",
              "    </tr>\n",
              "    <tr>\n",
              "      <th>1</th>\n",
              "      <td>p60</td>\n",
              "      <td>Note Off</td>\n",
              "      <td>31</td>\n",
              "    </tr>\n",
              "    <tr>\n",
              "      <th>2</th>\n",
              "      <td>p60</td>\n",
              "      <td>Note On</td>\n",
              "      <td>1</td>\n",
              "    </tr>\n",
              "    <tr>\n",
              "      <th>3</th>\n",
              "      <td>p60</td>\n",
              "      <td>Note Off</td>\n",
              "      <td>31</td>\n",
              "    </tr>\n",
              "    <tr>\n",
              "      <th>4</th>\n",
              "      <td>p60</td>\n",
              "      <td>Note On</td>\n",
              "      <td>65</td>\n",
              "    </tr>\n",
              "    <tr>\n",
              "      <th>5</th>\n",
              "      <td>p60</td>\n",
              "      <td>Note Off</td>\n",
              "      <td>31</td>\n",
              "    </tr>\n",
              "    <tr>\n",
              "      <th>6</th>\n",
              "      <td>p60</td>\n",
              "      <td>Note On</td>\n",
              "      <td>1</td>\n",
              "    </tr>\n",
              "    <tr>\n",
              "      <th>7</th>\n",
              "      <td>p60</td>\n",
              "      <td>Note Off</td>\n",
              "      <td>31</td>\n",
              "    </tr>\n",
              "    <tr>\n",
              "      <th>8</th>\n",
              "      <td>p60</td>\n",
              "      <td>Note On</td>\n",
              "      <td>65</td>\n",
              "    </tr>\n",
              "    <tr>\n",
              "      <th>9</th>\n",
              "      <td>p60</td>\n",
              "      <td>Note Off</td>\n",
              "      <td>31</td>\n",
              "    </tr>\n",
              "    <tr>\n",
              "      <th>10</th>\n",
              "      <td>p60</td>\n",
              "      <td>Note On</td>\n",
              "      <td>1</td>\n",
              "    </tr>\n",
              "    <tr>\n",
              "      <th>11</th>\n",
              "      <td>p60</td>\n",
              "      <td>Note Off</td>\n",
              "      <td>31</td>\n",
              "    </tr>\n",
              "    <tr>\n",
              "      <th>12</th>\n",
              "      <td>p60</td>\n",
              "      <td>Note On</td>\n",
              "      <td>65</td>\n",
              "    </tr>\n",
              "    <tr>\n",
              "      <th>13</th>\n",
              "      <td>p60</td>\n",
              "      <td>Note Off</td>\n",
              "      <td>126</td>\n",
              "    </tr>\n",
              "    <tr>\n",
              "      <th>14</th>\n",
              "      <td>p64</td>\n",
              "      <td>Note On</td>\n",
              "      <td>2</td>\n",
              "    </tr>\n",
              "    <tr>\n",
              "      <th>15</th>\n",
              "      <td>p64</td>\n",
              "      <td>Note Off</td>\n",
              "      <td>31</td>\n",
              "    </tr>\n",
              "    <tr>\n",
              "      <th>16</th>\n",
              "      <td>p64</td>\n",
              "      <td>Note On</td>\n",
              "      <td>1</td>\n",
              "    </tr>\n",
              "    <tr>\n",
              "      <th>17</th>\n",
              "      <td>p64</td>\n",
              "      <td>Note Off</td>\n",
              "      <td>63</td>\n",
              "    </tr>\n",
              "    <tr>\n",
              "      <th>18</th>\n",
              "      <td>p64</td>\n",
              "      <td>Note On</td>\n",
              "      <td>1</td>\n",
              "    </tr>\n",
              "    <tr>\n",
              "      <th>19</th>\n",
              "      <td>p64</td>\n",
              "      <td>Note Off</td>\n",
              "      <td>63</td>\n",
              "    </tr>\n",
              "    <tr>\n",
              "      <th>20</th>\n",
              "      <td>p62</td>\n",
              "      <td>Note On</td>\n",
              "      <td>1</td>\n",
              "    </tr>\n",
              "    <tr>\n",
              "      <th>21</th>\n",
              "      <td>p62</td>\n",
              "      <td>Note Off</td>\n",
              "      <td>63</td>\n",
              "    </tr>\n",
              "    <tr>\n",
              "      <th>22</th>\n",
              "      <td>p60</td>\n",
              "      <td>Note On</td>\n",
              "      <td>1</td>\n",
              "    </tr>\n",
              "    <tr>\n",
              "      <th>23</th>\n",
              "      <td>p60</td>\n",
              "      <td>Note Off</td>\n",
              "      <td>31</td>\n",
              "    </tr>\n",
              "    <tr>\n",
              "      <th>24</th>\n",
              "      <td>p62</td>\n",
              "      <td>Note On</td>\n",
              "      <td>1</td>\n",
              "    </tr>\n",
              "    <tr>\n",
              "      <th>25</th>\n",
              "      <td>p62</td>\n",
              "      <td>Note Off</td>\n",
              "      <td>31</td>\n",
              "    </tr>\n",
              "    <tr>\n",
              "      <th>26</th>\n",
              "      <td>p60</td>\n",
              "      <td>Note On</td>\n",
              "      <td>1</td>\n",
              "    </tr>\n",
              "    <tr>\n",
              "      <th>27</th>\n",
              "      <td>p60</td>\n",
              "      <td>Note Off</td>\n",
              "      <td>31</td>\n",
              "    </tr>\n",
              "    <tr>\n",
              "      <th>28</th>\n",
              "      <td>p62</td>\n",
              "      <td>Note On</td>\n",
              "      <td>1</td>\n",
              "    </tr>\n",
              "    <tr>\n",
              "      <th>29</th>\n",
              "      <td>p62</td>\n",
              "      <td>Note Off</td>\n",
              "      <td>63</td>\n",
              "    </tr>\n",
              "    <tr>\n",
              "      <th>...</th>\n",
              "      <td>...</td>\n",
              "      <td>...</td>\n",
              "      <td>...</td>\n",
              "    </tr>\n",
              "    <tr>\n",
              "      <th>78</th>\n",
              "      <td>p53</td>\n",
              "      <td>Note On</td>\n",
              "      <td>33</td>\n",
              "    </tr>\n",
              "    <tr>\n",
              "      <th>79</th>\n",
              "      <td>p53</td>\n",
              "      <td>Note Off</td>\n",
              "      <td>31</td>\n",
              "    </tr>\n",
              "    <tr>\n",
              "      <th>80</th>\n",
              "      <td>p53</td>\n",
              "      <td>Note On</td>\n",
              "      <td>1</td>\n",
              "    </tr>\n",
              "    <tr>\n",
              "      <th>81</th>\n",
              "      <td>p53</td>\n",
              "      <td>Note Off</td>\n",
              "      <td>31</td>\n",
              "    </tr>\n",
              "    <tr>\n",
              "      <th>82</th>\n",
              "      <td>p64</td>\n",
              "      <td>Note On</td>\n",
              "      <td>1</td>\n",
              "    </tr>\n",
              "    <tr>\n",
              "      <th>83</th>\n",
              "      <td>p64</td>\n",
              "      <td>Note Off</td>\n",
              "      <td>31</td>\n",
              "    </tr>\n",
              "    <tr>\n",
              "      <th>84</th>\n",
              "      <td>p64</td>\n",
              "      <td>Note On</td>\n",
              "      <td>1</td>\n",
              "    </tr>\n",
              "    <tr>\n",
              "      <th>85</th>\n",
              "      <td>p64</td>\n",
              "      <td>Note Off</td>\n",
              "      <td>31</td>\n",
              "    </tr>\n",
              "    <tr>\n",
              "      <th>86</th>\n",
              "      <td>p64</td>\n",
              "      <td>Note On</td>\n",
              "      <td>1</td>\n",
              "    </tr>\n",
              "    <tr>\n",
              "      <th>87</th>\n",
              "      <td>p64</td>\n",
              "      <td>Note Off</td>\n",
              "      <td>126</td>\n",
              "    </tr>\n",
              "    <tr>\n",
              "      <th>88</th>\n",
              "      <td>p55</td>\n",
              "      <td>Note On</td>\n",
              "      <td>34</td>\n",
              "    </tr>\n",
              "    <tr>\n",
              "      <th>89</th>\n",
              "      <td>p55</td>\n",
              "      <td>Note Off</td>\n",
              "      <td>63</td>\n",
              "    </tr>\n",
              "    <tr>\n",
              "      <th>90</th>\n",
              "      <td>p60</td>\n",
              "      <td>Note On</td>\n",
              "      <td>1</td>\n",
              "    </tr>\n",
              "    <tr>\n",
              "      <th>91</th>\n",
              "      <td>p60</td>\n",
              "      <td>Note Off</td>\n",
              "      <td>63</td>\n",
              "    </tr>\n",
              "    <tr>\n",
              "      <th>92</th>\n",
              "      <td>p60</td>\n",
              "      <td>Note On</td>\n",
              "      <td>1</td>\n",
              "    </tr>\n",
              "    <tr>\n",
              "      <th>93</th>\n",
              "      <td>p60</td>\n",
              "      <td>Note Off</td>\n",
              "      <td>63</td>\n",
              "    </tr>\n",
              "    <tr>\n",
              "      <th>94</th>\n",
              "      <td>p55</td>\n",
              "      <td>Note On</td>\n",
              "      <td>65</td>\n",
              "    </tr>\n",
              "    <tr>\n",
              "      <th>95</th>\n",
              "      <td>p55</td>\n",
              "      <td>Note Off</td>\n",
              "      <td>31</td>\n",
              "    </tr>\n",
              "    <tr>\n",
              "      <th>96</th>\n",
              "      <td>p60</td>\n",
              "      <td>Note On</td>\n",
              "      <td>1</td>\n",
              "    </tr>\n",
              "    <tr>\n",
              "      <th>97</th>\n",
              "      <td>p60</td>\n",
              "      <td>Note Off</td>\n",
              "      <td>31</td>\n",
              "    </tr>\n",
              "    <tr>\n",
              "      <th>98</th>\n",
              "      <td>p64</td>\n",
              "      <td>Note On</td>\n",
              "      <td>1</td>\n",
              "    </tr>\n",
              "    <tr>\n",
              "      <th>99</th>\n",
              "      <td>p64</td>\n",
              "      <td>Note Off</td>\n",
              "      <td>126</td>\n",
              "    </tr>\n",
              "    <tr>\n",
              "      <th>100</th>\n",
              "      <td>p65</td>\n",
              "      <td>Note On</td>\n",
              "      <td>2</td>\n",
              "    </tr>\n",
              "    <tr>\n",
              "      <th>101</th>\n",
              "      <td>p65</td>\n",
              "      <td>Note Off</td>\n",
              "      <td>31</td>\n",
              "    </tr>\n",
              "    <tr>\n",
              "      <th>102</th>\n",
              "      <td>p64</td>\n",
              "      <td>Note On</td>\n",
              "      <td>1</td>\n",
              "    </tr>\n",
              "    <tr>\n",
              "      <th>103</th>\n",
              "      <td>p64</td>\n",
              "      <td>Note Off</td>\n",
              "      <td>31</td>\n",
              "    </tr>\n",
              "    <tr>\n",
              "      <th>104</th>\n",
              "      <td>p62</td>\n",
              "      <td>Note On</td>\n",
              "      <td>1</td>\n",
              "    </tr>\n",
              "    <tr>\n",
              "      <th>105</th>\n",
              "      <td>p62</td>\n",
              "      <td>Note Off</td>\n",
              "      <td>253</td>\n",
              "    </tr>\n",
              "    <tr>\n",
              "      <th>106</th>\n",
              "      <td>p62</td>\n",
              "      <td>Note On</td>\n",
              "      <td>67</td>\n",
              "    </tr>\n",
              "    <tr>\n",
              "      <th>107</th>\n",
              "      <td>p62</td>\n",
              "      <td>Note Off</td>\n",
              "      <td>63</td>\n",
              "    </tr>\n",
              "  </tbody>\n",
              "</table>\n",
              "<p>108 rows × 3 columns</p>\n",
              "</div>"
            ],
            "text/plain": [
              "    pitch      name  tick\n",
              "0     p60   Note On   128\n",
              "1     p60  Note Off    31\n",
              "2     p60   Note On     1\n",
              "3     p60  Note Off    31\n",
              "4     p60   Note On    65\n",
              "5     p60  Note Off    31\n",
              "6     p60   Note On     1\n",
              "7     p60  Note Off    31\n",
              "8     p60   Note On    65\n",
              "9     p60  Note Off    31\n",
              "10    p60   Note On     1\n",
              "11    p60  Note Off    31\n",
              "12    p60   Note On    65\n",
              "13    p60  Note Off   126\n",
              "14    p64   Note On     2\n",
              "15    p64  Note Off    31\n",
              "16    p64   Note On     1\n",
              "17    p64  Note Off    63\n",
              "18    p64   Note On     1\n",
              "19    p64  Note Off    63\n",
              "20    p62   Note On     1\n",
              "21    p62  Note Off    63\n",
              "22    p60   Note On     1\n",
              "23    p60  Note Off    31\n",
              "24    p62   Note On     1\n",
              "25    p62  Note Off    31\n",
              "26    p60   Note On     1\n",
              "27    p60  Note Off    31\n",
              "28    p62   Note On     1\n",
              "29    p62  Note Off    63\n",
              "..    ...       ...   ...\n",
              "78    p53   Note On    33\n",
              "79    p53  Note Off    31\n",
              "80    p53   Note On     1\n",
              "81    p53  Note Off    31\n",
              "82    p64   Note On     1\n",
              "83    p64  Note Off    31\n",
              "84    p64   Note On     1\n",
              "85    p64  Note Off    31\n",
              "86    p64   Note On     1\n",
              "87    p64  Note Off   126\n",
              "88    p55   Note On    34\n",
              "89    p55  Note Off    63\n",
              "90    p60   Note On     1\n",
              "91    p60  Note Off    63\n",
              "92    p60   Note On     1\n",
              "93    p60  Note Off    63\n",
              "94    p55   Note On    65\n",
              "95    p55  Note Off    31\n",
              "96    p60   Note On     1\n",
              "97    p60  Note Off    31\n",
              "98    p64   Note On     1\n",
              "99    p64  Note Off   126\n",
              "100   p65   Note On     2\n",
              "101   p65  Note Off    31\n",
              "102   p64   Note On     1\n",
              "103   p64  Note Off    31\n",
              "104   p62   Note On     1\n",
              "105   p62  Note Off   253\n",
              "106   p62   Note On    67\n",
              "107   p62  Note Off    63\n",
              "\n",
              "[108 rows x 3 columns]"
            ]
          },
          "metadata": {
            "tags": []
          },
          "execution_count": 228
        }
      ]
    },
    {
      "metadata": {
        "id": "4hd17fF0lf4n",
        "colab_type": "code",
        "colab": {}
      },
      "cell_type": "code",
      "source": [
        "df1 = df[['data_0','tipo','tick']]"
      ],
      "execution_count": 0,
      "outputs": []
    },
    {
      "metadata": {
        "id": "4yCbrzL-CLu0",
        "colab_type": "code",
        "colab": {}
      },
      "cell_type": "code",
      "source": [
        "df2 = df[['data_0']]"
      ],
      "execution_count": 0,
      "outputs": []
    },
    {
      "metadata": {
        "id": "LzIawqQslf4p",
        "colab_type": "code",
        "colab": {}
      },
      "cell_type": "code",
      "source": [
        "%matplotlib inline"
      ],
      "execution_count": 0,
      "outputs": []
    },
    {
      "metadata": {
        "id": "6IMnAsAWlf4s",
        "colab_type": "code",
        "colab": {
          "base_uri": "https://localhost:8080/",
          "height": 285
        },
        "outputId": "034c0a2b-2e85-4143-8fdf-0a1045e4c88d"
      },
      "cell_type": "code",
      "source": [
        "df['data_0'].plot(kind=\"hist\")"
      ],
      "execution_count": 232,
      "outputs": [
        {
          "output_type": "execute_result",
          "data": {
            "text/plain": [
              "<matplotlib.axes._subplots.AxesSubplot at 0x7efc9cf34790>"
            ]
          },
          "metadata": {
            "tags": []
          },
          "execution_count": 232
        },
        {
          "output_type": "display_data",
          "data": {
            "image/png": "[encoded data removed]",
            "text/plain": [
              "<matplotlib.figure.Figure at 0x7efc9cf466d0>"
            ]
          },
          "metadata": {
            "tags": []
          }
        }
      ]
    },
    {
      "metadata": {
        "id": "1GR6f3XUlf4w",
        "colab_type": "code",
        "colab": {
          "base_uri": "https://localhost:8080/",
          "height": 282
        },
        "outputId": "7532c383-a69f-47c1-a56b-e630efdf4a66"
      },
      "cell_type": "code",
      "source": [
        "df['tick'].plot(kind=\"hist\")"
      ],
      "execution_count": 233,
      "outputs": [
        {
          "output_type": "execute_result",
          "data": {
            "text/plain": [
              "<matplotlib.axes._subplots.AxesSubplot at 0x7efc9cf34350>"
            ]
          },
          "metadata": {
            "tags": []
          },
          "execution_count": 233
        },
        {
          "output_type": "display_data",
          "data": {
            "image/png": "[encoded data removed]",
            "text/plain": [
              "<matplotlib.figure.Figure at 0x7efc9d0b9b90>"
            ]
          },
          "metadata": {
            "tags": []
          }
        }
      ]
    },
    {
      "metadata": {
        "id": "QU2RPnNclf41",
        "colab_type": "code",
        "colab": {
          "base_uri": "https://localhost:8080/",
          "height": 204
        },
        "outputId": "2503addc-f748-4840-a63f-a0749c8db83a"
      },
      "cell_type": "code",
      "source": [
        "df1.head()"
      ],
      "execution_count": 234,
      "outputs": [
        {
          "output_type": "execute_result",
          "data": {
            "text/html": [
              "<div>\n",
              "<style scoped>\n",
              "    .dataframe tbody tr th:only-of-type {\n",
              "        vertical-align: middle;\n",
              "    }\n",
              "\n",
              "    .dataframe tbody tr th {\n",
              "        vertical-align: top;\n",
              "    }\n",
              "\n",
              "    .dataframe thead th {\n",
              "        text-align: right;\n",
              "    }\n",
              "</style>\n",
              "<table border=\"1\" class=\"dataframe\">\n",
              "  <thead>\n",
              "    <tr style=\"text-align: right;\">\n",
              "      <th></th>\n",
              "      <th>data_0</th>\n",
              "      <th>tipo</th>\n",
              "      <th>tick</th>\n",
              "    </tr>\n",
              "  </thead>\n",
              "  <tbody>\n",
              "    <tr>\n",
              "      <th>0</th>\n",
              "      <td>60</td>\n",
              "      <td>1</td>\n",
              "      <td>128</td>\n",
              "    </tr>\n",
              "    <tr>\n",
              "      <th>1</th>\n",
              "      <td>60</td>\n",
              "      <td>0</td>\n",
              "      <td>31</td>\n",
              "    </tr>\n",
              "    <tr>\n",
              "      <th>2</th>\n",
              "      <td>60</td>\n",
              "      <td>1</td>\n",
              "      <td>1</td>\n",
              "    </tr>\n",
              "    <tr>\n",
              "      <th>3</th>\n",
              "      <td>60</td>\n",
              "      <td>0</td>\n",
              "      <td>31</td>\n",
              "    </tr>\n",
              "    <tr>\n",
              "      <th>4</th>\n",
              "      <td>60</td>\n",
              "      <td>1</td>\n",
              "      <td>65</td>\n",
              "    </tr>\n",
              "  </tbody>\n",
              "</table>\n",
              "</div>"
            ],
            "text/plain": [
              "   data_0  tipo  tick\n",
              "0      60     1   128\n",
              "1      60     0    31\n",
              "2      60     1     1\n",
              "3      60     0    31\n",
              "4      60     1    65"
            ]
          },
          "metadata": {
            "tags": []
          },
          "execution_count": 234
        }
      ]
    },
    {
      "metadata": {
        "id": "Q61l0K70lf44",
        "colab_type": "code",
        "colab": {}
      },
      "cell_type": "code",
      "source": [
        "from sklearn.preprocessing import MultiLabelBinarizer"
      ],
      "execution_count": 0,
      "outputs": []
    },
    {
      "metadata": {
        "id": "0dId1rxVHAND",
        "colab_type": "code",
        "colab": {}
      },
      "cell_type": "code",
      "source": [
        "mlb = MultiLabelBinarizer()"
      ],
      "execution_count": 0,
      "outputs": []
    },
    {
      "metadata": {
        "id": "tDdvyINSHASo",
        "colab_type": "code",
        "colab": {
          "base_uri": "https://localhost:8080/",
          "height": 34
        },
        "outputId": "940d38ba-c2ab-463c-84f9-a7fd8ba50628"
      },
      "cell_type": "code",
      "source": [
        " mlb.fit(labels.values)"
      ],
      "execution_count": 238,
      "outputs": [
        {
          "output_type": "execute_result",
          "data": {
            "text/plain": [
              "MultiLabelBinarizer(classes=None, sparse_output=False)"
            ]
          },
          "metadata": {
            "tags": []
          },
          "execution_count": 238
        }
      ]
    },
    {
      "metadata": {
        "id": "m2CLnzgDHAZ8",
        "colab_type": "code",
        "colab": {}
      },
      "cell_type": "code",
      "source": [
        "cl = mlb.classes_"
      ],
      "execution_count": 0,
      "outputs": []
    },
    {
      "metadata": {
        "id": "JjEsKhF-Y46w",
        "colab_type": "code",
        "colab": {
          "base_uri": "https://localhost:8080/",
          "height": 68
        },
        "outputId": "d6993eed-765b-482f-ae8b-35ea750bad5f"
      },
      "cell_type": "code",
      "source": [
        "cl"
      ],
      "execution_count": 240,
      "outputs": [
        {
          "output_type": "execute_result",
          "data": {
            "text/plain": [
              "array([1, 2, 31, 33, 34, 63, 65, 67, 95, 126, 128, 253, 'Note Off',\n",
              "       'Note On', 'p53', 'p55', 'p57', 'p60', 'p62', 'p64', 'p65'],\n",
              "      dtype=object)"
            ]
          },
          "metadata": {
            "tags": []
          },
          "execution_count": 240
        }
      ]
    },
    {
      "metadata": {
        "id": "WalwRDLOWeYw",
        "colab_type": "code",
        "colab": {}
      },
      "cell_type": "code",
      "source": [
        "teste = labels.values[20]"
      ],
      "execution_count": 0,
      "outputs": []
    },
    {
      "metadata": {
        "id": "4EVtSwNlW23F",
        "colab_type": "code",
        "colab": {
          "base_uri": "https://localhost:8080/",
          "height": 34
        },
        "outputId": "18f20110-e926-4593-b36f-7ed04362e9e0"
      },
      "cell_type": "code",
      "source": [
        "teste"
      ],
      "execution_count": 308,
      "outputs": [
        {
          "output_type": "execute_result",
          "data": {
            "text/plain": [
              "array(['p62', 'Note On', 1], dtype=object)"
            ]
          },
          "metadata": {
            "tags": []
          },
          "execution_count": 308
        }
      ]
    },
    {
      "metadata": {
        "id": "cHrd6OM9dQAO",
        "colab_type": "code",
        "colab": {}
      },
      "cell_type": "code",
      "source": [
        "classes = mlb.transform(labels.values)"
      ],
      "execution_count": 0,
      "outputs": []
    },
    {
      "metadata": {
        "id": "k0GOskikQJMq",
        "colab_type": "code",
        "colab": {
          "base_uri": "https://localhost:8080/",
          "height": 136
        },
        "outputId": "0201ba37-7a8d-4383-b2e4-3e51eeea3299"
      },
      "cell_type": "code",
      "source": [
        "classes"
      ],
      "execution_count": 323,
      "outputs": [
        {
          "output_type": "execute_result",
          "data": {
            "text/plain": [
              "array([[0, 0, 0, ..., 0, 0, 0],\n",
              "       [0, 0, 1, ..., 0, 0, 0],\n",
              "       [1, 0, 0, ..., 0, 0, 0],\n",
              "       ...,\n",
              "       [0, 0, 0, ..., 1, 0, 0],\n",
              "       [0, 0, 0, ..., 1, 0, 0],\n",
              "       [0, 0, 0, ..., 1, 0, 0]])"
            ]
          },
          "metadata": {
            "tags": []
          },
          "execution_count": 323
        }
      ]
    },
    {
      "metadata": {
        "id": "xThX77KGdhK6",
        "colab_type": "code",
        "colab": {
          "base_uri": "https://localhost:8080/",
          "height": 34
        },
        "outputId": "b5861be4-dc15-4bd2-aa79-b2984c7046f3"
      },
      "cell_type": "code",
      "source": [
        "classes.shape"
      ],
      "execution_count": 244,
      "outputs": [
        {
          "output_type": "execute_result",
          "data": {
            "text/plain": [
              "(108, 21)"
            ]
          },
          "metadata": {
            "tags": []
          },
          "execution_count": 244
        }
      ]
    },
    {
      "metadata": {
        "id": "woMiyvXUpCYH",
        "colab_type": "code",
        "colab": {
          "base_uri": "https://localhost:8080/",
          "height": 34
        },
        "outputId": "af9c7aee-9690-4e9b-efb8-6223762c7029"
      },
      "cell_type": "code",
      "source": [
        "classes[0]"
      ],
      "execution_count": 245,
      "outputs": [
        {
          "output_type": "execute_result",
          "data": {
            "text/plain": [
              "array([0, 0, 0, 0, 0, 0, 0, 0, 0, 0, 1, 0, 0, 1, 0, 0, 0, 1, 0, 0, 0])"
            ]
          },
          "metadata": {
            "tags": []
          },
          "execution_count": 245
        }
      ]
    },
    {
      "metadata": {
        "id": "6tqJjkf8pNp5",
        "colab_type": "code",
        "colab": {
          "base_uri": "https://localhost:8080/",
          "height": 34
        },
        "outputId": "e0e42334-9564-4173-eedf-83a19ff38819"
      },
      "cell_type": "code",
      "source": [
        "classes[1]"
      ],
      "execution_count": 246,
      "outputs": [
        {
          "output_type": "execute_result",
          "data": {
            "text/plain": [
              "array([0, 0, 1, 0, 0, 0, 0, 0, 0, 0, 0, 0, 1, 0, 0, 0, 0, 1, 0, 0, 0])"
            ]
          },
          "metadata": {
            "tags": []
          },
          "execution_count": 246
        }
      ]
    },
    {
      "metadata": {
        "id": "lR3MtW4Qlf5E",
        "colab_type": "code",
        "colab": {}
      },
      "cell_type": "code",
      "source": [
        "from sklearn.preprocessing import StandardScaler"
      ],
      "execution_count": 0,
      "outputs": []
    },
    {
      "metadata": {
        "id": "llPyPGoYixFz",
        "colab_type": "code",
        "colab": {}
      },
      "cell_type": "code",
      "source": [
        "scaler = StandardScaler()\n",
        "raw_midi = scaler.fit_transform(df1)"
      ],
      "execution_count": 0,
      "outputs": []
    },
    {
      "metadata": {
        "id": "1IXe22NEiy_Z",
        "colab_type": "code",
        "colab": {
          "base_uri": "https://localhost:8080/",
          "height": 1853
        },
        "outputId": "65d87d88-3fc1-46cb-c2e5-9fd31d2f7459"
      },
      "cell_type": "code",
      "source": [
        "raw_midi"
      ],
      "execution_count": 249,
      "outputs": [
        {
          "output_type": "execute_result",
          "data": {
            "text/plain": [
              "array([[-0.16423018,  1.        ,  2.30417608],\n",
              "       [-0.16423018, -1.        , -0.14469768],\n",
              "       [-0.16423018,  1.        , -0.90208131],\n",
              "       [-0.16423018, -1.        , -0.14469768],\n",
              "       [-0.16423018,  1.        ,  0.71367044],\n",
              "       [-0.16423018, -1.        , -0.14469768],\n",
              "       [-0.16423018,  1.        , -0.90208131],\n",
              "       [-0.16423018, -1.        , -0.14469768],\n",
              "       [-0.16423018,  1.        ,  0.71367044],\n",
              "       [-0.16423018, -1.        , -0.14469768],\n",
              "       [-0.16423018,  1.        , -0.90208131],\n",
              "       [-0.16423018, -1.        , -0.14469768],\n",
              "       [-0.16423018,  1.        ,  0.71367044],\n",
              "       [-0.16423018, -1.        ,  2.25368384],\n",
              "       [ 1.05900153,  1.        , -0.87683519],\n",
              "       [ 1.05900153, -1.        , -0.14469768],\n",
              "       [ 1.05900153,  1.        , -0.90208131],\n",
              "       [ 1.05900153, -1.        ,  0.6631782 ],\n",
              "       [ 1.05900153,  1.        , -0.90208131],\n",
              "       [ 1.05900153, -1.        ,  0.6631782 ],\n",
              "       [ 0.44738567,  1.        , -0.90208131],\n",
              "       [ 0.44738567, -1.        ,  0.6631782 ],\n",
              "       [-0.16423018,  1.        , -0.90208131],\n",
              "       [-0.16423018, -1.        , -0.14469768],\n",
              "       [ 0.44738567,  1.        , -0.90208131],\n",
              "       [ 0.44738567, -1.        , -0.14469768],\n",
              "       [-0.16423018,  1.        , -0.90208131],\n",
              "       [-0.16423018, -1.        , -0.14469768],\n",
              "       [ 0.44738567,  1.        , -0.90208131],\n",
              "       [ 0.44738567, -1.        ,  0.6631782 ],\n",
              "       [-1.08165397,  1.        , -0.90208131],\n",
              "       [-1.08165397, -1.        ,  0.6631782 ],\n",
              "       [-0.16423018,  1.        ,  0.71367044],\n",
              "       [-0.16423018, -1.        , -0.14469768],\n",
              "       [-0.16423018,  1.        , -0.90208131],\n",
              "       [-0.16423018, -1.        , -0.14469768],\n",
              "       [-0.16423018,  1.        ,  0.71367044],\n",
              "       [-0.16423018, -1.        , -0.14469768],\n",
              "       [-0.16423018,  1.        , -0.90208131],\n",
              "       [-0.16423018, -1.        , -0.14469768],\n",
              "       [-0.16423018,  1.        ,  0.71367044],\n",
              "       [-0.16423018, -1.        , -0.14469768],\n",
              "       [-0.16423018,  1.        , -0.90208131],\n",
              "       [-0.16423018, -1.        , -0.14469768],\n",
              "       [-0.16423018,  1.        ,  0.71367044],\n",
              "       [-0.16423018, -1.        ,  2.25368384],\n",
              "       [ 1.05900153,  1.        , -0.87683519],\n",
              "       [ 1.05900153, -1.        , -0.14469768],\n",
              "       [ 1.05900153,  1.        , -0.90208131],\n",
              "       [ 1.05900153, -1.        ,  0.6631782 ],\n",
              "       [ 1.05900153,  1.        , -0.90208131],\n",
              "       [ 1.05900153, -1.        ,  1.47105408],\n",
              "       [ 1.05900153,  1.        , -0.90208131],\n",
              "       [ 1.05900153, -1.        , -0.14469768],\n",
              "       [ 0.44738567,  1.        , -0.90208131],\n",
              "       [ 0.44738567, -1.        ,  0.6631782 ],\n",
              "       [-0.16423018,  1.        , -0.90208131],\n",
              "       [-0.16423018, -1.        ,  0.6631782 ],\n",
              "       [-2.30488568,  1.        , -0.09420543],\n",
              "       [-2.30488568, -1.        ,  0.6631782 ],\n",
              "       [-0.16423018,  1.        , -0.90208131],\n",
              "       [-0.16423018, -1.        ,  0.6631782 ],\n",
              "       [-0.16423018,  1.        , -0.90208131],\n",
              "       [-0.16423018, -1.        ,  0.6631782 ],\n",
              "       [-2.30488568,  1.        ,  0.71367044],\n",
              "       [-2.30488568, -1.        , -0.14469768],\n",
              "       [ 1.05900153,  1.        , -0.90208131],\n",
              "       [ 1.05900153, -1.        , -0.14469768],\n",
              "       [ 1.05900153,  1.        , -0.90208131],\n",
              "       [ 1.05900153, -1.        , -0.14469768],\n",
              "       [ 1.05900153,  1.        , -0.90208131],\n",
              "       [ 1.05900153, -1.        ,  2.25368384],\n",
              "       [-2.30488568,  1.        , -0.06895931],\n",
              "       [-2.30488568, -1.        ,  0.6631782 ],\n",
              "       [-0.16423018,  1.        , -0.90208131],\n",
              "       [-0.16423018, -1.        ,  0.6631782 ],\n",
              "       [-0.16423018,  1.        , -0.90208131],\n",
              "       [-0.16423018, -1.        ,  0.6631782 ],\n",
              "       [-2.30488568,  1.        , -0.09420543],\n",
              "       [-2.30488568, -1.        , -0.14469768],\n",
              "       [-2.30488568,  1.        , -0.90208131],\n",
              "       [-2.30488568, -1.        , -0.14469768],\n",
              "       [ 1.05900153,  1.        , -0.90208131],\n",
              "       [ 1.05900153, -1.        , -0.14469768],\n",
              "       [ 1.05900153,  1.        , -0.90208131],\n",
              "       [ 1.05900153, -1.        , -0.14469768],\n",
              "       [ 1.05900153,  1.        , -0.90208131],\n",
              "       [ 1.05900153, -1.        ,  2.25368384],\n",
              "       [-1.69326982,  1.        , -0.06895931],\n",
              "       [-1.69326982, -1.        ,  0.6631782 ],\n",
              "       [-0.16423018,  1.        , -0.90208131],\n",
              "       [-0.16423018, -1.        ,  0.6631782 ],\n",
              "       [-0.16423018,  1.        , -0.90208131],\n",
              "       [-0.16423018, -1.        ,  0.6631782 ],\n",
              "       [-1.69326982,  1.        ,  0.71367044],\n",
              "       [-1.69326982, -1.        , -0.14469768],\n",
              "       [-0.16423018,  1.        , -0.90208131],\n",
              "       [-0.16423018, -1.        , -0.14469768],\n",
              "       [ 1.05900153,  1.        , -0.90208131],\n",
              "       [ 1.05900153, -1.        ,  2.25368384],\n",
              "       [ 1.36480946,  1.        , -0.87683519],\n",
              "       [ 1.36480946, -1.        , -0.14469768],\n",
              "       [ 1.05900153,  1.        , -0.90208131],\n",
              "       [ 1.05900153, -1.        , -0.14469768],\n",
              "       [ 0.44738567,  1.        , -0.90208131],\n",
              "       [ 0.44738567, -1.        ,  5.45994123],\n",
              "       [ 0.44738567,  1.        ,  0.76416269],\n",
              "       [ 0.44738567, -1.        ,  0.6631782 ]])"
            ]
          },
          "metadata": {
            "tags": []
          },
          "execution_count": 249
        }
      ]
    },
    {
      "metadata": {
        "id": "-X2gYJhkhEXI",
        "colab_type": "code",
        "colab": {
          "base_uri": "https://localhost:8080/",
          "height": 34
        },
        "outputId": "5a452ac4-947d-4b15-a7ff-2e6f91421d53"
      },
      "cell_type": "code",
      "source": [
        "scaler.inverse_transform(raw_midi[3])"
      ],
      "execution_count": 333,
      "outputs": [
        {
          "output_type": "execute_result",
          "data": {
            "text/plain": [
              "array([60.,  0., 31.])"
            ]
          },
          "metadata": {
            "tags": []
          },
          "execution_count": 333
        }
      ]
    },
    {
      "metadata": {
        "id": "bDpt3k8Fi0Hm",
        "colab_type": "code",
        "colab": {
          "base_uri": "https://localhost:8080/",
          "height": 34
        },
        "outputId": "4b164606-7693-40c1-e72b-d7c95166476b"
      },
      "cell_type": "code",
      "source": [
        "raw_midi.shape"
      ],
      "execution_count": 251,
      "outputs": [
        {
          "output_type": "execute_result",
          "data": {
            "text/plain": [
              "(108, 3)"
            ]
          },
          "metadata": {
            "tags": []
          },
          "execution_count": 251
        }
      ]
    },
    {
      "metadata": {
        "id": "1LPU6o4sjCSE",
        "colab_type": "code",
        "colab": {
          "base_uri": "https://localhost:8080/",
          "height": 34
        },
        "outputId": "eab2eb03-7605-48ab-d780-f06b303a68ce"
      },
      "cell_type": "code",
      "source": [
        "# prepare the dataset of input to output pairs encoded as integers\n",
        "seq_length = 20\n",
        "dataX = []\n",
        "dataY = []\n",
        "for i in range(0, raw_midi.shape[0] - seq_length, 1):\n",
        "\tseq_in = raw_midi[i:i + seq_length]\n",
        "\tseq_out = classes[i + seq_length]\n",
        "\tdataX.append(seq_in)\n",
        "\tdataY.append(seq_out)\n",
        "n_patterns = len(dataX)\n",
        "print \"Total Patterns: \", n_patterns"
      ],
      "execution_count": 252,
      "outputs": [
        {
          "output_type": "stream",
          "text": [
            "Total Patterns:  88\n"
          ],
          "name": "stdout"
        }
      ]
    },
    {
      "metadata": {
        "id": "IFk1IxhaqkTy",
        "colab_type": "code",
        "colab": {
          "base_uri": "https://localhost:8080/",
          "height": 357
        },
        "outputId": "8f07e220-85ad-471d-fe13-11bffa1c4c65"
      },
      "cell_type": "code",
      "source": [
        "dataX[0]"
      ],
      "execution_count": 253,
      "outputs": [
        {
          "output_type": "execute_result",
          "data": {
            "text/plain": [
              "array([[-0.16423018,  1.        ,  2.30417608],\n",
              "       [-0.16423018, -1.        , -0.14469768],\n",
              "       [-0.16423018,  1.        , -0.90208131],\n",
              "       [-0.16423018, -1.        , -0.14469768],\n",
              "       [-0.16423018,  1.        ,  0.71367044],\n",
              "       [-0.16423018, -1.        , -0.14469768],\n",
              "       [-0.16423018,  1.        , -0.90208131],\n",
              "       [-0.16423018, -1.        , -0.14469768],\n",
              "       [-0.16423018,  1.        ,  0.71367044],\n",
              "       [-0.16423018, -1.        , -0.14469768],\n",
              "       [-0.16423018,  1.        , -0.90208131],\n",
              "       [-0.16423018, -1.        , -0.14469768],\n",
              "       [-0.16423018,  1.        ,  0.71367044],\n",
              "       [-0.16423018, -1.        ,  2.25368384],\n",
              "       [ 1.05900153,  1.        , -0.87683519],\n",
              "       [ 1.05900153, -1.        , -0.14469768],\n",
              "       [ 1.05900153,  1.        , -0.90208131],\n",
              "       [ 1.05900153, -1.        ,  0.6631782 ],\n",
              "       [ 1.05900153,  1.        , -0.90208131],\n",
              "       [ 1.05900153, -1.        ,  0.6631782 ]])"
            ]
          },
          "metadata": {
            "tags": []
          },
          "execution_count": 253
        }
      ]
    },
    {
      "metadata": {
        "id": "yE8Vlmmbqnez",
        "colab_type": "code",
        "colab": {
          "base_uri": "https://localhost:8080/",
          "height": 34
        },
        "outputId": "b347f877-c24c-4887-f749-246e26629bfd"
      },
      "cell_type": "code",
      "source": [
        "dataY[0]"
      ],
      "execution_count": 254,
      "outputs": [
        {
          "output_type": "execute_result",
          "data": {
            "text/plain": [
              "array([1, 0, 0, 0, 0, 0, 0, 0, 0, 0, 0, 0, 0, 1, 0, 0, 0, 0, 1, 0, 0])"
            ]
          },
          "metadata": {
            "tags": []
          },
          "execution_count": 254
        }
      ]
    },
    {
      "metadata": {
        "id": "rX74IGBHrQWh",
        "colab_type": "code",
        "colab": {}
      },
      "cell_type": "code",
      "source": [
        "import numpy as np"
      ],
      "execution_count": 0,
      "outputs": []
    },
    {
      "metadata": {
        "id": "lkfsy-LLrRtL",
        "colab_type": "code",
        "colab": {}
      },
      "cell_type": "code",
      "source": [
        "X = np.reshape(dataX, (len(dataX), seq_length, 3))"
      ],
      "execution_count": 0,
      "outputs": []
    },
    {
      "metadata": {
        "id": "p0xcML6ZrRyb",
        "colab_type": "code",
        "colab": {
          "base_uri": "https://localhost:8080/",
          "height": 34
        },
        "outputId": "cada8772-755c-49b5-dc6f-ec73d360a36e"
      },
      "cell_type": "code",
      "source": [
        "X.shape"
      ],
      "execution_count": 257,
      "outputs": [
        {
          "output_type": "execute_result",
          "data": {
            "text/plain": [
              "(88, 20, 3)"
            ]
          },
          "metadata": {
            "tags": []
          },
          "execution_count": 257
        }
      ]
    },
    {
      "metadata": {
        "id": "-kNcnTzFrpR_",
        "colab_type": "code",
        "colab": {
          "base_uri": "https://localhost:8080/",
          "height": 34
        },
        "outputId": "54b48677-e1ba-4c88-c9b1-fb8d5d168112"
      },
      "cell_type": "code",
      "source": [
        "len(dataY)"
      ],
      "execution_count": 258,
      "outputs": [
        {
          "output_type": "execute_result",
          "data": {
            "text/plain": [
              "88"
            ]
          },
          "metadata": {
            "tags": []
          },
          "execution_count": 258
        }
      ]
    },
    {
      "metadata": {
        "id": "QoG8YNcHwZi_",
        "colab_type": "code",
        "colab": {}
      },
      "cell_type": "code",
      "source": [
        "y = np.asarray(dataY)"
      ],
      "execution_count": 0,
      "outputs": []
    },
    {
      "metadata": {
        "id": "xgGNbYIjwbOq",
        "colab_type": "code",
        "colab": {
          "base_uri": "https://localhost:8080/",
          "height": 34
        },
        "outputId": "ed735e58-1a68-4293-c222-d4e5036ab52f"
      },
      "cell_type": "code",
      "source": [
        "y.shape"
      ],
      "execution_count": 260,
      "outputs": [
        {
          "output_type": "execute_result",
          "data": {
            "text/plain": [
              "(88, 21)"
            ]
          },
          "metadata": {
            "tags": []
          },
          "execution_count": 260
        }
      ]
    },
    {
      "metadata": {
        "id": "R360yYutrArX",
        "colab_type": "code",
        "colab": {}
      },
      "cell_type": "code",
      "source": [
        "from keras.models import Sequential\n",
        "from keras.layers import Dense\n",
        "from keras.layers import Dropout\n",
        "from keras.layers import LSTM\n",
        "from keras.optimizers import Adam"
      ],
      "execution_count": 0,
      "outputs": []
    },
    {
      "metadata": {
        "id": "FPmni0MBtouJ",
        "colab_type": "code",
        "colab": {
          "base_uri": "https://localhost:8080/",
          "height": 323
        },
        "outputId": "3552a0af-aad9-4e00-abb0-a57acdc9cfc4"
      },
      "cell_type": "code",
      "source": [
        "model = Sequential()\n",
        "model.add(LSTM(256, input_shape=(seq_length, 3),return_sequences=True))\n",
        "model.add(Dropout(0.2))\n",
        "model.add(LSTM(256))\n",
        "model.add(Dropout(0.2))\n",
        "model.add(Dense(y.shape[1], activation='sigmoid'))\n",
        "adam = Adam(lr=0.001)\n",
        "model.compile(loss='binary_crossentropy', optimizer=adam,metrics=['accuracy'])\n",
        "print(model.summary())"
      ],
      "execution_count": 262,
      "outputs": [
        {
          "output_type": "stream",
          "text": [
            "_________________________________________________________________\n",
            "Layer (type)                 Output Shape              Param #   \n",
            "=================================================================\n",
            "lstm_9 (LSTM)                (None, 20, 256)           266240    \n",
            "_________________________________________________________________\n",
            "dropout_9 (Dropout)          (None, 20, 256)           0         \n",
            "_________________________________________________________________\n",
            "lstm_10 (LSTM)               (None, 256)               525312    \n",
            "_________________________________________________________________\n",
            "dropout_10 (Dropout)         (None, 256)               0         \n",
            "_________________________________________________________________\n",
            "dense_6 (Dense)              (None, 21)                5397      \n",
            "=================================================================\n",
            "Total params: 796,949\n",
            "Trainable params: 796,949\n",
            "Non-trainable params: 0\n",
            "_________________________________________________________________\n",
            "None\n"
          ],
          "name": "stdout"
        }
      ]
    },
    {
      "metadata": {
        "id": "AClFsVnvq6oP",
        "colab_type": "code",
        "colab": {
          "base_uri": "https://localhost:8080/",
          "height": 3437
        },
        "outputId": "2b9a4fc5-7e2f-44a6-e848-3e932d243e78"
      },
      "cell_type": "code",
      "source": [
        "history = model.fit(X, y, epochs=100,batch_size=32, verbose=1, shuffle=False)"
      ],
      "execution_count": 263,
      "outputs": [
        {
          "output_type": "stream",
          "text": [
            "Epoch 1/100\n",
            "88/88 [==============================] - 2s 18ms/step - loss: 0.6913 - acc: 0.5714\n",
            "Epoch 2/100\n",
            "88/88 [==============================] - 0s 3ms/step - loss: 0.6715 - acc: 0.8431\n",
            "Epoch 3/100\n",
            "88/88 [==============================] - 0s 3ms/step - loss: 0.5831 - acc: 0.8523\n",
            "Epoch 4/100\n",
            "88/88 [==============================] - 0s 3ms/step - loss: 0.3734 - acc: 0.8577\n",
            "Epoch 5/100\n",
            "88/88 [==============================] - 0s 3ms/step - loss: 0.3250 - acc: 0.8609\n",
            "Epoch 6/100\n",
            "88/88 [==============================] - 0s 3ms/step - loss: 0.3189 - acc: 0.8550\n",
            "Epoch 7/100\n",
            "88/88 [==============================] - 0s 3ms/step - loss: 0.3145 - acc: 0.8447\n",
            "Epoch 8/100\n",
            "88/88 [==============================] - 0s 3ms/step - loss: 0.3206 - acc: 0.8474\n",
            "Epoch 9/100\n",
            "88/88 [==============================] - 0s 3ms/step - loss: 0.3127 - acc: 0.8577\n",
            "Epoch 10/100\n",
            "88/88 [==============================] - 0s 3ms/step - loss: 0.3095 - acc: 0.8577\n",
            "Epoch 11/100\n",
            "88/88 [==============================] - 0s 3ms/step - loss: 0.3164 - acc: 0.8523\n",
            "Epoch 12/100\n",
            "88/88 [==============================] - 0s 3ms/step - loss: 0.3142 - acc: 0.8528\n",
            "Epoch 13/100\n",
            "88/88 [==============================] - 0s 3ms/step - loss: 0.3085 - acc: 0.8593\n",
            "Epoch 14/100\n",
            "88/88 [==============================] - 0s 3ms/step - loss: 0.3096 - acc: 0.8593\n",
            "Epoch 15/100\n",
            "88/88 [==============================] - 0s 3ms/step - loss: 0.3121 - acc: 0.8598\n",
            "Epoch 16/100\n",
            "88/88 [==============================] - 0s 3ms/step - loss: 0.3054 - acc: 0.8669\n",
            "Epoch 17/100\n",
            "88/88 [==============================] - 0s 3ms/step - loss: 0.3058 - acc: 0.8647\n",
            "Epoch 18/100\n",
            "88/88 [==============================] - 0s 3ms/step - loss: 0.3083 - acc: 0.8636\n",
            "Epoch 19/100\n",
            "88/88 [==============================] - 0s 3ms/step - loss: 0.3048 - acc: 0.8642\n",
            "Epoch 20/100\n",
            "88/88 [==============================] - 0s 3ms/step - loss: 0.3048 - acc: 0.8663\n",
            "Epoch 21/100\n",
            "88/88 [==============================] - 0s 3ms/step - loss: 0.3002 - acc: 0.8631\n",
            "Epoch 22/100\n",
            "88/88 [==============================] - 0s 3ms/step - loss: 0.2948 - acc: 0.8739\n",
            "Epoch 23/100\n",
            "32/88 [=========>....................] - ETA: 0s - loss: 0.2843 - acc: 0.8616"
          ],
          "name": "stdout"
        },
        {
          "output_type": "stream",
          "text": [
            "88/88 [==============================] - 0s 3ms/step - loss: 0.2916 - acc: 0.8728\n",
            "Epoch 24/100\n",
            "88/88 [==============================] - 0s 3ms/step - loss: 0.2847 - acc: 0.8723\n",
            "Epoch 25/100\n",
            "88/88 [==============================] - 0s 3ms/step - loss: 0.2848 - acc: 0.8804\n",
            "Epoch 26/100\n",
            "88/88 [==============================] - 0s 3ms/step - loss: 0.2811 - acc: 0.8837\n",
            "Epoch 27/100\n",
            "88/88 [==============================] - 0s 3ms/step - loss: 0.2774 - acc: 0.8853\n",
            "Epoch 28/100\n",
            "88/88 [==============================] - 0s 3ms/step - loss: 0.2734 - acc: 0.8902\n",
            "Epoch 29/100\n",
            "88/88 [==============================] - 0s 3ms/step - loss: 0.2631 - acc: 0.9042\n",
            "Epoch 30/100\n",
            "88/88 [==============================] - 0s 3ms/step - loss: 0.2468 - acc: 0.8999\n",
            "Epoch 31/100\n",
            "88/88 [==============================] - 0s 3ms/step - loss: 0.2246 - acc: 0.9237\n",
            "Epoch 32/100\n",
            "88/88 [==============================] - 0s 3ms/step - loss: 0.2029 - acc: 0.9264\n",
            "Epoch 33/100\n",
            "88/88 [==============================] - 0s 3ms/step - loss: 0.1896 - acc: 0.9232\n",
            "Epoch 34/100\n",
            "88/88 [==============================] - 0s 3ms/step - loss: 0.1859 - acc: 0.9248\n",
            "Epoch 35/100\n",
            "88/88 [==============================] - 0s 3ms/step - loss: 0.1827 - acc: 0.9259\n",
            "Epoch 36/100\n",
            "88/88 [==============================] - 0s 3ms/step - loss: 0.1783 - acc: 0.9302\n",
            "Epoch 37/100\n",
            "88/88 [==============================] - 0s 3ms/step - loss: 0.1765 - acc: 0.9253\n",
            "Epoch 38/100\n",
            "88/88 [==============================] - 0s 3ms/step - loss: 0.1790 - acc: 0.9275\n",
            "Epoch 39/100\n",
            "88/88 [==============================] - 0s 3ms/step - loss: 0.1735 - acc: 0.9313\n",
            "Epoch 40/100\n",
            "88/88 [==============================] - 0s 3ms/step - loss: 0.1754 - acc: 0.9275\n",
            "Epoch 41/100\n",
            "88/88 [==============================] - 0s 3ms/step - loss: 0.1689 - acc: 0.9324\n",
            "Epoch 42/100\n",
            "88/88 [==============================] - 0s 3ms/step - loss: 0.1681 - acc: 0.9383\n",
            "Epoch 43/100\n",
            "88/88 [==============================] - 0s 3ms/step - loss: 0.1671 - acc: 0.9297\n",
            "Epoch 44/100\n",
            "88/88 [==============================] - 0s 3ms/step - loss: 0.1680 - acc: 0.9297\n",
            "Epoch 45/100\n",
            "32/88 [=========>....................] - ETA: 0s - loss: 0.1721 - acc: 0.9211"
          ],
          "name": "stdout"
        },
        {
          "output_type": "stream",
          "text": [
            "88/88 [==============================] - 0s 3ms/step - loss: 0.1651 - acc: 0.9318\n",
            "Epoch 46/100\n",
            "88/88 [==============================] - 0s 3ms/step - loss: 0.1605 - acc: 0.9318\n",
            "Epoch 47/100\n",
            "88/88 [==============================] - 0s 3ms/step - loss: 0.1606 - acc: 0.9324\n",
            "Epoch 48/100\n",
            "88/88 [==============================] - 0s 3ms/step - loss: 0.1554 - acc: 0.9394\n",
            "Epoch 49/100\n",
            "88/88 [==============================] - 0s 3ms/step - loss: 0.1572 - acc: 0.9334\n",
            "Epoch 50/100\n",
            "88/88 [==============================] - 0s 3ms/step - loss: 0.1531 - acc: 0.9329\n",
            "Epoch 51/100\n",
            "88/88 [==============================] - 0s 3ms/step - loss: 0.1544 - acc: 0.9361\n",
            "Epoch 52/100\n",
            "88/88 [==============================] - 0s 3ms/step - loss: 0.1505 - acc: 0.9389\n",
            "Epoch 53/100\n",
            "88/88 [==============================] - 0s 3ms/step - loss: 0.1551 - acc: 0.9367\n",
            "Epoch 54/100\n",
            "88/88 [==============================] - 0s 3ms/step - loss: 0.1559 - acc: 0.9356\n",
            "Epoch 55/100\n",
            "88/88 [==============================] - 0s 3ms/step - loss: 0.1521 - acc: 0.9356\n",
            "Epoch 56/100\n",
            "88/88 [==============================] - 0s 3ms/step - loss: 0.1569 - acc: 0.9324\n",
            "Epoch 57/100\n",
            "88/88 [==============================] - 0s 3ms/step - loss: 0.1502 - acc: 0.9356\n",
            "Epoch 58/100\n",
            "88/88 [==============================] - 0s 3ms/step - loss: 0.1520 - acc: 0.9378\n",
            "Epoch 59/100\n",
            "88/88 [==============================] - 0s 3ms/step - loss: 0.1515 - acc: 0.9356\n",
            "Epoch 60/100\n",
            "88/88 [==============================] - 0s 3ms/step - loss: 0.1506 - acc: 0.9340\n",
            "Epoch 61/100\n",
            "88/88 [==============================] - 0s 3ms/step - loss: 0.1471 - acc: 0.9383\n",
            "Epoch 62/100\n",
            "88/88 [==============================] - 0s 3ms/step - loss: 0.1422 - acc: 0.9378\n",
            "Epoch 63/100\n",
            "88/88 [==============================] - 0s 3ms/step - loss: 0.1451 - acc: 0.9399\n",
            "Epoch 64/100\n",
            "88/88 [==============================] - 0s 3ms/step - loss: 0.1402 - acc: 0.9416\n",
            "Epoch 65/100\n",
            "88/88 [==============================] - 0s 3ms/step - loss: 0.1404 - acc: 0.9361\n",
            "Epoch 66/100\n",
            "88/88 [==============================] - 0s 3ms/step - loss: 0.1367 - acc: 0.9383\n",
            "Epoch 67/100\n",
            "32/88 [=========>....................] - ETA: 0s - loss: 0.1409 - acc: 0.9330"
          ],
          "name": "stdout"
        },
        {
          "output_type": "stream",
          "text": [
            "88/88 [==============================] - 0s 3ms/step - loss: 0.1318 - acc: 0.9448\n",
            "Epoch 68/100\n",
            "88/88 [==============================] - 0s 3ms/step - loss: 0.1374 - acc: 0.9421\n",
            "Epoch 69/100\n",
            "88/88 [==============================] - 0s 3ms/step - loss: 0.1330 - acc: 0.9470\n",
            "Epoch 70/100\n",
            "88/88 [==============================] - 0s 3ms/step - loss: 0.1283 - acc: 0.9453\n",
            "Epoch 71/100\n",
            "88/88 [==============================] - 0s 3ms/step - loss: 0.1321 - acc: 0.9443\n",
            "Epoch 72/100\n",
            "88/88 [==============================] - 0s 3ms/step - loss: 0.1265 - acc: 0.9464\n",
            "Epoch 73/100\n",
            "88/88 [==============================] - 0s 3ms/step - loss: 0.1305 - acc: 0.9453\n",
            "Epoch 74/100\n",
            "88/88 [==============================] - 0s 3ms/step - loss: 0.1299 - acc: 0.9432\n",
            "Epoch 75/100\n",
            "88/88 [==============================] - 0s 3ms/step - loss: 0.1310 - acc: 0.9448\n",
            "Epoch 76/100\n",
            "88/88 [==============================] - 0s 3ms/step - loss: 0.1222 - acc: 0.9481\n",
            "Epoch 77/100\n",
            "88/88 [==============================] - 0s 3ms/step - loss: 0.1231 - acc: 0.9459\n",
            "Epoch 78/100\n",
            "88/88 [==============================] - 0s 3ms/step - loss: 0.1193 - acc: 0.9524\n",
            "Epoch 79/100\n",
            "88/88 [==============================] - 0s 3ms/step - loss: 0.1182 - acc: 0.9529\n",
            "Epoch 80/100\n",
            "88/88 [==============================] - 0s 3ms/step - loss: 0.1224 - acc: 0.9502\n",
            "Epoch 81/100\n",
            "88/88 [==============================] - 0s 3ms/step - loss: 0.1126 - acc: 0.9567\n",
            "Epoch 82/100\n",
            "88/88 [==============================] - 0s 3ms/step - loss: 0.1151 - acc: 0.9540\n",
            "Epoch 83/100\n",
            "88/88 [==============================] - 0s 3ms/step - loss: 0.1089 - acc: 0.9518\n",
            "Epoch 84/100\n",
            "88/88 [==============================] - 0s 3ms/step - loss: 0.1125 - acc: 0.9524\n",
            "Epoch 85/100\n",
            "88/88 [==============================] - 0s 3ms/step - loss: 0.1102 - acc: 0.9513\n",
            "Epoch 86/100\n",
            "88/88 [==============================] - 0s 3ms/step - loss: 0.1156 - acc: 0.9540\n",
            "Epoch 87/100\n",
            "88/88 [==============================] - 0s 3ms/step - loss: 0.1258 - acc: 0.9432\n",
            "Epoch 88/100\n",
            "88/88 [==============================] - 0s 3ms/step - loss: 0.1255 - acc: 0.9464\n",
            "Epoch 89/100\n",
            "88/88 [==============================] - 0s 3ms/step - loss: 0.1408 - acc: 0.9416\n",
            "Epoch 90/100\n",
            "88/88 [==============================] - 0s 3ms/step - loss: 0.1355 - acc: 0.9394\n",
            "Epoch 91/100\n",
            "88/88 [==============================] - 0s 3ms/step - loss: 0.1356 - acc: 0.9410\n",
            "Epoch 92/100\n"
          ],
          "name": "stdout"
        },
        {
          "output_type": "stream",
          "text": [
            "88/88 [==============================] - 0s 3ms/step - loss: 0.1370 - acc: 0.9470\n",
            "Epoch 93/100\n",
            "88/88 [==============================] - 0s 3ms/step - loss: 0.1200 - acc: 0.9486\n",
            "Epoch 94/100\n",
            "88/88 [==============================] - 0s 3ms/step - loss: 0.1145 - acc: 0.9524\n",
            "Epoch 95/100\n",
            "88/88 [==============================] - 0s 3ms/step - loss: 0.1108 - acc: 0.9573\n",
            "Epoch 96/100\n",
            "88/88 [==============================] - 0s 3ms/step - loss: 0.1041 - acc: 0.9610\n",
            "Epoch 97/100\n",
            "88/88 [==============================] - 0s 3ms/step - loss: 0.1087 - acc: 0.9535\n",
            "Epoch 98/100\n",
            "88/88 [==============================] - 0s 3ms/step - loss: 0.1047 - acc: 0.9600\n",
            "Epoch 99/100\n",
            "88/88 [==============================] - 0s 3ms/step - loss: 0.1034 - acc: 0.9583\n",
            "Epoch 100/100\n",
            "88/88 [==============================] - 0s 3ms/step - loss: 0.0970 - acc: 0.9621\n"
          ],
          "name": "stdout"
        }
      ]
    },
    {
      "metadata": {
        "id": "MqabbVb0ua0c",
        "colab_type": "code",
        "colab": {
          "base_uri": "https://localhost:8080/",
          "height": 34
        },
        "outputId": "531169c6-c29d-4c23-aab3-fc560d76823c"
      },
      "cell_type": "code",
      "source": [
        "\n",
        "# list all data in history\n",
        "print(history.history.keys())"
      ],
      "execution_count": 264,
      "outputs": [
        {
          "output_type": "stream",
          "text": [
            "['acc', 'loss']\n"
          ],
          "name": "stdout"
        }
      ]
    },
    {
      "metadata": {
        "id": "KPS3uGyew2lu",
        "colab_type": "code",
        "colab": {}
      },
      "cell_type": "code",
      "source": [
        "import matplotlib.pyplot as plt"
      ],
      "execution_count": 0,
      "outputs": []
    },
    {
      "metadata": {
        "id": "tTcJH0ocw4t7",
        "colab_type": "code",
        "colab": {
          "base_uri": "https://localhost:8080/",
          "height": 571
        },
        "outputId": "cbf74118-d1bd-416e-8bdf-1c8c9ba1d770"
      },
      "cell_type": "code",
      "source": [
        "\n",
        "# summarize history for accuracy\n",
        "plt.plot(history.history['acc'])\n",
        "plt.title('model accuracy')\n",
        "plt.ylabel('accuracy')\n",
        "plt.xlabel('epoch')\n",
        "plt.legend(['train', 'test'], loc='upper left')\n",
        "plt.show()\n",
        "# summarize history for loss\n",
        "plt.plot(history.history['loss'])\n",
        "plt.title('model loss')\n",
        "plt.ylabel('loss')\n",
        "plt.xlabel('epoch')\n",
        "plt.legend(['train', 'test'], loc='upper left')\n",
        "plt.show()"
      ],
      "execution_count": 266,
      "outputs": [
        {
          "output_type": "display_data",
          "data": {
            "image/png": "[encoded data removed]",
            "text/plain": [
              "<matplotlib.figure.Figure at 0x7efc9beb6450>"
            ]
          },
          "metadata": {
            "tags": []
          }
        },
        {
          "output_type": "display_data",
          "data": {
            "image/png": "[encoded data removed]",
            "text/plain": [
              "<matplotlib.figure.Figure at 0x7efce38f4050>"
            ]
          },
          "metadata": {
            "tags": []
          }
        }
      ]
    },
    {
      "metadata": {
        "id": "WP9gKzlLTr__",
        "colab_type": "text"
      },
      "cell_type": "markdown",
      "source": [
        "## **Prevendo somente uma label**"
      ]
    },
    {
      "metadata": {
        "id": "BwzPvjTww6Ez",
        "colab_type": "code",
        "colab": {
          "base_uri": "https://localhost:8080/",
          "height": 34
        },
        "outputId": "f66540f0-f160-44b3-ed57-178a2ff4fa4b"
      },
      "cell_type": "code",
      "source": [
        "type(pattern)"
      ],
      "execution_count": 267,
      "outputs": [
        {
          "output_type": "execute_result",
          "data": {
            "text/plain": [
              "midi.containers.Pattern"
            ]
          },
          "metadata": {
            "tags": []
          },
          "execution_count": 267
        }
      ]
    },
    {
      "metadata": {
        "id": "ovROkO9WxD43",
        "colab_type": "code",
        "colab": {}
      },
      "cell_type": "code",
      "source": [
        "\n",
        "start = np.random.randint(0, len(dataX)-1)"
      ],
      "execution_count": 0,
      "outputs": []
    },
    {
      "metadata": {
        "id": "IYTtmy-yxGcC",
        "colab_type": "code",
        "colab": {
          "base_uri": "https://localhost:8080/",
          "height": 34
        },
        "outputId": "cc982926-4b36-4280-dc6c-7f5e96f55420"
      },
      "cell_type": "code",
      "source": [
        "start"
      ],
      "execution_count": 269,
      "outputs": [
        {
          "output_type": "execute_result",
          "data": {
            "text/plain": [
              "13"
            ]
          },
          "metadata": {
            "tags": []
          },
          "execution_count": 269
        }
      ]
    },
    {
      "metadata": {
        "id": "p50slaXPxHdS",
        "colab_type": "code",
        "colab": {}
      },
      "cell_type": "code",
      "source": [
        "pattern = dataX[start]"
      ],
      "execution_count": 0,
      "outputs": []
    },
    {
      "metadata": {
        "id": "mJBGzOzBxJvc",
        "colab_type": "code",
        "colab": {
          "base_uri": "https://localhost:8080/",
          "height": 357
        },
        "outputId": "fbb877bc-a976-4527-ed08-59fc98c5c960"
      },
      "cell_type": "code",
      "source": [
        "pattern"
      ],
      "execution_count": 271,
      "outputs": [
        {
          "output_type": "execute_result",
          "data": {
            "text/plain": [
              "array([[-0.16423018, -1.        ,  2.25368384],\n",
              "       [ 1.05900153,  1.        , -0.87683519],\n",
              "       [ 1.05900153, -1.        , -0.14469768],\n",
              "       [ 1.05900153,  1.        , -0.90208131],\n",
              "       [ 1.05900153, -1.        ,  0.6631782 ],\n",
              "       [ 1.05900153,  1.        , -0.90208131],\n",
              "       [ 1.05900153, -1.        ,  0.6631782 ],\n",
              "       [ 0.44738567,  1.        , -0.90208131],\n",
              "       [ 0.44738567, -1.        ,  0.6631782 ],\n",
              "       [-0.16423018,  1.        , -0.90208131],\n",
              "       [-0.16423018, -1.        , -0.14469768],\n",
              "       [ 0.44738567,  1.        , -0.90208131],\n",
              "       [ 0.44738567, -1.        , -0.14469768],\n",
              "       [-0.16423018,  1.        , -0.90208131],\n",
              "       [-0.16423018, -1.        , -0.14469768],\n",
              "       [ 0.44738567,  1.        , -0.90208131],\n",
              "       [ 0.44738567, -1.        ,  0.6631782 ],\n",
              "       [-1.08165397,  1.        , -0.90208131],\n",
              "       [-1.08165397, -1.        ,  0.6631782 ],\n",
              "       [-0.16423018,  1.        ,  0.71367044]])"
            ]
          },
          "metadata": {
            "tags": []
          },
          "execution_count": 271
        }
      ]
    },
    {
      "metadata": {
        "id": "Feg7clwnxKr7",
        "colab_type": "code",
        "colab": {}
      },
      "cell_type": "code",
      "source": [
        "gx = np.reshape(pattern, (1, len(pattern), 3))"
      ],
      "execution_count": 0,
      "outputs": []
    },
    {
      "metadata": {
        "id": "eit2SaEcxad0",
        "colab_type": "code",
        "colab": {}
      },
      "cell_type": "code",
      "source": [
        "prediction = model.predict(gx, verbose=0)"
      ],
      "execution_count": 0,
      "outputs": []
    },
    {
      "metadata": {
        "id": "-umPQPRWxcqs",
        "colab_type": "code",
        "colab": {
          "base_uri": "https://localhost:8080/",
          "height": 119
        },
        "outputId": "f6f61da4-0f0e-423a-d050-b4cd0a875146"
      },
      "cell_type": "code",
      "source": [
        "prediction[0]"
      ],
      "execution_count": 274,
      "outputs": [
        {
          "output_type": "execute_result",
          "data": {
            "text/plain": [
              "array([2.4650639e-03, 2.4032600e-04, 8.0012691e-01, 4.2265397e-03,\n",
              "       1.7443470e-05, 1.7241681e-01, 2.5380833e-02, 2.5050732e-04,\n",
              "       8.0041873e-04, 4.5262636e-03, 2.0405854e-04, 5.7352451e-04,\n",
              "       9.9329221e-01, 6.8421019e-03, 9.6341297e-02, 3.0480741e-02,\n",
              "       3.5140868e-02, 9.0139753e-01, 7.3240958e-03, 2.0866145e-03,\n",
              "       4.0343455e-03], dtype=float32)"
            ]
          },
          "metadata": {
            "tags": []
          },
          "execution_count": 274
        }
      ]
    },
    {
      "metadata": {
        "id": "jgmWn4FfxeHI",
        "colab_type": "code",
        "colab": {}
      },
      "cell_type": "code",
      "source": [
        "idxs = np.argsort(prediction[0])[::-1][:3]"
      ],
      "execution_count": 0,
      "outputs": []
    },
    {
      "metadata": {
        "id": "RP7f5mjwx7gt",
        "colab_type": "code",
        "colab": {
          "base_uri": "https://localhost:8080/",
          "height": 34
        },
        "outputId": "c3bfeda4-97c0-4f07-fb2a-1cbbce363312"
      },
      "cell_type": "code",
      "source": [
        "idxs"
      ],
      "execution_count": 276,
      "outputs": [
        {
          "output_type": "execute_result",
          "data": {
            "text/plain": [
              "array([12, 17,  2])"
            ]
          },
          "metadata": {
            "tags": []
          },
          "execution_count": 276
        }
      ]
    },
    {
      "metadata": {
        "id": "xS4-q3HL1i7n",
        "colab_type": "code",
        "colab": {}
      },
      "cell_type": "code",
      "source": [
        "tr = mlb.inverse_transform(classes)"
      ],
      "execution_count": 0,
      "outputs": []
    },
    {
      "metadata": {
        "id": "xAU2dW-gRKMy",
        "colab_type": "code",
        "colab": {
          "base_uri": "https://localhost:8080/",
          "height": 1853
        },
        "outputId": "09e1d468-0bd9-4d12-ddc9-0be028bd2252"
      },
      "cell_type": "code",
      "source": [
        "tr"
      ],
      "execution_count": 278,
      "outputs": [
        {
          "output_type": "execute_result",
          "data": {
            "text/plain": [
              "[(128, 'Note On', 'p60'),\n",
              " (31, 'Note Off', 'p60'),\n",
              " (1, 'Note On', 'p60'),\n",
              " (31, 'Note Off', 'p60'),\n",
              " (65, 'Note On', 'p60'),\n",
              " (31, 'Note Off', 'p60'),\n",
              " (1, 'Note On', 'p60'),\n",
              " (31, 'Note Off', 'p60'),\n",
              " (65, 'Note On', 'p60'),\n",
              " (31, 'Note Off', 'p60'),\n",
              " (1, 'Note On', 'p60'),\n",
              " (31, 'Note Off', 'p60'),\n",
              " (65, 'Note On', 'p60'),\n",
              " (126, 'Note Off', 'p60'),\n",
              " (2, 'Note On', 'p64'),\n",
              " (31, 'Note Off', 'p64'),\n",
              " (1, 'Note On', 'p64'),\n",
              " (63, 'Note Off', 'p64'),\n",
              " (1, 'Note On', 'p64'),\n",
              " (63, 'Note Off', 'p64'),\n",
              " (1, 'Note On', 'p62'),\n",
              " (63, 'Note Off', 'p62'),\n",
              " (1, 'Note On', 'p60'),\n",
              " (31, 'Note Off', 'p60'),\n",
              " (1, 'Note On', 'p62'),\n",
              " (31, 'Note Off', 'p62'),\n",
              " (1, 'Note On', 'p60'),\n",
              " (31, 'Note Off', 'p60'),\n",
              " (1, 'Note On', 'p62'),\n",
              " (63, 'Note Off', 'p62'),\n",
              " (1, 'Note On', 'p57'),\n",
              " (63, 'Note Off', 'p57'),\n",
              " (65, 'Note On', 'p60'),\n",
              " (31, 'Note Off', 'p60'),\n",
              " (1, 'Note On', 'p60'),\n",
              " (31, 'Note Off', 'p60'),\n",
              " (65, 'Note On', 'p60'),\n",
              " (31, 'Note Off', 'p60'),\n",
              " (1, 'Note On', 'p60'),\n",
              " (31, 'Note Off', 'p60'),\n",
              " (65, 'Note On', 'p60'),\n",
              " (31, 'Note Off', 'p60'),\n",
              " (1, 'Note On', 'p60'),\n",
              " (31, 'Note Off', 'p60'),\n",
              " (65, 'Note On', 'p60'),\n",
              " (126, 'Note Off', 'p60'),\n",
              " (2, 'Note On', 'p64'),\n",
              " (31, 'Note Off', 'p64'),\n",
              " (1, 'Note On', 'p64'),\n",
              " (63, 'Note Off', 'p64'),\n",
              " (1, 'Note On', 'p64'),\n",
              " (95, 'Note Off', 'p64'),\n",
              " (1, 'Note On', 'p64'),\n",
              " (31, 'Note Off', 'p64'),\n",
              " (1, 'Note On', 'p62'),\n",
              " (63, 'Note Off', 'p62'),\n",
              " (1, 'Note On', 'p60'),\n",
              " (63, 'Note Off', 'p60'),\n",
              " (33, 'Note On', 'p53'),\n",
              " (63, 'Note Off', 'p53'),\n",
              " (1, 'Note On', 'p60'),\n",
              " (63, 'Note Off', 'p60'),\n",
              " (1, 'Note On', 'p60'),\n",
              " (63, 'Note Off', 'p60'),\n",
              " (65, 'Note On', 'p53'),\n",
              " (31, 'Note Off', 'p53'),\n",
              " (1, 'Note On', 'p64'),\n",
              " (31, 'Note Off', 'p64'),\n",
              " (1, 'Note On', 'p64'),\n",
              " (31, 'Note Off', 'p64'),\n",
              " (1, 'Note On', 'p64'),\n",
              " (126, 'Note Off', 'p64'),\n",
              " (34, 'Note On', 'p53'),\n",
              " (63, 'Note Off', 'p53'),\n",
              " (1, 'Note On', 'p60'),\n",
              " (63, 'Note Off', 'p60'),\n",
              " (1, 'Note On', 'p60'),\n",
              " (63, 'Note Off', 'p60'),\n",
              " (33, 'Note On', 'p53'),\n",
              " (31, 'Note Off', 'p53'),\n",
              " (1, 'Note On', 'p53'),\n",
              " (31, 'Note Off', 'p53'),\n",
              " (1, 'Note On', 'p64'),\n",
              " (31, 'Note Off', 'p64'),\n",
              " (1, 'Note On', 'p64'),\n",
              " (31, 'Note Off', 'p64'),\n",
              " (1, 'Note On', 'p64'),\n",
              " (126, 'Note Off', 'p64'),\n",
              " (34, 'Note On', 'p55'),\n",
              " (63, 'Note Off', 'p55'),\n",
              " (1, 'Note On', 'p60'),\n",
              " (63, 'Note Off', 'p60'),\n",
              " (1, 'Note On', 'p60'),\n",
              " (63, 'Note Off', 'p60'),\n",
              " (65, 'Note On', 'p55'),\n",
              " (31, 'Note Off', 'p55'),\n",
              " (1, 'Note On', 'p60'),\n",
              " (31, 'Note Off', 'p60'),\n",
              " (1, 'Note On', 'p64'),\n",
              " (126, 'Note Off', 'p64'),\n",
              " (2, 'Note On', 'p65'),\n",
              " (31, 'Note Off', 'p65'),\n",
              " (1, 'Note On', 'p64'),\n",
              " (31, 'Note Off', 'p64'),\n",
              " (1, 'Note On', 'p62'),\n",
              " (253, 'Note Off', 'p62'),\n",
              " (67, 'Note On', 'p62'),\n",
              " (63, 'Note Off', 'p62')]"
            ]
          },
          "metadata": {
            "tags": []
          },
          "execution_count": 278
        }
      ]
    },
    {
      "metadata": {
        "id": "5_SG-cIcezdg",
        "colab_type": "code",
        "colab": {
          "base_uri": "https://localhost:8080/",
          "height": 34
        },
        "outputId": "d417f25e-34aa-4655-d9f6-b55ed53869e1"
      },
      "cell_type": "code",
      "source": [
        "tr[3]"
      ],
      "execution_count": 324,
      "outputs": [
        {
          "output_type": "execute_result",
          "data": {
            "text/plain": [
              "(31, 'Note Off', 'p60')"
            ]
          },
          "metadata": {
            "tags": []
          },
          "execution_count": 324
        }
      ]
    },
    {
      "metadata": {
        "id": "O-78gq2Ge4Ky",
        "colab_type": "code",
        "colab": {
          "base_uri": "https://localhost:8080/",
          "height": 34
        },
        "outputId": "e242dbf1-2d10-42c9-8f2c-91eb41a4f6b7"
      },
      "cell_type": "code",
      "source": [
        "mlb.transform([tr[3]])"
      ],
      "execution_count": 326,
      "outputs": [
        {
          "output_type": "execute_result",
          "data": {
            "text/plain": [
              "array([[0, 0, 1, 0, 0, 0, 0, 0, 0, 0, 0, 0, 1, 0, 0, 0, 0, 1, 0, 0, 0]])"
            ]
          },
          "metadata": {
            "tags": []
          },
          "execution_count": 326
        }
      ]
    },
    {
      "metadata": {
        "id": "ATS5UDGT1i-w",
        "colab_type": "code",
        "colab": {
          "base_uri": "https://localhost:8080/",
          "height": 68
        },
        "outputId": "ac353ada-d152-479e-d9f9-bf50daa069ed"
      },
      "cell_type": "code",
      "source": [
        "mlb.classes_"
      ],
      "execution_count": 279,
      "outputs": [
        {
          "output_type": "execute_result",
          "data": {
            "text/plain": [
              "array([1, 2, 31, 33, 34, 63, 65, 67, 95, 126, 128, 253, 'Note Off',\n",
              "       'Note On', 'p53', 'p55', 'p57', 'p60', 'p62', 'p64', 'p65'],\n",
              "      dtype=object)"
            ]
          },
          "metadata": {
            "tags": []
          },
          "execution_count": 279
        }
      ]
    },
    {
      "metadata": {
        "id": "XMF0B4Kr8Yg7",
        "colab_type": "code",
        "colab": {}
      },
      "cell_type": "code",
      "source": [
        "a, b, c = idxs"
      ],
      "execution_count": 0,
      "outputs": []
    },
    {
      "metadata": {
        "id": "QV61IU5U1jC5",
        "colab_type": "code",
        "colab": {}
      },
      "cell_type": "code",
      "source": [
        "prob_classes = mlb.classes_"
      ],
      "execution_count": 0,
      "outputs": []
    },
    {
      "metadata": {
        "id": "k3C4pvLs1jOL",
        "colab_type": "code",
        "colab": {}
      },
      "cell_type": "code",
      "source": [
        "prev = prob_classes[b],prob_classes[a],prob_classes[c]"
      ],
      "execution_count": 0,
      "outputs": []
    },
    {
      "metadata": {
        "id": "Vqf_ffqwzipL",
        "colab_type": "code",
        "colab": {
          "base_uri": "https://localhost:8080/",
          "height": 34
        },
        "outputId": "0b8379bf-c91c-45a3-f2d4-579f66cfba9f"
      },
      "cell_type": "code",
      "source": [
        "prev"
      ],
      "execution_count": 290,
      "outputs": [
        {
          "output_type": "execute_result",
          "data": {
            "text/plain": [
              "('p60', 'Note Off', 31)"
            ]
          },
          "metadata": {
            "tags": []
          },
          "execution_count": 290
        }
      ]
    },
    {
      "metadata": {
        "id": "ofdfydhqcEbG",
        "colab_type": "code",
        "colab": {}
      },
      "cell_type": "code",
      "source": [
        "a = mlb.transform([prev])"
      ],
      "execution_count": 0,
      "outputs": []
    },
    {
      "metadata": {
        "id": "jzvLlXdEgd2N",
        "colab_type": "code",
        "colab": {
          "base_uri": "https://localhost:8080/",
          "height": 34
        },
        "outputId": "bdb11547-aa13-4b9e-b7ed-bd7f4cda8395"
      },
      "cell_type": "code",
      "source": [
        "a"
      ],
      "execution_count": 330,
      "outputs": [
        {
          "output_type": "execute_result",
          "data": {
            "text/plain": [
              "array([[0, 0, 1, 0, 0, 0, 0, 0, 0, 0, 0, 0, 1, 0, 0, 0, 0, 1, 0, 0, 0]])"
            ]
          },
          "metadata": {
            "tags": []
          },
          "execution_count": 330
        }
      ]
    },
    {
      "metadata": {
        "id": "6D1PMQbecEgG",
        "colab_type": "code",
        "colab": {
          "base_uri": "https://localhost:8080/",
          "height": 34
        },
        "outputId": "fb274f51-04c2-4cca-d0c8-7aaf0c090d35"
      },
      "cell_type": "code",
      "source": [
        "mlb.inverse_transform(a)"
      ],
      "execution_count": 332,
      "outputs": [
        {
          "output_type": "execute_result",
          "data": {
            "text/plain": [
              "[(31, 'Note Off', 'p60')]"
            ]
          },
          "metadata": {
            "tags": []
          },
          "execution_count": 332
        }
      ]
    },
    {
      "metadata": {
        "id": "O7Eg6Hh2cErS",
        "colab_type": "code",
        "colab": {}
      },
      "cell_type": "code",
      "source": [
        "########fazer aqui uma conversão para números"
      ],
      "execution_count": 0,
      "outputs": []
    },
    {
      "metadata": {
        "id": "gHhrXZE_gxO8",
        "colab_type": "code",
        "colab": {
          "base_uri": "https://localhost:8080/",
          "height": 34
        },
        "outputId": "114093ca-b455-4a0a-cad2-522b806b95d3"
      },
      "cell_type": "code",
      "source": [
        "raw_midi[3]"
      ],
      "execution_count": 334,
      "outputs": [
        {
          "output_type": "execute_result",
          "data": {
            "text/plain": [
              "array([-0.16423018, -1.        , -0.14469768])"
            ]
          },
          "metadata": {
            "tags": []
          },
          "execution_count": 334
        }
      ]
    },
    {
      "metadata": {
        "id": "Px9iWevmgxfv",
        "colab_type": "code",
        "colab": {
          "base_uri": "https://localhost:8080/",
          "height": 85
        },
        "outputId": "b14bb41c-8bb3-4492-ae4e-969eadb7ad5b"
      },
      "cell_type": "code",
      "source": [
        "df1.iloc[3]"
      ],
      "execution_count": 339,
      "outputs": [
        {
          "output_type": "execute_result",
          "data": {
            "text/plain": [
              "data_0    60\n",
              "tipo       0\n",
              "tick      31\n",
              "Name: 3, dtype: int64"
            ]
          },
          "metadata": {
            "tags": []
          },
          "execution_count": 339
        }
      ]
    },
    {
      "metadata": {
        "id": "kB_XFDR-hXtw",
        "colab_type": "code",
        "colab": {
          "base_uri": "https://localhost:8080/",
          "height": 173
        },
        "outputId": "9b8ed3f7-c118-4c40-f18c-5ed43f715c38"
      },
      "cell_type": "code",
      "source": [
        "df1[:4]"
      ],
      "execution_count": 341,
      "outputs": [
        {
          "output_type": "execute_result",
          "data": {
            "text/html": [
              "<div>\n",
              "<style scoped>\n",
              "    .dataframe tbody tr th:only-of-type {\n",
              "        vertical-align: middle;\n",
              "    }\n",
              "\n",
              "    .dataframe tbody tr th {\n",
              "        vertical-align: top;\n",
              "    }\n",
              "\n",
              "    .dataframe thead th {\n",
              "        text-align: right;\n",
              "    }\n",
              "</style>\n",
              "<table border=\"1\" class=\"dataframe\">\n",
              "  <thead>\n",
              "    <tr style=\"text-align: right;\">\n",
              "      <th></th>\n",
              "      <th>data_0</th>\n",
              "      <th>tipo</th>\n",
              "      <th>tick</th>\n",
              "    </tr>\n",
              "  </thead>\n",
              "  <tbody>\n",
              "    <tr>\n",
              "      <th>0</th>\n",
              "      <td>60</td>\n",
              "      <td>1</td>\n",
              "      <td>128</td>\n",
              "    </tr>\n",
              "    <tr>\n",
              "      <th>1</th>\n",
              "      <td>60</td>\n",
              "      <td>0</td>\n",
              "      <td>31</td>\n",
              "    </tr>\n",
              "    <tr>\n",
              "      <th>2</th>\n",
              "      <td>60</td>\n",
              "      <td>1</td>\n",
              "      <td>1</td>\n",
              "    </tr>\n",
              "    <tr>\n",
              "      <th>3</th>\n",
              "      <td>60</td>\n",
              "      <td>0</td>\n",
              "      <td>31</td>\n",
              "    </tr>\n",
              "  </tbody>\n",
              "</table>\n",
              "</div>"
            ],
            "text/plain": [
              "   data_0  tipo  tick\n",
              "0      60     1   128\n",
              "1      60     0    31\n",
              "2      60     1     1\n",
              "3      60     0    31"
            ]
          },
          "metadata": {
            "tags": []
          },
          "execution_count": 341
        }
      ]
    },
    {
      "metadata": {
        "id": "vK86pkUHimhx",
        "colab_type": "code",
        "colab": {
          "base_uri": "https://localhost:8080/",
          "height": 34
        },
        "outputId": "9da2c248-2ae9-478e-d516-862779b00409"
      },
      "cell_type": "code",
      "source": [
        "prev"
      ],
      "execution_count": 342,
      "outputs": [
        {
          "output_type": "execute_result",
          "data": {
            "text/plain": [
              "('p60', 'Note Off', 31)"
            ]
          },
          "metadata": {
            "tags": []
          },
          "execution_count": 342
        }
      ]
    },
    {
      "metadata": {
        "id": "ckMJxQp9imm7",
        "colab_type": "code",
        "colab": {}
      },
      "cell_type": "code",
      "source": [
        "prev1 = np.array([60,0,31])"
      ],
      "execution_count": 0,
      "outputs": []
    },
    {
      "metadata": {
        "id": "9Kf61k1Ti8C2",
        "colab_type": "code",
        "colab": {}
      },
      "cell_type": "code",
      "source": [
        "prev2 = scaler.transform([prev1])"
      ],
      "execution_count": 0,
      "outputs": []
    },
    {
      "metadata": {
        "id": "8CT5kNXdi8H3",
        "colab_type": "code",
        "colab": {
          "base_uri": "https://localhost:8080/",
          "height": 34
        },
        "outputId": "9948da09-bf69-4eb2-9581-7d64af5883b0"
      },
      "cell_type": "code",
      "source": [
        "prev2"
      ],
      "execution_count": 347,
      "outputs": [
        {
          "output_type": "execute_result",
          "data": {
            "text/plain": [
              "array([[-0.16423018, -1.        , -0.14469768]])"
            ]
          },
          "metadata": {
            "tags": []
          },
          "execution_count": 347
        }
      ]
    },
    {
      "metadata": {
        "id": "dS0WQ4ckj6VD",
        "colab_type": "code",
        "colab": {}
      },
      "cell_type": "code",
      "source": [
        "\n",
        "start = np.random.randint(0, len(dataX)-1)"
      ],
      "execution_count": 0,
      "outputs": []
    },
    {
      "metadata": {
        "id": "SK6D7aVwkP_7",
        "colab_type": "code",
        "colab": {}
      },
      "cell_type": "code",
      "source": [
        "pattern = dataX[start]"
      ],
      "execution_count": 0,
      "outputs": []
    },
    {
      "metadata": {
        "id": "nREO4TRGkSLl",
        "colab_type": "code",
        "colab": {
          "base_uri": "https://localhost:8080/",
          "height": 34
        },
        "outputId": "2d802a64-4469-46a5-965d-da405715d30e"
      },
      "cell_type": "code",
      "source": [
        "pattern.shape"
      ],
      "execution_count": 355,
      "outputs": [
        {
          "output_type": "execute_result",
          "data": {
            "text/plain": [
              "(20, 3)"
            ]
          },
          "metadata": {
            "tags": []
          },
          "execution_count": 355
        }
      ]
    },
    {
      "metadata": {
        "id": "wTC1BrhVjnFd",
        "colab_type": "code",
        "colab": {}
      },
      "cell_type": "code",
      "source": [
        "pattern = np.concatenate([pattern,prev2])"
      ],
      "execution_count": 0,
      "outputs": []
    },
    {
      "metadata": {
        "id": "BeHv9_Vrjc-h",
        "colab_type": "code",
        "colab": {
          "base_uri": "https://localhost:8080/",
          "height": 34
        },
        "outputId": "0aa07d16-4680-44c6-e35f-f9d6e9f9acc3"
      },
      "cell_type": "code",
      "source": [
        "pattern.shape"
      ],
      "execution_count": 357,
      "outputs": [
        {
          "output_type": "execute_result",
          "data": {
            "text/plain": [
              "(21, 3)"
            ]
          },
          "metadata": {
            "tags": []
          },
          "execution_count": 357
        }
      ]
    },
    {
      "metadata": {
        "id": "puNyL-l3kZ3b",
        "colab_type": "code",
        "colab": {}
      },
      "cell_type": "code",
      "source": [
        "pattern=pattern[1:len(pattern)]"
      ],
      "execution_count": 0,
      "outputs": []
    },
    {
      "metadata": {
        "id": "dfHoSMO_kq3T",
        "colab_type": "code",
        "colab": {
          "base_uri": "https://localhost:8080/",
          "height": 357
        },
        "outputId": "047129e7-e90b-48c5-a2c8-e7ccc51cfa70"
      },
      "cell_type": "code",
      "source": [
        "pattern"
      ],
      "execution_count": 361,
      "outputs": [
        {
          "output_type": "execute_result",
          "data": {
            "text/plain": [
              "array([[-0.16423018, -1.        ,  0.6631782 ],\n",
              "       [-2.30488568,  1.        ,  0.71367044],\n",
              "       [-2.30488568, -1.        , -0.14469768],\n",
              "       [ 1.05900153,  1.        , -0.90208131],\n",
              "       [ 1.05900153, -1.        , -0.14469768],\n",
              "       [ 1.05900153,  1.        , -0.90208131],\n",
              "       [ 1.05900153, -1.        , -0.14469768],\n",
              "       [ 1.05900153,  1.        , -0.90208131],\n",
              "       [ 1.05900153, -1.        ,  2.25368384],\n",
              "       [-2.30488568,  1.        , -0.06895931],\n",
              "       [-2.30488568, -1.        ,  0.6631782 ],\n",
              "       [-0.16423018,  1.        , -0.90208131],\n",
              "       [-0.16423018, -1.        ,  0.6631782 ],\n",
              "       [-0.16423018,  1.        , -0.90208131],\n",
              "       [-0.16423018, -1.        ,  0.6631782 ],\n",
              "       [-2.30488568,  1.        , -0.09420543],\n",
              "       [-2.30488568, -1.        , -0.14469768],\n",
              "       [-2.30488568,  1.        , -0.90208131],\n",
              "       [-2.30488568, -1.        , -0.14469768],\n",
              "       [-0.16423018, -1.        , -0.14469768]])"
            ]
          },
          "metadata": {
            "tags": []
          },
          "execution_count": 361
        }
      ]
    },
    {
      "metadata": {
        "id": "kxomQqjmUDU0",
        "colab_type": "text"
      },
      "cell_type": "markdown",
      "source": [
        "## **Prevendo uma sequencia**"
      ]
    },
    {
      "metadata": {
        "id": "oM3LS8f79j8m",
        "colab_type": "code",
        "colab": {}
      },
      "cell_type": "code",
      "source": [
        "\n",
        "start = np.random.randint(0, len(dataX)-1)"
      ],
      "execution_count": 0,
      "outputs": []
    },
    {
      "metadata": {
        "id": "hXbKyBjeUAIB",
        "colab_type": "code",
        "colab": {
          "base_uri": "https://localhost:8080/",
          "height": 34
        },
        "outputId": "1979addb-604c-4e4c-f7d2-2af9b3535ab4"
      },
      "cell_type": "code",
      "source": [
        "start"
      ],
      "execution_count": 293,
      "outputs": [
        {
          "output_type": "execute_result",
          "data": {
            "text/plain": [
              "84"
            ]
          },
          "metadata": {
            "tags": []
          },
          "execution_count": 293
        }
      ]
    },
    {
      "metadata": {
        "id": "3TL-vMpbUOxW",
        "colab_type": "code",
        "colab": {}
      },
      "cell_type": "code",
      "source": [
        "pattern = dataX[start]"
      ],
      "execution_count": 0,
      "outputs": []
    },
    {
      "metadata": {
        "id": "Lw_0w8_ZUS9h",
        "colab_type": "code",
        "colab": {
          "base_uri": "https://localhost:8080/",
          "height": 357
        },
        "outputId": "2aa97dc3-a549-4a99-fea5-1b05fea074d2"
      },
      "cell_type": "code",
      "source": [
        "pattern"
      ],
      "execution_count": 295,
      "outputs": [
        {
          "output_type": "execute_result",
          "data": {
            "text/plain": [
              "array([[ 1.05900153,  1.        , -0.90208131],\n",
              "       [ 1.05900153, -1.        , -0.14469768],\n",
              "       [ 1.05900153,  1.        , -0.90208131],\n",
              "       [ 1.05900153, -1.        ,  2.25368384],\n",
              "       [-1.69326982,  1.        , -0.06895931],\n",
              "       [-1.69326982, -1.        ,  0.6631782 ],\n",
              "       [-0.16423018,  1.        , -0.90208131],\n",
              "       [-0.16423018, -1.        ,  0.6631782 ],\n",
              "       [-0.16423018,  1.        , -0.90208131],\n",
              "       [-0.16423018, -1.        ,  0.6631782 ],\n",
              "       [-1.69326982,  1.        ,  0.71367044],\n",
              "       [-1.69326982, -1.        , -0.14469768],\n",
              "       [-0.16423018,  1.        , -0.90208131],\n",
              "       [-0.16423018, -1.        , -0.14469768],\n",
              "       [ 1.05900153,  1.        , -0.90208131],\n",
              "       [ 1.05900153, -1.        ,  2.25368384],\n",
              "       [ 1.36480946,  1.        , -0.87683519],\n",
              "       [ 1.36480946, -1.        , -0.14469768],\n",
              "       [ 1.05900153,  1.        , -0.90208131],\n",
              "       [ 1.05900153, -1.        , -0.14469768]])"
            ]
          },
          "metadata": {
            "tags": []
          },
          "execution_count": 295
        }
      ]
    },
    {
      "metadata": {
        "id": "5QpYtiHxVlRO",
        "colab_type": "code",
        "colab": {
          "base_uri": "https://localhost:8080/",
          "height": 34
        },
        "outputId": "03035577-ce71-4d7f-a905-d0bc756349b7"
      },
      "cell_type": "code",
      "source": [
        "pattern.shape"
      ],
      "execution_count": 298,
      "outputs": [
        {
          "output_type": "execute_result",
          "data": {
            "text/plain": [
              "(20, 3)"
            ]
          },
          "metadata": {
            "tags": []
          },
          "execution_count": 298
        }
      ]
    },
    {
      "metadata": {
        "id": "bOgiYahsVc7F",
        "colab_type": "code",
        "colab": {
          "base_uri": "https://localhost:8080/",
          "height": 34
        },
        "outputId": "eb2ed5f3-5ffe-4ffd-f4a2-7d42ae707929"
      },
      "cell_type": "code",
      "source": [
        "prediction.shape"
      ],
      "execution_count": 297,
      "outputs": [
        {
          "output_type": "execute_result",
          "data": {
            "text/plain": [
              "(1, 21)"
            ]
          },
          "metadata": {
            "tags": []
          },
          "execution_count": 297
        }
      ]
    },
    {
      "metadata": {
        "id": "z31MtfYYUUzs",
        "colab_type": "code",
        "colab": {
          "base_uri": "https://localhost:8080/",
          "height": 316
        },
        "outputId": "bb3fd236-a9ea-48e3-dc7e-023ffd3f5ed7"
      },
      "cell_type": "code",
      "source": [
        "generate = list()\n",
        "for i in range(5):\n",
        "  gx = np.reshape(pattern, (1, len(pattern), 3))\n",
        "  prediction = model.predict(gx, verbose=0)\n",
        "  print(prediction)\n",
        "  generate.append(prediction)\n",
        "  idxs = np.argsort(prediction[0])[::-1][:3]\n",
        "  pattern = np.concatenate([pattern,prediction])\n",
        "  pattern = pattern[1:len(pattern)]\n",
        "  "
      ],
      "execution_count": 296,
      "outputs": [
        {
          "output_type": "stream",
          "text": [
            "[[6.2385458e-01 2.1279419e-03 1.1336689e-03 2.6296848e-02 2.0815653e-01\n",
            "  8.5441731e-03 3.1812966e-03 1.0632148e-01 1.7138110e-03 1.1950179e-03\n",
            "  3.9589568e-04 3.2217979e-02 1.5195912e-02 9.8786503e-01 8.9035086e-02\n",
            "  1.3535532e-01 9.9625057e-03 3.1839781e-02 7.9752910e-01 1.6845981e-02\n",
            "  2.2735654e-03]]\n"
          ],
          "name": "stdout"
        },
        {
          "output_type": "error",
          "ename": "ValueError",
          "evalue": "ignored",
          "traceback": [
            "\u001b[0;31m\u001b[0m",
            "\u001b[0;31mValueError\u001b[0mTraceback (most recent call last)",
            "\u001b[0;32m<ipython-input-296-bcf5114f4ba4>\u001b[0m in \u001b[0;36m<module>\u001b[0;34m()\u001b[0m\n\u001b[1;32m      6\u001b[0m   \u001b[0mgenerate\u001b[0m\u001b[0;34m.\u001b[0m\u001b[0mappend\u001b[0m\u001b[0;34m(\u001b[0m\u001b[0mprediction\u001b[0m\u001b[0;34m)\u001b[0m\u001b[0;34m\u001b[0m\u001b[0m\n\u001b[1;32m      7\u001b[0m   \u001b[0midxs\u001b[0m \u001b[0;34m=\u001b[0m \u001b[0mnp\u001b[0m\u001b[0;34m.\u001b[0m\u001b[0margsort\u001b[0m\u001b[0;34m(\u001b[0m\u001b[0mprediction\u001b[0m\u001b[0;34m[\u001b[0m\u001b[0;36m0\u001b[0m\u001b[0;34m]\u001b[0m\u001b[0;34m)\u001b[0m\u001b[0;34m[\u001b[0m\u001b[0;34m:\u001b[0m\u001b[0;34m:\u001b[0m\u001b[0;34m-\u001b[0m\u001b[0;36m1\u001b[0m\u001b[0;34m]\u001b[0m\u001b[0;34m[\u001b[0m\u001b[0;34m:\u001b[0m\u001b[0;36m3\u001b[0m\u001b[0;34m]\u001b[0m\u001b[0;34m\u001b[0m\u001b[0m\n\u001b[0;32m----> 8\u001b[0;31m   \u001b[0mpattern\u001b[0m \u001b[0;34m=\u001b[0m \u001b[0mnp\u001b[0m\u001b[0;34m.\u001b[0m\u001b[0mconcatenate\u001b[0m\u001b[0;34m(\u001b[0m\u001b[0;34m[\u001b[0m\u001b[0mpattern\u001b[0m\u001b[0;34m,\u001b[0m\u001b[0mprediction\u001b[0m\u001b[0;34m]\u001b[0m\u001b[0;34m)\u001b[0m\u001b[0;34m\u001b[0m\u001b[0m\n\u001b[0m\u001b[1;32m      9\u001b[0m   \u001b[0mpattern\u001b[0m \u001b[0;34m=\u001b[0m \u001b[0mpattern\u001b[0m\u001b[0;34m[\u001b[0m\u001b[0;36m1\u001b[0m\u001b[0;34m:\u001b[0m\u001b[0mlen\u001b[0m\u001b[0;34m(\u001b[0m\u001b[0mpattern\u001b[0m\u001b[0;34m)\u001b[0m\u001b[0;34m]\u001b[0m\u001b[0;34m\u001b[0m\u001b[0m\n\u001b[1;32m     10\u001b[0m \u001b[0;34m\u001b[0m\u001b[0m\n",
            "\u001b[0;31mValueError\u001b[0m: all the input array dimensions except for the concatenation axis must match exactly"
          ]
        }
      ]
    },
    {
      "metadata": {
        "id": "6PZTU6SbVJOC",
        "colab_type": "code",
        "colab": {}
      },
      "cell_type": "code",
      "source": [
        ""
      ],
      "execution_count": 0,
      "outputs": []
    }
  ]
}